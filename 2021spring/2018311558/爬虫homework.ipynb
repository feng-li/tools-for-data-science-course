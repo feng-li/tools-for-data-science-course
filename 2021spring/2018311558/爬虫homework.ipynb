{
 "cells": [
  {
   "cell_type": "markdown",
   "metadata": {},
   "source": [
    "爬取豆瓣top25的电影及其详细信息"
   ]
  },
  {
   "cell_type": "code",
   "execution_count": 152,
   "metadata": {},
   "outputs": [],
   "source": [
    "import requests\n",
    "from bs4 import BeautifulSoup\n",
    "import traceback\n",
    "import re\n",
    "import time\n",
    "from lxml import etree"
   ]
  },
  {
   "cell_type": "markdown",
   "metadata": {},
   "source": [
    "爬取函数"
   ]
  },
  {
   "cell_type": "code",
   "execution_count": 138,
   "metadata": {},
   "outputs": [],
   "source": [
    "def getHTMLtext(url):\n",
    "    try:\n",
    "        headers={'User-Agent': 'Mozilla/5.0 (Macintosh; Intel Mac OS X 10_15_7) AppleWebKit/537.36 (KHTML, like Gecko) Chrome/90.0.4430.212 Safari/537.36','Cookie': 'bid=b76oHIKgOYQ; __yadk_uid=A5CvFGluucGcgKRvopNnTiUhygDYF1A6; __gads=ID=12bd23effde3ba34-22eb143a6bc6007a:T=1615786185:RT=1615786185:S=ALNI_MaK5tliCmx5Y0xMJ10ztIvB7Fzi_g; __utmc=30149280; __utmc=223695111; ll=\"108288\"; _vwo_uuid_v2=DDB059D61CEF6AC3F8E830D8EB85CC544|ef4bb02815e4c0cd1fea9c5751fa261c; ap_v=0,6.0; dbcl2=\"208638353:DHfDDrZcnAk\"; ck=-E9w; __utma=30149280.1855460508.1615786182.1621682045.1621685240.5; __utmb=30149280.0.10.1621685240; __utmz=30149280.1621685240.5.3.utmcsr=accounts.douban.com|utmccn=(referral)|utmcmd=referral|utmcct=/; __utma=223695111.1041649550.1615786182.1621682045.1621685240.5; __utmb=223695111.0.10.1621685240; __utmz=223695111.1621685240.5.3.utmcsr=accounts.douban.com|utmccn=(referral)|utmcmd=referral|utmcct=/; _pk_ref.100001.4cf6=%5B%22%22%2C%22%22%2C1621685240%2C%22https%3A%2F%2Faccounts.douban.com%2F%22%5D; _pk_id.100001.4cf6=7f2117d434703f1a.1615786181.5.1621685240.1621682048.; _pk_ses.100001.4cf6=*'}\n",
    "        r=requests.get(url,headers=headers,timeout=50)\n",
    "        r.raise_for_status()\n",
    "        r.encoding=r.apparent_encoding\n",
    "        return r.content\n",
    "    except:\n",
    "        return \"\""
   ]
  },
  {
   "cell_type": "markdown",
   "metadata": {},
   "source": [
    "爬取页面中的详细页面的url"
   ]
  },
  {
   "cell_type": "code",
   "execution_count": 144,
   "metadata": {},
   "outputs": [],
   "source": [
    "def getdetailurl(list,html):\n",
    "    try:\n",
    "        html=etree.HTML(html)\n",
    "        detailurl=html.xpath(\"//div[@class='hd']/a/@href\")\n",
    "        for i in range(len(detailurl)):\n",
    "            Info={}\n",
    "            Info[\"detailurl\"]=detailurl[i]\n",
    "            list.append(Info)\n",
    "        return list\n",
    "    except:\n",
    "        return \"\"\n",
    "        \n",
    "        \n",
    "    "
   ]
  },
  {
   "cell_type": "markdown",
   "metadata": {},
   "source": [
    "在详细页面中寻找信息并存储"
   ]
  },
  {
   "cell_type": "code",
   "execution_count": 150,
   "metadata": {},
   "outputs": [],
   "source": [
    "def  getInfolist(ilt,html):\n",
    "    html=etree.HTML(html)\n",
    "    detailname=html.xpath(\"/html/body/div[3]/div[1]/h1/span[1]/text()\")\n",
    "    director=html.xpath(\"/html/body/div[3]/div[1]/div[3]/div[1]/div[1]/div[1]/div[1]/div[2]/span[1]/span[2]/a/text()\")\n",
    "    detaildirector=''\n",
    "    for i in range(len(director)):\n",
    "        detaildirector=detaildirector+director[i]+'/'\n",
    "    role=html.xpath(\"//span/a[@rel='v:starring']/text()\")\n",
    "    detailrole=''\n",
    "    for i in range(len(role)):\n",
    "        detailrole=detailrole+role[i]+'/'\n",
    "    category=html.xpath(\"//span[@property='v:genre']/text()\")\n",
    "    detailcategory=''\n",
    "    for i in range(len(category)):\n",
    "        detailcategory=detailcategory+category[i]+'/'\n",
    "    country=html.xpath(\"/html/body/div[3]/div[1]/div[3]/div[1]/div[1]/div[1]/div[1]/div[2]/text()\")\n",
    "    country=find_(country)\n",
    "    detailcontry=country[0]\n",
    "    time=html.xpath(\"//span[@property='v:initialReleaseDate']/text()\")\n",
    "    detailtime=''\n",
    "    for i in range(len(time)):\n",
    "        detailtime=detailtime+time[i]+'/'\n",
    "    detaillength=html.xpath(\"//span[@property='v:runtime']/text()\")\n",
    "    detailevaluate=html.xpath(\"/html/body/div[3]/div[1]/div[3]/div[1]/div[1]/div[1]/div[2]/div[1]/div[2]/strong/text()\")\n",
    "    \n",
    "    Info={}\n",
    "    Info[\"name\"]=detailname\n",
    "    Info[\"director\"]=detaildirector\n",
    "    Info[\"role\"]=detailrole\n",
    "    Info[\"category\"]=detailcategory\n",
    "    Info[\"country\"]=detailcontry\n",
    "    Info[\"time\"]=detailtime\n",
    "    Info[\"length\"]=detaillength\n",
    "    Info[\"evaluate\"]=detailevaluate\n",
    "    ilt.append(Info)\n",
    "    "
   ]
  },
  {
   "cell_type": "markdown",
   "metadata": {},
   "source": [
    "发现列表中的中文，便于找到电影的国家名"
   ]
  },
  {
   "cell_type": "code",
   "execution_count": 146,
   "metadata": {},
   "outputs": [],
   "source": [
    "def find_(mydata):\n",
    "    new_data = []\n",
    "    p = re.compile(r'[\\u4e00-\\u9fa5]')\n",
    "    for i in range(len(mydata)):\n",
    "        data = re.findall(p, mydata[i])\n",
    "        result = ''.join(data)\n",
    "        new_data.append(result)\n",
    "    box = []\n",
    "    for i in range(len(new_data)):\n",
    "        if new_data[i] != '':\n",
    "            box.append(new_data[i])\n",
    "    return box"
   ]
  },
  {
   "cell_type": "markdown",
   "metadata": {},
   "source": [
    "主函数"
   ]
  },
  {
   "cell_type": "code",
   "execution_count": 151,
   "metadata": {},
   "outputs": [
    {
     "name": "stdout",
     "output_type": "stream",
     "text": [
      "爬完第1页的详情url\n",
      "[{'name': ['肖申克的救赎 The Shawshank Redemption'], 'director': '弗兰克·德拉邦特/', 'role': '蒂姆·罗宾斯/摩根·弗里曼/鲍勃·冈顿/威廉姆·赛德勒/克兰西·布朗/吉尔·贝罗斯/马克·罗斯顿/詹姆斯·惠特摩/杰弗里·德曼/拉里·布兰登伯格/尼尔·吉恩托利/布赖恩·利比/大卫·普罗瓦尔/约瑟夫·劳格诺/祖德·塞克利拉/保罗·麦克兰尼/芮妮·布莱恩/阿方索·弗里曼/V·J·福斯特/弗兰克·梅德拉诺/马克·迈尔斯/尼尔·萨默斯/耐德·巴拉米/布赖恩·戴拉特/唐·麦克马纳斯/', 'category': '剧情/犯罪/', 'country': '美国', 'time': '1994-09-10(多伦多电影节)/1994-10-14(美国)/', 'length': ['142分钟'], 'evaluate': ['9.7']}, {'name': ['霸王别姬'], 'director': '陈凯歌/', 'role': '张国荣/张丰毅/巩俐/葛优/英达/蒋雯丽/吴大维/吕齐/雷汉/尹治/马明威/费振翔/智一桐/李春/赵海龙/李丹/童弟/沈慧芬/黄斐/徐杰/', 'category': '剧情/爱情/同性/', 'country': '中国大陆中国香港', 'time': '1993-07-26(中国大陆)/1993-01-01(中国香港)/', 'length': ['171分钟'], 'evaluate': ['9.6']}, {'name': ['阿甘正传 Forrest Gump'], 'director': '罗伯特·泽米吉斯/', 'role': '汤姆·汉克斯/罗宾·怀特/加里·西尼斯/麦凯尔泰·威廉逊/莎莉·菲尔德/海利·乔·奥斯蒙/迈克尔·康纳·亨弗里斯/哈罗德·G·赫瑟姆/山姆·安德森/伊俄涅·M·特雷奇/彼得·道博森/希芳·法隆/伊丽莎白·汉克斯/汉娜·豪尔/克里斯托弗·琼斯/罗布·兰德里/杰森·麦克奎尔/桑尼·施罗耶/艾德·戴维斯/丹尼尔C.斯瑞派克/大卫·布里斯宾/德博拉·麦克蒂尔/艾尔·哈林顿/阿非莫·奥米拉/约翰·沃德斯塔德/迈克尔·伯吉斯/埃里克·安德伍德/拜伦·明斯/斯蒂芬·布吉格沃特/约翰·威廉·高尔特/希拉里·沙普兰/伊莎贝尔·罗斯/理查德·达历山德罗/迪克·史迪威/迈克尔-杰斯/杰弗里·布莱克/瓦妮莎·罗斯/迪克·卡维特/马拉·苏查雷特扎/乔·阿拉斯奇/W·本森·泰瑞/', 'category': '剧情/爱情/', 'country': '美国', 'time': '1994-06-23(洛杉矶首映)/1994-07-06(美国)/', 'length': ['142分钟'], 'evaluate': ['9.5']}, {'name': ['这个杀手不太冷 Léon'], 'director': '吕克·贝松/', 'role': '让·雷诺/娜塔莉·波特曼/加里·奥德曼/丹尼·爱罗/彼得·阿佩尔/迈克尔·巴达鲁科/艾伦·格里尼/伊丽莎白·瑞根/卡尔·马图斯维奇/弗兰克·赛格/麦温/乔治·马丁/罗伯特·拉萨多/亚当·布斯奇/马里奥·托迪斯科/萨米·纳塞利/', 'category': '剧情/动作/犯罪/', 'country': '法国美国', 'time': '1994-09-14(法国)/', 'length': ['110分钟(剧场版)'], 'evaluate': ['9.4']}, {'name': ['泰坦尼克号 Titanic'], 'director': '詹姆斯·卡梅隆/', 'role': '莱昂纳多·迪卡普里奥/凯特·温丝莱特/比利·赞恩/凯西·贝茨/弗兰西丝·费舍/格劳瑞亚·斯图尔特/比尔·帕克斯顿/伯纳德·希尔/大卫·沃纳/维克多·加博/乔纳森·海德/苏茜·爱米斯/刘易斯·阿伯内西/尼古拉斯·卡斯柯恩/阿那托利·萨加洛维奇/丹尼·努齐/杰森·贝瑞/伊万·斯图尔特/艾恩·格拉法德/乔纳森·菲利普斯/马克·林赛·查普曼/理查德·格拉翰/保罗·布赖特威尔/艾瑞克·布里登/夏洛特·查顿/博纳德·福克斯/迈克尔·英塞恩/法妮·布雷特/马丁·贾维斯/罗莎琳·艾尔斯/罗切尔·罗斯/乔纳森·伊万斯-琼斯/西蒙·克雷恩/爱德华德·弗莱彻/斯科特·安德森/马丁·伊斯特/克雷格·凯利/格雷戈里·库克/利亚姆·图伊/詹姆斯·兰开斯特/艾尔莎·瑞雯/卢·帕尔特/泰瑞·佛瑞斯塔/凯文·德·拉·诺伊/', 'category': '剧情/爱情/灾难/', 'country': '美国墨西哥澳大利亚加拿大', 'time': '1998-04-03(中国大陆)/1997-11-01(东京电影节)/1997-12-19(美国)/', 'length': ['194分钟'], 'evaluate': ['9.4']}, {'name': ['美丽人生 La vita è bella'], 'director': '罗伯托·贝尼尼/', 'role': '罗伯托·贝尼尼/尼可莱塔·布拉斯基/乔治·坎塔里尼/朱斯蒂诺·杜拉诺/赛尔乔·比尼·布斯特里克/玛丽萨·帕雷德斯/霍斯特·布赫霍尔茨/利迪娅·阿方西/朱利亚娜·洛约迪切/亚美利哥·丰塔尼/彼得·德·席尔瓦/弗朗西斯·古佐/拉法埃拉·莱博罗尼/克劳迪奥·阿方西/吉尔·巴罗尼/马西莫·比安奇/恩尼奥·孔萨尔维/吉安卡尔洛·科森蒂诺/阿伦·克雷格/汉尼斯·赫尔曼/弗兰科·梅斯科利尼/安东尼奥·普雷斯特/吉娜·诺维勒/理查德·塞梅尔/安德烈提多娜/迪尔克·范登贝格/奥梅罗·安东努蒂/', 'category': '剧情/喜剧/爱情/战争/', 'country': '意大利', 'time': '2020-01-03(中国大陆)/1997-12-20(意大利)/', 'length': ['116分钟'], 'evaluate': ['9.6']}, {'name': ['千与千寻 千と千尋の神隠し'], 'director': '宫崎骏/', 'role': '柊瑠美/入野自由/夏木真理/菅原文太/中村彰男/玉井夕海/神木隆之介/内藤刚志/泽口靖子/我修院达也/大泉洋/小林郁夫/上条恒彦/小野武彦/', 'category': '剧情/动画/奇幻/', 'country': '日本', 'time': '2019-06-21(中国大陆)/2001-07-20(日本)/', 'length': ['125分钟'], 'evaluate': ['9.4']}, {'name': [\"辛德勒的名单 Schindler's List\"], 'director': '史蒂文·斯皮尔伯格/', 'role': '连姆·尼森/本·金斯利/拉尔夫·费因斯/卡罗琳·古多尔/乔纳森·萨加尔/艾伯丝·戴维兹/马尔戈萨·格贝尔/马克·伊瓦涅/碧翠斯·马科拉/安德烈·瑟韦林/弗里德里希·冯·图恩/克齐斯茨托夫·拉夫特/诺伯特·魏塞尔/维斯瓦夫·科马萨/', 'category': '剧情/历史/战争/', 'country': '美国', 'time': '1993-11-30(华盛顿首映)/1994-02-04(美国)/', 'length': ['195分钟'], 'evaluate': ['9.5']}, {'name': ['盗梦空间 Inception'], 'director': '克里斯托弗·诺兰/', 'role': '莱昂纳多·迪卡普里奥/约瑟夫·高登-莱维特/艾利奥特·佩吉/汤姆·哈迪/渡边谦/迪利普·劳/基里安·墨菲/汤姆·贝伦杰/玛丽昂·歌迪亚/皮特·波斯尔思韦特/迈克尔·凯恩/卢卡斯·哈斯/李太力/克莱尔·吉尔蕾/马格努斯·诺兰/泰勒·吉蕾/乔纳森·吉尔/水源士郎/冈本玉二/厄尔·卡梅伦/瑞恩·海沃德/米兰达·诺兰/拉什·费加/蒂姆·科勒赫/妲露拉·莱莉/', 'category': '剧情/科幻/悬疑/冒险/', 'country': '美国英国', 'time': '2010-09-01(中国大陆)/2020-08-28(中国大陆重映)/2010-07-16(美国)/', 'length': ['148分钟'], 'evaluate': ['9.3']}, {'name': [\"忠犬八公的故事 Hachi: A Dog's Tale\"], 'director': '拉斯·霍尔斯道姆/', 'role': '理查·基尔/萨拉·罗默尔/琼·艾伦/罗比·萨布莱特/艾瑞克·阿瓦利/田川洋行/杰森·亚历山大/罗伯特·卡普荣/', 'category': '剧情/', 'country': '美国英国', 'time': '2009-06-13(西雅图电影节)/2010-03-12(英国)/', 'length': ['93分钟'], 'evaluate': ['9.4']}, {'name': ['星际穿越 Interstellar'], 'director': '克里斯托弗·诺兰/', 'role': '马修·麦康纳/安妮·海瑟薇/杰西卡·查斯坦/麦肯吉·弗依/卡西·阿弗莱克/迈克尔·凯恩/马特·达蒙/蒂莫西·柴勒梅德/艾伦·伯斯汀/约翰·利思戈/韦斯·本特利/大卫·吉亚西/比尔·欧文/托弗·戈瑞斯/科莱特·沃夫/弗朗西斯·X·麦卡蒂/安德鲁·博尔巴/乔什·斯图沃特/莱雅·卡里恩斯/利亚姆·迪金森/杰夫·赫普内尔/伊莱耶斯·加贝尔/布鲁克·史密斯/大卫·奥伊罗/威廉姆·德瓦内/拉什·费加/格里芬·弗雷泽/弗洛拉·诺兰/', 'category': '剧情/科幻/冒险/', 'country': '美国英国加拿大', 'time': '2014-11-12(中国大陆)/2020-08-02(中国大陆重映)/2014-11-07(美国)/', 'length': ['169分钟'], 'evaluate': ['9.3']}, {'name': ['楚门的世界 The Truman Show'], 'director': '彼得·威尔/', 'role': '金·凯瑞/劳拉·琳妮/艾德·哈里斯/诺亚·艾默里奇/娜塔莎·麦克艾霍恩/', 'category': '剧情/科幻/', 'country': '美国', 'time': '1998-06-05(美国)/', 'length': ['103分钟'], 'evaluate': ['9.3']}, {'name': [\"海上钢琴师 La leggenda del pianista sull'oceano\"], 'director': '朱塞佩·托纳多雷/', 'role': '蒂姆·罗斯/普路特·泰勒·文斯/比尔·努恩/克兰伦斯·威廉姆斯三世/梅兰尼·蒂埃里/皮特·沃恩/尼尔·奥布赖恩/阿尔贝托·巴斯克斯/加布里埃莱·拉维亚/科里·巴克/西德尼·科尔/Luigi De Luca/尼古拉·迪·平托/费米·依鲁福祖/伊斯顿·盖奇/凯文·麦克纳利/布莱恩·普林格/沙拉·鲁宾/希思科特·威廉姆斯/阿妮妲·扎格利亚/安吉洛·迪洛雷塔/', 'category': '剧情/音乐/', 'country': '意大利', 'time': '2019-11-15(中国大陆)/1998-10-28(意大利)/', 'length': ['165分钟'], 'evaluate': ['9.3']}, {'name': ['三傻大闹宝莱坞 3 Idiots'], 'director': '拉吉库马尔·希拉尼/', 'role': '阿米尔·汗/卡琳娜·卡普尔/马达范/沙尔曼·乔希/奥米·瓦依达/博曼·伊拉尼/莫娜·辛格/拉杰夫·拉宾德拉纳特安/', 'category': '剧情/喜剧/爱情/歌舞/', 'country': '印度', 'time': '2011-12-08(中国大陆)/2009-12-25(印度)/', 'length': ['171分钟(印度)'], 'evaluate': ['9.2']}, {'name': ['机器人总动员 WALL·E'], 'director': '安德鲁·斯坦顿/', 'role': '本·贝尔特/艾丽莎·奈特/杰夫·格尔林/佛莱德·威拉特/西格妮·韦弗/MacInTalk/约翰·拉岑贝格/凯茜·纳基麦/泰迪·牛顿/鲍伯·伯根/洛丽·理查德森/吉姆·瓦德/彼特·道格特/安德鲁·斯坦顿/杰夫·皮金/约翰·齐甘/米凯·麦高万/雪莉·琳恩/克莱特·惠特克/唐纳德·富利洛夫/罗里·艾伦/杰斯·哈梅尔/拉瑞恩·纽曼/扬·拉布森/保罗·伊丁/', 'category': '科幻/动画/冒险/', 'country': '美国', 'time': '2008-06-27(美国)/', 'length': ['98分钟'], 'evaluate': ['9.3']}, {'name': ['放牛班的春天 Les choristes'], 'director': '克里斯托夫·巴拉蒂/', 'role': '热拉尔·朱尼奥/让-巴蒂斯特·莫尼耶/弗朗索瓦·贝莱昂/凯德·麦拉德/让-保罗·博奈雷/玛丽·布奈尔/马科森斯·珀林/格雷戈里·加迪诺尔/托马斯·布伦门塔尔/西里尔·伯尔尼科特/西蒙·法戈特/泰奥杜尔·卡雷-卡赛尼/菲利普·杜·詹纳兰德/Carole Weiss/埃里克·德斯玛莱茨/狄迪尔·弗拉蒙/雅克·贝汉/', 'category': '剧情/喜剧/音乐/', 'country': '法国瑞士德国', 'time': '2004-10-16(中国大陆)/2021(中国大陆重映)/2004-03-17(法国)/', 'length': ['97分钟'], 'evaluate': ['9.3']}, {'name': ['无间道 無間道'], 'director': '刘伟强/麦兆辉/', 'role': '刘德华/梁朝伟/黄秋生/曾志伟/郑秀文/陈慧琳/陈冠希/余文乐/杜汶泽/林家栋/萧亚轩/', 'category': '剧情/惊悚/犯罪/', 'country': '中国香港', 'time': '2003-09-05(中国大陆)/2002-12-12(中国香港)/', 'length': ['101分钟'], 'evaluate': ['9.2']}, {'name': ['疯狂动物城 Zootopia'], 'director': '拜伦·霍华德/瑞奇·摩尔/杰拉德·布什/', 'role': '金妮弗·古德温/杰森·贝特曼/伊德里斯·艾尔巴/珍妮·斯蕾特/内特·托伦斯/邦尼·亨特/唐·雷克/汤米·钟/J·K·西蒙斯/奥克塔维亚·斯宾瑟/艾伦·图代克/夏奇拉/雷蒙德·S·佩尔西/德拉·萨巴/莫里斯·拉马奇/菲尔·约翰斯顿/约翰·迪·马吉欧/凯蒂·洛斯/吉塔·雷迪/杰西·科尔蒂/汤米·利斯特/乔希·达拉斯/瑞奇·摩尔/凯斯·索西/彼得·曼斯布里奇/拜伦·霍华德/杰拉德·布什/马克·史密斯/乔西·特立尼达/约翰·拉维尔/克里斯汀·贝尔/吉尔·科德斯/梅利莎·古德温/', 'category': '喜剧/动画/冒险/', 'country': '美国', 'time': '2016-03-04(中国大陆/美国)/2020-07-24(中国大陆重映)/', 'length': ['109分钟(中国大陆)'], 'evaluate': ['9.2']}, {'name': ['大话西游之大圣娶亲 西遊記大結局之仙履奇緣'], 'director': '刘镇伟/', 'role': '周星驰/吴孟达/朱茵/蔡少芬/蓝洁瑛/莫文蔚/罗家英/刘镇伟/陆树铭/李健仁/', 'category': '喜剧/爱情/奇幻/古装/', 'country': '中国香港中国大陆', 'time': '2014-10-24(中国大陆)/2017-04-13(中国大陆重映)/1995-02-04(中国香港)/', 'length': ['95分钟'], 'evaluate': ['9.2']}, {'name': ['熔炉 도가니'], 'director': '黄东赫/', 'role': '孔刘/郑有美/金贤秀/郑仁絮/白承焕/张光/金民尚/林贤成/金周灵/严孝燮/全国焕/崔镇浩/金志映/严智星/许在浩/张素妍/', 'category': '剧情/', 'country': '韩国', 'time': '2011-09-22(韩国)/', 'length': ['125分钟'], 'evaluate': ['9.3']}, {'name': ['教父 The Godfather'], 'director': '弗朗西斯·福特·科波拉/', 'role': '马龙·白兰度/阿尔·帕西诺/詹姆斯·肯恩/理查德·卡斯特尔诺/罗伯特·杜瓦尔/斯特林·海登/约翰·马利/理查德·康特/艾尔·勒提埃里/黛安·基顿/阿贝·维高达/塔莉娅·夏尔/吉亚尼·罗素/约翰·凯泽尔/鲁迪·邦德/兰尼·蒙大拿/', 'category': '剧情/犯罪/', 'country': '美国', 'time': '1972-03-15(纽约首映)/1972-03-24(美国)/', 'length': ['175 分钟'], 'evaluate': ['9.3']}, {'name': ['当幸福来敲门 The Pursuit of Happyness'], 'director': '加布里埃莱·穆奇诺/', 'role': '威尔·史密斯/贾登·史密斯/坦迪·牛顿/布莱恩·豪威 /詹姆斯·凯伦/丹·卡斯泰兰尼塔/柯特·富勒/塔卡尤·费舍尔/凯文·韦斯特/乔治·张/戴维·迈克尔·西尔弗曼/多米尼克·博夫/杰弗·卡伦/乔伊芙·拉文/斯科特·克拉斯/', 'category': '剧情/家庭/传记/', 'country': '美国', 'time': '2008-01-17(中国大陆)/2020-07-20(中国大陆重映)/2006-12-15(美国)/', 'length': ['117分钟'], 'evaluate': ['9.1']}, {'name': ['龙猫 となりのトトロ'], 'director': '宫崎骏/', 'role': '日高法子/坂本千夏/糸井重里/岛本须美/北林谷荣/高木均/雨笠利幸/丸山裕子/广濑正志/鹫尾真知子/铃木玲子/千叶繁/龙田直树/鳕子/西村朋纮/石田光子/神代知衣/中村大树/水谷优子/平松晶子/大谷育江/', 'category': '动画/奇幻/冒险/', 'country': '日本', 'time': '2018-12-14(中国大陆)/1988-04-16(日本)/', 'length': ['86分钟'], 'evaluate': ['9.2']}, {'name': ['怦然心动 Flipped'], 'director': '罗伯·莱纳/', 'role': '玛德琳·卡罗尔/卡兰·麦克奥利菲/瑞贝卡·德·莫妮/安东尼·爱德华兹/约翰·马奥尼/佩内洛普·安·米勒/艾丹·奎因/凯文·韦斯曼/摩根·莉莉/瑞安·克茨纳/吉莉安·普法夫/迈克尔·博萨/博·勒纳/杰奎琳·埃沃拉/泰勒·格鲁秀斯/艾莉·布莱恩特/阿什莉·泰勒/伊瑟尔·布罗萨德/科迪·霍恩/迈克尔·博尔顿/肖恩·哈珀/斯戴芬妮·斯考特/帕特丽夏·伦茨/马修·戈尔德/阿罗拉·凯瑟琳·史密斯/凯莉·唐纳利/索菲亚·撒高/米歇尔·梅斯默/斯科特·乔尔·吉兹基/罗德·迈尔斯/卡拉 帕西托/凯特琳·帕西托/', 'category': '剧情/喜剧/爱情/', 'country': '美国', 'time': '2010-07-26(好莱坞首映)/2010-09-10(美国)/', 'length': ['90分钟'], 'evaluate': ['9.1']}, {'name': ['控方证人 Witness for the Prosecution'], 'director': '比利·怀德/', 'role': '泰隆·鲍华/玛琳·黛德丽/查尔斯·劳顿/爱尔莎·兰切斯特/约翰·威廉姆斯/亨利·丹尼尔/伊安·沃尔夫/托林·撒切尔/诺玛·威登/尤娜·奥康纳/茹塔·李/', 'category': '剧情/悬疑/犯罪/', 'country': '美国', 'time': '1957-12-17(美国)/', 'length': ['116分钟'], 'evaluate': ['9.6']}]\n"
     ]
    }
   ],
   "source": [
    "def main():\n",
    "    start_url='https://movie.douban.com/top250?start='\n",
    "    detailurlist=[]\n",
    "    for i in range(1):\n",
    "        generalurl=start_url+str(25*i)\n",
    "        generalHTMl=getHTMLtext(generalurl)\n",
    "        getdetailurl(detailurlist,generalHTMl)\n",
    "        print('爬完第'+str(i+1)+'页的详情url')\n",
    "    Infolist=[]\n",
    "    for i in range(len(detailurlist)):\n",
    "        detailurl=detailurlist[i]['detailurl']\n",
    "        detailHTML=getHTMLtext(detailurl)\n",
    "        getInfolist(Infolist,detailHTML)\n",
    "    print(Infolist)\n",
    "    \n",
    "        \n",
    "        \n",
    "main()\n",
    "\n"
   ]
  },
  {
   "cell_type": "code",
   "execution_count": null,
   "metadata": {},
   "outputs": [],
   "source": []
  }
 ],
 "metadata": {
  "kernelspec": {
   "display_name": "Python 3",
   "language": "python",
   "name": "python3"
  },
  "language_info": {
   "codemirror_mode": {
    "name": "ipython",
    "version": 3
   },
   "file_extension": ".py",
   "mimetype": "text/x-python",
   "name": "python",
   "nbconvert_exporter": "python",
   "pygments_lexer": "ipython3",
   "version": "3.8.3"
  }
 },
 "nbformat": 4,
 "nbformat_minor": 4
}
