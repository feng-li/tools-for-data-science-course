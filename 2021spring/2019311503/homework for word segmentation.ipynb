{
 "cells": [
  {
   "cell_type": "code",
   "execution_count": 1,
   "metadata": {},
   "outputs": [
    {
     "name": "stderr",
     "output_type": "stream",
     "text": [
      "Building prefix dict from the default dictionary ...\n",
      "Loading model from cache C:\\Users\\Panto\\AppData\\Local\\Temp\\jieba.cache\n",
      "Loading model cost 2.136 seconds.\n",
      "Prefix dict has been built successfully.\n"
     ]
    },
    {
     "name": "stdout",
     "output_type": "stream",
     "text": [
      "曹操          953\n",
      "孔明          836\n",
      "将军          772\n",
      "却说          656\n",
      "玄德          585\n",
      "关公          510\n",
      "丞相          491\n",
      "二人          469\n",
      "不可          440\n",
      "荆州          425\n",
      "[['曹操' '孔明' '将军' '却说' '玄德' '关公' '丞相' '二人' '不可' '荆州']\n",
      " ['953' '836' '772' '656' '585' '510' '491' '469' '440' '425']]\n"
     ]
    }
   ],
   "source": [
    "import numpy as np\n",
    "import jieba\n",
    "txt = open(\"threekingdoms.txt\", \"r\", encoding='utf-8').read()\n",
    "words  = jieba.lcut(txt) # 使用精确模式对文本进行分词\n",
    "counts = {} # 通过键值对的形式存储词语及其出现的次数\n",
    "for word in words:\n",
    "    if len(word) == 1:  # 单个词语不计算在内\n",
    "        continue\n",
    "    else:\n",
    "        counts[word] = counts.get(word,0) + 1\n",
    "# 遍历所有词语，每出现一次其对应的值加 1\n",
    "items = list(counts.items()) #将键值对转换成列表\n",
    "items.sort(key=lambda x:x[1], reverse=True)  #根据词频高低进行排序\n",
    "a=[]\n",
    "b=[]\n",
    "for i in range(10):\n",
    "    word, count = items[i]\n",
    "    print (\"{0:<10}{1:>5}\".format(word, count))\n",
    "    a.append(word)\n",
    "    b.append(count)\n",
    "\n",
    "c = np.row_stack((a,b))\n",
    "print(c)"
   ]
  },
  {
   "cell_type": "code",
   "execution_count": 2,
   "metadata": {},
   "outputs": [
    {
     "name": "stdout",
     "output_type": "stream",
     "text": [
      "[['曹操' '孔明' '将军' '却说' '玄德' '关公' '丞相' '二人' '不可' '荆州']\n",
      " ['953' '836' '772' '656' '585' '510' '491' '469' '440' '425']]\n"
     ]
    }
   ],
   "source": [
    "M = np.mat(c)\n",
    "print(M)"
   ]
  },
  {
   "cell_type": "code",
   "execution_count": null,
   "metadata": {},
   "outputs": [],
   "source": []
  }
 ],
 "metadata": {
  "kernelspec": {
   "display_name": "Python 3",
   "language": "python",
   "name": "python3"
  },
  "language_info": {
   "codemirror_mode": {
    "name": "ipython",
    "version": 3
   },
   "file_extension": ".py",
   "mimetype": "text/x-python",
   "name": "python",
   "nbconvert_exporter": "python",
   "pygments_lexer": "ipython3",
   "version": "3.6.5"
  }
 },
 "nbformat": 4,
 "nbformat_minor": 2
}
