{
 "cells": [
  {
   "cell_type": "code",
   "execution_count": 1,
   "metadata": {},
   "outputs": [
    {
     "name": "stdout",
     "output_type": "stream",
     "text": [
      "['If', 'you', 'wish', 'to', 'succeed', '', 'you', 'should', 'use', 'persistence', 'as', 'your', 'good', 'friend', '', 'experience', 'as', 'your', 'reference', '', 'prudence', 'as', 'your', 'brother', 'and', 'hope', 'as', 'your', 'sentry', '', '']\n",
      "{'If': 1, 'you': 2, 'wish': 1, 'to': 1, 'succeed': 1, '': 5, 'should': 1, 'use': 1, 'persistence': 1, 'as': 4, 'your': 4, 'good': 1, 'friend': 1, 'experience': 1, 'reference': 1, 'prudence': 1, 'brother': 1, 'and': 1, 'hope': 1, 'sentry': 1}\n"
     ]
    }
   ],
   "source": [
    "import re\n",
    "\n",
    "text=\"If you wish to succeed, you should use persistence as your good friend, experience as your reference, prudence as your brother and hope as your sentry. \"\n",
    "array=re.split('[ ,.]',text)\n",
    "print(array)\n",
    "\n",
    "dic={}\n",
    "for i in array:\n",
    "    if i not in dic:\n",
    "        dic[i] = 1\n",
    "    else:\n",
    "        dic[i] += 1\n",
    "print(dic)"
   ]
  },
  {
   "cell_type": "code",
   "execution_count": null,
   "metadata": {},
   "outputs": [],
   "source": []
  }
 ],
 "metadata": {
  "kernelspec": {
   "display_name": "Python 3",
   "language": "python",
   "name": "python3"
  },
  "language_info": {
   "codemirror_mode": {
    "name": "ipython",
    "version": 3
   },
   "file_extension": ".py",
   "mimetype": "text/x-python",
   "name": "python",
   "nbconvert_exporter": "python",
   "pygments_lexer": "ipython3",
   "version": "3.6.5"
  }
 },
 "nbformat": 4,
 "nbformat_minor": 2
}
