{
 "cells": [
  {
   "cell_type": "markdown",
   "metadata": {},
   "source": [
    "决策树：分类算法的一种 树形 直观理解像程序设计中的if-then\n",
    "决策树分类：特征之间的排序 信息论为理论基础\n",
    "一种分类基础：信息增益 熵 - 条件熵 表示在一个条件下，信息不确定性减少的程度"
   ]
  },
  {
   "cell_type": "code",
   "execution_count": 8,
   "metadata": {},
   "outputs": [],
   "source": [
    "from sklearn.datasets import load_iris\n",
    "from sklearn.model_selection import train_test_split\n",
    "from sklearn.preprocessing import StandardScaler\n",
    "from sklearn.tree import DecisionTreeClassifier,export_graphviz"
   ]
  },
  {
   "cell_type": "code",
   "execution_count": 9,
   "metadata": {},
   "outputs": [],
   "source": [
    "# 获取数据集\n",
    "iris = load_iris()"
   ]
  },
  {
   "cell_type": "code",
   "execution_count": 10,
   "metadata": {},
   "outputs": [],
   "source": [
    "# 划分数据集\n",
    "x_train,x_test,y_train,y_test = train_test_split(iris.data,iris.target,random_state=22)"
   ]
  },
  {
   "cell_type": "markdown",
   "metadata": {},
   "source": [
    "class sklearn.tree.DecisionTreeClassifier(criterion=’gini’, max_depth=None,random_state=None)\n",
    "决策树分类器\n",
    "criterion:默认是’gini’系数，也可以选择信息增益的熵’entropy’\n",
    "max_depth:树的深度大小\n",
    "random_state:随机数种子"
   ]
  },
  {
   "cell_type": "code",
   "execution_count": 11,
   "metadata": {},
   "outputs": [
    {
     "data": {
      "text/plain": [
       "DecisionTreeClassifier(criterion='entropy')"
      ]
     },
     "execution_count": 11,
     "metadata": {},
     "output_type": "execute_result"
    }
   ],
   "source": [
    "# 决策树预估器\n",
    "    # 预估器是sklearn中机器学习算法的父类，实现了算法的封装，便于使用\n",
    "estimator = DecisionTreeClassifier(criterion=\"entropy\")\n",
    "estimator.fit(x_train,y_train)"
   ]
  },
  {
   "cell_type": "code",
   "execution_count": 12,
   "metadata": {},
   "outputs": [
    {
     "data": {
      "text/plain": [
       "0.9210526315789473"
      ]
     },
     "execution_count": 12,
     "metadata": {},
     "output_type": "execute_result"
    }
   ],
   "source": [
    "# 模型评估\n",
    "score = estimator.score(x_test,t_test)\n",
    "score"
   ]
  },
  {
   "cell_type": "code",
   "execution_count": 14,
   "metadata": {},
   "outputs": [],
   "source": [
    "# 可视化\n",
    "# http://webgraphviz.com/\n",
    "export_graphviz(estimator,out_file=\"iris_tree.dot\",feature_names=iris.feature_names)"
   ]
  },
  {
   "cell_type": "code",
   "execution_count": null,
   "metadata": {},
   "outputs": [],
   "source": [
    "鸢尾花样本比较小，其实不太适合使用决策树算法，决策树算法较为适合大样本"
   ]
  },
  {
   "cell_type": "code",
   "execution_count": null,
   "metadata": {},
   "outputs": [],
   "source": [
    "def decision_iris():\n",
    "    '''\n",
    "    用决策树对鸢尾花进行分类\n",
    "    '''\n",
    "    # 获取数据集\n",
    "    iris = load_iris()\n",
    "    # 划分数据集\n",
    "    x_train,x_test,y_train,t_test = train_test_split(iris.data,iris.target,random_state=22)\n",
    "    # 决策树预估器\n",
    "        # 预估器是sklearn中机器学习算法的父类，实现了算法的封装，便于使用\n",
    "    estimator = DecisionTreeClassifier(criterion=\"entropy\")\n",
    "    estimator.fit(x_train,y_train)\n",
    "    # 模型评估\n",
    "    score = estimator.score(x_test,y_test)\n",
    "    print(\"准确率为：\\n\",score)    \n",
    "    return None"
   ]
  }
 ],
 "metadata": {
  "kernelspec": {
   "display_name": "Python 3",
   "language": "python",
   "name": "python3"
  },
  "language_info": {
   "codemirror_mode": {
    "name": "ipython",
    "version": 3
   },
   "file_extension": ".py",
   "mimetype": "text/x-python",
   "name": "python",
   "nbconvert_exporter": "python",
   "pygments_lexer": "ipython3",
   "version": "3.8.5"
  }
 },
 "nbformat": 4,
 "nbformat_minor": 4
}
