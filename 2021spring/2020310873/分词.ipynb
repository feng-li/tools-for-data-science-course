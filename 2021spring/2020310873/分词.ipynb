import jieba
 
seg_list = jieba.cut("伟大的北京天安门",cut_all=True)
print("Full Mode:", "/ ".join(seg_list)  )    #全模式
 
seg_list = jieba.cut("伟大的北京天安门",cut_all=False)
print("Default Mode:", "/ ".join(seg_list)  ) #精确模式
 
seg_list = jieba.cut("这里是伟大的北京天安门")    #默认是精确模式
print(", ".join(seg_list)  )
 
seg_list = jieba.cut_for_search("这里是伟大的北京天安门，伟大的中华人民共和国！") #搜索引擎模式
print(", ".join(seg_list) )
import jieba
jieba.load_userdict(r"C:\Users\huawei\Desktop\userdict.txt") # file_name为自定义词典的路径
#encoding=utf-8
import sys
sys.path.append("../")
import jieba
jieba.load_userdict("userdict.txt")
import jieba.posseg as pseg
 
test_sent = "李小福是创新办主任也是云计算方面的专家;"
test_sent += "例如我输入一个带“韩玉赏鉴”的标题，在自定义词库中也增加了此词为N类型"
words = jieba.cut(test_sent)
for w in words:
    print (w)
 
result = pseg.cut(test_sent)
 
for w in result:
    print (w.word, "/", w.flag, ", ",)
 
print ("\n========")
 
terms = jieba.cut('easy_install is great')
for t in terms:
    print (t)
print('-------------------------')
terms = jieba.cut('python 的正则表达式是好用的')
for t in terms:
    print (t)
