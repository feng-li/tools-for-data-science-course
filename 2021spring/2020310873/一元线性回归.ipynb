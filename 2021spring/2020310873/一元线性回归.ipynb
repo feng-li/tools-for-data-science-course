import matplotlib.pyplot as plt
import numpy as np
import pandas as pd
from sklearn.linear_model import LinearRegression
pizza = pd.read_csv(r'C:\Users\huawei\Desktop\pizza.csv', index_col="Id")
pizza.head()
def runplt():
    plt.figure()
    plt.title("Pizza price plotted against diameter")
    plt.xlabel('Diameter')
    plt.ylabel('Price')
    plt.grid(True)
    plt.xlim(0, 25)
    plt.ylim(0, 25)
    return plt
dia = pizza.loc[:,'Diameter'].values
price = pizza.loc[:,'Price'].values
print(dia)
print(price)
plt = runplt()
plt.plot(dia, price, 'k.')
plt.show()
model = LinearRegression()
X = dia.reshape((-1,1))
y = price
model.fit(X, y)
X2 = [[0], [25]]
y2 = model.predict(X2)
print(y2)
plt = runplt()
plt.plot(dia, price, 'k.')
plt.plot(X2, y2, 'g-')
plt.show()
plt = runplt()
plt.plot(dia, price, 'k.')
plt.plot(X2, y2, 'g-')
yr = model.predict(X)
for index, x in enumerate(X):
    plt.plot([x, x], [y[index], yr[index]], 'r-')
plt.show()
print("均方误差为: %.2f" % np.mean((model.predict(X)-y) ** 2))
