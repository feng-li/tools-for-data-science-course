{
 "cells": [
  {
   "cell_type": "code",
   "execution_count": 1,
   "metadata": {},
   "outputs": [
    {
     "name": "stdout",
     "output_type": "stream",
     "text": [
      "爬取资料完成\n"
     ]
    }
   ],
   "source": [
    "import requests\n",
    "\n",
    "url = \"https://sogou.com\"\n",
    "\n",
    "response = requests.get(url=url)\n",
    "\n",
    "re_text = response.text\n",
    "\n",
    "with open(\"./sogou.html\", \"w\", encoding=\"utf-8\") as fp:\n",
    "    fp.write(re_text)\n",
    "    \n",
    "print(\"爬取资料完成\")\n",
    "    "
   ]
  },
  {
   "cell_type": "code",
   "execution_count": 2,
   "metadata": {},
   "outputs": [
    {
     "name": "stdout",
     "output_type": "stream",
     "text": [
      "please enter a word: \n",
      "数据爬取完毕！\n"
     ]
    }
   ],
   "source": [
    "import requests\n",
    "\n",
    "word = input(\"please enter a word: \")\n",
    "\n",
    "headers = {\n",
    "    \"User-Agent\": \"Mozilla/5.0 (Linux; Android 6.0; Nexus 5 Build/MRA58N) AppleWebKit/537.36 (KHTML, like Gecko) Chrome/90.0.4430.212 Mobile Safari/537.36 Edg/90.0.818.62\"\n",
    "}\n",
    "\n",
    "url = \"https://sogou.com/web?query=\" + word\n",
    "\n",
    "response = requests.get(url=url, headers=headers)\n",
    "\n",
    "re_text = response.text\n",
    "\n",
    "with open(\"./sogou{}.html\".format(word), \"w\", encoding=\"utf-8\") as fp:\n",
    "    fp.write(re_text)\n",
    "    \n",
    "print(\"数据爬取完毕！\")\n"
   ]
  },
  {
   "cell_type": "code",
   "execution_count": 3,
   "metadata": {},
   "outputs": [
    {
     "name": "stdout",
     "output_type": "stream",
     "text": [
      "please enter a word: \n",
      "数据爬取完毕！\n"
     ]
    }
   ],
   "source": [
    "import requests \n",
    "\n",
    "word = input(\"please enter a word: \")\n",
    "\n",
    "headers = {\n",
    "    \"User-Agent\" : \"Mozilla/5.0 (Linux; Android 6.0; Nexus 5 Build/MRA58N)\"\n",
    "}\n",
    "\n",
    "param = {\n",
    "    \"query\" : word\n",
    "}\n",
    "\n",
    "url = \"https://sogou.com\"\n",
    "\n",
    "response = requests.get(url=url, params=param, headers=headers)\n",
    "\n",
    "re_text = response.text\n",
    "\n",
    "with open(\"./sogou{}.html\".format(word), \"w\", encoding='utf-8') as fp:\n",
    "    fp.write(re_text)\n",
    "    \n",
    "print(\"数据爬取完毕！\")"
   ]
  },
  {
   "cell_type": "code",
   "execution_count": 4,
   "metadata": {},
   "outputs": [
    {
     "name": "stdout",
     "output_type": "stream",
     "text": [
      "please enter a word: \n",
      "Done!\n"
     ]
    }
   ],
   "source": [
    "import requests\n",
    "import json\n",
    "word = input(\"please enter a word: \")\n",
    "\n",
    "headers = {\n",
    "    \"User-Agent\" : \"Mozilla/5.0 (Linux; Android 6.0; Nexus 5 Build/MRA58N) AppleWebKit/537.36 (KHTML, like Gecko) Chrome/90.0.4430.212 Mobile Safari/537.36 Edg/90.0.818.62\"\n",
    "}\n",
    "\n",
    "url = \"https://fanyi.baidu.com/sug\"\n",
    "\n",
    "data = {\n",
    "    \"kw\" : word\n",
    "}\n",
    "response = requests.post(url=url, data=data, headers=headers)\n",
    "\n",
    "dict_obj = response.json()\n",
    "\n",
    "fp = open(\"./look_up_{}\".format(word), \"w\", encoding=\"utf-8\")\n",
    "\n",
    "json.dump(dict_obj, fp=fp, ensure_ascii=False)\n",
    "\n",
    "fp.close()\n",
    "\n",
    "print(\"Done!\")"
   ]
  },
  {
   "cell_type": "code",
   "execution_count": 5,
   "metadata": {},
   "outputs": [
    {
     "name": "stdout",
     "output_type": "stream",
     "text": [
      "done!\n"
     ]
    }
   ],
   "source": [
    "import requests\n",
    "import json\n",
    "\n",
    "url = \"https://movie.douban.com/j/search_subjects?type=movie&tag=%E7%83%AD%E9%97%A8&sort=recommend&page_limit=100&page_start=20\"\n",
    "\n",
    "headers = {\n",
    "    \"User-Agent\" : \"Mozilla/5.0 (Linux; Android 6.0; Nexus 5 Build/MRA58N) AppleWebKit/537.36 (KHTML, like Gecko) Chrome/90.0.4430.212 Mobile Safari/537.36 Edg/90.0.818.62\"\n",
    "}\n",
    "\n",
    "response = requests.get(url=url, headers=headers)\n",
    "\n",
    "obj_dict = response.json()\n",
    "\n",
    "fp = open(\"./doubanfilm.json\", \"w\", encoding=\"utf-8\")\n",
    "\n",
    "json.dump(obj_dict, fp=fp, ensure_ascii=0)\n",
    "\n",
    "fp.close()\n",
    "\n",
    "print(\"done!\")"
   ]
  },
  {
   "cell_type": "code",
   "execution_count": 6,
   "metadata": {},
   "outputs": [
    {
     "name": "stdout",
     "output_type": "stream",
     "text": [
      "done\n"
     ]
    }
   ],
   "source": [
    "import requests\n",
    "import json\n",
    "\n",
    "url =  \" https://movie.douban.com/j/search_subjects\"\n",
    "\n",
    "headers = {\n",
    "    \"User-Agent\" : \"Mozilla/5.0 (Linux; Android 6.0; Nexus 5 Build/MRA58N) AppleWebKit/537.36 (KHTML, like Gecko) Chrome/90.0.4430.212 Mobile Safari/537.36 Edg/90.0.818.62\"\n",
    "}\n",
    "\n",
    "param = {\n",
    "    \"type\" : \"movie\",\n",
    "    \"tag\" : \"喜剧\",\n",
    "    \"sort\" : \"recommend\",\n",
    "    \"page_limit\" : 20,\n",
    "    \"page_start\" : 20\n",
    "}\n",
    "\n",
    "response = requests.get(url=url, params=param, headers=headers)\n",
    "\n",
    "obbj_dict = response.json()\n",
    "\n",
    "fp = open(\"./doubanfilm3.json\",\"w\",encoding=\"utf-8\")\n",
    "\n",
    "json.dump(obbj_dict, fp=fp, ensure_ascii=0)\n",
    "\n",
    "fp.close()\n",
    "\n",
    "print(\"done\")\n"
   ]
  },
  {
   "cell_type": "code",
   "execution_count": 7,
   "metadata": {},
   "outputs": [
    {
     "name": "stdout",
     "output_type": "stream",
     "text": [
      "done\n"
     ]
    },
    {
     "data": {
      "text/html": [
       "<div>\n",
       "<style scoped>\n",
       "    .dataframe tbody tr th:only-of-type {\n",
       "        vertical-align: middle;\n",
       "    }\n",
       "\n",
       "    .dataframe tbody tr th {\n",
       "        vertical-align: top;\n",
       "    }\n",
       "\n",
       "    .dataframe thead th {\n",
       "        text-align: right;\n",
       "    }\n",
       "</style>\n",
       "<table border=\"1\" class=\"dataframe\">\n",
       "  <thead>\n",
       "    <tr style=\"text-align: right;\">\n",
       "      <th></th>\n",
       "      <th>rownum</th>\n",
       "      <th>storeName</th>\n",
       "      <th>addressDetail</th>\n",
       "      <th>pro</th>\n",
       "      <th>provinceName</th>\n",
       "      <th>cityName</th>\n",
       "    </tr>\n",
       "  </thead>\n",
       "  <tbody>\n",
       "    <tr>\n",
       "      <th>0</th>\n",
       "      <td>1</td>\n",
       "      <td>前门</td>\n",
       "      <td>西城区前门西大街正阳市场1号楼中部</td>\n",
       "      <td>Wi-Fi,礼品卡</td>\n",
       "      <td>北京市</td>\n",
       "      <td>北京市</td>\n",
       "    </tr>\n",
       "    <tr>\n",
       "      <th>1</th>\n",
       "      <td>2</td>\n",
       "      <td>京源</td>\n",
       "      <td>左家庄新源街24号</td>\n",
       "      <td>Wi-Fi,礼品卡,生日餐会</td>\n",
       "      <td>北京市</td>\n",
       "      <td>北京市</td>\n",
       "    </tr>\n",
       "    <tr>\n",
       "      <th>2</th>\n",
       "      <td>3</td>\n",
       "      <td>东大桥</td>\n",
       "      <td>朝外大街东大桥路1号楼</td>\n",
       "      <td>Wi-Fi,店内参观,礼品卡</td>\n",
       "      <td>北京市</td>\n",
       "      <td>北京市</td>\n",
       "    </tr>\n",
       "    <tr>\n",
       "      <th>3</th>\n",
       "      <td>4</td>\n",
       "      <td>方庄</td>\n",
       "      <td>蒲芳路26号</td>\n",
       "      <td>Wi-Fi,店内参观,礼品卡,生日餐会</td>\n",
       "      <td>北京市</td>\n",
       "      <td>北京市</td>\n",
       "    </tr>\n",
       "    <tr>\n",
       "      <th>4</th>\n",
       "      <td>5</td>\n",
       "      <td>安定门</td>\n",
       "      <td>安定门外大街西河沿13号楼</td>\n",
       "      <td>Wi-Fi,礼品卡,生日餐会</td>\n",
       "      <td>北京市</td>\n",
       "      <td>北京市</td>\n",
       "    </tr>\n",
       "    <tr>\n",
       "      <th>...</th>\n",
       "      <td>...</td>\n",
       "      <td>...</td>\n",
       "      <td>...</td>\n",
       "      <td>...</td>\n",
       "      <td>...</td>\n",
       "      <td>...</td>\n",
       "    </tr>\n",
       "    <tr>\n",
       "      <th>518</th>\n",
       "      <td>519</td>\n",
       "      <td>小汤山</td>\n",
       "      <td>F1-A001号商铺小汤山镇大柳树村村南（0187）号一层1516-F1-B008、1516-</td>\n",
       "      <td>Wi-Fi,店内参观</td>\n",
       "      <td>北京市</td>\n",
       "      <td>北京市</td>\n",
       "    </tr>\n",
       "    <tr>\n",
       "      <th>519</th>\n",
       "      <td>520</td>\n",
       "      <td>大柳树加油站站DT</td>\n",
       "      <td>化工路王四营路1号</td>\n",
       "      <td>24小时</td>\n",
       "      <td>北京市</td>\n",
       "      <td>北京市</td>\n",
       "    </tr>\n",
       "    <tr>\n",
       "      <th>520</th>\n",
       "      <td>521</td>\n",
       "      <td>大柳树加油站站DT</td>\n",
       "      <td>化工路王四营路1号</td>\n",
       "      <td>24小时</td>\n",
       "      <td>北京市</td>\n",
       "      <td>北京市</td>\n",
       "    </tr>\n",
       "    <tr>\n",
       "      <th>521</th>\n",
       "      <td>522</td>\n",
       "      <td>晓月苑</td>\n",
       "      <td>卢沟桥晓月中路3号楼1层A106</td>\n",
       "      <td>Wi-Fi,店内参观</td>\n",
       "      <td>北京市</td>\n",
       "      <td>北京市</td>\n",
       "    </tr>\n",
       "    <tr>\n",
       "      <th>522</th>\n",
       "      <td>523</td>\n",
       "      <td>晓月苑</td>\n",
       "      <td>卢沟桥晓月中路3号楼1层A106</td>\n",
       "      <td>Wi-Fi,店内参观</td>\n",
       "      <td>北京市</td>\n",
       "      <td>北京市</td>\n",
       "    </tr>\n",
       "  </tbody>\n",
       "</table>\n",
       "<p>523 rows × 6 columns</p>\n",
       "</div>"
      ],
      "text/plain": [
       "     rownum  storeName                                    addressDetail  \\\n",
       "0         1         前门                                西城区前门西大街正阳市场1号楼中部   \n",
       "1         2         京源                                        左家庄新源街24号   \n",
       "2         3        东大桥                                      朝外大街东大桥路1号楼   \n",
       "3         4         方庄                                           蒲芳路26号   \n",
       "4         5        安定门                                    安定门外大街西河沿13号楼   \n",
       "..      ...        ...                                              ...   \n",
       "518     519        小汤山  F1-A001号商铺小汤山镇大柳树村村南（0187）号一层1516-F1-B008、1516-   \n",
       "519     520  大柳树加油站站DT                                        化工路王四营路1号   \n",
       "520     521  大柳树加油站站DT                                        化工路王四营路1号   \n",
       "521     522        晓月苑                                 卢沟桥晓月中路3号楼1层A106   \n",
       "522     523        晓月苑                                 卢沟桥晓月中路3号楼1层A106   \n",
       "\n",
       "                     pro provinceName cityName  \n",
       "0              Wi-Fi,礼品卡          北京市      北京市  \n",
       "1         Wi-Fi,礼品卡,生日餐会          北京市      北京市  \n",
       "2         Wi-Fi,店内参观,礼品卡          北京市      北京市  \n",
       "3    Wi-Fi,店内参观,礼品卡,生日餐会          北京市      北京市  \n",
       "4         Wi-Fi,礼品卡,生日餐会          北京市      北京市  \n",
       "..                   ...          ...      ...  \n",
       "518           Wi-Fi,店内参观          北京市      北京市  \n",
       "519                 24小时          北京市      北京市  \n",
       "520                 24小时          北京市      北京市  \n",
       "521           Wi-Fi,店内参观          北京市      北京市  \n",
       "522           Wi-Fi,店内参观          北京市      北京市  \n",
       "\n",
       "[523 rows x 6 columns]"
      ]
     },
     "execution_count": 7,
     "metadata": {},
     "output_type": "execute_result"
    }
   ],
   "source": [
    "import requests\n",
    "import json\n",
    "import pandas as pd\n",
    "url = \"http://www.kfc.com.cn/kfccda/ashx/GetStoreList.ashx?op=cname\"\n",
    "\n",
    "headers = headers = {\n",
    "    \"User-Agent\" : \"Mozilla/5.0 (Linux; Android 6.0; Nexus 5 Build/MRA58N) AppleWebKit/537.36 (KHTML, like Gecko) Chrome/90.0.4430.212 Mobile Safari/537.36 Edg/90.0.818.62\"\n",
    "}\n",
    "\n",
    "data = {\n",
    "    \"cname\" : '北京',\n",
    "    'pid' : ' ',\n",
    "    'pageindex' : 1,\n",
    "    \"pageSize\" : 10000\n",
    "    \n",
    "}\n",
    "\n",
    "respone = requests.post(url=url, data=data, headers=headers)\n",
    "\n",
    "obj_dict = respone.json()\n",
    "\n",
    "fp = open(\"./kfc_loc.json\", \"w\", encoding=\"utf-8\")\n",
    "\n",
    "json.dump(obj_dict, fp=fp, ensure_ascii=0)\n",
    "\n",
    "fp.close()\n",
    "\n",
    "print(\"done\")\n",
    "\n",
    "obj_list = dict(obj_dict)[\"Table1\"]\n",
    "\n",
    "pd.DataFrame(obj_list)"
   ]
  },
  {
   "cell_type": "code",
   "execution_count": null,
   "metadata": {},
   "outputs": [],
   "source": []
  },
  {
   "cell_type": "code",
   "execution_count": 8,
   "metadata": {},
   "outputs": [
    {
     "name": "stdout",
     "output_type": "stream",
     "text": [
      "{\"Table\":[{\"rowcount\":95}],\"Table1\":[{\"rownum\":1,\"storeName\":\"育慧里\",\"addressDetail\":\"小营东路3号北京凯基伦购物中心一层西侧\",\"pro\":\"24小时,Wi-Fi,店内参观,礼品卡\",\"provinceName\":\"北京市\",\"cityName\":\"北京市\"},{\"rownum\":2,\"storeName\":\"京通新城\",\"addressDetail\":\"朝阳路杨闸环岛西北京通苑30号楼一层南侧\",\"pro\":\"24小时,Wi-Fi,店内参观,礼品卡,生日餐会\",\"provinceName\":\"北京市\",\"cityName\":\"北京市\"},{\"rownum\":3,\"storeName\":\"黄寺大街\",\"addressDetail\":\"黄寺大街15号北京城乡黄寺商厦\",\"pro\":\"Wi-Fi,点唱机,店内参观,礼品卡,生日餐会\",\"provinceName\":\"北京市\",\"cityName\":\"北京市\"},{\"rownum\":4,\"storeName\":\"四季青桥\",\"addressDetail\":\"西四环北路117号北京欧尚超市F1、B1\",\"pro\":\"Wi-Fi,礼品卡,生日餐会\",\"provinceName\":\"北京市\",\"cityName\":\"北京市\"},{\"rownum\":5,\"storeName\":\"亦庄\",\"addressDetail\":\"北京经济开发区西环北路18号F1＋F2\",\"pro\":\"24小时,Wi-Fi,礼品卡,生日餐会\",\"provinceName\":\"北京市\",\"cityName\":\"北京市\"},{\"rownum\":6,\"storeName\":\"石园南大街\",\"addressDetail\":\"通顺路石园西区南侧北京顺义西单商场石园分店一层、二层部分\",\"pro\":\"24小时,Wi-Fi,店内参观,礼品卡,生日餐会\",\"provinceName\":\"北京市\",\"cityName\":\"北京市\"},{\"rownum\":7,\"storeName\":\"北京南站\",\"addressDetail\":\"北京南站候车大厅B岛201号\",\"pro\":\"Wi-Fi,礼品卡\",\"provinceName\":\"北京市\",\"cityName\":\"北京市\"},{\"rownum\":8,\"storeName\":\"北清路\",\"addressDetail\":\"北京北清路1号146区\",\"pro\":\"Wi-Fi,店内参观,礼品卡\",\"provinceName\":\"北京市\",\"cityName\":\"北京市\"},{\"rownum\":9,\"storeName\":\"大红门新世纪肯德基餐厅\",\"addressDetail\":\"海户屯北京新世纪服装商贸城一层南侧\",\"pro\":\"Wi-Fi,点唱机,礼品卡\",\"provinceName\":\"北京市\",\"cityName\":\"北京市\"},{\"rownum\":10,\"storeName\":\"巴沟\",\"addressDetail\":\"巴沟路2号北京华联万柳购物中心一层\",\"pro\":\"Wi-Fi,礼品卡,生日餐会\",\"provinceName\":\"北京市\",\"cityName\":\"北京市\"}]}\n"
     ]
    }
   ],
   "source": [
    "import requests\n",
    "if 1:\n",
    "    #指定ajax-post请求的url（通过抓包进行获取）\n",
    "    url = 'http://www.kfc.com.cn/kfccda/ashx/GetStoreList.ashx?op=keyword'\n",
    "    #定制请求头信息，相关的头信息必须封装在字典结构中\n",
    "    headers = {\n",
    "        #定制请求头中的User-Agent参数，当然也可以定制请求头中其他的参数\n",
    "        'User-Agent': 'Mozilla/5.0 (Windows NT 6.1; Win64; x64) AppleWebKit/537.36 (KHTML, like Gecko) Chrome/66.0.3359.181 Safari/537.36',\n",
    "    }\n",
    "    #定制post请求携带的参数(从抓包工具中获取)\n",
    "    data = {\n",
    "        'cname':'',\n",
    "        'pid':'',\n",
    "        'keyword':'北京',\n",
    "        'pageIndex': '1',\n",
    "        'pageSize': '10'\n",
    "    }\n",
    "    #发起post请求，获取响应对象\n",
    "    response = requests.post(url=url,headers=headers,data=data)\n",
    "    #获取响应内容\n",
    "    print(response.text)"
   ]
  },
  {
   "cell_type": "code",
   "execution_count": null,
   "metadata": {},
   "outputs": [],
   "source": []
  },
  {
   "cell_type": "code",
   "execution_count": null,
   "metadata": {},
   "outputs": [],
   "source": []
  }
 ],
 "metadata": {
  "kernelspec": {
   "display_name": "Python 3",
   "language": "python",
   "name": "python3"
  },
  "language_info": {
   "codemirror_mode": {
    "name": "ipython",
    "version": 3
   },
   "file_extension": ".py",
   "mimetype": "text/x-python",
   "name": "python",
   "nbconvert_exporter": "python",
   "pygments_lexer": "ipython3",
   "version": "3.8.5"
  }
 },
 "nbformat": 4,
 "nbformat_minor": 4
}
