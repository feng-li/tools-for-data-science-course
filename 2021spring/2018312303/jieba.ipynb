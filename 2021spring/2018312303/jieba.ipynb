{
 "cells": [
  {
   "cell_type": "code",
   "execution_count": 10,
   "metadata": {},
   "outputs": [],
   "source": [
    "from gensim import corpora,models\n",
    "import jieba\n",
    "import jieba.posseg as jp\n",
    "import pandas as pd\n",
    "import jieba.analyse"
   ]
  },
  {
   "cell_type": "code",
   "execution_count": 3,
   "metadata": {},
   "outputs": [],
   "source": [
    "data = ['盖里奇已经彻底放弃讲多线汇集的故事了，或者不屑于玩了？我觉得这部还挺适合改的啊。现在就是一个非常简单的复仇故事，拍得还是比常规流水线作业吸引人一些，配乐和音效突出惊悚感',\n",
    "       '看完以后很想学大提琴…典型的咚咚咚咚的爽片',\n",
    "        '当H的真实身份成谜时，父亲也许是观众最能共情的依靠点。影片的第一小节有两个值得注意的地方，第一场是警察调查劫钞案，向H出示监控录像；第二是H拿到尸检报告独自坐在床边。两场戏都极为压抑，尤其是第二场，H完全以背影示众，但却完全能让人感受到他即将喷薄而出的怒火。',\n",
    "       '今年海外引进影片的排片大量缩水，所以能在第一时间欣赏到鬼才导演盖里奇的这部新片还是挺意外的。毕竟之前他的电影《绅士们》几乎嘲讽了所有地球人。']"
   ]
  },
  {
   "cell_type": "code",
   "execution_count": 48,
   "metadata": {},
   "outputs": [
    {
     "name": "stdout",
     "output_type": "stream",
     "text": [
      "(0, '0.018*\"典型\" + 0.018*\"影片\" + 0.017*\"很\" + 0.017*\"学\"')\n",
      "(1, '0.026*\"故事\" + 0.021*\"影片\" + 0.017*\"电影\" + 0.017*\"毕竟\"')\n"
     ]
    }
   ],
   "source": [
    "flags = ('n', 'nr', 'ns', 'nt', 'eng', 'v', 'd')  # 词性\n",
    "stopwords = ('的','H','能','人','盖','是','到','想','挺','完') \n",
    "words_ls = []\n",
    "for text in data:\n",
    "    words = [word.word for word in jp.cut(text)if word.flag in flags and word.word not in stopwords]\n",
    "    words_ls.append(words)\n",
    "jieba.analyse.set_stop_words('stopwords.txt')\n",
    "\n",
    "#去重，存到字典\n",
    "dictionary = corpora.Dictionary(words_ls)\n",
    "#print(dictionary)\n",
    "corpus = [dictionary.doc2bow(words) for words in words_ls]\n",
    "# print(corpus)\n",
    "lda = models.ldamodel.LdaModel(corpus=corpus, id2word=dictionary, num_topics=2)\n",
    "for topic in lda.print_topics(num_words=4):\n",
    "    print(topic)"
   ]
  }
 ],
 "metadata": {
  "kernelspec": {
   "display_name": "Python 3",
   "language": "python",
   "name": "python3"
  },
  "language_info": {
   "codemirror_mode": {
    "name": "ipython",
    "version": 3
   },
   "file_extension": ".py",
   "mimetype": "text/x-python",
   "name": "python",
   "nbconvert_exporter": "python",
   "pygments_lexer": "ipython3",
   "version": "3.8.5"
  }
 },
 "nbformat": 4,
 "nbformat_minor": 4
}
