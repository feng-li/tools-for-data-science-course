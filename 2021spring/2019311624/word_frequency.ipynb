{
 "cells": [
  {
   "cell_type": "code",
   "execution_count": 3,
   "metadata": {},
   "outputs": [
    {
     "name": "stdout",
     "output_type": "stream",
     "text": [
      "the          24\n",
      "to           13\n",
      "a             7\n",
      "are           7\n",
      "who           7\n",
      "early         6\n",
      "voting        6\n",
      "that          6\n",
      "voters        6\n",
      "in            6\n"
     ]
    }
   ],
   "source": [
    "import pandas as pd\n",
    "import re\n",
    "from collections import defaultdict\n",
    "\n",
    "text = open('word_frequency_test.txt').read()\n",
    "pattern = r'[\\s,\\.?!:\"]+'\n",
    "words = re.split(pattern, text)\n",
    "result = {}\n",
    "result = defaultdict(int)\n",
    "for w in words:\n",
    "    result[w] += 1\n",
    "items = list(result.items())\n",
    "items.sort(key=lambda x:x[1], reverse=True) \n",
    "for i in range(10):\n",
    "    word, count = items[i]\n",
    "    print (\"{0:<10}{1:>5}\".format(word, count))\n",
    "\n",
    "r=pd.DataFrame([items])"
   ]
  },
  {
   "cell_type": "code",
   "execution_count": 8,
   "metadata": {},
   "outputs": [
    {
     "name": "stdout",
     "output_type": "stream",
     "text": [
      "\n",
      "           166\n",
      "            137\n",
      "我            44\n",
      "的            31\n",
      "你            22\n",
      "吗            15\n",
      "了            11\n",
      "他            10\n",
      "也             9\n",
      "黄伟文           8\n",
      "吧             8\n",
      "要             7\n",
      "被             7\n",
      "很             7\n",
      "可             7\n"
     ]
    }
   ],
   "source": [
    "import jieba\n",
    "\n",
    "ctext = open('chinese_character.txt',encoding=\"utf-8\").read()\n",
    "punctuation = r\"\"\"!\"#$%&'()*+,-./:;<=>?@[\\]^_`{|}~“”？，！【】（）、。：；’\\n\\s‘……￥·\"\"\"\n",
    "dicts={i:'' for i in punctuation}\n",
    "punc_table=str.maketrans(dicts)\n",
    "newtext=ctext.translate(punc_table)\n",
    "\n",
    "seg_list = jieba.cut(newtext)\n",
    "cresult = {}\n",
    "cresult = defaultdict(int)\n",
    "for w in seg_list:\n",
    "    cresult[w] += 1\n",
    "citems = list(cresult.items())\n",
    "citems.sort(key=lambda x:x[1], reverse=True) \n",
    "for i in range(15):\n",
    "    cword, count = citems[i]\n",
    "    print (\"{0:<10}{1:>5}\".format(cword, count))\n",
    "cr=pd.DataFrame([citems])"
   ]
  },
  {
   "cell_type": "code",
   "execution_count": 5,
   "metadata": {},
   "outputs": [
    {
     "data": {
      "text/plain": [
       "['黄伟文',\n",
       " '嫁妆',\n",
       " '歌词',\n",
       " '好奇',\n",
       " '倾城',\n",
       " '浮夸',\n",
       " '会停',\n",
       " '这孤城',\n",
       " '会谢',\n",
       " '霓虹',\n",
       " '吓怕',\n",
       " '耐看',\n",
       " '盛放',\n",
       " '分手',\n",
       " '笙歌']"
      ]
     },
     "execution_count": 5,
     "metadata": {},
     "output_type": "execute_result"
    }
   ],
   "source": [
    "import jieba.analyse\n",
    "jieba.analyse.extract_tags(ctext, topK=15, withWeight=False, allowPOS=())"
   ]
  },
  {
   "cell_type": "code",
   "execution_count": 6,
   "metadata": {},
   "outputs": [
    {
     "data": {
      "text/plain": [
       "['歌词',\n",
       " '嫁妆',\n",
       " '能比',\n",
       " '情人',\n",
       " '眼泪',\n",
       " '传说',\n",
       " '痴心',\n",
       " '起妆',\n",
       " '倾城',\n",
       " '石头',\n",
       " '看看',\n",
       " '闷场',\n",
       " '风光',\n",
       " '拍照',\n",
       " '不够']"
      ]
     },
     "execution_count": 6,
     "metadata": {},
     "output_type": "execute_result"
    }
   ],
   "source": [
    "jieba.analyse.textrank(ctext, topK=15, withWeight=False, \n",
    "                       allowPOS=('ns', 'n', 'vn', 'v'))"
   ]
  },
  {
   "cell_type": "code",
   "execution_count": null,
   "metadata": {},
   "outputs": [],
   "source": []
  }
 ],
 "metadata": {
  "kernelspec": {
   "display_name": "Python 3",
   "language": "python",
   "name": "python3"
  },
  "language_info": {
   "codemirror_mode": {
    "name": "ipython",
    "version": 3
   },
   "file_extension": ".py",
   "mimetype": "text/x-python",
   "name": "python",
   "nbconvert_exporter": "python",
   "pygments_lexer": "ipython3",
   "version": "3.7.6"
  }
 },
 "nbformat": 4,
 "nbformat_minor": 4
}
