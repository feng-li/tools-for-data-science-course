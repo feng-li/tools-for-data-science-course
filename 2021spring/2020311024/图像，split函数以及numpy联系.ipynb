{
 "cells": [
  {
   "cell_type": "code",
   "execution_count": 3,
   "metadata": {},
   "outputs": [
    {
     "data": {
      "text/plain": [
       "[<matplotlib.lines.Line2D at 0x1f35f305a00>]"
      ]
     },
     "execution_count": 3,
     "metadata": {},
     "output_type": "execute_result"
    },
    {
     "data": {
      "image/png": "[encoded data removed]",
      "text/plain": [
       "<Figure size 432x288 with 1 Axes>"
      ]
     },
     "metadata": {
      "needs_background": "light"
     },
     "output_type": "display_data"
    }
   ],
   "source": [
    "%matplotlib inline\n",
    "\n",
    "import matplotlib.pyplot as plt\n",
    "import numpy as np\n",
    "x = np.arange(10)\n",
    "y = x**2\n",
    "plt.plot(x,y)\n",
    "\n"
   ]
  },
  {
   "cell_type": "code",
   "execution_count": 7,
   "metadata": {},
   "outputs": [
    {
     "name": "stdout",
     "output_type": "stream",
     "text": [
      "[[1 2 3]\n",
      " [2 3 4]]\n",
      "0.9129452507276277\n"
     ]
    }
   ],
   "source": [
    "import numpy as np\n",
    "array=np.array([[1,2,3],\n",
    "                [2,3,4]])\n",
    "print(array)\n",
    "a=np.sin(20)\n",
    "print(a)"
   ]
  },
  {
   "cell_type": "code",
   "execution_count": 14,
   "metadata": {},
   "outputs": [
    {
     "name": "stdout",
     "output_type": "stream",
     "text": [
      "there could be a production shortfall of 25 million tons in wheat, corn, and rice by 2025 in China The possible shortages in food supply would affect food prices and risk social stability Due to rural labor shortages lower agricultural productivity and slow progress in rural land reform China still relies heavily on imported foods especially soybeans imported seeds and foreign planting and processing technology Here US farmers\n",
      "['there', 'could', 'be', 'a', 'production', 'shortfall', 'of', '25', 'million', 'tons', 'in', 'wheat,', 'corn,', 'and', 'rice', 'by', '2025', 'in', 'China', 'The', 'possible', 'shortages', 'in', 'food', 'supply', 'would', 'affect', 'food', 'prices', 'and', 'risk', 'social', 'stability', 'Due', 'to', 'rural', 'labor', 'shortages', 'lower', 'agricultural', 'productivity', 'and', 'slow', 'progress', 'in', 'rural', 'land', 'reform', 'China', 'still', 'relies', 'heavily', 'on', 'imported', 'foods', 'especially', 'soybeans', 'imported', 'seeds', 'and', 'foreign', 'planting', 'and', 'processing', 'technology', 'Here', 'US', 'farmers']\n",
      "[['there' 'could' 'be' 'a' 'production' 'shortfall' 'of' '25' 'million'\n",
      "  'tons' 'in' 'wheat,' 'corn,' 'and' 'rice' 'by' '2025' 'in' 'China'\n",
      "  'The' 'possible' 'shortages' 'in' 'food' 'supply' 'would' 'affect'\n",
      "  'food' 'prices' 'and' 'risk' 'social' 'stability' 'Due']\n",
      " ['to' 'rural' 'labor' 'shortages' 'lower' 'agricultural' 'productivity'\n",
      "  'and' 'slow' 'progress' 'in' 'rural' 'land' 'reform' 'China' 'still'\n",
      "  'relies' 'heavily' 'on' 'imported' 'foods' 'especially' 'soybeans'\n",
      "  'imported' 'seeds' 'and' 'foreign' 'planting' 'and' 'processing'\n",
      "  'technology' 'Here' 'US' 'farmers']]\n"
     ]
    }
   ],
   "source": [
    "a=\"there could be a production shortfall of 25 million tons in wheat, corn, and rice by 2025 in China The possible shortages in food supply would affect food prices and risk social stability Due to rural labor shortages lower agricultural productivity and slow progress in rural land reform China still relies heavily on imported foods especially soybeans imported seeds and foreign planting and processing technology Here US farmers\"\n",
    "print(a)\n",
    "b=a.split(\" \")\n",
    "print(b)\n",
    "c=np.array(b).reshape(2,34)\n",
    "print(c)\n"
   ]
  },
  {
   "cell_type": "code",
   "execution_count": null,
   "metadata": {},
   "outputs": [],
   "source": []
  },
  {
   "cell_type": "code",
   "execution_count": 2,
   "metadata": {},
   "outputs": [
    {
     "name": "stdout",
     "output_type": "stream",
     "text": [
      "0.9129452507276277\n"
     ]
    }
   ],
   "source": [
    "import numpy as np\n",
    "m=np.sin(20)\n",
    "print (m)\n"
   ]
  },
  {
   "cell_type": "code",
   "execution_count": null,
   "metadata": {},
   "outputs": [],
   "source": []
  }
 ],
 "metadata": {
  "kernelspec": {
   "display_name": "Python 3",
   "language": "python",
   "name": "python3"
  },
  "language_info": {
   "codemirror_mode": {
    "name": "ipython",
    "version": 3
   },
   "file_extension": ".py",
   "mimetype": "text/x-python",
   "name": "python",
   "nbconvert_exporter": "python",
   "pygments_lexer": "ipython3",
   "version": "3.8.5"
  }
 },
 "nbformat": 4,
 "nbformat_minor": 4
}
