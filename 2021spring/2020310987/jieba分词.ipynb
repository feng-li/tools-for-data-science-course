{
 "cells": [
  {
   "cell_type": "code",
   "execution_count": 1,
   "metadata": {},
   "outputs": [
    {
     "name": "stderr",
     "output_type": "stream",
     "text": [
      "Building prefix dict from the default dictionary ...\n",
      "Loading model from cache C:\\Users\\ADMINI~1\\AppData\\Local\\Temp\\jieba.cache\n",
      "Loading model cost 0.587 seconds.\n",
      "Prefix dict has been built successfully.\n"
     ]
    },
    {
     "data": {
      "text/plain": [
       "['听惯',\n",
       " '看惯',\n",
       " '号子',\n",
       " '艄公',\n",
       " '花香',\n",
       " '风吹',\n",
       " '波浪',\n",
       " '岸上',\n",
       " '大河',\n",
       " '白帆',\n",
       " '我家',\n",
       " '船上',\n",
       " '两岸',\n",
       " '一条']"
      ]
     },
     "execution_count": 1,
     "metadata": {},
     "output_type": "execute_result"
    }
   ],
   "source": [
    "import jieba.analyse\n",
    "sentence = (\n",
    "\"一条大河波浪宽，\\\n",
    "风吹稻花香两岸，\\\n",
    "我家就在岸上住，\\\n",
    "听惯了艄公的号子，\\\n",
    "看惯了船上的白帆，\\\n",
    "一条大河波浪宽，\\\n",
    "风吹稻花香两岸，\\\n",
    "我家就在岸上住，\\\n",
    "听惯了艄公的号子，\\\n",
    "看惯了船上的白帆\")\n",
    "\n",
    "jieba.analyse.extract_tags(sentence, topK=15, withWeight=False, allowPOS=())"
   ]
  },
  {
   "cell_type": "code",
   "execution_count": 2,
   "metadata": {},
   "outputs": [
    {
     "data": {
      "text/plain": [
       "['艄公', '号子', '风吹', '大河', '听惯', '看惯']"
      ]
     },
     "execution_count": 2,
     "metadata": {},
     "output_type": "execute_result"
    }
   ],
   "source": [
    "jieba.analyse.textrank(sentence, topK=15, withWeight=False, \n",
    "                       allowPOS=('ns', 'n', 'vn', 'v'))"
   ]
  },
  {
   "cell_type": "code",
   "execution_count": 12,
   "metadata": {},
   "outputs": [
    {
     "name": "stdout",
     "output_type": "stream",
     "text": [
      "Full Mode: 一条/ 大河/ 波浪/ 宽/ 风吹/ 稻/ 花香/ 两岸/ 我家/ 就/ 在岸/ 岸上/ 住/ 听惯/ 了/ 艄公/ 的/ 号子/ 看惯/ 了/ 船上/ 的/ 白/ 帆\n"
     ]
    }
   ],
   "source": [
    "import jieba\n",
    "\n",
    "seg_list = jieba.cut(\"一条大河波浪宽风吹稻花香两岸我家就在岸上住听惯了艄公的号子看惯了船上的白帆\", cut_all=True)\n",
    "print(\"Full Mode: \" + \"/ \".join(seg_list))"
   ]
  },
  {
   "cell_type": "code",
   "execution_count": 13,
   "metadata": {},
   "outputs": [
    {
     "name": "stdout",
     "output_type": "stream",
     "text": [
      "Default Mode: 一条/ 大河/ 波浪/ 宽/ 风吹/ 稻/ 花香/ 两岸/ 我家/ 就/ 在/ 岸上/ 住/ 听惯/ 了/ 艄公/ 的/ 号子/ 看惯/ 了/ 船上/ 的/ 白帆\n"
     ]
    }
   ],
   "source": [
    "seg_list = jieba.cut(\"一条大河波浪宽风吹稻花香两岸我家就在岸上住听惯了艄公的号子看惯了船上的白帆\", cut_all=False)\n",
    "print(\"Default Mode: \" + \"/ \".join(seg_list))"
   ]
  },
  {
   "cell_type": "code",
   "execution_count": 5,
   "metadata": {},
   "outputs": [
    {
     "name": "stdout",
     "output_type": "stream",
     "text": [
      "一条/大河/波浪/宽/风吹/稻花/香/两岸/我家/就在/岸上/住/听惯/了/艄公/的/号子/看惯/了/船上/的/白帆\n"
     ]
    }
   ],
   "source": [
    "test_sent = (\n",
    "\"一条大河波浪宽风吹稻花香两岸我家就在岸上住听惯了艄公的号子看惯了船上的白帆\")\n",
    "\n",
    "jieba.load_userdict(\"userdict.txt\")\n",
    "words = jieba.cut(test_sent)\n",
    "print('/'.join(words))"
   ]
  },
  {
   "cell_type": "code",
   "execution_count": null,
   "metadata": {},
   "outputs": [],
   "source": []
  },
  {
   "cell_type": "code",
   "execution_count": null,
   "metadata": {},
   "outputs": [],
   "source": []
  },
  {
   "cell_type": "code",
   "execution_count": null,
   "metadata": {},
   "outputs": [],
   "source": []
  },
  {
   "cell_type": "code",
   "execution_count": null,
   "metadata": {},
   "outputs": [],
   "source": []
  }
 ],
 "metadata": {
  "kernelspec": {
   "display_name": "Python 3",
   "language": "python",
   "name": "python3"
  },
  "language_info": {
   "codemirror_mode": {
    "name": "ipython",
    "version": 3
   },
   "file_extension": ".py",
   "mimetype": "text/x-python",
   "name": "python",
   "nbconvert_exporter": "python",
   "pygments_lexer": "ipython3",
   "version": "3.8.5"
  }
 },
 "nbformat": 4,
 "nbformat_minor": 4
}
