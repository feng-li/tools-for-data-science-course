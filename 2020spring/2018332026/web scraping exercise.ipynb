{
 "cells": [
  {
   "cell_type": "code",
   "execution_count": 127,
   "metadata": {},
   "outputs": [
    {
     "name": "stdout",
     "output_type": "stream",
     "text": [
      "西班牙卡斯塔利亚的医疗机构制作出穿着医生服装的“抗击COVID-19病毒之战”系列玩偶……\u00012020-05-23\u0001石头FM\u0001  西班牙卡斯塔利亚的医疗机构制作出穿着医生服装的“抗击COVID-19病毒之战”系列玩偶 让儿童了解抗击新型冠状病毒感染面临的困难  via Sputnik    #  \u0001https://k.sina.com.cn/article_1497722827_m59456fcb03300mgaq.html?from=health\n",
      "俄罗斯总统普京：俄罗斯的COVID-19疫情在趋稳。\u00012020-05-22\u0001新浪财经\u0001俄罗斯总统普京：俄罗斯的COVID-19疫情在趋稳 \u0001https://finance.sina.com.cn/7x24/2020-05-22/doc-iircuyvi4516249.shtml\n"
     ]
    }
   ],
   "source": [
    "import logging\n",
    "import requests\n",
    "import sys\n",
    "import urllib\n",
    "\n",
    "from bs4 import BeautifulSoup\n",
    "from collections import OrderedDict\n",
    "from urllib.parse import urlencode\n",
    "\n",
    "def get_list(comp, page):\n",
    "    \"\"\"To get  web list pages for a given company and page number.\n",
    "\n",
    "    Args:\n",
    "        comp: Company name.\n",
    "        page: The page number.\n",
    "\n",
    "    Returns:\n",
    "        newsData: A dictionary with news title as its key and other details as values.\n",
    "\n",
    "    \"\"\"\n",
    "    newsData = OrderedDict()\n",
    "    href = 'http://search.sina.com.cn/?%s&range=title&c=news&num=20&col=1_7&page=%s' % (comp, page)\n",
    "    html = requests.get(href)\n",
    "    # Parsing html\n",
    "    soup = BeautifulSoup(html.content, 'html.parser')\n",
    "    divs = soup.findAll('div', {\"class\": \"r-info r-info2\"})\n",
    "    for div in divs:\n",
    "        head = div.findAll('h2')[0]\n",
    "        # News title\n",
    "        titleinfo = head.find('a')\n",
    "        title = titleinfo.get_text()\n",
    "        # News url\n",
    "        url = titleinfo['href']\n",
    "        # Other info\n",
    "        otherinfo = head.find('span', {\"class\": \"fgray_time\"}).get_text()\n",
    "        source, date, time = otherinfo.split()\n",
    "        # News abstract\n",
    "        abstract = div.find('p', {\"class\": \"content\"}).get_text()\n",
    "        newsData[title] = [date, source, abstract, url]\n",
    "    return newsData\n",
    "\n",
    "if __name__ == \"__main__\":\n",
    "    compRawStr = 'COVID'\n",
    "    # Dealing with character encoding\n",
    "    comp = compRawStr.encode('gbk')\n",
    "    d = {'q': comp}\n",
    "    pname = urlencode(d)\n",
    "    # Scraping and printing the first two pages\n",
    "    for page in range(2)[1:]:\n",
    "        newsData = get_list(pname, page)\n",
    "        for ky in newsData:\n",
    "            print('\\001'.join([ky] + newsData[ky])) # \"\\001\" as separator\n"
   ]
  },
  {
   "cell_type": "code",
   "execution_count": 129,
   "metadata": {},
   "outputs": [],
   "source": [
    "import pandas as pd\n",
    "\n",
    "\n",
    "pd.DataFrame(newsData).to_csv('web scraping exercise.csv')\n",
    "\n"
   ]
  }
 ],
 "metadata": {
  "kernelspec": {
   "display_name": "Python 3",
   "language": "python",
   "name": "python3"
  },
  "language_info": {
   "codemirror_mode": {
    "name": "ipython",
    "version": 3
   },
   "file_extension": ".py",
   "mimetype": "text/x-python",
   "name": "python",
   "nbconvert_exporter": "python",
   "pygments_lexer": "ipython3",
   "version": "3.7.6"
  }
 },
 "nbformat": 4,
 "nbformat_minor": 4
}
