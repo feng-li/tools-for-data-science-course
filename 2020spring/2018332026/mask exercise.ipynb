{
 "cells": [
  {
   "cell_type": "code",
   "execution_count": 1,
   "metadata": {},
   "outputs": [],
   "source": [
    "import pandas as pd\n",
    "import matplotlib.pyplot as plt\n",
    "import seaborn as sns\n",
    "import numpy as np\n"
   ]
  },
  {
   "cell_type": "code",
   "execution_count": 21,
   "metadata": {},
   "outputs": [],
   "source": [
    "from pylab import *  \n",
    "plt.rcParams['font.sans-serif'] = ['SimHei'] #备注：调试了各种方法我的电脑上还是无法正常显示中文和负号，先写出内容\n",
    "plt.rcParams['axes.unicode_minus'] = False  \n"
   ]
  },
  {
   "cell_type": "code",
   "execution_count": 58,
   "metadata": {},
   "outputs": [],
   "source": [
    "mask.loc[mask.产地 == '其他/other','产地'] = '其他'\n",
    "mask.loc[mask.适合肤质 != '任何肤质','适合肤质'] = '其他'"
   ]
  },
  {
   "cell_type": "code",
   "execution_count": 59,
   "metadata": {},
   "outputs": [
    {
     "data": {
      "text/html": [
       "<div>\n",
       "<style scoped>\n",
       "    .dataframe tbody tr th:only-of-type {\n",
       "        vertical-align: middle;\n",
       "    }\n",
       "\n",
       "    .dataframe tbody tr th {\n",
       "        vertical-align: top;\n",
       "    }\n",
       "\n",
       "    .dataframe thead th {\n",
       "        text-align: right;\n",
       "    }\n",
       "</style>\n",
       "<table border=\"1\" class=\"dataframe\">\n",
       "  <thead>\n",
       "    <tr style=\"text-align: right;\">\n",
       "      <th></th>\n",
       "      <th>名称</th>\n",
       "      <th>价格</th>\n",
       "      <th>月销量</th>\n",
       "      <th>评价数</th>\n",
       "      <th>店铺所在地</th>\n",
       "      <th>适合肤质</th>\n",
       "      <th>产地</th>\n",
       "      <th>补水保湿</th>\n",
       "      <th>美白提亮</th>\n",
       "      <th>控油祛痘</th>\n",
       "      <th>清洁毛孔</th>\n",
       "      <th>提拉紧致</th>\n",
       "    </tr>\n",
       "  </thead>\n",
       "  <tbody>\n",
       "    <tr>\n",
       "      <th>0</th>\n",
       "      <td>ANGLEE</td>\n",
       "      <td>254.0</td>\n",
       "      <td>40</td>\n",
       "      <td>3133</td>\n",
       "      <td>湖南</td>\n",
       "      <td>任何肤质</td>\n",
       "      <td>中国</td>\n",
       "      <td>1</td>\n",
       "      <td>1</td>\n",
       "      <td>0</td>\n",
       "      <td>0</td>\n",
       "      <td>0</td>\n",
       "    </tr>\n",
       "    <tr>\n",
       "      <th>1</th>\n",
       "      <td>ANGLEE</td>\n",
       "      <td>350.0</td>\n",
       "      <td>62</td>\n",
       "      <td>876</td>\n",
       "      <td>浙江</td>\n",
       "      <td>任何肤质</td>\n",
       "      <td>中国</td>\n",
       "      <td>1</td>\n",
       "      <td>1</td>\n",
       "      <td>0</td>\n",
       "      <td>0</td>\n",
       "      <td>0</td>\n",
       "    </tr>\n",
       "    <tr>\n",
       "      <th>2</th>\n",
       "      <td>ANGLEE</td>\n",
       "      <td>284.9</td>\n",
       "      <td>12</td>\n",
       "      <td>16</td>\n",
       "      <td>浙江</td>\n",
       "      <td>任何肤质</td>\n",
       "      <td>中国</td>\n",
       "      <td>1</td>\n",
       "      <td>0</td>\n",
       "      <td>1</td>\n",
       "      <td>1</td>\n",
       "      <td>0</td>\n",
       "    </tr>\n",
       "    <tr>\n",
       "      <th>3</th>\n",
       "      <td>BF</td>\n",
       "      <td>289.0</td>\n",
       "      <td>32</td>\n",
       "      <td>175</td>\n",
       "      <td>英国</td>\n",
       "      <td>任何肤质</td>\n",
       "      <td>中国</td>\n",
       "      <td>1</td>\n",
       "      <td>0</td>\n",
       "      <td>0</td>\n",
       "      <td>0</td>\n",
       "      <td>0</td>\n",
       "    </tr>\n",
       "    <tr>\n",
       "      <th>4</th>\n",
       "      <td>BSR</td>\n",
       "      <td>379.9</td>\n",
       "      <td>1407</td>\n",
       "      <td>13870</td>\n",
       "      <td>安徽</td>\n",
       "      <td>任何肤质</td>\n",
       "      <td>中国</td>\n",
       "      <td>1</td>\n",
       "      <td>0</td>\n",
       "      <td>0</td>\n",
       "      <td>0</td>\n",
       "      <td>0</td>\n",
       "    </tr>\n",
       "  </tbody>\n",
       "</table>\n",
       "</div>"
      ],
      "text/plain": [
       "       名称     价格   月销量    评价数 店铺所在地  适合肤质  产地  补水保湿  美白提亮  控油祛痘  清洁毛孔  提拉紧致\n",
       "0  ANGLEE  254.0    40   3133    湖南  任何肤质  中国     1     1     0     0     0\n",
       "1  ANGLEE  350.0    62    876    浙江  任何肤质  中国     1     1     0     0     0\n",
       "2  ANGLEE  284.9    12     16    浙江  任何肤质  中国     1     0     1     1     0\n",
       "3      BF  289.0    32    175    英国  任何肤质  中国     1     0     0     0     0\n",
       "4     BSR  379.9  1407  13870    安徽  任何肤质  中国     1     0     0     0     0"
      ]
     },
     "execution_count": 59,
     "metadata": {},
     "output_type": "execute_result"
    }
   ],
   "source": [
    "mask = pd.read_csv('mask.csv',encoding=\"gbk\")  \n",
    "mask.head()"
   ]
  },
  {
   "cell_type": "code",
   "execution_count": 60,
   "metadata": {},
   "outputs": [
    {
     "name": "stdout",
     "output_type": "stream",
     "text": [
      "<class 'pandas.core.frame.DataFrame'>\n",
      "RangeIndex: 794 entries, 0 to 793\n",
      "Data columns (total 12 columns):\n",
      " #   Column  Non-Null Count  Dtype  \n",
      "---  ------  --------------  -----  \n",
      " 0   名称      794 non-null    object \n",
      " 1   价格      794 non-null    float64\n",
      " 2   月销量     794 non-null    int64  \n",
      " 3   评价数     794 non-null    int64  \n",
      " 4   店铺所在地   794 non-null    object \n",
      " 5   适合肤质    794 non-null    object \n",
      " 6   产地      794 non-null    object \n",
      " 7   补水保湿    794 non-null    int64  \n",
      " 8   美白提亮    794 non-null    int64  \n",
      " 9   控油祛痘    794 non-null    int64  \n",
      " 10  清洁毛孔    794 non-null    int64  \n",
      " 11  提拉紧致    794 non-null    int64  \n",
      "dtypes: float64(1), int64(7), object(4)\n",
      "memory usage: 74.6+ KB\n"
     ]
    }
   ],
   "source": [
    "mask.info()"
   ]
  },
  {
   "cell_type": "code",
   "execution_count": 61,
   "metadata": {},
   "outputs": [
    {
     "name": "stdout",
     "output_type": "stream",
     "text": [
      "['湖南' '浙江' '海外' '安徽' '广东' '湖北' '江苏' '上海' '江西' '北京' '天津' '山东' '河南' '河北'\n",
      " '辽宁' '四川' '重庆' '福建' '内蒙古' '海南' '云南' '广西' '陕西' '黑龙江']\n"
     ]
    }
   ],
   "source": [
    "mask.loc[mask.店铺所在地 == '英国','店铺所在地']= '海外'\n",
    "mask.loc[mask.店铺所在地 == '新加坡','店铺所在地'] = '海外'\n",
    "print(mask['店铺所在地'].unique())"
   ]
  },
  {
   "cell_type": "code",
   "execution_count": 62,
   "metadata": {},
   "outputs": [
    {
     "name": "stdout",
     "output_type": "stream",
     "text": [
      "从条形图可以看出，面膜店铺的分布呈现地区特征，南方店铺数量明显大于北方。可见对于面膜更高需求的市场在南方，而需拓展的市场在北方。\n"
     ]
    }
   ],
   "source": [
    "print(\"从条形图可以看出，面膜店铺的分布呈现地区特征，南方店铺数量明显大于北方。可见对于面膜更高需求的市场在南方，而需拓展的市场在北方。\")"
   ]
  },
  {
   "cell_type": "code",
   "execution_count": 76,
   "metadata": {
    "scrolled": false
   },
   "outputs": [
    {
     "data": {
      "text/plain": [
       "<matplotlib.axes._subplots.AxesSubplot at 0x1a218597d0>"
      ]
     },
     "execution_count": 76,
     "metadata": {},
     "output_type": "execute_result"
    },
    {
     "name": "stderr",
     "output_type": "stream",
     "text": [
      "/Users/shiyuanyang/opt/anaconda3/lib/python3.7/site-packages/matplotlib/backends/backend_agg.py:211: RuntimeWarning: Glyph 24215 missing from current font.\n",
      "  font.set_text(s, 0.0, flags=flags)\n",
      "/Users/shiyuanyang/opt/anaconda3/lib/python3.7/site-packages/matplotlib/backends/backend_agg.py:211: RuntimeWarning: Glyph 38138 missing from current font.\n",
      "  font.set_text(s, 0.0, flags=flags)\n",
      "/Users/shiyuanyang/opt/anaconda3/lib/python3.7/site-packages/matplotlib/backends/backend_agg.py:211: RuntimeWarning: Glyph 25152 missing from current font.\n",
      "  font.set_text(s, 0.0, flags=flags)\n",
      "/Users/shiyuanyang/opt/anaconda3/lib/python3.7/site-packages/matplotlib/backends/backend_agg.py:211: RuntimeWarning: Glyph 22312 missing from current font.\n",
      "  font.set_text(s, 0.0, flags=flags)\n",
      "/Users/shiyuanyang/opt/anaconda3/lib/python3.7/site-packages/matplotlib/backends/backend_agg.py:211: RuntimeWarning: Glyph 22320 missing from current font.\n",
      "  font.set_text(s, 0.0, flags=flags)\n",
      "/Users/shiyuanyang/opt/anaconda3/lib/python3.7/site-packages/matplotlib/backends/backend_agg.py:180: RuntimeWarning: Glyph 24215 missing from current font.\n",
      "  font.set_text(s, 0, flags=flags)\n",
      "/Users/shiyuanyang/opt/anaconda3/lib/python3.7/site-packages/matplotlib/backends/backend_agg.py:180: RuntimeWarning: Glyph 38138 missing from current font.\n",
      "  font.set_text(s, 0, flags=flags)\n",
      "/Users/shiyuanyang/opt/anaconda3/lib/python3.7/site-packages/matplotlib/backends/backend_agg.py:180: RuntimeWarning: Glyph 25152 missing from current font.\n",
      "  font.set_text(s, 0, flags=flags)\n",
      "/Users/shiyuanyang/opt/anaconda3/lib/python3.7/site-packages/matplotlib/backends/backend_agg.py:180: RuntimeWarning: Glyph 22312 missing from current font.\n",
      "  font.set_text(s, 0, flags=flags)\n",
      "/Users/shiyuanyang/opt/anaconda3/lib/python3.7/site-packages/matplotlib/backends/backend_agg.py:180: RuntimeWarning: Glyph 22320 missing from current font.\n",
      "  font.set_text(s, 0, flags=flags)\n"
     ]
    },
    {
     "data": {
      "image/png": "[encoded data removed]",
      "text/plain": [
       "<Figure size 864x360 with 1 Axes>"
      ]
     },
     "metadata": {
      "needs_background": "light"
     },
     "output_type": "display_data"
    }
   ],
   "source": [
    "plt.figure(figsize=(12,5))\n",
    "sns.countplot('店铺所在地',data=mask,order = mask['店铺所在地'].value_counts().index,palette='Blues_r')"
   ]
  },
  {
   "cell_type": "code",
   "execution_count": 72,
   "metadata": {},
   "outputs": [
    {
     "name": "stdout",
     "output_type": "stream",
     "text": [
      "上述结论（面膜在国内市场的销量呈现明显的地区差异），在下示的饼图中也可以体现。明显看出，南方市场份额大于北方。\n"
     ]
    }
   ],
   "source": [
    "print(\"上述结论（面膜在国内市场的销量呈现明显的地区差异），在下示的饼图中也可以体现。店铺所在地的前五名都是南方城市，明显看出，面膜的南方市场份额大于北方。\")"
   ]
  },
  {
   "cell_type": "code",
   "execution_count": 77,
   "metadata": {},
   "outputs": [
    {
     "name": "stderr",
     "output_type": "stream",
     "text": [
      "/Users/shiyuanyang/opt/anaconda3/lib/python3.7/site-packages/matplotlib/backends/backend_agg.py:211: RuntimeWarning: Glyph 24191 missing from current font.\n",
      "  font.set_text(s, 0.0, flags=flags)\n",
      "/Users/shiyuanyang/opt/anaconda3/lib/python3.7/site-packages/matplotlib/backends/backend_agg.py:211: RuntimeWarning: Glyph 19996 missing from current font.\n",
      "  font.set_text(s, 0.0, flags=flags)\n",
      "/Users/shiyuanyang/opt/anaconda3/lib/python3.7/site-packages/matplotlib/backends/backend_agg.py:180: RuntimeWarning: Glyph 24191 missing from current font.\n",
      "  font.set_text(s, 0, flags=flags)\n",
      "/Users/shiyuanyang/opt/anaconda3/lib/python3.7/site-packages/matplotlib/backends/backend_agg.py:180: RuntimeWarning: Glyph 19996 missing from current font.\n",
      "  font.set_text(s, 0, flags=flags)\n",
      "/Users/shiyuanyang/opt/anaconda3/lib/python3.7/site-packages/matplotlib/backends/backend_agg.py:211: RuntimeWarning: Glyph 27993 missing from current font.\n",
      "  font.set_text(s, 0.0, flags=flags)\n",
      "/Users/shiyuanyang/opt/anaconda3/lib/python3.7/site-packages/matplotlib/backends/backend_agg.py:211: RuntimeWarning: Glyph 27743 missing from current font.\n",
      "  font.set_text(s, 0.0, flags=flags)\n",
      "/Users/shiyuanyang/opt/anaconda3/lib/python3.7/site-packages/matplotlib/backends/backend_agg.py:180: RuntimeWarning: Glyph 27993 missing from current font.\n",
      "  font.set_text(s, 0, flags=flags)\n",
      "/Users/shiyuanyang/opt/anaconda3/lib/python3.7/site-packages/matplotlib/backends/backend_agg.py:180: RuntimeWarning: Glyph 27743 missing from current font.\n",
      "  font.set_text(s, 0, flags=flags)\n",
      "/Users/shiyuanyang/opt/anaconda3/lib/python3.7/site-packages/matplotlib/backends/backend_agg.py:211: RuntimeWarning: Glyph 19978 missing from current font.\n",
      "  font.set_text(s, 0.0, flags=flags)\n",
      "/Users/shiyuanyang/opt/anaconda3/lib/python3.7/site-packages/matplotlib/backends/backend_agg.py:211: RuntimeWarning: Glyph 28023 missing from current font.\n",
      "  font.set_text(s, 0.0, flags=flags)\n",
      "/Users/shiyuanyang/opt/anaconda3/lib/python3.7/site-packages/matplotlib/backends/backend_agg.py:180: RuntimeWarning: Glyph 19978 missing from current font.\n",
      "  font.set_text(s, 0, flags=flags)\n",
      "/Users/shiyuanyang/opt/anaconda3/lib/python3.7/site-packages/matplotlib/backends/backend_agg.py:180: RuntimeWarning: Glyph 28023 missing from current font.\n",
      "  font.set_text(s, 0, flags=flags)\n",
      "/Users/shiyuanyang/opt/anaconda3/lib/python3.7/site-packages/matplotlib/backends/backend_agg.py:211: RuntimeWarning: Glyph 20854 missing from current font.\n",
      "  font.set_text(s, 0.0, flags=flags)\n",
      "/Users/shiyuanyang/opt/anaconda3/lib/python3.7/site-packages/matplotlib/backends/backend_agg.py:211: RuntimeWarning: Glyph 20182 missing from current font.\n",
      "  font.set_text(s, 0.0, flags=flags)\n",
      "/Users/shiyuanyang/opt/anaconda3/lib/python3.7/site-packages/matplotlib/backends/backend_agg.py:180: RuntimeWarning: Glyph 20854 missing from current font.\n",
      "  font.set_text(s, 0, flags=flags)\n",
      "/Users/shiyuanyang/opt/anaconda3/lib/python3.7/site-packages/matplotlib/backends/backend_agg.py:180: RuntimeWarning: Glyph 20182 missing from current font.\n",
      "  font.set_text(s, 0, flags=flags)\n",
      "/Users/shiyuanyang/opt/anaconda3/lib/python3.7/site-packages/matplotlib/backends/backend_agg.py:211: RuntimeWarning: Glyph 33487 missing from current font.\n",
      "  font.set_text(s, 0.0, flags=flags)\n",
      "/Users/shiyuanyang/opt/anaconda3/lib/python3.7/site-packages/matplotlib/backends/backend_agg.py:180: RuntimeWarning: Glyph 33487 missing from current font.\n",
      "  font.set_text(s, 0, flags=flags)\n",
      "/Users/shiyuanyang/opt/anaconda3/lib/python3.7/site-packages/matplotlib/backends/backend_agg.py:211: RuntimeWarning: Glyph 23433 missing from current font.\n",
      "  font.set_text(s, 0.0, flags=flags)\n",
      "/Users/shiyuanyang/opt/anaconda3/lib/python3.7/site-packages/matplotlib/backends/backend_agg.py:211: RuntimeWarning: Glyph 24509 missing from current font.\n",
      "  font.set_text(s, 0.0, flags=flags)\n",
      "/Users/shiyuanyang/opt/anaconda3/lib/python3.7/site-packages/matplotlib/backends/backend_agg.py:180: RuntimeWarning: Glyph 23433 missing from current font.\n",
      "  font.set_text(s, 0, flags=flags)\n",
      "/Users/shiyuanyang/opt/anaconda3/lib/python3.7/site-packages/matplotlib/backends/backend_agg.py:180: RuntimeWarning: Glyph 24509 missing from current font.\n",
      "  font.set_text(s, 0, flags=flags)\n",
      "/Users/shiyuanyang/opt/anaconda3/lib/python3.7/site-packages/matplotlib/backends/backend_agg.py:211: RuntimeWarning: Glyph 27827 missing from current font.\n",
      "  font.set_text(s, 0.0, flags=flags)\n",
      "/Users/shiyuanyang/opt/anaconda3/lib/python3.7/site-packages/matplotlib/backends/backend_agg.py:211: RuntimeWarning: Glyph 21335 missing from current font.\n",
      "  font.set_text(s, 0.0, flags=flags)\n",
      "/Users/shiyuanyang/opt/anaconda3/lib/python3.7/site-packages/matplotlib/backends/backend_agg.py:180: RuntimeWarning: Glyph 27827 missing from current font.\n",
      "  font.set_text(s, 0, flags=flags)\n",
      "/Users/shiyuanyang/opt/anaconda3/lib/python3.7/site-packages/matplotlib/backends/backend_agg.py:180: RuntimeWarning: Glyph 21335 missing from current font.\n",
      "  font.set_text(s, 0, flags=flags)\n",
      "/Users/shiyuanyang/opt/anaconda3/lib/python3.7/site-packages/matplotlib/backends/backend_agg.py:211: RuntimeWarning: Glyph 28246 missing from current font.\n",
      "  font.set_text(s, 0.0, flags=flags)\n",
      "/Users/shiyuanyang/opt/anaconda3/lib/python3.7/site-packages/matplotlib/backends/backend_agg.py:211: RuntimeWarning: Glyph 21271 missing from current font.\n",
      "  font.set_text(s, 0.0, flags=flags)\n",
      "/Users/shiyuanyang/opt/anaconda3/lib/python3.7/site-packages/matplotlib/backends/backend_agg.py:180: RuntimeWarning: Glyph 28246 missing from current font.\n",
      "  font.set_text(s, 0, flags=flags)\n",
      "/Users/shiyuanyang/opt/anaconda3/lib/python3.7/site-packages/matplotlib/backends/backend_agg.py:180: RuntimeWarning: Glyph 21271 missing from current font.\n",
      "  font.set_text(s, 0, flags=flags)\n"
     ]
    },
    {
     "data": {
      "image/png": "[encoded data removed]",
      "text/plain": [
       "<Figure size 504x504 with 1 Axes>"
      ]
     },
     "metadata": {},
     "output_type": "display_data"
    }
   ],
   "source": [
    "target_list = list(mask['店铺所在地'].value_counts()[9:].index)\n",
    "mask.loc[mask['店铺所在地'].apply(lambda x: x in target_list),'店铺所在地'] = '其他'\n",
    "ax = [0.1,0,0.1,0,0,0,0,0,0] \n",
    "plt.figure(figsize=(7,7))\n",
    "mask['店铺所在地'].value_counts().plot.pie(autopct = '%1.2f%%',startangle=90,explode=ax,colors=sns.color_palette(\"Set3\", 10))   \n",
    "plt.ylabel('')\n",
    "plt.show()"
   ]
  },
  {
   "cell_type": "code",
   "execution_count": 64,
   "metadata": {},
   "outputs": [
    {
     "name": "stdout",
     "output_type": "stream",
     "text": [
      "放眼国际市场，从条形图可以看出，面膜在日本月销量最高，中国排在大国的第二位，韩国位于第三位。可以看到，该品牌未来开展国际市场时可以重点关注亚洲市场，同时根据亚洲肤质进行产品创新。\n"
     ]
    }
   ],
   "source": [
    "print(\"放眼国际市场，从条形图可以看出，面膜在日本月销量最高，中国排在大国的第二位，韩国位于第三位。可以看到，该品牌未来开展国际市场时可以重点关注亚洲市场，同时根据亚洲肤质进行产品创新。\")"
   ]
  },
  {
   "cell_type": "code",
   "execution_count": 78,
   "metadata": {},
   "outputs": [
    {
     "name": "stderr",
     "output_type": "stream",
     "text": [
      "/Users/shiyuanyang/opt/anaconda3/lib/python3.7/site-packages/ipykernel_launcher.py:3: MatplotlibDeprecationWarning: Adding an axes using the same arguments as a previous axes currently reuses the earlier instance.  In a future version, a new instance will always be created and returned.  Meanwhile, this warning can be suppressed, and the future behavior ensured, by passing a unique label to each axes instance.\n",
      "  This is separate from the ipykernel package so we can avoid doing imports until\n"
     ]
    },
    {
     "data": {
      "text/plain": [
       "Text(0.5, 1.0, 'Prices for mask in different places')"
      ]
     },
     "execution_count": 78,
     "metadata": {},
     "output_type": "execute_result"
    },
    {
     "name": "stderr",
     "output_type": "stream",
     "text": [
      "/Users/shiyuanyang/opt/anaconda3/lib/python3.7/site-packages/matplotlib/backends/backend_agg.py:211: RuntimeWarning: Glyph 26085 missing from current font.\n",
      "  font.set_text(s, 0.0, flags=flags)\n",
      "/Users/shiyuanyang/opt/anaconda3/lib/python3.7/site-packages/matplotlib/backends/backend_agg.py:211: RuntimeWarning: Glyph 26412 missing from current font.\n",
      "  font.set_text(s, 0.0, flags=flags)\n",
      "/Users/shiyuanyang/opt/anaconda3/lib/python3.7/site-packages/matplotlib/backends/backend_agg.py:211: RuntimeWarning: Glyph 20854 missing from current font.\n",
      "  font.set_text(s, 0.0, flags=flags)\n",
      "/Users/shiyuanyang/opt/anaconda3/lib/python3.7/site-packages/matplotlib/backends/backend_agg.py:211: RuntimeWarning: Glyph 20182 missing from current font.\n",
      "  font.set_text(s, 0.0, flags=flags)\n",
      "/Users/shiyuanyang/opt/anaconda3/lib/python3.7/site-packages/matplotlib/backends/backend_agg.py:211: RuntimeWarning: Glyph 20013 missing from current font.\n",
      "  font.set_text(s, 0.0, flags=flags)\n",
      "/Users/shiyuanyang/opt/anaconda3/lib/python3.7/site-packages/matplotlib/backends/backend_agg.py:211: RuntimeWarning: Glyph 22269 missing from current font.\n",
      "  font.set_text(s, 0.0, flags=flags)\n",
      "/Users/shiyuanyang/opt/anaconda3/lib/python3.7/site-packages/matplotlib/backends/backend_agg.py:211: RuntimeWarning: Glyph 38889 missing from current font.\n",
      "  font.set_text(s, 0.0, flags=flags)\n",
      "/Users/shiyuanyang/opt/anaconda3/lib/python3.7/site-packages/matplotlib/backends/backend_agg.py:211: RuntimeWarning: Glyph 32654 missing from current font.\n",
      "  font.set_text(s, 0.0, flags=flags)\n",
      "/Users/shiyuanyang/opt/anaconda3/lib/python3.7/site-packages/matplotlib/backends/backend_agg.py:211: RuntimeWarning: Glyph 33521 missing from current font.\n",
      "  font.set_text(s, 0.0, flags=flags)\n",
      "/Users/shiyuanyang/opt/anaconda3/lib/python3.7/site-packages/matplotlib/backends/backend_agg.py:180: RuntimeWarning: Glyph 26085 missing from current font.\n",
      "  font.set_text(s, 0, flags=flags)\n",
      "/Users/shiyuanyang/opt/anaconda3/lib/python3.7/site-packages/matplotlib/backends/backend_agg.py:180: RuntimeWarning: Glyph 26412 missing from current font.\n",
      "  font.set_text(s, 0, flags=flags)\n",
      "/Users/shiyuanyang/opt/anaconda3/lib/python3.7/site-packages/matplotlib/backends/backend_agg.py:180: RuntimeWarning: Glyph 20854 missing from current font.\n",
      "  font.set_text(s, 0, flags=flags)\n",
      "/Users/shiyuanyang/opt/anaconda3/lib/python3.7/site-packages/matplotlib/backends/backend_agg.py:180: RuntimeWarning: Glyph 20182 missing from current font.\n",
      "  font.set_text(s, 0, flags=flags)\n",
      "/Users/shiyuanyang/opt/anaconda3/lib/python3.7/site-packages/matplotlib/backends/backend_agg.py:180: RuntimeWarning: Glyph 20013 missing from current font.\n",
      "  font.set_text(s, 0, flags=flags)\n",
      "/Users/shiyuanyang/opt/anaconda3/lib/python3.7/site-packages/matplotlib/backends/backend_agg.py:180: RuntimeWarning: Glyph 22269 missing from current font.\n",
      "  font.set_text(s, 0, flags=flags)\n",
      "/Users/shiyuanyang/opt/anaconda3/lib/python3.7/site-packages/matplotlib/backends/backend_agg.py:180: RuntimeWarning: Glyph 38889 missing from current font.\n",
      "  font.set_text(s, 0, flags=flags)\n",
      "/Users/shiyuanyang/opt/anaconda3/lib/python3.7/site-packages/matplotlib/backends/backend_agg.py:180: RuntimeWarning: Glyph 32654 missing from current font.\n",
      "  font.set_text(s, 0, flags=flags)\n",
      "/Users/shiyuanyang/opt/anaconda3/lib/python3.7/site-packages/matplotlib/backends/backend_agg.py:180: RuntimeWarning: Glyph 33521 missing from current font.\n",
      "  font.set_text(s, 0, flags=flags)\n",
      "/Users/shiyuanyang/opt/anaconda3/lib/python3.7/site-packages/matplotlib/backends/backend_agg.py:211: RuntimeWarning: Glyph 20135 missing from current font.\n",
      "  font.set_text(s, 0.0, flags=flags)\n",
      "/Users/shiyuanyang/opt/anaconda3/lib/python3.7/site-packages/matplotlib/backends/backend_agg.py:211: RuntimeWarning: Glyph 22320 missing from current font.\n",
      "  font.set_text(s, 0.0, flags=flags)\n",
      "/Users/shiyuanyang/opt/anaconda3/lib/python3.7/site-packages/matplotlib/backends/backend_agg.py:180: RuntimeWarning: Glyph 20135 missing from current font.\n",
      "  font.set_text(s, 0, flags=flags)\n",
      "/Users/shiyuanyang/opt/anaconda3/lib/python3.7/site-packages/matplotlib/backends/backend_agg.py:180: RuntimeWarning: Glyph 22320 missing from current font.\n",
      "  font.set_text(s, 0, flags=flags)\n",
      "/Users/shiyuanyang/opt/anaconda3/lib/python3.7/site-packages/matplotlib/backends/backend_agg.py:211: RuntimeWarning: Glyph 26376 missing from current font.\n",
      "  font.set_text(s, 0.0, flags=flags)\n",
      "/Users/shiyuanyang/opt/anaconda3/lib/python3.7/site-packages/matplotlib/backends/backend_agg.py:211: RuntimeWarning: Glyph 38144 missing from current font.\n",
      "  font.set_text(s, 0.0, flags=flags)\n",
      "/Users/shiyuanyang/opt/anaconda3/lib/python3.7/site-packages/matplotlib/backends/backend_agg.py:211: RuntimeWarning: Glyph 37327 missing from current font.\n",
      "  font.set_text(s, 0.0, flags=flags)\n",
      "/Users/shiyuanyang/opt/anaconda3/lib/python3.7/site-packages/matplotlib/backends/backend_agg.py:180: RuntimeWarning: Glyph 26376 missing from current font.\n",
      "  font.set_text(s, 0, flags=flags)\n",
      "/Users/shiyuanyang/opt/anaconda3/lib/python3.7/site-packages/matplotlib/backends/backend_agg.py:180: RuntimeWarning: Glyph 38144 missing from current font.\n",
      "  font.set_text(s, 0, flags=flags)\n",
      "/Users/shiyuanyang/opt/anaconda3/lib/python3.7/site-packages/matplotlib/backends/backend_agg.py:180: RuntimeWarning: Glyph 37327 missing from current font.\n",
      "  font.set_text(s, 0, flags=flags)\n"
     ]
    },
    {
     "data": {
      "image/png": "[encoded data removed]",
      "text/plain": [
       "<Figure size 432x288 with 1 Axes>"
      ]
     },
     "metadata": {
      "needs_background": "light"
     },
     "output_type": "display_data"
    }
   ],
   "source": [
    "from numpy import median\n",
    "\n",
    "ax=fig.add_subplot(1,1,1)\n",
    "bardata = mask[['产地','月销量']].groupby(['产地']).median().sort_values(by='月销量',ascending = False).reset_index()\n",
    "g = sns.barplot(x=\"产地\", y=\"月销量\",data=bardata, palette=\"Paired\")\n",
    "for index,row in bardata.iterrows():\n",
    "    g.text(row.name,row.月销量,int(row.月销量),color=\"black\",ha=\"center\") \n",
    "plt.title('Prices for mask in different places')"
   ]
  },
  {
   "cell_type": "code",
   "execution_count": 66,
   "metadata": {},
   "outputs": [
    {
     "name": "stdout",
     "output_type": "stream",
     "text": [
      "从箱线图可以看出，面膜国际市场的月销量均值和分布。\n"
     ]
    }
   ],
   "source": [
    "print(\"从箱线图也可以看出，面膜国际市场的月销量均值和分布。\")"
   ]
  },
  {
   "cell_type": "code",
   "execution_count": 67,
   "metadata": {
    "scrolled": true
   },
   "outputs": [
    {
     "name": "stderr",
     "output_type": "stream",
     "text": [
      "/Users/shiyuanyang/opt/anaconda3/lib/python3.7/site-packages/pandas/core/series.py:679: RuntimeWarning: divide by zero encountered in log\n",
      "  result = getattr(ufunc, method)(*inputs, **kwargs)\n"
     ]
    },
    {
     "data": {
      "text/plain": [
       "Text(0, 0.5, 'log(月销量)')"
      ]
     },
     "execution_count": 67,
     "metadata": {},
     "output_type": "execute_result"
    },
    {
     "name": "stderr",
     "output_type": "stream",
     "text": [
      "/Users/shiyuanyang/opt/anaconda3/lib/python3.7/site-packages/matplotlib/backends/backend_agg.py:211: RuntimeWarning: Glyph 20013 missing from current font.\n",
      "  font.set_text(s, 0.0, flags=flags)\n",
      "/Users/shiyuanyang/opt/anaconda3/lib/python3.7/site-packages/matplotlib/backends/backend_agg.py:211: RuntimeWarning: Glyph 22269 missing from current font.\n",
      "  font.set_text(s, 0.0, flags=flags)\n",
      "/Users/shiyuanyang/opt/anaconda3/lib/python3.7/site-packages/matplotlib/backends/backend_agg.py:211: RuntimeWarning: Glyph 26085 missing from current font.\n",
      "  font.set_text(s, 0.0, flags=flags)\n",
      "/Users/shiyuanyang/opt/anaconda3/lib/python3.7/site-packages/matplotlib/backends/backend_agg.py:211: RuntimeWarning: Glyph 26412 missing from current font.\n",
      "  font.set_text(s, 0.0, flags=flags)\n",
      "/Users/shiyuanyang/opt/anaconda3/lib/python3.7/site-packages/matplotlib/backends/backend_agg.py:211: RuntimeWarning: Glyph 38889 missing from current font.\n",
      "  font.set_text(s, 0.0, flags=flags)\n",
      "/Users/shiyuanyang/opt/anaconda3/lib/python3.7/site-packages/matplotlib/backends/backend_agg.py:211: RuntimeWarning: Glyph 32654 missing from current font.\n",
      "  font.set_text(s, 0.0, flags=flags)\n",
      "/Users/shiyuanyang/opt/anaconda3/lib/python3.7/site-packages/matplotlib/backends/backend_agg.py:211: RuntimeWarning: Glyph 33521 missing from current font.\n",
      "  font.set_text(s, 0.0, flags=flags)\n",
      "/Users/shiyuanyang/opt/anaconda3/lib/python3.7/site-packages/matplotlib/backends/backend_agg.py:211: RuntimeWarning: Glyph 20854 missing from current font.\n",
      "  font.set_text(s, 0.0, flags=flags)\n",
      "/Users/shiyuanyang/opt/anaconda3/lib/python3.7/site-packages/matplotlib/backends/backend_agg.py:211: RuntimeWarning: Glyph 20182 missing from current font.\n",
      "  font.set_text(s, 0.0, flags=flags)\n",
      "/Users/shiyuanyang/opt/anaconda3/lib/python3.7/site-packages/matplotlib/backends/backend_agg.py:180: RuntimeWarning: Glyph 20013 missing from current font.\n",
      "  font.set_text(s, 0, flags=flags)\n",
      "/Users/shiyuanyang/opt/anaconda3/lib/python3.7/site-packages/matplotlib/backends/backend_agg.py:180: RuntimeWarning: Glyph 22269 missing from current font.\n",
      "  font.set_text(s, 0, flags=flags)\n",
      "/Users/shiyuanyang/opt/anaconda3/lib/python3.7/site-packages/matplotlib/backends/backend_agg.py:180: RuntimeWarning: Glyph 26085 missing from current font.\n",
      "  font.set_text(s, 0, flags=flags)\n",
      "/Users/shiyuanyang/opt/anaconda3/lib/python3.7/site-packages/matplotlib/backends/backend_agg.py:180: RuntimeWarning: Glyph 26412 missing from current font.\n",
      "  font.set_text(s, 0, flags=flags)\n",
      "/Users/shiyuanyang/opt/anaconda3/lib/python3.7/site-packages/matplotlib/backends/backend_agg.py:180: RuntimeWarning: Glyph 38889 missing from current font.\n",
      "  font.set_text(s, 0, flags=flags)\n",
      "/Users/shiyuanyang/opt/anaconda3/lib/python3.7/site-packages/matplotlib/backends/backend_agg.py:180: RuntimeWarning: Glyph 32654 missing from current font.\n",
      "  font.set_text(s, 0, flags=flags)\n",
      "/Users/shiyuanyang/opt/anaconda3/lib/python3.7/site-packages/matplotlib/backends/backend_agg.py:180: RuntimeWarning: Glyph 33521 missing from current font.\n",
      "  font.set_text(s, 0, flags=flags)\n",
      "/Users/shiyuanyang/opt/anaconda3/lib/python3.7/site-packages/matplotlib/backends/backend_agg.py:180: RuntimeWarning: Glyph 20854 missing from current font.\n",
      "  font.set_text(s, 0, flags=flags)\n",
      "/Users/shiyuanyang/opt/anaconda3/lib/python3.7/site-packages/matplotlib/backends/backend_agg.py:180: RuntimeWarning: Glyph 20182 missing from current font.\n",
      "  font.set_text(s, 0, flags=flags)\n",
      "/Users/shiyuanyang/opt/anaconda3/lib/python3.7/site-packages/matplotlib/backends/backend_agg.py:211: RuntimeWarning: Glyph 20135 missing from current font.\n",
      "  font.set_text(s, 0.0, flags=flags)\n",
      "/Users/shiyuanyang/opt/anaconda3/lib/python3.7/site-packages/matplotlib/backends/backend_agg.py:211: RuntimeWarning: Glyph 22320 missing from current font.\n",
      "  font.set_text(s, 0.0, flags=flags)\n",
      "/Users/shiyuanyang/opt/anaconda3/lib/python3.7/site-packages/matplotlib/backends/backend_agg.py:180: RuntimeWarning: Glyph 20135 missing from current font.\n",
      "  font.set_text(s, 0, flags=flags)\n",
      "/Users/shiyuanyang/opt/anaconda3/lib/python3.7/site-packages/matplotlib/backends/backend_agg.py:180: RuntimeWarning: Glyph 22320 missing from current font.\n",
      "  font.set_text(s, 0, flags=flags)\n",
      "/Users/shiyuanyang/opt/anaconda3/lib/python3.7/site-packages/matplotlib/backends/backend_agg.py:211: RuntimeWarning: Glyph 26376 missing from current font.\n",
      "  font.set_text(s, 0.0, flags=flags)\n",
      "/Users/shiyuanyang/opt/anaconda3/lib/python3.7/site-packages/matplotlib/backends/backend_agg.py:211: RuntimeWarning: Glyph 38144 missing from current font.\n",
      "  font.set_text(s, 0.0, flags=flags)\n",
      "/Users/shiyuanyang/opt/anaconda3/lib/python3.7/site-packages/matplotlib/backends/backend_agg.py:211: RuntimeWarning: Glyph 37327 missing from current font.\n",
      "  font.set_text(s, 0.0, flags=flags)\n",
      "/Users/shiyuanyang/opt/anaconda3/lib/python3.7/site-packages/matplotlib/backends/backend_agg.py:180: RuntimeWarning: Glyph 26376 missing from current font.\n",
      "  font.set_text(s, 0, flags=flags)\n",
      "/Users/shiyuanyang/opt/anaconda3/lib/python3.7/site-packages/matplotlib/backends/backend_agg.py:180: RuntimeWarning: Glyph 38144 missing from current font.\n",
      "  font.set_text(s, 0, flags=flags)\n",
      "/Users/shiyuanyang/opt/anaconda3/lib/python3.7/site-packages/matplotlib/backends/backend_agg.py:180: RuntimeWarning: Glyph 37327 missing from current font.\n",
      "  font.set_text(s, 0, flags=flags)\n"
     ]
    },
    {
     "data": {
      "image/png": "[encoded data removed]",
      "text/plain": [
       "<Figure size 432x288 with 1 Axes>"
      ]
     },
     "metadata": {
      "needs_background": "light"
     },
     "output_type": "display_data"
    }
   ],
   "source": [
    "sns.boxenplot(x='产地',y=log(mask['月销量']),data=mask,palette=\"Set3\")\n",
    "plt.ylabel('log(月销量)')"
   ]
  },
  {
   "cell_type": "code",
   "execution_count": 75,
   "metadata": {},
   "outputs": [
    {
     "name": "stdout",
     "output_type": "stream",
     "text": [
      "以上是面膜数据的市场份额分析。\n"
     ]
    }
   ],
   "source": [
    "print(\"以上是面膜数据的市场份额分析。\")"
   ]
  }
 ],
 "metadata": {
  "kernelspec": {
   "display_name": "Python 3",
   "language": "python",
   "name": "python3"
  },
  "language_info": {
   "codemirror_mode": {
    "name": "ipython",
    "version": 3
   },
   "file_extension": ".py",
   "mimetype": "text/x-python",
   "name": "python",
   "nbconvert_exporter": "python",
   "pygments_lexer": "ipython3",
   "version": "3.7.6"
  }
 },
 "nbformat": 4,
 "nbformat_minor": 4
}
