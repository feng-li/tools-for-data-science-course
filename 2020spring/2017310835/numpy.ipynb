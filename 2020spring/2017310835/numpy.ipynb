{
 "cells": [
  {
   "cell_type": "code",
   "execution_count": null,
   "metadata": {},
   "outputs": [],
   "source": [
    "# -*- coding: utf-8 -*-\n",
    "import numpy as np\n",
    "import numpy.ma as ma\n",
    "##数组运算及相关函数\n",
    "#repeat函数\n",
    "#生成随机数\n",
    "######唯一化以及其他的集合逻辑\n",
    "#unique\n",
    "a=np.array([3,3,3,2,2,1,1,4,4]).reshape(3,3)\n",
    "print(a)\n",
    "a=np.where(a>2,a,-5)\n",
    "a=np.array([-3,7,4,4,6])\n",
    "b=np.array([5,3,6,8,7])\n",
    "\n",
    "a1=ma.masked_array(a, mask=(a<8))\n",
    "#b1=ma.masked_array(b, mask=(b<4))\n",
    "print(a1)\n",
    "print(a[a>100])\n",
    "sum([])"
   ]
  },
  {
   "cell_type": "markdown",
   "metadata": {},
   "source": [
    "注意：ma.mask_array(a,mask=())是遮盖住小于8的元素"
   ]
  },
  {
   "cell_type": "code",
   "execution_count": 60,
   "metadata": {},
   "outputs": [
    {
     "name": "stdout",
     "output_type": "stream",
     "text": [
      "[[ 0.  1.  2.]\n",
      " [ 3.  4.  5.]\n",
      " [ 6.  7.  8.]]\n"
     ]
    }
   ],
   "source": [
    "x = np.arange(9.).reshape(3, 3)\n",
    "print(x)\n",
    "x[x>5]=0\n"
   ]
  },
  {
   "cell_type": "code",
   "execution_count": 2,
   "metadata": {},
   "outputs": [
    {
     "data": {
      "text/plain": [
       "array([ True, False, False,  True,  True, False,  True], dtype=bool)"
      ]
     },
     "execution_count": 2,
     "metadata": {},
     "output_type": "execute_result"
    }
   ],
   "source": [
    "#in1d\n",
    "b=np.array([6,0,0,3,2,5,6])\n",
    "np.in1d(b,[2,3,6])   #用于测试一个数组中的值在另一个数组中的成员资格，返回布尔型\n",
    "\n",
    "#常见的数组集合运算：\n",
    "#unique(x): #计算x中的唯一元素，并返回有序结果\n",
    "#intersect1d(x,y):计算x和y的公共元素，并返回有序的结果\n",
    "#union1d(x,y):计算x和y的并集，并返回有序的结果\n",
    "#in1d(x,y):用于测试一个数组中的值在另一个数组中的成员资格，返回布尔型\n",
    "#setdiff1d(x,y):集合的差，即元素在x中且不在y中\n",
    "#setxor1d(x,y):集合的对称差，即存在于一个数组中但不同时存在于两个数组中的元素"
   ]
  },
  {
   "cell_type": "code",
   "execution_count": 3,
   "metadata": {},
   "outputs": [
    {
     "data": {
      "text/plain": [
       "array([[-0.43606692, -1.72606478, -0.53040632, -0.80360054],\n",
       "       [-0.29673593, -0.25165169,  0.29642908, -0.70997171],\n",
       "       [-1.07724829, -0.74532237, -0.16817086,  1.20072405],\n",
       "       [-1.69482013,  0.50432511, -0.15834873,  0.47602251]])"
      ]
     },
     "execution_count": 3,
     "metadata": {},
     "output_type": "execute_result"
    }
   ],
   "source": [
    "######随机数生成\n",
    "#np.random函数\n",
    "samples=np.random.normal(size=(4,4))\n",
    "samples\n",
    "#部分np.random函数：\n",
    "#seed，设置随机数种子\n",
    "#permutation，返回一个序列的随机排列或者返回一个随机排列的范围\n",
    "#shuffle，对一个序列就地随机排列\n",
    "#rand，产生均匀分布样本值\n",
    "#randint，从给定的上下限范围内随机选取整数\n",
    "#randn，产生标准正态分布的样本值\n",
    "#binomial，产生二项分布的样本值\n",
    "#normal，产生正态分布的样本值\n",
    "#beta/chisquare/gamma，产生beta/卡方/伽马分布的样本值\n",
    "#uniform，产生[0,1]均匀分布的样本值"
   ]
  },
  {
   "cell_type": "code",
   "execution_count": 4,
   "metadata": {},
   "outputs": [
    {
     "name": "stdout",
     "output_type": "stream",
     "text": [
      "1 5\n",
      "[0 1 2 3 4]\n",
      "[0 1 2 3 4 5 6 7 8]\n",
      "[  0   1 100 101   4   5   6   7   8   9]\n",
      "[  1 101   5   7]\n",
      "[  9   8   7   6   5   4 101 100   1   0]\n",
      "[  5 101]\n",
      "[101   4   5   6]\n",
      "[101   4 -10   6]\n",
      "[  0   1 100 101   4 -10   6   7   8   9]\n"
     ]
    }
   ],
   "source": [
    "##存取元素\n",
    "\n",
    "a = np.arange(10)\n",
    "print(\"1\", a[5])    # 用整数作为下标可以获取数组中的某个元素\n",
    "print(a[:5])   # 省略开始下标，表示从a[0]开始\n",
    "print(a[:-1])  # 下标可以使用负数，表示从数组后往前数\n",
    "a[2:4] = 100,101    # 下标还可以用来修改元素的值\n",
    "print(a)\n",
    "print(a[1:-1:2])   # 范围中的第三个参数表示步长，2表示隔一个元素取一个元素\n",
    "print(a[::-1]) # 省略范围的开始下标和结束下标，步长为-1，整个数组头尾颠倒\n",
    "print(a[5:1:-2]) # 步长为负数时，开始下标必须大于结束下标\n",
    "\n",
    "##和Python的列表序列不同，通过下标范围获取的新的数组是原始数组的一个视图。\n",
    "##它与原始数组共享同一块数据空间：\n",
    "\n",
    "b = a[3:7] # 通过下标范围产生一个新的数组b，b和a共享同一块数据空间\n",
    "print(b)\n",
    "b[2] = -10 # 将b的第3个元素修改为-10\n",
    "print(b)\n",
    "print(a) # a的第5个元素也被修改为10 array([  0,   1, 100, 101,   4, -10,   6,   7,   8,   9])"
   ]
  },
  {
   "cell_type": "code",
   "execution_count": null,
   "metadata": {
    "collapsed": true
   },
   "outputs": [],
   "source": [
    "##除了使用下标范围存取元素之外，NumPy还提供了两种存取元素的高级方法。\n",
    "####(1)使用整数序列,也称花式索引\n",
    "#当使用整数序列对数组元素进行存取时，将使用整数序列中的每个元素作为下标，整数序列可以是列表\n",
    "#或者数组。\n",
    "#使用整数序列作为下标获得的数组不和原始数组共享数据空间。\n",
    "x = np.arange(10,1,-1)\n",
    "x   #array([10,  9,  8,  7,  6,  5,  4,  3,  2])\n",
    "x[[3, 3, 1, 8]] # 获取x中的下标为3, 3, 1, 8的4个元素，组成一个新的数组array([7, 7, 9, 2])\n",
    "b = x[np.array([3,3,-3,8])]  #下标可以是负数\n",
    "b[2] = 100\n",
    "b   #array([7, 7, 100, 2])\n",
    "x   # 由于b和x不共享数据空间，因此x中的值并没有改变array([10,  9,  8,  7,  6,  5,  4,  3,  2])\n",
    "x[[3,5,1]] = -1, -2, -3 # 整数序列下标也可以用来修改元素的值\n",
    "x   #array([10, -3,  8, -1,  6, -2,  4,  3,  2])\n",
    "\n",
    "####(2)使用布尔数组，也称布尔型索引\n",
    "#当使用布尔数组b作为下标存取数组x中的元素时，将收集数组x中所有在数组b中对应下标为True的元素。\n",
    "#使用布尔数组作为下标获得的数组不和原始数组共享数据空间，注意这种方式只对应于布尔数组，\n",
    "#不能使用布尔列表。\n",
    "x = np.arange(5,0,-1)\n",
    "x   #array([5, 4, 3, 2, 1])\n",
    "x[np.array([True, False, True, False, False])]  # 布尔数组中下标为0，2的元素为True，因此获取x中下标为0,2的元素array([5, 3])\n",
    "x[[True, False, True, False, False]]  # 如果是布尔列表，则把True当作1, False当作0，按照整数序列方式获取x中的元素array([4, 5, 4, 5, 5])\n",
    "x[np.array([True, False, True, True])]  # 布尔数组的长度不够时，不够的部分都当作False array([5, 3, 2])\n",
    "x[np.array([True, False, True, True])] = -1, -2, -3  # 布尔数组下标也可以用来修改元素\n",
    "x   #array([-1,  4, -2, -3,  1])\n",
    "b = x[np.array([True, False, True, True])]  #下标可以是负数\n",
    "b[2] = 100\n",
    "b   #array([7, 7, 100, 2])\n",
    "x \n",
    "x>3   # 数组x中的每个元素和3进行大小比较，得到一个布尔数组，True表示x中对应的值大于3\n",
    "x[x>3]   # 使用x>3返回的布尔数组收集x中的元素，因此得到的结果是x中所有大于3的元素的数组"
   ]
  },
  {
   "cell_type": "code",
   "execution_count": 10,
   "metadata": {},
   "outputs": [
    {
     "data": {
      "text/plain": [
       "array([ 0.90575098,  0.6578235 ,  1.94428028,  0.97428134,  0.49203812,\n",
       "        0.86064482,  0.25479733,  1.86491062])"
      ]
     },
     "execution_count": 10,
     "metadata": {},
     "output_type": "execute_result"
    }
   ],
   "source": [
    "#########通用函数（ufunc）\n",
    "arr=np.arange(10)\n",
    "np.sqrt(arr)   #平方根，对数组中的每个元素都进行sqrt\n",
    "#一元ufunc\n",
    "#二元ufunc\n",
    "x=np.random.randn(8)\n",
    "y=np.random.randn(8)\n",
    "np.maximum(x,y)   #数组x和y中对应位置的元素最大值，输出一个数组\n",
    "#当我们使用ufunc函数对两个数组进行计算时，ufunc函数会对这两个数组的对应元素进行计算，\n",
    "#因此它要求这两个数组有相同的大小(shape相同)。"
   ]
  },
  {
   "cell_type": "code",
   "execution_count": 11,
   "metadata": {},
   "outputs": [
    {
     "data": {
      "text/plain": [
       "2"
      ]
     },
     "execution_count": 11,
     "metadata": {},
     "output_type": "execute_result"
    }
   ],
   "source": [
    "#########广播（broadcasting）\n",
    "#如果两个数组的shape不同的话，会进行如下的广播(broadcasting)处理：\n",
    "\n",
    "#1.让所有输入数组都向其中shape最长的数组看齐，shape中不足的部分都通过在前面加1补齐\n",
    "#2.输出数组的shape是输入数组shape的各个轴上的最大值\n",
    "#3.如果输入数组的某个轴和输出数组的对应轴的长度相同或者其长度为1时，这个数组能够用来计算，否则出错\n",
    "#4.当输入数组的某个轴的长度为1时，沿着此轴运算时都用此轴上的第一组值\n",
    "\n",
    "#先创建一个二维数组a，其shape为(6,1)：\n",
    "a = np.arange(0, 60, 10).reshape(-1, 1)   #-1表示的是前面的array的length\n",
    "a   #array([[ 0], [10], [20], [30], [40], [50]])\n",
    "a.shape   #(6, 1)\n",
    "a.ndim"
   ]
  },
  {
   "cell_type": "code",
   "execution_count": null,
   "metadata": {
    "collapsed": true
   },
   "outputs": [],
   "source": [
    "#再创建一维数组b，其shape为(5,)：\n",
    "b = np.arange(0, 5)\n",
    "b   #array([0, 1, 2, 3, 4])\n",
    "b.shape   #(5,)\n",
    "b.ndim\n",
    "#计算a和b的和，得到一个加法表，它相当于计算a,b中所有元素组的和，得到一个shape为(6,5)的数组：\n",
    "c = a + b\n",
    "c\n",
    "c.shape\n",
    "#由于a和b的shape长度(也就是ndim属性)不同，根据规则1，需要让b的shape向a对齐，于是将b的shape前面加1，补齐为(1,5)。相当于做了如下计算：\n",
    "b.shape=1,5\n",
    "b\n",
    "#这样加法运算的两个输入数组的shape分别为(6,1)和(1,5)，根据规则2，输出数组的各个轴的长度为输入数组各个轴上的长度的最大值，可知输出数组的shape为(6,5)。\n",
    "#由于b的第0轴上的长度为1，而a的第0轴上的长度为6，因此为了让它们在第0轴上能够相加，需要将b在第0轴上的长度扩展为6，这相当于：\n",
    "b = b.repeat(6,axis=0)\n",
    "b\n",
    "#由于a的第1轴的长度为1，而b的第一轴长度为5，因此为了让它们在第1轴上能够相加，需要将a在第1轴上的长度扩展为5，这相当于：\n",
    "a = a.repeat(5, axis=1)\n",
    "a\n",
    "#经过上述处理之后，a和b就可以按对应元素进行相加运算了。\n",
    "#当然，numpy在执行a+b运算时，其内部并不会真正将长度为1的轴用repeat函数进行扩展，如果这样做的话就太浪费空间了。\n",
    "#由于这种广播计算很常用，具体在12章会有详细介绍\n",
    "\n",
    "\n",
    "\n",
    "#####数学和统计方法\n",
    "#可以通过数组上的一组数学函数对整个数组或某个轴向的数据进行统计计算，例如：\n",
    "arr=np.random.randn(5,4)\n",
    "arr\n",
    "arr.mean()   #求整个数组的均值\n",
    "np.mean(arr)\n",
    "arr.sum()   #求整个数组的和\n",
    "#mean，sum这类的函数可以接受一个axis参数\n",
    "arr.mean(axis=1)   #按列求均值\n",
    "\n",
    "#有些方法不聚合，而是产生一个由中间结果组成的累积，如cumsum，cumprod：\n",
    "arr=np.array([[0,1,2],[3,4,5],[6,7,8]])\n",
    "arr\n",
    "arr.cumsum(0)   #按行累积求和\n",
    "arr.cumprod(1)   #按列累积求积\n",
    "###基本数组统计方法有：sum,mean,std,var,min,max,argmin(最小元素的索引),argmax(最大元素的索引),cumsum,cumprod\n",
    "\n",
    "#用于布尔型数组的方法\n",
    "#sum\n",
    "arr=randn(100)\n",
    "(arr>0).sum()   #正值的数量\n",
    "#any，all\n",
    "arr=np.array([False,False,True,False])\n",
    "arr.any()   #检查数组中是否有一个或多个True\n",
    "arr.all()   #检查数组中是否所有的值都是True\n",
    "\n",
    "\n",
    "\n",
    "###排序\n",
    "#Numpy数组可以通过sort方法排序。就地排序，会修改数组本身\n",
    "arr=randn(8)\n",
    "arr\n",
    "arr.sort()\n",
    "#多维数组可以在任意一个轴向上排序\n",
    "arr=randn(5,3)\n",
    "arr\n",
    "arr.sort(1)   #每一行，按列排序\n",
    "arr   \n",
    "arr.sort(0)   #每一列，按行排序\n",
    "arr  \n",
    "#np.sort(arr,axis=0)不会改变数组本身\n",
    "\n",
    "#排序用途，算分位数\n",
    "arr1=randn(1000)\n",
    "arr1.sort()\n",
    "arr1[int(0.05*len(arr1))]   #5%分位数\n",
    "\n",
    "\n",
    "\n",
    "######唯一化以及其他的集合逻辑\n",
    "#unique\n",
    "a=np.array([3,3,3,2,2,1,1,4,4])\n",
    "np.unique(a)   #计算a中的唯一元素，并返回有序结果\n",
    "\n",
    "#in1d\n",
    "b=np.array([6,0,0,3,2,5,6])\n",
    "np.in1d(b,[2,3,6])   #用于测试一个数组中的值在另一个数组中的成员资格，返回布尔型\n",
    "\n",
    "#常见的数组集合运算：\n",
    "#unique(x): #计算x中的唯一元素，并返回有序结果\n",
    "#intersect1d(x,y):计算x和y的公共元素，并返回有序的结果\n",
    "#union1d(x,y):计算x和y的并集，并返回有序的结果\n",
    "#in1d(x,y):用于测试一个数组中的值在另一个数组中的成员资格，返回布尔型\n",
    "#setdiff1d(x,y):集合的差，即元素在x中且不在y中\n",
    "#setxor1d(x,y):集合的对称差，即存在于一个数组中但不同时存在于两个数组中的元素\n",
    "\n",
    "\n",
    "######随机数生成\n",
    "#np.random函数\n",
    "samples=np.random.normal(size=(4,4))\n",
    "samples\n",
    "#部分np.random函数：\n",
    "#seed，设置随机数种子\n",
    "#permutation，返回一个序列的随机排列或者返回一个随机排列的范围\n",
    "#shuffle，对一个序列就地随机排列\n",
    "#rand，产生均匀分布样本值\n",
    "#randint，从给定的上下限范围内随机选取整数\n",
    "#randn，产生标准正态分布的样本值\n",
    "#binomial，产生二项分布的样本值\n",
    "#normal，产生正态分布的样本值\n",
    "#beta/chisquare/gamma，产生beta/卡方/伽马分布的样本值\n",
    "#uniform，产生[0,1]均匀分布的样本值"
   ]
  },
  {
   "cell_type": "code",
   "execution_count": 12,
   "metadata": {},
   "outputs": [
    {
     "data": {
      "text/plain": [
       "array([[ 0,  1,  2,  3],\n",
       "       [ 4,  5,  6,  7],\n",
       "       [ 8,  9, 10, 11]])"
      ]
     },
     "execution_count": 12,
     "metadata": {},
     "output_type": "execute_result"
    }
   ],
   "source": [
    "##################文件存取\n",
    "#使用数组的方法函数tofile可以方便地将数组中数据以二进制的格式写进文件。\n",
    "#tofile输出的数据没有格式，因此用numpy.fromfile读回来的时候需要自己格式化数据：\n",
    "a = np.arange(0,12)\n",
    "a.shape = 3,4\n",
    "a"
   ]
  },
  {
   "cell_type": "code",
   "execution_count": 13,
   "metadata": {},
   "outputs": [
    {
     "data": {
      "text/plain": [
       "array([  2.12199579e-314,   6.36598737e-314,   1.06099790e-313,\n",
       "         1.48539705e-313,   1.90979621e-313,   2.33419537e-313])"
      ]
     },
     "execution_count": 13,
     "metadata": {},
     "output_type": "execute_result"
    }
   ],
   "source": [
    "a.tofile(\"a.bin\")\n",
    "b = np.fromfile(\"a.bin\", dtype=np.float) # 按照float类型读入数据\n",
    "b # 读入的数据是错误的"
   ]
  },
  {
   "cell_type": "code",
   "execution_count": 14,
   "metadata": {},
   "outputs": [
    {
     "data": {
      "text/plain": [
       "array([ 0,  1,  2,  3,  4,  5,  6,  7,  8,  9, 10, 11])"
      ]
     },
     "execution_count": 14,
     "metadata": {},
     "output_type": "execute_result"
    }
   ],
   "source": [
    "a.dtype # 查看a的dtype \n",
    "b = np.fromfile(\"a.bin\", dtype=np.int32) # 按照int32类型读入数据\n",
    "b # 数据是一维的 "
   ]
  },
  {
   "cell_type": "code",
   "execution_count": 15,
   "metadata": {},
   "outputs": [
    {
     "data": {
      "text/plain": [
       "array([[ 0,  1,  2,  3],\n",
       "       [ 4,  5,  6,  7],\n",
       "       [ 8,  9, 10, 11]])"
      ]
     },
     "execution_count": 15,
     "metadata": {},
     "output_type": "execute_result"
    }
   ],
   "source": [
    "b.shape = 3, 4 # 按照a的shape修改b的shape\n",
    "b # 这次终于正确了"
   ]
  },
  {
   "cell_type": "code",
   "execution_count": 16,
   "metadata": {},
   "outputs": [
    {
     "data": {
      "text/plain": [
       "array([[ 0,  1,  2,  3],\n",
       "       [ 4,  5,  6,  7],\n",
       "       [ 8,  9, 10, 11]])"
      ]
     },
     "execution_count": 16,
     "metadata": {},
     "output_type": "execute_result"
    }
   ],
   "source": [
    "#numpy.load和numpy.save函数以NumPy专用的二进制类型保存数据，这两个函数会自动处理元素类型和shape等信息，使用它们读写数组就方便多了，\n",
    "#但是numpy.save输出的文件很难和其它语言编写的程序读入：\n",
    "np.save(\"a.npy\", a)\n",
    "c = np.load( \"a.npy\" )\n",
    "c\n",
    "#如果想将多个数组保存到一个文件中的话，可以使用numpy.savez函数。savez函数的第一个参数是文件名，其后的参数都是需要保存的数组，\n",
    "#也可以使用关键字参数为数组起一个名字，非关键字参数传递的数组会自动起名为arr_0, arr_1, ...。\n",
    "#savez函数输出的是一个压缩文件(扩展名为npz)，其中每个文件都是一个save函数保存的npy文件，文件名对应于数组名。\n",
    "#load函数自动识别npz文件，并且返回一个类似于字典的对象，可以通过数组名作为关键字获取数组的内容："
   ]
  },
  {
   "cell_type": "code",
   "execution_count": 5,
   "metadata": {},
   "outputs": [
    {
     "name": "stdout",
     "output_type": "stream",
     "text": [
      "[[1 2 3]\n",
      " [4 5 6]]\n",
      "[0.  0.1 0.2 0.3 0.4 0.5 0.6 0.7 0.8 0.9]\n",
      "[0.         0.09983342 0.19866933 0.29552021 0.38941834 0.47942554\n",
      " 0.56464247 0.64421769 0.71735609 0.78332691]\n",
      "<numpy.lib.npyio.NpzFile object at 0x7ff8ff5b14d0>\n"
     ]
    }
   ],
   "source": [
    "a = np.array([[1,2,3],[4,5,6]])\n",
    "b = np.arange(0, 1.0, 0.1)\n",
    "c = np.sin(b)\n",
    "np.savez(\"result.npz\", a, b, sin_array = c)\n",
    "r = np.load(\"result.npz\")\n",
    "print(r[\"arr_0\"]) # 数组a\n",
    "print(r[\"arr_1\"]) # 数组b\n",
    "print(r[\"sin_array\"]) # 数组c\n",
    "print(r)\n",
    "#如果用解压软件打开result.npz文件的话，会发现其中有三个文件：arr_0.npy， arr_1.npy， sin_array.npy，其中分别保存着数组a, b, c的内容"
   ]
  },
  {
   "cell_type": "code",
   "execution_count": 6,
   "metadata": {},
   "outputs": [
    {
     "data": {
      "text/plain": [
       "array([[ 0. ,  0.5,  1. ,  1.5,  2. ,  2.5],\n",
       "       [ 3. ,  3.5,  4. ,  4.5,  5. ,  5.5],\n",
       "       [ 6. ,  6.5,  7. ,  7.5,  8. ,  8.5],\n",
       "       [ 9. ,  9.5, 10. , 10.5, 11. , 11.5]])"
      ]
     },
     "execution_count": 6,
     "metadata": {},
     "output_type": "execute_result"
    }
   ],
   "source": [
    "#使用numpy.savetxt和numpy.loadtxt可以读写1维和2维的数组：\n",
    "a = np.arange(0,12,0.5).reshape(4,-1)\n",
    "np.savetxt(\"a.txt\", a) # 缺省按照'%.18e'格式保存数据，以空格分隔\n",
    "np.loadtxt(\"a.txt\")"
   ]
  },
  {
   "cell_type": "code",
   "execution_count": 8,
   "metadata": {},
   "outputs": [
    {
     "data": {
      "text/plain": [
       "array([[ 0.,  0.,  1.,  1.,  2.,  2.],\n",
       "       [ 3.,  3.,  4.,  4.,  5.,  5.],\n",
       "       [ 6.,  6.,  7.,  7.,  8.,  8.],\n",
       "       [ 9.,  9., 10., 10., 11., 11.]])"
      ]
     },
     "execution_count": 8,
     "metadata": {},
     "output_type": "execute_result"
    }
   ],
   "source": [
    "np.savetxt(\"a.txt\", a, fmt=\"%d\", delimiter=\",\") #改为保存为整数，以逗号分隔\n",
    "np.loadtxt(\"a.txt\",delimiter=\",\") # 读入的时候也需要指定逗号分隔"
   ]
  },
  {
   "cell_type": "code",
   "execution_count": 21,
   "metadata": {},
   "outputs": [
    {
     "name": "stdout",
     "output_type": "stream",
     "text": [
      "[0 1 2 3 4 5 6 7]\n",
      "[ 0  1  3  6 10 15 21 28]\n",
      "[ 0  2  5  9 14 20 27 35]\n"
     ]
    }
   ],
   "source": [
    "##3文件名和文件对象\n",
    "\n",
    "#本节介绍所举的例子都是传递的文件名，也可以传递已经打开的文件对象，\n",
    "#例如对于load和save函数来说，如果使用文件对象的话，可以将多个数组储存到一个npy文件中：\n",
    "a = np.arange(8)\n",
    "b = np.add.accumulate(a)\n",
    "c = a + b\n",
    "f = file(\"result.npy\", \"wb\")\n",
    "np.save(f, a) # 顺序将a,b,c保存进文件对象f\n",
    "np.save(f, b)\n",
    "np.save(f, c)\n",
    "f.close()\n",
    "f = file(\"result.npy\", \"rb\")\n",
    "print np.load(f) # 顺序从文件对象f中读取内容\n",
    "print np.load(f)\n",
    "print np.load(f)"
   ]
  },
  {
   "cell_type": "code",
   "execution_count": 22,
   "metadata": {},
   "outputs": [
    {
     "name": "stdout",
     "output_type": "stream",
     "text": [
      "[[ 0  1  2  3  4]\n",
      " [ 5  6  7  8  9]\n",
      " [10 11 12 13 14]]\n",
      "[[0]\n",
      " [1]\n",
      " [2]]\n",
      "[[0 0 0 0 0]\n",
      " [1 1 1 1 1]\n",
      " [2 2 2 2 2]]\n"
     ]
    },
    {
     "data": {
      "text/plain": [
       "array([[ 0,  0,  0,  0,  0],\n",
       "       [ 5,  6,  7,  8,  9],\n",
       "       [20, 22, 24, 26, 28]])"
      ]
     },
     "execution_count": 22,
     "metadata": {},
     "output_type": "execute_result"
    }
   ],
   "source": [
    "import numpy as np\n",
    "x=np.array(range(15)).reshape(3,5)\n",
    "print(x)\n",
    "y1=np.array(range(3))\n",
    "y1=y1.reshape(3,1)\n",
    "print(y1)\n",
    "y=y1.repeat(5,axis=1)\n",
    "print(y)\n",
    "x*y"
   ]
  }
 ],
 "metadata": {
  "kernelspec": {
   "display_name": "Python 3",
   "language": "python",
   "name": "python3"
  },
  "language_info": {
   "codemirror_mode": {
    "name": "ipython",
    "version": 3
   },
   "file_extension": ".py",
   "mimetype": "text/x-python",
   "name": "python",
   "nbconvert_exporter": "python",
   "pygments_lexer": "ipython3",
   "version": "3.7.4"
  },
  "latex_envs": {
   "LaTeX_envs_menu_present": true,
   "autoclose": false,
   "autocomplete": true,
   "bibliofile": "biblio.bib",
   "cite_by": "apalike",
   "current_citInitial": 1,
   "eqLabelWithNumbers": true,
   "eqNumInitial": 1,
   "hotkeys": {
    "equation": "Ctrl-E",
    "itemize": "Ctrl-I"
   },
   "labels_anchors": false,
   "latex_user_defs": false,
   "report_style_numbering": false,
   "user_envs_cfg": false
  },
  "toc": {
   "base_numbering": 1,
   "nav_menu": {},
   "number_sections": true,
   "sideBar": true,
   "skip_h1_title": false,
   "title_cell": "Table of Contents",
   "title_sidebar": "Contents",
   "toc_cell": false,
   "toc_position": {},
   "toc_section_display": true,
   "toc_window_display": false
  }
 },
 "nbformat": 4,
 "nbformat_minor": 1
}
