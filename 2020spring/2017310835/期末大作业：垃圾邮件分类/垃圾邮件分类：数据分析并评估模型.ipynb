{
 "cells": [
  {
   "cell_type": "markdown",
   "metadata": {},
   "source": [
    "## （一）探索性数据分析及可视化"
   ]
  },
  {
   "cell_type": "code",
   "execution_count": 1,
   "metadata": {},
   "outputs": [
    {
     "name": "stdout",
     "output_type": "stream",
     "text": [
      "                 0         0.64       0.64.1          0.1         0.32  \\\n",
      "count  4600.000000  4600.000000  4600.000000  4600.000000  4600.000000   \n",
      "mean      0.104576     0.212922     0.280578     0.065439     0.312222   \n",
      "std       0.305387     1.290700     0.504170     1.395303     0.672586   \n",
      "min       0.000000     0.000000     0.000000     0.000000     0.000000   \n",
      "25%       0.000000     0.000000     0.000000     0.000000     0.000000   \n",
      "50%       0.000000     0.000000     0.000000     0.000000     0.000000   \n",
      "75%       0.000000     0.000000     0.420000     0.000000     0.382500   \n",
      "max       4.540000    14.280000     5.100000    42.810000    10.000000   \n",
      "\n",
      "               0.2          0.3          0.4          0.5          0.6  ...  \\\n",
      "count  4600.000000  4600.000000  4600.000000  4600.000000  4600.000000  ...   \n",
      "mean      0.095922     0.114233     0.105317     0.090087     0.239465  ...   \n",
      "std       0.273850     0.391480     0.401112     0.278643     0.644816  ...   \n",
      "min       0.000000     0.000000     0.000000     0.000000     0.000000  ...   \n",
      "25%       0.000000     0.000000     0.000000     0.000000     0.000000  ...   \n",
      "50%       0.000000     0.000000     0.000000     0.000000     0.000000  ...   \n",
      "75%       0.000000     0.000000     0.000000     0.000000     0.160000  ...   \n",
      "max       5.880000     7.270000    11.110000     5.260000    18.180000  ...   \n",
      "\n",
      "              0.40         0.41         0.42        0.778         0.43  \\\n",
      "count  4600.000000  4600.000000  4600.000000  4600.000000  4600.000000   \n",
      "mean      0.038583     0.139061     0.016980     0.268960     0.075827   \n",
      "std       0.243497     0.270377     0.109406     0.815726     0.245906   \n",
      "min       0.000000     0.000000     0.000000     0.000000     0.000000   \n",
      "25%       0.000000     0.000000     0.000000     0.000000     0.000000   \n",
      "50%       0.000000     0.065000     0.000000     0.000000     0.000000   \n",
      "75%       0.000000     0.188000     0.000000     0.314250     0.052000   \n",
      "max       4.385000     9.752000     4.081000    32.478000     6.003000   \n",
      "\n",
      "              0.44        3.756           61           278            1  \n",
      "count  4600.000000  4600.000000  4600.000000   4600.000000  4600.000000  \n",
      "mean      0.044248     5.191827    52.170870    283.290435     0.393913  \n",
      "std       0.429388    31.732891   194.912453    606.413764     0.488669  \n",
      "min       0.000000     1.000000     1.000000      1.000000     0.000000  \n",
      "25%       0.000000     1.588000     6.000000     35.000000     0.000000  \n",
      "50%       0.000000     2.275500    15.000000     95.000000     0.000000  \n",
      "75%       0.000000     3.705250    43.000000    265.250000     1.000000  \n",
      "max      19.829000  1102.500000  9989.000000  15841.000000     1.000000  \n",
      "\n",
      "[8 rows x 58 columns]\n"
     ]
    }
   ],
   "source": [
    "import pandas as pd\n",
    "import numpy as np\n",
    "import seaborn as sns\n",
    "import pydotplus\n",
    "import os\n",
    "from IPython.display import Image\n",
    "from sklearn import tree\n",
    "\n",
    "import matplotlib.pyplot as plt\n",
    "data = pd.read_excel(\"./spambase.xls\")\n",
    "# 数据的探索性分析、数值型的统计描述\n",
    "print(data.describe())"
   ]
  },
  {
   "cell_type": "markdown",
   "metadata": {},
   "source": [
    "### 选取几个重要的变量分析"
   ]
  },
  {
   "cell_type": "code",
   "execution_count": 2,
   "metadata": {},
   "outputs": [
    {
     "data": {
      "text/html": [
       "<div>\n",
       "<style scoped>\n",
       "    .dataframe tbody tr th:only-of-type {\n",
       "        vertical-align: middle;\n",
       "    }\n",
       "\n",
       "    .dataframe tbody tr th {\n",
       "        vertical-align: top;\n",
       "    }\n",
       "\n",
       "    .dataframe thead th {\n",
       "        text-align: right;\n",
       "    }\n",
       "</style>\n",
       "<table border=\"1\" class=\"dataframe\">\n",
       "  <thead>\n",
       "    <tr style=\"text-align: right;\">\n",
       "      <th></th>\n",
       "      <th>freq_WORD0</th>\n",
       "      <th>b</th>\n",
       "      <th>c</th>\n",
       "      <th>freq_WORD1</th>\n",
       "      <th>e</th>\n",
       "      <th>f</th>\n",
       "      <th>g</th>\n",
       "      <th>h</th>\n",
       "      <th>i</th>\n",
       "      <th>j</th>\n",
       "      <th>...</th>\n",
       "      <th>W</th>\n",
       "      <th>X</th>\n",
       "      <th>Y</th>\n",
       "      <th>Z</th>\n",
       "      <th>freq_CHAR1</th>\n",
       "      <th>freq_CHAR0</th>\n",
       "      <th>capital_run_length_average</th>\n",
       "      <th>capital_run_length_longest</th>\n",
       "      <th>capital_run_length_total</th>\n",
       "      <th>type</th>\n",
       "    </tr>\n",
       "  </thead>\n",
       "  <tbody>\n",
       "    <tr>\n",
       "      <td>0</td>\n",
       "      <td>0.21</td>\n",
       "      <td>0.28</td>\n",
       "      <td>0.50</td>\n",
       "      <td>0.0</td>\n",
       "      <td>0.14</td>\n",
       "      <td>0.28</td>\n",
       "      <td>0.21</td>\n",
       "      <td>0.07</td>\n",
       "      <td>0.00</td>\n",
       "      <td>0.94</td>\n",
       "      <td>...</td>\n",
       "      <td>0.00</td>\n",
       "      <td>0.132</td>\n",
       "      <td>0.0</td>\n",
       "      <td>0.372</td>\n",
       "      <td>0.180</td>\n",
       "      <td>0.048</td>\n",
       "      <td>5.114</td>\n",
       "      <td>101</td>\n",
       "      <td>1028</td>\n",
       "      <td>1</td>\n",
       "    </tr>\n",
       "    <tr>\n",
       "      <td>1</td>\n",
       "      <td>0.06</td>\n",
       "      <td>0.00</td>\n",
       "      <td>0.71</td>\n",
       "      <td>0.0</td>\n",
       "      <td>1.23</td>\n",
       "      <td>0.19</td>\n",
       "      <td>0.19</td>\n",
       "      <td>0.12</td>\n",
       "      <td>0.64</td>\n",
       "      <td>0.25</td>\n",
       "      <td>...</td>\n",
       "      <td>0.01</td>\n",
       "      <td>0.143</td>\n",
       "      <td>0.0</td>\n",
       "      <td>0.276</td>\n",
       "      <td>0.184</td>\n",
       "      <td>0.010</td>\n",
       "      <td>9.821</td>\n",
       "      <td>485</td>\n",
       "      <td>2259</td>\n",
       "      <td>1</td>\n",
       "    </tr>\n",
       "    <tr>\n",
       "      <td>2</td>\n",
       "      <td>0.00</td>\n",
       "      <td>0.00</td>\n",
       "      <td>0.00</td>\n",
       "      <td>0.0</td>\n",
       "      <td>0.63</td>\n",
       "      <td>0.00</td>\n",
       "      <td>0.31</td>\n",
       "      <td>0.63</td>\n",
       "      <td>0.31</td>\n",
       "      <td>0.63</td>\n",
       "      <td>...</td>\n",
       "      <td>0.00</td>\n",
       "      <td>0.137</td>\n",
       "      <td>0.0</td>\n",
       "      <td>0.137</td>\n",
       "      <td>0.000</td>\n",
       "      <td>0.000</td>\n",
       "      <td>3.537</td>\n",
       "      <td>40</td>\n",
       "      <td>191</td>\n",
       "      <td>1</td>\n",
       "    </tr>\n",
       "    <tr>\n",
       "      <td>3</td>\n",
       "      <td>0.00</td>\n",
       "      <td>0.00</td>\n",
       "      <td>0.00</td>\n",
       "      <td>0.0</td>\n",
       "      <td>0.63</td>\n",
       "      <td>0.00</td>\n",
       "      <td>0.31</td>\n",
       "      <td>0.63</td>\n",
       "      <td>0.31</td>\n",
       "      <td>0.63</td>\n",
       "      <td>...</td>\n",
       "      <td>0.00</td>\n",
       "      <td>0.135</td>\n",
       "      <td>0.0</td>\n",
       "      <td>0.135</td>\n",
       "      <td>0.000</td>\n",
       "      <td>0.000</td>\n",
       "      <td>3.537</td>\n",
       "      <td>40</td>\n",
       "      <td>191</td>\n",
       "      <td>1</td>\n",
       "    </tr>\n",
       "    <tr>\n",
       "      <td>4</td>\n",
       "      <td>0.00</td>\n",
       "      <td>0.00</td>\n",
       "      <td>0.00</td>\n",
       "      <td>0.0</td>\n",
       "      <td>1.85</td>\n",
       "      <td>0.00</td>\n",
       "      <td>0.00</td>\n",
       "      <td>1.85</td>\n",
       "      <td>0.00</td>\n",
       "      <td>0.00</td>\n",
       "      <td>...</td>\n",
       "      <td>0.00</td>\n",
       "      <td>0.223</td>\n",
       "      <td>0.0</td>\n",
       "      <td>0.000</td>\n",
       "      <td>0.000</td>\n",
       "      <td>0.000</td>\n",
       "      <td>3.000</td>\n",
       "      <td>15</td>\n",
       "      <td>54</td>\n",
       "      <td>1</td>\n",
       "    </tr>\n",
       "    <tr>\n",
       "      <td>5</td>\n",
       "      <td>0.00</td>\n",
       "      <td>0.00</td>\n",
       "      <td>0.00</td>\n",
       "      <td>0.0</td>\n",
       "      <td>1.92</td>\n",
       "      <td>0.00</td>\n",
       "      <td>0.00</td>\n",
       "      <td>0.00</td>\n",
       "      <td>0.00</td>\n",
       "      <td>0.64</td>\n",
       "      <td>...</td>\n",
       "      <td>0.00</td>\n",
       "      <td>0.054</td>\n",
       "      <td>0.0</td>\n",
       "      <td>0.164</td>\n",
       "      <td>0.054</td>\n",
       "      <td>0.000</td>\n",
       "      <td>1.671</td>\n",
       "      <td>4</td>\n",
       "      <td>112</td>\n",
       "      <td>1</td>\n",
       "    </tr>\n",
       "    <tr>\n",
       "      <td>6</td>\n",
       "      <td>0.00</td>\n",
       "      <td>0.00</td>\n",
       "      <td>0.00</td>\n",
       "      <td>0.0</td>\n",
       "      <td>1.88</td>\n",
       "      <td>0.00</td>\n",
       "      <td>0.00</td>\n",
       "      <td>1.88</td>\n",
       "      <td>0.00</td>\n",
       "      <td>0.00</td>\n",
       "      <td>...</td>\n",
       "      <td>0.00</td>\n",
       "      <td>0.206</td>\n",
       "      <td>0.0</td>\n",
       "      <td>0.000</td>\n",
       "      <td>0.000</td>\n",
       "      <td>0.000</td>\n",
       "      <td>2.450</td>\n",
       "      <td>11</td>\n",
       "      <td>49</td>\n",
       "      <td>1</td>\n",
       "    </tr>\n",
       "    <tr>\n",
       "      <td>7</td>\n",
       "      <td>0.15</td>\n",
       "      <td>0.00</td>\n",
       "      <td>0.46</td>\n",
       "      <td>0.0</td>\n",
       "      <td>0.61</td>\n",
       "      <td>0.00</td>\n",
       "      <td>0.30</td>\n",
       "      <td>0.00</td>\n",
       "      <td>0.92</td>\n",
       "      <td>0.76</td>\n",
       "      <td>...</td>\n",
       "      <td>0.00</td>\n",
       "      <td>0.271</td>\n",
       "      <td>0.0</td>\n",
       "      <td>0.181</td>\n",
       "      <td>0.203</td>\n",
       "      <td>0.022</td>\n",
       "      <td>9.744</td>\n",
       "      <td>445</td>\n",
       "      <td>1257</td>\n",
       "      <td>1</td>\n",
       "    </tr>\n",
       "    <tr>\n",
       "      <td>8</td>\n",
       "      <td>0.06</td>\n",
       "      <td>0.12</td>\n",
       "      <td>0.77</td>\n",
       "      <td>0.0</td>\n",
       "      <td>0.19</td>\n",
       "      <td>0.32</td>\n",
       "      <td>0.38</td>\n",
       "      <td>0.00</td>\n",
       "      <td>0.06</td>\n",
       "      <td>0.00</td>\n",
       "      <td>...</td>\n",
       "      <td>0.04</td>\n",
       "      <td>0.030</td>\n",
       "      <td>0.0</td>\n",
       "      <td>0.244</td>\n",
       "      <td>0.081</td>\n",
       "      <td>0.000</td>\n",
       "      <td>1.729</td>\n",
       "      <td>43</td>\n",
       "      <td>749</td>\n",
       "      <td>1</td>\n",
       "    </tr>\n",
       "    <tr>\n",
       "      <td>9</td>\n",
       "      <td>0.00</td>\n",
       "      <td>0.00</td>\n",
       "      <td>0.00</td>\n",
       "      <td>0.0</td>\n",
       "      <td>0.00</td>\n",
       "      <td>0.00</td>\n",
       "      <td>0.96</td>\n",
       "      <td>0.00</td>\n",
       "      <td>0.00</td>\n",
       "      <td>1.92</td>\n",
       "      <td>...</td>\n",
       "      <td>0.00</td>\n",
       "      <td>0.000</td>\n",
       "      <td>0.0</td>\n",
       "      <td>0.462</td>\n",
       "      <td>0.000</td>\n",
       "      <td>0.000</td>\n",
       "      <td>1.312</td>\n",
       "      <td>6</td>\n",
       "      <td>21</td>\n",
       "      <td>1</td>\n",
       "    </tr>\n",
       "  </tbody>\n",
       "</table>\n",
       "<p>10 rows × 58 columns</p>\n",
       "</div>"
      ],
      "text/plain": [
       "   freq_WORD0     b     c  freq_WORD1     e     f     g     h     i     j  \\\n",
       "0        0.21  0.28  0.50         0.0  0.14  0.28  0.21  0.07  0.00  0.94   \n",
       "1        0.06  0.00  0.71         0.0  1.23  0.19  0.19  0.12  0.64  0.25   \n",
       "2        0.00  0.00  0.00         0.0  0.63  0.00  0.31  0.63  0.31  0.63   \n",
       "3        0.00  0.00  0.00         0.0  0.63  0.00  0.31  0.63  0.31  0.63   \n",
       "4        0.00  0.00  0.00         0.0  1.85  0.00  0.00  1.85  0.00  0.00   \n",
       "5        0.00  0.00  0.00         0.0  1.92  0.00  0.00  0.00  0.00  0.64   \n",
       "6        0.00  0.00  0.00         0.0  1.88  0.00  0.00  1.88  0.00  0.00   \n",
       "7        0.15  0.00  0.46         0.0  0.61  0.00  0.30  0.00  0.92  0.76   \n",
       "8        0.06  0.12  0.77         0.0  0.19  0.32  0.38  0.00  0.06  0.00   \n",
       "9        0.00  0.00  0.00         0.0  0.00  0.00  0.96  0.00  0.00  1.92   \n",
       "\n",
       "   ...     W      X    Y      Z  freq_CHAR1  freq_CHAR0  \\\n",
       "0  ...  0.00  0.132  0.0  0.372       0.180       0.048   \n",
       "1  ...  0.01  0.143  0.0  0.276       0.184       0.010   \n",
       "2  ...  0.00  0.137  0.0  0.137       0.000       0.000   \n",
       "3  ...  0.00  0.135  0.0  0.135       0.000       0.000   \n",
       "4  ...  0.00  0.223  0.0  0.000       0.000       0.000   \n",
       "5  ...  0.00  0.054  0.0  0.164       0.054       0.000   \n",
       "6  ...  0.00  0.206  0.0  0.000       0.000       0.000   \n",
       "7  ...  0.00  0.271  0.0  0.181       0.203       0.022   \n",
       "8  ...  0.04  0.030  0.0  0.244       0.081       0.000   \n",
       "9  ...  0.00  0.000  0.0  0.462       0.000       0.000   \n",
       "\n",
       "   capital_run_length_average  capital_run_length_longest  \\\n",
       "0                       5.114                         101   \n",
       "1                       9.821                         485   \n",
       "2                       3.537                          40   \n",
       "3                       3.537                          40   \n",
       "4                       3.000                          15   \n",
       "5                       1.671                           4   \n",
       "6                       2.450                          11   \n",
       "7                       9.744                         445   \n",
       "8                       1.729                          43   \n",
       "9                       1.312                           6   \n",
       "\n",
       "   capital_run_length_total  type  \n",
       "0                      1028     1  \n",
       "1                      2259     1  \n",
       "2                       191     1  \n",
       "3                       191     1  \n",
       "4                        54     1  \n",
       "5                       112     1  \n",
       "6                        49     1  \n",
       "7                      1257     1  \n",
       "8                       749     1  \n",
       "9                        21     1  \n",
       "\n",
       "[10 rows x 58 columns]"
      ]
     },
     "execution_count": 2,
     "metadata": {},
     "output_type": "execute_result"
    }
   ],
   "source": [
    "data.columns=list('abcdefghijklmnopqrstuvwxyzABCDEFGHIJKLMNOPQRSTUVWXYZ123456')\n",
    "data.rename(columns={'5':'capital_run_length_total', '4':'capital_run_length_longest','3':'capital_run_length_average',\n",
    "                  '2':'freq_CHAR0','1':'freq_CHAR1','a':'freq_WORD0','d':'freq_WORD1','6':'type'}, inplace = True)\n",
    "data.head(10)"
   ]
  },
  {
   "cell_type": "markdown",
   "metadata": {},
   "source": [
    "### 柱状图：垃圾邮件占比39.4%"
   ]
  },
  {
   "cell_type": "code",
   "execution_count": 3,
   "metadata": {},
   "outputs": [
    {
     "data": {
      "image/png": "[encoded data removed]",
      "text/plain": [
       "<Figure size 432x288 with 1 Axes>"
      ]
     },
     "metadata": {
      "needs_background": "light"
     },
     "output_type": "display_data"
    }
   ],
   "source": [
    "x = ['Spam','Non-Spam']\n",
    "y = [len(data[data['type']==1]),len(data[data['type']==0])]\n",
    "plt.bar(range(len(x)),y,0.4,align = 'center')\n",
    "plt.xticks(range(len(x)),x)\n",
    "#设置横坐标的文字说明\n",
    "plt.xlabel('Category')\n",
    "#设置纵坐标的文字说明\n",
    "plt.ylabel('Number')\n",
    "#设置标题\n",
    "plt.title('Bar Chart')\n",
    "#绘图\n",
    "plt.show()"
   ]
  },
  {
   "cell_type": "markdown",
   "metadata": {},
   "source": [
    "### 相关性分析"
   ]
  },
  {
   "cell_type": "code",
   "execution_count": 41,
   "metadata": {},
   "outputs": [
    {
     "data": {
      "image/png": "[encoded data removed]",
      "text/plain": [
       "<Figure size 720x720 with 2 Axes>"
      ]
     },
     "metadata": {
      "needs_background": "light"
     },
     "output_type": "display_data"
    }
   ],
   "source": [
    "data1=data[['capital_run_length_total','capital_run_length_longest','capital_run_length_average','freq_CHAR0','freq_CHAR1','freq_WORD0','type']]\n",
    "plt.figure(figsize=(10, 10))\n",
    "sns.heatmap(data1.corr(), square=True)\n",
    "plt.show()"
   ]
  },
  {
   "cell_type": "markdown",
   "metadata": {},
   "source": [
    "#### \"capital_run_length_longest\",\"capital_run_length_average\"的相关性达到了0.5左右，可能不符合朴素贝叶斯假设，影响拟合效果"
   ]
  },
  {
   "cell_type": "markdown",
   "metadata": {},
   "source": [
    "### 箱线图"
   ]
  },
  {
   "cell_type": "code",
   "execution_count": 46,
   "metadata": {},
   "outputs": [
    {
     "data": {
      "image/png": "[encoded data removed]",
      "text/plain": [
       "<Figure size 432x288 with 7 Axes>"
      ]
     },
     "metadata": {
      "needs_background": "light"
     },
     "output_type": "display_data"
    }
   ],
   "source": [
    "fig,axes = plt.subplots(7, 1)\n",
    "data1.loc[1:50].plot(kind='box', vert=False, ax=axes, subplots=True)\n",
    "fig.subplots_adjust(wspace=1, hspace=1) "
   ]
  },
  {
   "cell_type": "code",
   "execution_count": 47,
   "metadata": {},
   "outputs": [
    {
     "data": {
      "text/plain": [
       "<function matplotlib.pyplot.show(*args, **kw)>"
      ]
     },
     "execution_count": 47,
     "metadata": {},
     "output_type": "execute_result"
    },
    {
     "data": {
      "image/png": "[encoded data removed]",
      "text/plain": [
       "<Figure size 432x288 with 1 Axes>"
      ]
     },
     "metadata": {
      "needs_background": "light"
     },
     "output_type": "display_data"
    }
   ],
   "source": [
    "sns.countplot(x='freq_WORD0', hue=\"type\", data=data)\n",
    "plt.show"
   ]
  },
  {
   "cell_type": "markdown",
   "metadata": {},
   "source": [
    "## （二）朴素贝叶斯分类算法进行分类\n",
    "\n",
    " *   分别由前57个描述变量（X1,X2,...X57)来决定邮件的分类结果,Xi有取值xij（j取1到m,i取1到57）。类别属性Y包含0，1两种。\n",
    " *   新的样本记作X=（a1,a2,...a57)。\n",
    " *   最终要求判断P（0｜X）、P(1|X)哪个更大。\n",
    " *   由贝叶斯定理：P（Y｜X）=P（X｜Y）P(Y)/P(X),此时之要求比较分子大小，故而只需要求P（a1,a2,...a57｜0）P(0)和求P（a1,a2,...a57｜1）P(1)，即求P(y)P(a1|y)P(a2|y)...P(a57|y),y取0或1。"
   ]
  },
  {
   "cell_type": "code",
   "execution_count": 5,
   "metadata": {},
   "outputs": [],
   "source": [
    "data_0 = np.loadtxt(\"./spambase.txt\", delimiter=\",\")#此时导入数据类型为dataframe\n",
    "DATA = np.array(data_0)  \n",
    "np.random.shuffle(DATA)#随机打乱样本\n",
    "class Bayes(object):\n",
    "    def Group(self):\n",
    "        labels = DATA[0:4500,DATA.shape[1]-1]        #取前4500行 为训练集，最后一列是因变量Y\n",
    "        DATA0 = DATA[0:4500,0:DATA.shape[1]-1]   #除了最后一列是自变量X\n",
    "        return DATA0, labels\n",
    "\n",
    "    def classify(self, DATA0, labels, features):\n",
    "        #求P(Y=0)和P(Y=1)\n",
    "        labels = list(labels)    \n",
    "        labelset = set(labels) #去重后只有0和1两类邮箱\n",
    "        P_y = {}       #将P(Y)存成一个字典\n",
    "        for label in labelset:\n",
    "            P_y[label] = labels.count(label)/float(len(labels))   # P(Y=i)=i在labels中出现的次数/labels的总长度\n",
    "            \n",
    "\n",
    "        #设features=(a1_1,a2_3,...a57_2),求P(a1_1,y)...P(a57_2,y),y取0、1\n",
    "        P_xy = {}\n",
    "        for y in P_y.keys():\n",
    "            y_index = [i for i, label in enumerate(labels) if label == y]  # labels中出现y值的所有数值的 所有行数\n",
    "            for j in range(len(features)):      # features的第j个元素在训练集第j列出现时的 所有行数\n",
    "                x_index = [i for i, feature in enumerate(DATA0[:,j]) if feature == features[j]]\n",
    "                xy_count = len(set(x_index) & set(y_index))   # 列出相同的行数\n",
    "                pkey = str(features[j]) + '*' + str(y)\n",
    "                P_xy[pkey] = xy_count / float(len(labels))\n",
    "                \n",
    "\n",
    "        #求P(a1_1|y)...P(a57_2|y),y取0、1\n",
    "        P = {}\n",
    "        for y in P_y.keys():\n",
    "            for x in features:\n",
    "                pkey = str(x) + '|' + str(y)\n",
    "                P[pkey] = P_xy[str(x)+'*'+str(y)] / float(P_y[y])    #P(a1_1|y) = P(a1_1,y)/P(y)\n",
    "                \n",
    "\n",
    "        #求P(a1_1,a2_3,...a57_2,y)\n",
    "        F = {}   \n",
    "        for y in P_y:\n",
    "            F[y] = P_y[y]\n",
    "            for x in features:\n",
    "                F[y] = F[y]*P[str(x)+'|'+str(y)]     #P[y/X] = P[X/y]*P[y]/P[X]，分母相等，比较分子即可，所以有F=P[X/y]*P[y]=P[x1/Y]*P[x2/Y]*P[y]\n",
    "               \n",
    "          #返回P(Y|X)中最大的那一个Y\n",
    "        return max(F, key=F.get)"
   ]
  },
  {
   "cell_type": "code",
   "execution_count": 6,
   "metadata": {},
   "outputs": [
    {
     "name": "stdout",
     "output_type": "stream",
     "text": [
      "[0. 0. 0. 0. 0. 0. 0. 0. 0. 0. 0. 0. 1. 0. 0. 1. 1. 0. 1. 0. 0. 0. 0. 0.\n",
      " 0. 0. 0. 0. 0. 0. 0. 0. 1. 0. 0. 0. 0. 0. 0. 0. 0. 0. 0. 0. 0. 0. 0. 0.\n",
      " 0. 1. 1. 1. 0. 0. 1. 0. 0. 0. 0. 0. 0. 1. 0. 0. 0. 0. 0. 0. 0. 0. 0. 0.\n",
      " 0. 0. 0. 0. 0. 0. 0. 0. 0. 0. 0. 0. 0. 0. 0. 0. 0. 0. 1. 0. 0. 0. 0. 0.\n",
      " 0. 0. 0. 0.]\n"
     ]
    }
   ],
   "source": [
    "if __name__ == '__main__':\n",
    "    b = Bayes()\n",
    "    # 训练数据\n",
    "    DATA0, labels = b.Group()\n",
    "    # 测试集\n",
    "    DATA1 = DATA[4501:,0:DATA.shape[1]-1]\n",
    "    # 对测试集分类\n",
    "    result=np.zeros(np.shape(DATA1)[0])\n",
    "    for k in range(np.shape(DATA1)[0]):\n",
    "        result[k] = b.classify(DATA0, labels, DATA1[k])\n",
    "    print(result)"
   ]
  },
  {
   "cell_type": "markdown",
   "metadata": {},
   "source": [
    "### 使用sklearn评估"
   ]
  },
  {
   "cell_type": "code",
   "execution_count": 10,
   "metadata": {},
   "outputs": [
    {
     "data": {
      "text/plain": [
       "0.32"
      ]
     },
     "execution_count": 10,
     "metadata": {},
     "output_type": "execute_result"
    }
   ],
   "source": [
    "# 导入模型评估模块\n",
    "from sklearn import metrics\n",
    "# mean absolute error\n",
    "from sklearn.metrics import explained_variance_score\n",
    "y_true = DATA[4501:,DATA.shape[1]-1]\n",
    "y_pred = result\n",
    "explained_variance_score(y_true, y_pred) \n",
    "#mean_squared_error\n",
    "from sklearn.metrics import mean_squared_error\n",
    "mean_squared_error(y_true, y_pred) "
   ]
  },
  {
   "cell_type": "markdown",
   "metadata": {},
   "source": [
    "## Model Assessment\n",
    "\n",
    "* 评价：误差平方为0.32，故其预测结果有一定借鉴意义。模型对缺失数据不太敏感，算法也比较简单。\n",
    "\n",
    "\n",
    "\n",
    "* 缺陷：\n",
    "\n",
    "\n",
    " （1）朴素贝叶斯模型假设属性之间相互独立在Spambase数据中不成立，邮件属性个数比较多而且有些属性之间相关性较大，分类效果并不十分理想。而在属性相关性较小时，朴素贝叶斯性能最为良好。\n",
    "\n",
    " （2）我们可以假定有一些单词很少分开出现，这样将导致分类器不准确。例如，在一个文档中Boston出现了5次而San Francisco只出现了3次，那么更加倾向于将文档归于San Francisco(6次)而不是Boston(5次)。\n",
    "\n",
    "\n",
    "\n",
    "\n",
    "* 改进：针对第一个缺点有半朴素贝叶斯之类的算法通过考虑部分关联性适度改进；面对第二种缺陷可以考虑权重归一化\n"
   ]
  },
  {
   "cell_type": "markdown",
   "metadata": {},
   "source": [
    "## (三）利用sklearn中的GBDT进行分类"
   ]
  },
  {
   "cell_type": "code",
   "execution_count": 15,
   "metadata": {},
   "outputs": [],
   "source": [
    "# 导入GBDT\n",
    "from sklearn.ensemble import GradientBoostingClassifier\n",
    "gbdt = GradientBoostingClassifier()\n",
    "gbdt.fit(DATA[0:4500,0:DATA.shape[1]-1], DATA[0:4500,DATA.shape[1]-1])\n",
    "\n",
    "\n",
    "# 预测测试集\n",
    "gbdt_pred = gbdt.predict(DATA1)"
   ]
  },
  {
   "cell_type": "code",
   "execution_count": 18,
   "metadata": {},
   "outputs": [
    {
     "name": "stdout",
     "output_type": "stream",
     "text": [
      "模型在测试集上的准确率0.920000\n"
     ]
    },
    {
     "data": {
      "image/png": "[encoded data removed]",
      "text/plain": [
       "<Figure size 432x288 with 1 Axes>"
      ]
     },
     "metadata": {
      "needs_background": "light"
     },
     "output_type": "display_data"
    }
   ],
   "source": [
    "import matplotlib.pyplot as plt\n",
    "# 模型得分\n",
    "print('模型在测试集上的准确率%f' %gbdt.score(DATA1,y_true))\n",
    "\n",
    "# 绘制ROC曲线\n",
    "fpr, tpr, _ = metrics.roc_curve(y_true, gbdt.predict_proba(DATA1)[:,1])\n",
    "plt.plot(fpr, tpr, linestyle = 'solid', color = 'red')\n",
    "plt.stackplot(fpr, tpr, color = 'steelblue')\n",
    "plt.plot([0,1],[0,1], linestyle = 'dashed', color = 'black')\n",
    "plt.text(0.6,0.4,'AUC=%.3f' % metrics.auc(fpr,tpr), fontdict = dict(size = 18))\n",
    "plt.show()"
   ]
  },
  {
   "cell_type": "markdown",
   "metadata": {},
   "source": [
    "## Model Assessment\n",
    "\n",
    "* 评价：\n",
    "\n",
    "（1）测试的准确率高达92%。\n",
    "\n",
    "\n",
    "（2）其AUC(Area under the ROC curve)的值高达0.981。AUC高意味着：在二分类的情况下，这种机器学习模型的分类性能十分理想。"
   ]
  }
 ],
 "metadata": {
  "kernelspec": {
   "display_name": "Python 3",
   "language": "python",
   "name": "python3"
  },
  "language_info": {
   "codemirror_mode": {
    "name": "ipython",
    "version": 3
   },
   "file_extension": ".py",
   "mimetype": "text/x-python",
   "name": "python",
   "nbconvert_exporter": "python",
   "pygments_lexer": "ipython3",
   "version": "3.7.4"
  }
 },
 "nbformat": 4,
 "nbformat_minor": 2
}
