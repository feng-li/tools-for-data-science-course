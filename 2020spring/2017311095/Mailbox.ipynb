{
 "cells": [
  {
   "cell_type": "code",
   "execution_count": null,
   "metadata": {},
   "outputs": [],
   "source": [
    "from selenium import webdriver\n",
    "from selenium.webdriver.firefox.options import Options\n",
    "options = Options()\n",
    "options.add_argument(\"--headless\")\n",
    "river = webdriver.Firefox()\n",
    "driver.get(\"https://www.baidu.com/s?ie=utf-8&f=8&rsv_bp=1&tn=monline_3_dg&wd=%E7%BD%91%E6%98%93%E9%82%AE%E7%AE%B1&oq=%25E7%25BD%2591%25E6%2598%2593%25E9%2582%25AE%25E7%25AE%25B1%25E7%2599%25BB%25E9%2599%2586&rsv_pq=f0307cf30000cf59&rsv_t=057cf5nBOCGE%2B9VL3z9apL8NgoiMcHhvslmVhDhfBXLN5WOINyh10JIUFwTp4EOOyEKg&rqlang=cn&rsv_enter=1&rsv_sug3=3&rsv_sug1=3&rsv_sug7=100&rsv_sug2=0&inputT=488&rsv_sug4=1597&rsv_sug=1\")\n",
    "driver.find_element_by_id(\"op_email3_username\").send_keys(\"Duketcz\")\n",
    "driver.find_element_by_class_name(\"op_email3_password\").send_keys(\"****\")\n",
    "driver.find_element_by_xpath('/html/body/div/div[3]/div[1]/div[3]/div[1]/div[1]/div/form/table/tbody/tr[3]/td[2]/a[1]').click()\n",
    "driver.close()"
   ]
  }
 ],
 "metadata": {
  "kernelspec": {
   "display_name": "Python 3",
   "language": "python",
   "name": "python3"
  },
  "language_info": {
   "codemirror_mode": {
    "name": "ipython",
    "version": 3
   },
   "file_extension": ".py",
   "mimetype": "text/x-python",
   "name": "python",
   "nbconvert_exporter": "python",
   "pygments_lexer": "ipython3",
   "version": "3.7.6"
  }
 },
 "nbformat": 4,
 "nbformat_minor": 4
}
