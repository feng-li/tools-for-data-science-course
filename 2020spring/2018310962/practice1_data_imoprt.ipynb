{
 "cells": [
  {
   "cell_type": "code",
   "execution_count": 1,
   "metadata": {},
   "outputs": [
    {
     "name": "stdout",
     "output_type": "stream",
     "text": [
      "111\n",
      "222\n",
      "333\n"
     ]
    }
   ],
   "source": [
    "with open(\"data/a.txt\",encoding=\"utf-8\",mode=\"r\") as myfile:\n",
    "    print(myfile.read())"
   ]
  },
  {
   "cell_type": "code",
   "execution_count": 2,
   "metadata": {},
   "outputs": [
    {
     "name": "stdout",
     "output_type": "stream",
     "text": [
      "111\n",
      "\n"
     ]
    }
   ],
   "source": [
    "with open(\"data/a.txt\",encoding=\"utf-8\",mode=\"r\") as myfile:\n",
    "    print(myfile.readline())"
   ]
  },
  {
   "cell_type": "code",
   "execution_count": 3,
   "metadata": {},
   "outputs": [
    {
     "name": "stdout",
     "output_type": "stream",
     "text": [
      "['111\\n', '222\\n', '333']\n"
     ]
    }
   ],
   "source": [
    "with open(\"data/a.txt\",encoding=\"utf-8\",mode=\"r\") as myfile:\n",
    "    print(myfile.readlines())"
   ]
  },
  {
   "cell_type": "code",
   "execution_count": 6,
   "metadata": {},
   "outputs": [
    {
     "data": {
      "text/plain": [
       "True"
      ]
     },
     "execution_count": 6,
     "metadata": {},
     "output_type": "execute_result"
    }
   ],
   "source": [
    "myfile.closed"
   ]
  },
  {
   "cell_type": "markdown",
   "metadata": {},
   "source": [
    "在文件比较大的时候可以用以下循环方式，节省内存"
   ]
  },
  {
   "cell_type": "code",
   "execution_count": 7,
   "metadata": {},
   "outputs": [
    {
     "name": "stdout",
     "output_type": "stream",
     "text": [
      "ID,Class,Sex,Age,Survived,Freq\n",
      "1,1st,Male,Child,No,0\n",
      "2,2nd,Male,Child,No,0\n",
      "3,3rd,Male,Child,No,35\n",
      "4,Crew,Male,Child,No,0\n",
      "5,1st,Female,Child,No,0\n",
      "6,2nd,Female,Child,No,0\n",
      "7,3rd,Female,Child,No,17\n",
      "8,Crew,Female,Child,No,0\n",
      "9,1st,Male,Adult,No,118\n",
      "10,2nd,Male,Adult,No,154\n",
      "11,3rd,Male,Adult,No,387\n",
      "12,Crew,Male,Adult,No,670\n",
      "13,1st,Female,Adult,No,4\n",
      "14,2nd,Female,Adult,No,13\n",
      "15,3rd,Female,Adult,No,89\n",
      "16,Crew,Female,Adult,No,3\n",
      "17,1st,Male,Child,Yes,5\n",
      "18,2nd,Male,Child,Yes,11\n",
      "19,3rd,Male,Child,Yes,13\n",
      "20,Crew,Male,Child,Yes,0\n",
      "21,1st,Female,Child,Yes,1\n",
      "22,2nd,Female,Child,Yes,13\n",
      "23,3rd,Female,Child,Yes,14\n",
      "24,Crew,Female,Child,Yes,0\n",
      "25,1st,Male,Adult,Yes,57\n",
      "26,2nd,Male,Adult,Yes,14\n",
      "27,3rd,Male,Adult,Yes,75\n",
      "28,Crew,Male,Adult,Yes,192\n",
      "29,1st,Female,Adult,Yes,140\n",
      "30,2nd,Female,Adult,Yes,80\n",
      "31,3rd,Female,Adult,Yes,76\n",
      "32,Crew,Female,Adult,Yes,20"
     ]
    }
   ],
   "source": [
    "with open(\"data/Titanic.csv\",\"r\") as myfile:\n",
    "    for l in myfile:\n",
    "        print(l,end=\"\")"
   ]
  },
  {
   "cell_type": "markdown",
   "metadata": {},
   "source": [
    ".write()只能写单个string，.writelines()可以写只含strings的list.写入的如果是non-string type要先用str()转化"
   ]
  },
  {
   "cell_type": "code",
   "execution_count": 9,
   "metadata": {},
   "outputs": [],
   "source": [
    "file=open(\"data/testfile.txt\",\"w\")\n",
    "file.write(\"Hello world\\n\")\n",
    "file.write(\"another line.\")\n",
    "file.close()"
   ]
  },
  {
   "cell_type": "code",
   "execution_count": 10,
   "metadata": {},
   "outputs": [
    {
     "name": "stdout",
     "output_type": "stream",
     "text": [
      "Hello world\n",
      "another line.\n"
     ]
    }
   ],
   "source": [
    "file=open(\"data/testfile.txt\",\"r\")\n",
    "text=file.read()\n",
    "print(text)\n",
    "file.close()"
   ]
  },
  {
   "cell_type": "code",
   "execution_count": 11,
   "metadata": {},
   "outputs": [],
   "source": [
    "tobuy=['a\\n','b\\n','c\\n']\n",
    "file=open(\"data/grocerylist.txt\",\"w\")\n",
    "file.writelines(tobuy)#writelines()可以写只含strings的list\n",
    "file.close()"
   ]
  },
  {
   "cell_type": "code",
   "execution_count": 15,
   "metadata": {},
   "outputs": [
    {
     "name": "stdout",
     "output_type": "stream",
     "text": [
      "pi's value is 3.141592\n"
     ]
    }
   ],
   "source": [
    "pi=3.141592\n",
    "file=open(\"data/math.txt\",\"w\")\n",
    "file.write(\"pi's value is \"+str(pi))\n",
    "file.close()\n",
    "file=open(\"data/math.txt\",\"r\")\n",
    "text=file.read()\n",
    "print(text)\n",
    "file.close()"
   ]
  },
  {
   "cell_type": "markdown",
   "metadata": {},
   "source": [
    "用**numpy**读取txt文件"
   ]
  },
  {
   "cell_type": "code",
   "execution_count": 16,
   "metadata": {},
   "outputs": [
    {
     "name": "stdout",
     "output_type": "stream",
     "text": [
      "[[  2.    2.  199.5]\n",
      " [  3.    3.  199.4]\n",
      " [  4.    4.  198.9]\n",
      " [  5.    5.  199. ]\n",
      " [  6.    6.  200.2]\n",
      " [  7.    7.  198.6]\n",
      " [  8.    8.  200. ]\n",
      " [  9.    9.  200.3]\n",
      " [ 10.   10.  201.2]\n",
      " [ 11.   11.  201.6]\n",
      " [ 12.   12.  201.5]\n",
      " [ 13.   13.  201.5]\n",
      " [ 14.   14.  203.5]\n",
      " [ 15.   15.  204.9]\n",
      " [ 16.   16.  207.1]\n",
      " [ 17.   17.  210.5]\n",
      " [ 18.   18.  210.5]\n",
      " [ 19.   19.  209.8]\n",
      " [ 20.   20.  208.8]\n",
      " [ 21.   21.  209.5]\n",
      " [ 22.   22.  213.2]\n",
      " [ 23.   23.  213.7]\n",
      " [ 24.   24.  215.1]\n",
      " [ 25.   25.  218.7]\n",
      " [ 26.   26.  219.8]\n",
      " [ 27.   27.  220.5]\n",
      " [ 28.   28.  223.8]\n",
      " [ 29.   29.  222.8]\n",
      " [ 30.   30.  223.8]\n",
      " [ 31.   31.  221.7]\n",
      " [ 32.   32.  222.3]\n",
      " [ 33.   33.  220.8]\n",
      " [ 34.   34.  219.4]\n",
      " [ 35.   35.  220.1]\n",
      " [ 36.   36.  220.6]\n",
      " [ 37.   37.  218.9]\n",
      " [ 38.   38.  217.8]\n",
      " [ 39.   39.  217.7]\n",
      " [ 40.   40.  215. ]]\n"
     ]
    }
   ],
   "source": [
    "import numpy as np\n",
    "data=np.loadtxt(\"data/BJsales.txt\",skiprows=2,delimiter=\"\\t\")\n",
    "print(data)"
   ]
  },
  {
   "cell_type": "markdown",
   "metadata": {},
   "source": [
    "用**csv**和**pandas**读取csv文件\n",
    "\n",
    "**csv.reader(file)**"
   ]
  },
  {
   "cell_type": "code",
   "execution_count": 20,
   "metadata": {},
   "outputs": [
    {
     "name": "stdout",
     "output_type": "stream",
     "text": [
      "ID\tClass\tSex\tAge\tSurvived\tFreq\n",
      "1\t1st\tMale\tChild\tNo\t0\n",
      "2\t2nd\tMale\tChild\tNo\t0\n",
      "3\t3rd\tMale\tChild\tNo\t35\n",
      "4\tCrew\tMale\tChild\tNo\t0\n",
      "5\t1st\tFemale\tChild\tNo\t0\n",
      "6\t2nd\tFemale\tChild\tNo\t0\n",
      "7\t3rd\tFemale\tChild\tNo\t17\n",
      "8\tCrew\tFemale\tChild\tNo\t0\n",
      "9\t1st\tMale\tAdult\tNo\t118\n",
      "10\t2nd\tMale\tAdult\tNo\t154\n",
      "11\t3rd\tMale\tAdult\tNo\t387\n",
      "12\tCrew\tMale\tAdult\tNo\t670\n",
      "13\t1st\tFemale\tAdult\tNo\t4\n",
      "14\t2nd\tFemale\tAdult\tNo\t13\n",
      "15\t3rd\tFemale\tAdult\tNo\t89\n",
      "16\tCrew\tFemale\tAdult\tNo\t3\n",
      "17\t1st\tMale\tChild\tYes\t5\n",
      "18\t2nd\tMale\tChild\tYes\t11\n",
      "19\t3rd\tMale\tChild\tYes\t13\n",
      "20\tCrew\tMale\tChild\tYes\t0\n",
      "21\t1st\tFemale\tChild\tYes\t1\n",
      "22\t2nd\tFemale\tChild\tYes\t13\n",
      "23\t3rd\tFemale\tChild\tYes\t14\n",
      "24\tCrew\tFemale\tChild\tYes\t0\n",
      "25\t1st\tMale\tAdult\tYes\t57\n",
      "26\t2nd\tMale\tAdult\tYes\t14\n",
      "27\t3rd\tMale\tAdult\tYes\t75\n",
      "28\tCrew\tMale\tAdult\tYes\t192\n",
      "29\t1st\tFemale\tAdult\tYes\t140\n",
      "30\t2nd\tFemale\tAdult\tYes\t80\n",
      "31\t3rd\tFemale\tAdult\tYes\t76\n",
      "32\tCrew\tFemale\tAdult\tYes\t20\n"
     ]
    }
   ],
   "source": [
    "import csv\n",
    "with open('data/Titanic.csv') as file:\n",
    "    reader=csv.reader(file)\n",
    "    for rows in reader:\n",
    "        print(\"\\t\".join(rows))# \"\". join()连接字符串数组。将字符串、元组、列表中的元素以指定的字符(\"\"中的分隔符)连接生成一个新的字符串"
   ]
  },
  {
   "cell_type": "markdown",
   "metadata": {},
   "source": [
    "**pandas.read_csv()**\n",
    "\n",
    "functions also includes \n",
    "\n",
    "read_excel,read_stata,read_json,read_html,read_sas......"
   ]
  },
  {
   "cell_type": "code",
   "execution_count": 21,
   "metadata": {},
   "outputs": [
    {
     "data": {
      "text/html": [
       "<div>\n",
       "<style scoped>\n",
       "    .dataframe tbody tr th:only-of-type {\n",
       "        vertical-align: middle;\n",
       "    }\n",
       "\n",
       "    .dataframe tbody tr th {\n",
       "        vertical-align: top;\n",
       "    }\n",
       "\n",
       "    .dataframe thead th {\n",
       "        text-align: right;\n",
       "    }\n",
       "</style>\n",
       "<table border=\"1\" class=\"dataframe\">\n",
       "  <thead>\n",
       "    <tr style=\"text-align: right;\">\n",
       "      <th></th>\n",
       "      <th>ID</th>\n",
       "      <th>Class</th>\n",
       "      <th>Sex</th>\n",
       "      <th>Age</th>\n",
       "      <th>Survived</th>\n",
       "      <th>Freq</th>\n",
       "    </tr>\n",
       "  </thead>\n",
       "  <tbody>\n",
       "    <tr>\n",
       "      <th>0</th>\n",
       "      <td>1</td>\n",
       "      <td>1st</td>\n",
       "      <td>Male</td>\n",
       "      <td>Child</td>\n",
       "      <td>No</td>\n",
       "      <td>0</td>\n",
       "    </tr>\n",
       "    <tr>\n",
       "      <th>1</th>\n",
       "      <td>2</td>\n",
       "      <td>2nd</td>\n",
       "      <td>Male</td>\n",
       "      <td>Child</td>\n",
       "      <td>No</td>\n",
       "      <td>0</td>\n",
       "    </tr>\n",
       "    <tr>\n",
       "      <th>2</th>\n",
       "      <td>3</td>\n",
       "      <td>3rd</td>\n",
       "      <td>Male</td>\n",
       "      <td>Child</td>\n",
       "      <td>No</td>\n",
       "      <td>35</td>\n",
       "    </tr>\n",
       "    <tr>\n",
       "      <th>3</th>\n",
       "      <td>4</td>\n",
       "      <td>Crew</td>\n",
       "      <td>Male</td>\n",
       "      <td>Child</td>\n",
       "      <td>No</td>\n",
       "      <td>0</td>\n",
       "    </tr>\n",
       "    <tr>\n",
       "      <th>4</th>\n",
       "      <td>5</td>\n",
       "      <td>1st</td>\n",
       "      <td>Female</td>\n",
       "      <td>Child</td>\n",
       "      <td>No</td>\n",
       "      <td>0</td>\n",
       "    </tr>\n",
       "  </tbody>\n",
       "</table>\n",
       "</div>"
      ],
      "text/plain": [
       "   ID Class     Sex    Age Survived  Freq\n",
       "0   1   1st    Male  Child       No     0\n",
       "1   2   2nd    Male  Child       No     0\n",
       "2   3   3rd    Male  Child       No    35\n",
       "3   4  Crew    Male  Child       No     0\n",
       "4   5   1st  Female  Child       No     0"
      ]
     },
     "execution_count": 21,
     "metadata": {},
     "output_type": "execute_result"
    }
   ],
   "source": [
    "import pandas as pd\n",
    "td=pd.read_csv('data/Titanic.csv')\n",
    "td.head()"
   ]
  },
  {
   "cell_type": "markdown",
   "metadata": {},
   "source": [
    "**pandas.read_table()** 需写明分隔符"
   ]
  },
  {
   "cell_type": "code",
   "execution_count": 22,
   "metadata": {},
   "outputs": [
    {
     "data": {
      "text/html": [
       "<div>\n",
       "<style scoped>\n",
       "    .dataframe tbody tr th:only-of-type {\n",
       "        vertical-align: middle;\n",
       "    }\n",
       "\n",
       "    .dataframe tbody tr th {\n",
       "        vertical-align: top;\n",
       "    }\n",
       "\n",
       "    .dataframe thead th {\n",
       "        text-align: right;\n",
       "    }\n",
       "</style>\n",
       "<table border=\"1\" class=\"dataframe\">\n",
       "  <thead>\n",
       "    <tr style=\"text-align: right;\">\n",
       "      <th></th>\n",
       "      <th>ID</th>\n",
       "      <th>Class</th>\n",
       "      <th>Sex</th>\n",
       "      <th>Age</th>\n",
       "      <th>Survived</th>\n",
       "      <th>Freq</th>\n",
       "    </tr>\n",
       "  </thead>\n",
       "  <tbody>\n",
       "    <tr>\n",
       "      <th>0</th>\n",
       "      <td>1</td>\n",
       "      <td>1st</td>\n",
       "      <td>Male</td>\n",
       "      <td>Child</td>\n",
       "      <td>No</td>\n",
       "      <td>0</td>\n",
       "    </tr>\n",
       "    <tr>\n",
       "      <th>1</th>\n",
       "      <td>2</td>\n",
       "      <td>2nd</td>\n",
       "      <td>Male</td>\n",
       "      <td>Child</td>\n",
       "      <td>No</td>\n",
       "      <td>0</td>\n",
       "    </tr>\n",
       "    <tr>\n",
       "      <th>2</th>\n",
       "      <td>3</td>\n",
       "      <td>3rd</td>\n",
       "      <td>Male</td>\n",
       "      <td>Child</td>\n",
       "      <td>No</td>\n",
       "      <td>35</td>\n",
       "    </tr>\n",
       "    <tr>\n",
       "      <th>3</th>\n",
       "      <td>4</td>\n",
       "      <td>Crew</td>\n",
       "      <td>Male</td>\n",
       "      <td>Child</td>\n",
       "      <td>No</td>\n",
       "      <td>0</td>\n",
       "    </tr>\n",
       "    <tr>\n",
       "      <th>4</th>\n",
       "      <td>5</td>\n",
       "      <td>1st</td>\n",
       "      <td>Female</td>\n",
       "      <td>Child</td>\n",
       "      <td>No</td>\n",
       "      <td>0</td>\n",
       "    </tr>\n",
       "  </tbody>\n",
       "</table>\n",
       "</div>"
      ],
      "text/plain": [
       "   ID Class     Sex    Age Survived  Freq\n",
       "0   1   1st    Male  Child       No     0\n",
       "1   2   2nd    Male  Child       No     0\n",
       "2   3   3rd    Male  Child       No    35\n",
       "3   4  Crew    Male  Child       No     0\n",
       "4   5   1st  Female  Child       No     0"
      ]
     },
     "execution_count": 22,
     "metadata": {},
     "output_type": "execute_result"
    }
   ],
   "source": [
    "td=pd.read_table('data/Titanic.csv',sep=\",\")\n",
    "td.head()"
   ]
  },
  {
   "cell_type": "markdown",
   "metadata": {},
   "source": [
    "如果没有header"
   ]
  },
  {
   "cell_type": "code",
   "execution_count": 23,
   "metadata": {},
   "outputs": [
    {
     "data": {
      "text/html": [
       "<div>\n",
       "<style scoped>\n",
       "    .dataframe tbody tr th:only-of-type {\n",
       "        vertical-align: middle;\n",
       "    }\n",
       "\n",
       "    .dataframe tbody tr th {\n",
       "        vertical-align: top;\n",
       "    }\n",
       "\n",
       "    .dataframe thead th {\n",
       "        text-align: right;\n",
       "    }\n",
       "</style>\n",
       "<table border=\"1\" class=\"dataframe\">\n",
       "  <thead>\n",
       "    <tr style=\"text-align: right;\">\n",
       "      <th></th>\n",
       "      <th>0</th>\n",
       "      <th>1</th>\n",
       "      <th>2</th>\n",
       "    </tr>\n",
       "  </thead>\n",
       "  <tbody>\n",
       "    <tr>\n",
       "      <th>0</th>\n",
       "      <td>1</td>\n",
       "      <td>1</td>\n",
       "      <td>200.1</td>\n",
       "    </tr>\n",
       "    <tr>\n",
       "      <th>1</th>\n",
       "      <td>2</td>\n",
       "      <td>2</td>\n",
       "      <td>199.5</td>\n",
       "    </tr>\n",
       "    <tr>\n",
       "      <th>2</th>\n",
       "      <td>3</td>\n",
       "      <td>3</td>\n",
       "      <td>199.4</td>\n",
       "    </tr>\n",
       "    <tr>\n",
       "      <th>3</th>\n",
       "      <td>4</td>\n",
       "      <td>4</td>\n",
       "      <td>198.9</td>\n",
       "    </tr>\n",
       "    <tr>\n",
       "      <th>4</th>\n",
       "      <td>5</td>\n",
       "      <td>5</td>\n",
       "      <td>199.0</td>\n",
       "    </tr>\n",
       "  </tbody>\n",
       "</table>\n",
       "</div>"
      ],
      "text/plain": [
       "   0  1      2\n",
       "0  1  1  200.1\n",
       "1  2  2  199.5\n",
       "2  3  3  199.4\n",
       "3  4  4  198.9\n",
       "4  5  5  199.0"
      ]
     },
     "execution_count": 23,
     "metadata": {},
     "output_type": "execute_result"
    }
   ],
   "source": [
    "sales=pd.read_csv('data/BJsales.csv',header=None)\n",
    "sales.head()"
   ]
  },
  {
   "cell_type": "code",
   "execution_count": 24,
   "metadata": {},
   "outputs": [
    {
     "data": {
      "text/html": [
       "<div>\n",
       "<style scoped>\n",
       "    .dataframe tbody tr th:only-of-type {\n",
       "        vertical-align: middle;\n",
       "    }\n",
       "\n",
       "    .dataframe tbody tr th {\n",
       "        vertical-align: top;\n",
       "    }\n",
       "\n",
       "    .dataframe thead th {\n",
       "        text-align: right;\n",
       "    }\n",
       "</style>\n",
       "<table border=\"1\" class=\"dataframe\">\n",
       "  <thead>\n",
       "    <tr style=\"text-align: right;\">\n",
       "      <th></th>\n",
       "      <th>id</th>\n",
       "      <th>time</th>\n",
       "      <th>value</th>\n",
       "    </tr>\n",
       "  </thead>\n",
       "  <tbody>\n",
       "    <tr>\n",
       "      <th>0</th>\n",
       "      <td>1</td>\n",
       "      <td>1</td>\n",
       "      <td>200.1</td>\n",
       "    </tr>\n",
       "    <tr>\n",
       "      <th>1</th>\n",
       "      <td>2</td>\n",
       "      <td>2</td>\n",
       "      <td>199.5</td>\n",
       "    </tr>\n",
       "    <tr>\n",
       "      <th>2</th>\n",
       "      <td>3</td>\n",
       "      <td>3</td>\n",
       "      <td>199.4</td>\n",
       "    </tr>\n",
       "    <tr>\n",
       "      <th>3</th>\n",
       "      <td>4</td>\n",
       "      <td>4</td>\n",
       "      <td>198.9</td>\n",
       "    </tr>\n",
       "    <tr>\n",
       "      <th>4</th>\n",
       "      <td>5</td>\n",
       "      <td>5</td>\n",
       "      <td>199.0</td>\n",
       "    </tr>\n",
       "  </tbody>\n",
       "</table>\n",
       "</div>"
      ],
      "text/plain": [
       "   id  time  value\n",
       "0   1     1  200.1\n",
       "1   2     2  199.5\n",
       "2   3     3  199.4\n",
       "3   4     4  198.9\n",
       "4   5     5  199.0"
      ]
     },
     "execution_count": 24,
     "metadata": {},
     "output_type": "execute_result"
    }
   ],
   "source": [
    "sales=pd.read_csv('data/BJsales.csv',names=[\"id\",'time','value'])\n",
    "sales.head()"
   ]
  },
  {
   "cell_type": "markdown",
   "metadata": {},
   "source": [
    "Reading **Excle** file using **pandas**"
   ]
  },
  {
   "cell_type": "code",
   "execution_count": 27,
   "metadata": {},
   "outputs": [
    {
     "name": "stdout",
     "output_type": "stream",
     "text": [
      "['HairEyeColor', 'Nile']\n"
     ]
    },
    {
     "data": {
      "text/html": [
       "<div>\n",
       "<style scoped>\n",
       "    .dataframe tbody tr th:only-of-type {\n",
       "        vertical-align: middle;\n",
       "    }\n",
       "\n",
       "    .dataframe tbody tr th {\n",
       "        vertical-align: top;\n",
       "    }\n",
       "\n",
       "    .dataframe thead th {\n",
       "        text-align: right;\n",
       "    }\n",
       "</style>\n",
       "<table border=\"1\" class=\"dataframe\">\n",
       "  <thead>\n",
       "    <tr style=\"text-align: right;\">\n",
       "      <th></th>\n",
       "      <th>ID</th>\n",
       "      <th>Hair</th>\n",
       "      <th>Eye</th>\n",
       "      <th>Sex</th>\n",
       "      <th>Freq</th>\n",
       "    </tr>\n",
       "  </thead>\n",
       "  <tbody>\n",
       "    <tr>\n",
       "      <th>0</th>\n",
       "      <td>1</td>\n",
       "      <td>Black</td>\n",
       "      <td>Brown</td>\n",
       "      <td>Male</td>\n",
       "      <td>32</td>\n",
       "    </tr>\n",
       "    <tr>\n",
       "      <th>1</th>\n",
       "      <td>2</td>\n",
       "      <td>Brown</td>\n",
       "      <td>Brown</td>\n",
       "      <td>Male</td>\n",
       "      <td>53</td>\n",
       "    </tr>\n",
       "    <tr>\n",
       "      <th>2</th>\n",
       "      <td>3</td>\n",
       "      <td>Red</td>\n",
       "      <td>Brown</td>\n",
       "      <td>Male</td>\n",
       "      <td>10</td>\n",
       "    </tr>\n",
       "    <tr>\n",
       "      <th>3</th>\n",
       "      <td>4</td>\n",
       "      <td>Blond</td>\n",
       "      <td>Brown</td>\n",
       "      <td>Male</td>\n",
       "      <td>3</td>\n",
       "    </tr>\n",
       "    <tr>\n",
       "      <th>4</th>\n",
       "      <td>5</td>\n",
       "      <td>Black</td>\n",
       "      <td>Blue</td>\n",
       "      <td>Male</td>\n",
       "      <td>11</td>\n",
       "    </tr>\n",
       "  </tbody>\n",
       "</table>\n",
       "</div>"
      ],
      "text/plain": [
       "   ID   Hair    Eye   Sex  Freq\n",
       "0   1  Black  Brown  Male    32\n",
       "1   2  Brown  Brown  Male    53\n",
       "2   3    Red  Brown  Male    10\n",
       "3   4  Blond  Brown  Male     3\n",
       "4   5  Black   Blue  Male    11"
      ]
     },
     "execution_count": 27,
     "metadata": {},
     "output_type": "execute_result"
    }
   ],
   "source": [
    "file=\"data/example.xlsx\"\n",
    "myfile=pd.ExcelFile(file)\n",
    "print(myfile.sheet_names)\n",
    "dataframe=myfile.parse(\"HairEyeColor\")#把HairEyeColor这个sheet中元素提取成一个dataframe\n",
    "dataframe.head()"
   ]
  },
  {
   "cell_type": "markdown",
   "metadata": {},
   "source": [
    "Reading **pdf** file using **PyPDF2**"
   ]
  },
  {
   "cell_type": "code",
   "execution_count": 33,
   "metadata": {},
   "outputs": [
    {
     "name": "stdout",
     "output_type": "stream",
     "text": [
      "Collecting PyPDF2\n",
      "  Using cached PyPDF2-1.26.0.tar.gz (77 kB)\n",
      "Building wheels for collected packages: PyPDF2\n",
      "  Building wheel for PyPDF2 (setup.py): started\n",
      "  Building wheel for PyPDF2 (setup.py): finished with status 'done'\n",
      "  Created wheel for PyPDF2: filename=PyPDF2-1.26.0-py3-none-any.whl size=61087 sha256=56af7a06394f0ed756f04b9089c63a7d4c030678395e109ae5afd9cd6f9d39c1\n",
      "  Stored in directory: c:\\users\\der\\appdata\\local\\pip\\cache\\wheels\\80\\1a\\24\\648467ade3a77ed20f35cfd2badd32134e96dd25ca811e64b3\n",
      "Successfully built PyPDF2\n",
      "Installing collected packages: PyPDF2\n",
      "Successfully installed PyPDF2-1.26.0\n",
      "Note: you may need to restart the kernel to use updated packages.\n"
     ]
    }
   ],
   "source": [
    "pip install PyPDF2"
   ]
  },
  {
   "cell_type": "code",
   "execution_count": 6,
   "metadata": {},
   "outputs": [
    {
     "name": "stdout",
     "output_type": "stream",
     "text": [
      "MixedFrequencyDataSamplingRegression\n",
      "Models:the\n",
      "RPackage\n",
      "midasr\n",
      "EricGhysels\n",
      "UniversityofNorthCarolina\n",
      "VirmantasKvedaras\n",
      "VilniusUniversity\n",
      "VaidotasZemlys\n",
      "VilniusUniversity\n",
      "Abstract\n",
      "Regressionmodelsinvolvingdatasampledatdi\n",
      "!\n",
      "erentfrequenciesareofgeneralin-\n",
      "terest.Inthisdocumentthe\n",
      "Rpackage\n",
      "midasr\n",
      "isdescribedwithinaMIDASregression\n",
      "frameworkwithfunctionalconstraintsonparametersputforwardinworkby\n",
      "Ghysels,\n",
      "Santa-Clara,andValkanov\n",
      "(2002),Ghysels,Santa-Clara,andValkanov\n",
      "(2006a)and\n",
      "An-\n",
      "dreou,Ghysels,andKourtellos\n",
      "(2010).Keywords\n",
      ":MIDAS,speciÞcationtest.\n",
      "1.Introduction\n",
      "Regressionmodelsinvolvingdatasampledatdi\n",
      "!\n",
      "erentfrequenciesareofgeneralinterest.In\n",
      "thisdocumentweintroducea\n",
      "Rpackage\n",
      "midasr\n",
      "fortheregressionmodelingwiththemixed\n",
      "frequencydatabasedonaframeworkputforwardinrecentworkby\n",
      "Ghysels\n",
      "etal.\n",
      "(2002),Ghysels\n",
      "etal.\n",
      "(2006a)and\n",
      "Andreou\n",
      "etal.\n",
      "(2010)usingsocalledMIDAS,meaningMi(xed)\n",
      "Da(ta)S(ampling),regressions.\n",
      "1Inageneralframeworkofregressionswithfunctionalconstraintsonparameters,the\n",
      "midasr\n",
      "packagenotonlyprovidessimilarfunctionalitywithinastandard\n",
      "Rframeworkofthemodel\n",
      "speciÞcationcomparabletothatavailableintheusualfunctions\n",
      "lmornls,butalsodeals\n",
      "withanextendedmodelspeciÞcationanalysisforMIDASregressions.\n",
      "SeveralrecentsurveysonthetopicofMIDASareworthmentioningattheoutset.They\n",
      "are:\n",
      "Andreou,Ghysels,andKourtellos\n",
      "(2011)whoreviewmoreextensivelysomeofthema-\n",
      "terialsummarizedinthisdocument,\n",
      "Armesto,Engemann,andOwyang\n",
      "(2010)whoprovidea\n",
      "verysimpleintroductiontoMIDASregressionsandÞnally\n",
      "GhyselsandValkanov\n",
      "(2012)who\n",
      "discussvolatilitymodelsandmixeddatasampling.\n",
      "EconometricanalysisofMIDASregressionsappearsin\n",
      "Ghysels,Sinko,andValkanov\n",
      "(2006b),Andreou\n",
      "etal.\n",
      "(2010),Bai,Ghysels,andWright\n",
      "(2012),KvedarasandRaÿckauskas\n",
      "(2010),RodriguezandPuggioni\n",
      "(2010),Wohlrabe\n",
      "(2009),amongothers.\n",
      "MIDASregressioncanalsobeviewedasareducedformrepresentationofthelinearprojection\n",
      "whichemergesfromastatespacemodelapproach-byreducedformwemeanthattheMIDAS\n",
      "regressiondoesnotrequirethespeciÞcationofafullstatespacesystemofequations.\n",
      "Bai\n",
      "etal.\n",
      "(2012)showthatinsomecasestheMIDASregressionisanexactrepresentationoftheKalman\n",
      "1Ghysels\n",
      "(2013)alsodevelopedapackagefor\n",
      "MATLAB\n",
      "whichdealswiththeestimationandinformation\n",
      "criteria-basedspeciÞcationofMIDASregressionsaswellasforecastingandnowcastingofslowfrequencyseries.\n",
      "\n"
     ]
    }
   ],
   "source": [
    "import PyPDF2\n",
    "file=open('data/midasr.pdf','rb')\n",
    "reader=PyPDF2.PdfFileReader(file)\n",
    "reader.numPages\n",
    "pageobj=reader.getPage(0)\n",
    "print(pageobj.extractText())\n",
    "file.close()"
   ]
  }
 ],
 "metadata": {
  "kernelspec": {
   "display_name": "Python 3",
   "language": "python",
   "name": "python3"
  },
  "language_info": {
   "codemirror_mode": {
    "name": "ipython",
    "version": 3
   },
   "file_extension": ".py",
   "mimetype": "text/x-python",
   "name": "python",
   "nbconvert_exporter": "python",
   "pygments_lexer": "ipython3",
   "version": "3.7.6"
  }
 },
 "nbformat": 4,
 "nbformat_minor": 4
}
