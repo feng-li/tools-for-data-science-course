{
 "cells": [
  {
   "cell_type": "code",
   "execution_count": 1,
   "metadata": {},
   "outputs": [
    {
     "name": "stdout",
     "output_type": "stream",
     "text": [
      "[[1. 0. 0. 0. 0. 0. 0. 0. 0.]\n",
      " [1. 1. 0. 0. 0. 0. 0. 0. 0.]\n",
      " [0. 0. 0. 1. 0. 0. 0. 0. 0.]\n",
      " [1. 0. 0. 0. 0. 0. 0. 0. 0.]\n",
      " [1. 0. 1. 0. 0. 0. 0. 0. 0.]\n",
      " [0. 1. 1. 0. 1. 0. 0. 0. 0.]\n",
      " [0. 1. 0. 0. 0. 0. 0. 0. 1.]\n",
      " [0. 0. 1. 0. 0. 1. 1. 0. 0.]\n",
      " [0. 0. 0. 0. 1. 0. 0. 0. 0.]\n",
      " [1. 0. 0. 0. 0. 0. 0. 0. 0.]\n",
      " [1. 0. 0. 0. 0. 0. 0. 0. 0.]\n",
      " [0. 0. 0. 1. 0. 0. 0. 1. 0.]\n",
      " [0. 0. 0. 0. 0. 1. 1. 1. 0.]\n",
      " [0. 0. 0. 0. 0. 0. 1. 0. 0.]\n",
      " [0. 1. 0. 0. 0. 0. 0. 0. 0.]\n",
      " [0. 0. 0. 0. 0. 0. 1. 0. 0.]\n",
      " [0. 0. 0. 0. 0. 1. 0. 0. 0.]\n",
      " [0. 1. 0. 0. 1. 0. 0. 0. 0.]\n",
      " [0. 0. 0. 0. 0. 0. 0. 1. 0.]\n",
      " [0. 1. 0. 0. 0. 0. 0. 0. 1.]\n",
      " [0. 0. 0. 0. 0. 0. 0. 1. 0.]\n",
      " [0. 0. 0. 0. 0. 0. 0. 1. 0.]\n",
      " [0. 0. 0. 0. 0. 1. 0. 0. 0.]\n",
      " [0. 0. 0. 1. 0. 0. 0. 0. 0.]\n",
      " [0. 1. 0. 0. 1. 0. 0. 0. 0.]\n",
      " [0. 0. 0. 0. 0. 1. 0. 0. 0.]\n",
      " [0. 0. 0. 0. 1. 0. 0. 0. 0.]\n",
      " [0. 0. 0. 0. 0. 0. 0. 1. 0.]\n",
      " [0. 0. 0. 0. 0. 0. 0. 1. 1.]\n",
      " [0. 0. 1. 1. 0. 0. 0. 0. 0.]\n",
      " [0. 0. 0. 0. 0. 0. 0. 1. 0.]\n",
      " [0. 2. 0. 1. 1. 1. 1. 1. 0.]\n",
      " [0. 0. 0. 0. 1. 0. 0. 0. 0.]\n",
      " [0. 0. 0. 0. 0. 1. 0. 0. 0.]\n",
      " [0. 0. 0. 0. 0. 0. 1. 1. 1.]\n",
      " [0. 0. 0. 0. 0. 0. 1. 0. 0.]\n",
      " [1. 0. 0. 1. 0. 0. 0. 0. 0.]\n",
      " [0. 0. 0. 0. 1. 0. 0. 0. 0.]\n",
      " [0. 0. 1. 0. 0. 0. 0. 0. 0.]\n",
      " [1. 0. 0. 0. 0. 0. 0. 0. 0.]\n",
      " [0. 1. 1. 2. 0. 0. 0. 0. 0.]\n",
      " [0. 0. 0. 0. 1. 0. 0. 0. 0.]] \n",
      " {'for': 0, 'computer': 1, 'engineering': 2, 'abc': 3, 'interface': 4, 'user': 5, 'a': 6, 'the': 7, 'relation': 8, 'lab': 9, 'machine': 10, 'and': 11, 'trees': 12, 'paths': 13, 'opinion': 14, 'intersection': 15, 'random': 16, 'time': 17, 'well': 18, 'survey': 19, 'quasi': 20, 'ordering': 21, 'unordered': 22, 'testing': 23, 'response': 24, 'generation': 25, 'to': 26, 'iv': 27, 'minors': 28, 'eps': 29, 'widths': 30, 'of': 31, 'measurement': 32, 'binary': 33, 'graph': 34, 'in': 35, 'human': 36, 'error': 37, 'management': 38, 'applications': 39, 'system': 40, 'perceived': 41}\n"
     ]
    }
   ],
   "source": [
    "from collections import Counter\n",
    "from itertools import chain\n",
    "import numpy as np\n",
    "documents = [\"Human machine interface for lab abc computer applications\",\n",
    "             \"A survey of user opinion of computer system response time\",\n",
    "             \"The EPS user interface management system\",\n",
    "             \"System and human system engineering testing of EPS\",\n",
    "             \"Relation of user perceived response time to error measurement\",\n",
    "             \"The generation of random binary unordered trees\",\n",
    "             \"The intersection graph of paths in trees\", \n",
    "             \"Graph minors IV Widths of trees and well quasi ordering\",\n",
    "             \"Graph minors A survey\"]\n",
    "def word_matrix(documents):    \n",
    "    '''计算词频矩阵'''    \n",
    "    # 所有字母转换位小写    \n",
    "    docs = [d.lower() for d in documents]    \n",
    "    # 分词    \n",
    "    docs = [d.split() for d in docs]    \n",
    "    # 获取所有词    \n",
    "    words = list(set(chain(*docs)))    \n",
    "    #print(words)    \n",
    "    # 词到ID的映射, 使得每个词有一个ID    \n",
    "    dictionary = dict(zip(words, range(len(words))))    \n",
    "    #print(dictionary)    \n",
    "    # 创建一个空的矩阵, 行数等于词数, 列数等于文档数    \n",
    "    matrix = np.zeros((len(words), len(docs)))    \n",
    "    # 逐个文档统计词频    \n",
    "    for col, d in enumerate(docs):  # col 表示矩阵第几列，d表示第几个文档。\n",
    "        # 统计词频        \n",
    "        count = Counter(d)#其实是个词典，词典元素为：{单词：次数}。        \n",
    "        for word in count:            \n",
    "            # 用word的id表示word在矩阵中的行数，该文档表示列数。            \n",
    "            id = dictionary[word]            # 把词频赋值给矩阵            \n",
    "            matrix[id, col] = count[word]    \n",
    "    return matrix, dictionary \n",
    "matrix, dictionary = word_matrix(documents)\n",
    "print(matrix,'\\n',dictionary)\n"
   ]
  },
  {
   "cell_type": "code",
   "execution_count": null,
   "metadata": {},
   "outputs": [],
   "source": []
  }
 ],
 "metadata": {
  "kernelspec": {
   "display_name": "Python 3",
   "language": "python",
   "name": "python3"
  },
  "language_info": {
   "codemirror_mode": {
    "name": "ipython",
    "version": 3
   },
   "file_extension": ".py",
   "mimetype": "text/x-python",
   "name": "python",
   "nbconvert_exporter": "python",
   "pygments_lexer": "ipython3",
   "version": "3.7.6"
  }
 },
 "nbformat": 4,
 "nbformat_minor": 4
}
