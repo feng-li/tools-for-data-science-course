{
 "cells": [
  {
   "cell_type": "code",
   "execution_count": 2,
   "metadata": {},
   "outputs": [
    {
     "name": "stdout",
     "output_type": "stream",
     "text": [
      "Collecting jieba\n",
      "  Downloading jieba-0.42.1.tar.gz (19.2 MB)\n",
      "\u001b[K     |████████████████████████████████| 19.2 MB 3.0 MB/s eta 0:00:01\n",
      "\u001b[?25hBuilding wheels for collected packages: jieba\n",
      "  Building wheel for jieba (setup.py) ... \u001b[?25ldone\n",
      "\u001b[?25h  Created wheel for jieba: filename=jieba-0.42.1-py3-none-any.whl size=19314478 sha256=ea28adda38babea26533af40791276f6e4b373f6aa257d9bf6532ddf57198f37\n",
      "  Stored in directory: /Users/yangzhiwei/Library/Caches/pip/wheels/24/aa/17/5bc7c72e9a37990a9620cc3aad0acad1564dcff6dbc2359de3\n",
      "Successfully built jieba\n",
      "Installing collected packages: jieba\n",
      "Successfully installed jieba-0.42.1\n"
     ]
    }
   ],
   "source": [
    "!pip install jieba"
   ]
  },
  {
   "cell_type": "code",
   "execution_count": 3,
   "metadata": {},
   "outputs": [
    {
     "name": "stderr",
     "output_type": "stream",
     "text": [
      "Building prefix dict from the default dictionary ...\n",
      "Dumping model to file cache /var/folders/nr/70l4l_8x0vz5g_zq15ncmvw40000gn/T/jieba.cache\n",
      "Loading model cost 0.576 seconds.\n",
      "Prefix dict has been built successfully.\n"
     ]
    },
    {
     "data": {
      "text/plain": [
       "['香港',\n",
       " '疫情',\n",
       " '病例',\n",
       " '复课',\n",
       " '本地',\n",
       " '感染',\n",
       " '个案',\n",
       " '新冠',\n",
       " '13',\n",
       " '28',\n",
       " '夜店',\n",
       " '措施',\n",
       " '解除',\n",
       " '特区政府',\n",
       " '该名']"
      ]
     },
     "execution_count": 3,
     "metadata": {},
     "output_type": "execute_result"
    }
   ],
   "source": [
    "import jieba.analyse\n",
    "sentence = (\n",
    "\"据香港“东网”报道，香港新冠肺炎疫情再起波澜，在连续23天无本地确诊病例后，香港13日新增2例新冠肺炎本地病例，以及1例输入型确诊病例，输入病例由巴基斯坦回港。 \\\n",
    "特区政府食物及卫生局副局长徐德义表示，特区政府认为现在暂毋须恢复3月底时的严格防疫措施。教育局局长杨润雄13日表示，疫情或会出现反复及变化，卫生防护中心会就个案进行追踪及隔离，教育局会视乎调查结果，才决定是否要延迟复课，但至今日为止，分阶段复课的安排维持不变。他表示，如果有特别情况，需要改变复课安排时，会尽快通知公众。 \\\n",
    "据香港文汇报此前报道，12日下午一名居于荃湾66岁女子新冠病毒初步检测呈阳性，由于该名病人称3个月内都无出境旅游记录。该病人发烧超过一天才求医，其两名密切接触者均有病征。此前香港卫生署专家表示，若连续28天没有本地感染个案，代表疫情受控。该名初步检测呈阳性反应的病人属于源头不明的本地个案，反映香港有隐形传播链，28天的“疫情指标线”需要重新计算。 \\\n",
    "报道指出，港大感染及传染病中心总监何栢良警告称，韩国最近再现夜店聚集性感染病例，原因是韩国在4月20日解除关闭娱乐场所的措施，5月6日解除保持社交距离的措施，导致市民在长假时到夜店狂欢，因而再次暴发，这值得香港借鉴，社区若继续有感染，解除社交距离措施会增加疫情传播风险。\")\n",
    "\n",
    "jieba.analyse.extract_tags(sentence, topK=15, withWeight=False, allowPOS=())"
   ]
  },
  {
   "cell_type": "code",
   "execution_count": 4,
   "metadata": {},
   "outputs": [
    {
     "data": {
      "text/plain": [
       "['香港',\n",
       " '感染',\n",
       " '病例',\n",
       " '疫情',\n",
       " '措施',\n",
       " '个案',\n",
       " '复课',\n",
       " '病人',\n",
       " '表示',\n",
       " '解除',\n",
       " '距离',\n",
       " '新冠',\n",
       " '需要',\n",
       " '社交',\n",
       " '安排']"
      ]
     },
     "execution_count": 4,
     "metadata": {},
     "output_type": "execute_result"
    }
   ],
   "source": [
    "jieba.analyse.textrank(sentence, topK=15, withWeight=False, \n",
    "                       allowPOS=('ns', 'n', 'vn', 'v'))"
   ]
  },
  {
   "cell_type": "code",
   "execution_count": null,
   "metadata": {},
   "outputs": [],
   "source": []
  }
 ],
 "metadata": {
  "kernelspec": {
   "display_name": "Python 3",
   "language": "python",
   "name": "python3"
  },
  "language_info": {
   "codemirror_mode": {
    "name": "ipython",
    "version": 3
   },
   "file_extension": ".py",
   "mimetype": "text/x-python",
   "name": "python",
   "nbconvert_exporter": "python",
   "pygments_lexer": "ipython3",
   "version": "3.7.6"
  }
 },
 "nbformat": 4,
 "nbformat_minor": 4
}
