{
 "cells": [
  {
   "cell_type": "markdown",
   "metadata": {},
   "source": [
    "# Web scraping with `Selenium` web driver\n",
    "\n",
    "Since Selenium WebDriver is created for browser automation, it can be easily used for scraping data from the web. Selenium is to select and navigate the components of a website that are non-static and need to be clicked or chosen from drop-down menus. \n",
    "\n",
    "If there is any content on the page rendered by javascript then Selenium webdriver wait for the entire page to load before crwaling whereas other libs like BeautifulSoup,Scrapy and Requests works only on static pages.\n",
    "\n",
    "Any browsyer actions can be done with the help of Selenium webdriver, if there is any content on the page displayed by on button click or Scrolling or Page Navigation.\n",
    "\n",
    "#### Pros of using WebDriver\n",
    "\n",
    "- WebDriver can simulate a real user working with a browser\n",
    "- WebDriver can scrape a web site using a specific browser\n",
    "- WebDriver can scrape complicated web pages with dynamic content\n",
    "- WebDriver is able to take screenshots of the webpage\n",
    "\n",
    "#### Cons of using WebDriver\n",
    "\n",
    "- The program becomes quite large\n",
    "- The scraping process is slower\n",
    "- The browser generates a bigger network traffic\n",
    "- The scraping can be detected by such simple means as Google Analytics"
   ]
  },
  {
   "cell_type": "markdown",
   "metadata": {},
   "source": [
    "## Web Scraping Bing with `Selenium`  Firefox driver\n",
    "\n",
    "Let’s now load the main bing search page and makes a query to look for “feng li”: You need to install `selenium` module for Python. You also need `geckodriver` and place it in a directory where `$PATH` can find. You could download it from https://github.com/mozilla/geckodriver/releases ."
   ]
  },
  {
   "cell_type": "code",
   "execution_count": 20,
   "metadata": {},
   "outputs": [],
   "source": [
    "#driver.close()\n",
    "#driver.quit()"
   ]
  },
  {
   "cell_type": "markdown",
   "metadata": {},
   "source": [
    "## Web Scraping Baidu with headless web driver\n",
    "\n",
    "To use a headless firefox requires a bit of configuration."
   ]
  },
  {
   "cell_type": "code",
   "execution_count": 21,
   "metadata": {},
   "outputs": [
    {
     "name": "stderr",
     "output_type": "stream",
     "text": [
      "/Users/yangzhiwei/opt/anaconda3/lib/python3.7/site-packages/ipykernel_launcher.py:6: DeprecationWarning: use options instead of firefox_options\n",
      "  \n"
     ]
    },
    {
     "name": "stdout",
     "output_type": "stream",
     "text": [
      "Firefox Headless Browser Invoked\n"
     ]
    }
   ],
   "source": [
    "from selenium import webdriver\n",
    "from selenium.webdriver.firefox.options import Options\n",
    "\n",
    "options = Options()\n",
    "options.add_argument(\"--headless\")\n",
    "driver = webdriver.Firefox(firefox_options=options)\n",
    "print(\"Firefox Headless Browser Invoked\")"
   ]
  },
  {
   "cell_type": "code",
   "execution_count": 22,
   "metadata": {},
   "outputs": [],
   "source": [
    "driver.get(\"https://mail.wo.cn/\")"
   ]
  },
  {
   "cell_type": "code",
   "execution_count": 23,
   "metadata": {},
   "outputs": [],
   "source": [
    "\n",
    "\n",
    "driver.find_element_by_id(\"uid\").send_keys(\"13241442299\")\n",
    "driver.find_element_by_id(\"password\").send_keys(\"Sakura111\")\n",
    "\n",
    "\n",
    "\n"
   ]
  },
  {
   "cell_type": "code",
   "execution_count": null,
   "metadata": {
    "scrolled": true
   },
   "outputs": [],
   "source": []
  },
  {
   "cell_type": "code",
   "execution_count": 24,
   "metadata": {},
   "outputs": [],
   "source": [
    "driver.close()"
   ]
  },
  {
   "cell_type": "markdown",
   "metadata": {},
   "source": [
    "# Lab\n",
    "\n",
    "Use `selenium` to implement the case we studied with `BeautifulSoup` in **L2**."
   ]
  }
 ],
 "metadata": {
  "kernelspec": {
   "display_name": "Python 3",
   "language": "python",
   "name": "python3"
  },
  "language_info": {
   "codemirror_mode": {
    "name": "ipython",
    "version": 3
   },
   "file_extension": ".py",
   "mimetype": "text/x-python",
   "name": "python",
   "nbconvert_exporter": "python",
   "pygments_lexer": "ipython3",
   "version": "3.7.6"
  }
 },
 "nbformat": 4,
 "nbformat_minor": 2
}
