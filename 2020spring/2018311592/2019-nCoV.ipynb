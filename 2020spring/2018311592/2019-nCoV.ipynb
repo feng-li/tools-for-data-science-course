{
 "cells": [
  {
   "cell_type": "code",
   "execution_count": 28,
   "metadata": {},
   "outputs": [
    {
     "name": "stdout",
     "output_type": "stream",
     "text": [
      "多家投行维持百度增持评级\u00012020-04-09\u0001北国网\u0001原标题：多家投行维持百度增持评级    来源：北国网  4月9日消息 近期多家华尔街分析机构看好百度并给出了150美元的目标价 伯恩斯坦(Bernstein)更是在报告中强调 百度是该机构在特殊时期 为数不多增持评级企业之一 \u0001https://finance.sina.com.cn/stock/relnews/us/2020-04-09/doc-iirczymi5328159.shtml\n"
     ]
    }
   ],
   "source": [
    "import logging\n",
    "import requests\n",
    "import sys\n",
    "import urllib\n",
    "\n",
    "from bs4 import BeautifulSoup\n",
    "from collections import OrderedDict\n",
    "from urllib.parse import urlencode\n",
    "\n",
    "def get_list(comp, page):\n",
    "    \"\"\"Function to get  web list pages for a given company and page number.\n",
    "\n",
    "    Args:\n",
    "        comp: Company name.\n",
    "        page: The page number.\n",
    "\n",
    "    Returns:\n",
    "        newsData: A dictionary with news title as its key and other details as values.\n",
    "\n",
    "    \"\"\"\n",
    "    newsData = OrderedDict()\n",
    "    href = 'http://search.sina.com.cn/?q=%s&c=news&from=index&col=&range=all&source=&country=&size=10&stime=&etime=&time=&dpc=0&a=&ps=0&pf=0&page=%s' % (comp, page) # comp -> first %s; page -> 2nd %s; col=1_7 -> financial news in sina\n",
    "    html = requests.get(href)\n",
    "    # Parsing html\n",
    "    soup = BeautifulSoup(html.content, 'html.parser')\n",
    "    divs = soup.findAll('div', {\"class\": \"r-info r-info2\"})\n",
    "    for div in divs:\n",
    "        head = div.findAll('h2')[0]\n",
    "        # News title\n",
    "        titleinfo = head.find('a')\n",
    "        title = titleinfo.get_text()\n",
    "        # News url\n",
    "        url = titleinfo['href']\n",
    "        # Other info\n",
    "        otherinfo = head.find('span', {\"class\": \"fgray_time\"}).get_text()\n",
    "        source, date, time = otherinfo.split()\n",
    "        # News abstract\n",
    "        abstract = div.find('p', {\"class\": \"content\"}).get_text()\n",
    "        newsData[title] = [date, source, abstract, url]\n",
    "    return newsData\n",
    "\n",
    "if __name__ == \"__main__\":\n",
    "    compRawStr = '百度'\n",
    "    # Dealing with character encoding\n",
    "    comp = compRawStr.encode('gbk')\n",
    "    d = {'q': comp}\n",
    "    pname = urlencode(d)\n",
    "    # Scraping and printing the first two pages\n",
    "    for page in range(3)[1:]:\n",
    "        newsData = get_list(pname, page)\n",
    "        for ky in newsData:\n",
    "            print('\\001'.join([ky] + newsData[ky])) # \"\\001\" as separator\n",
    "\n",
    "# for i in range(1,10,1):\n",
    "#     print(get_list('2019-nCoV',1))\n",
    "\n",
    "            \n",
    "            \n"
   ]
  },
  {
   "cell_type": "code",
   "execution_count": 29,
   "metadata": {},
   "outputs": [
    {
     "name": "stdout",
     "output_type": "stream",
     "text": [
      "OrderedDict([('小米“无人发表会”，阿里“救人即是自救”，疫情逼出营销新手段', ['2020-04-09', 'BOSS说财经', ' 谁也没能预测到 2020年以大疫开局 这场爆发于武汉 被命名为2019-nCoV的新型冠状病毒引发的疫情迅速席卷整个中国 武汉封城、春节假期一延再延、全国各地严禁所有聚集性活动、严禁出行 这注定是一场载入史册的抗疫战争', 'https://k.sina.com.cn/article_6372312247_17bd1c4b700100moa7.html?from=tech']), ('投资者提问：请问公司具备新冠核酸检测资质吗？是否有相关业务进行', ['2020-04-09', '问董秘', '采用政府认证的新型冠状病毒 2019-nCoV核酸检测试剂盒荧光PCR法检测 参与检测的专业医学检测机构均通过生物安全实验室认证 感谢您的关注 谢谢！    查看更多董秘问答>>   ', 'https://finance.sina.com.cn/stock/relnews/dongmiqa/2020-04-09/doc-iirczymi5322362.shtml'])])\n",
      "OrderedDict([('小米“无人发表会”，阿里“救人即是自救”，疫情逼出营销新手段', ['2020-04-09', 'BOSS说财经', ' 谁也没能预测到 2020年以大疫开局 这场爆发于武汉 被命名为2019-nCoV的新型冠状病毒引发的疫情迅速席卷整个中国 武汉封城、春节假期一延再延、全国各地严禁所有聚集性活动、严禁出行 这注定是一场载入史册的抗疫战争', 'https://k.sina.com.cn/article_6372312247_17bd1c4b700100moa7.html?from=tech']), ('投资者提问：请问公司具备新冠核酸检测资质吗？是否有相关业务进行', ['2020-04-09', '问董秘', '采用政府认证的新型冠状病毒 2019-nCoV核酸检测试剂盒荧光PCR法检测 参与检测的专业医学检测机构均通过生物安全实验室认证 感谢您的关注 谢谢！    查看更多董秘问答>>   ', 'https://finance.sina.com.cn/stock/relnews/dongmiqa/2020-04-09/doc-iirczymi5322362.shtml'])])\n",
      "OrderedDict([('小米“无人发表会”，阿里“救人即是自救”，疫情逼出营销新手段', ['2020-04-09', 'BOSS说财经', ' 谁也没能预测到 2020年以大疫开局 这场爆发于武汉 被命名为2019-nCoV的新型冠状病毒引发的疫情迅速席卷整个中国 武汉封城、春节假期一延再延、全国各地严禁所有聚集性活动、严禁出行 这注定是一场载入史册的抗疫战争', 'https://t.cj.sina.com.cn/articles/view/6372312247/17bd1c4b700100moa7?from=tech']), ('投资者提问：请问公司具备新冠核酸检测资质吗？是否有相关业务进行', ['2020-04-09', '问董秘', '采用政府认证的新型冠状病毒 2019-nCoV核酸检测试剂盒荧光PCR法检测 参与检测的专业医学检测机构均通过生物安全实验室认证 感谢您的关注 谢谢！    查看更多董秘问答>>   ', 'https://finance.sina.com.cn/stock/relnews/dongmiqa/2020-04-09/doc-iirczymi5322362.shtml'])])\n",
      "OrderedDict([('小米“无人发表会”，阿里“救人即是自救”，疫情逼出营销新手段', ['2020-04-09', 'BOSS说财经', ' 谁也没能预测到 2020年以大疫开局 这场爆发于武汉 被命名为2019-nCoV的新型冠状病毒引发的疫情迅速席卷整个中国 武汉封城、春节假期一延再延、全国各地严禁所有聚集性活动、严禁出行 这注定是一场载入史册的抗疫战争', 'https://k.sina.com.cn/article_6372312247_17bd1c4b700100moa7.html?from=tech']), ('投资者提问：请问公司具备新冠核酸检测资质吗？是否有相关业务进行', ['2020-04-09', '问董秘', '采用政府认证的新型冠状病毒 2019-nCoV核酸检测试剂盒荧光PCR法检测 参与检测的专业医学检测机构均通过生物安全实验室认证 感谢您的关注 谢谢！    查看更多董秘问答>>   ', 'https://finance.sina.com.cn/stock/relnews/dongmiqa/2020-04-09/doc-iirczymi5322362.shtml'])])\n",
      "OrderedDict([('小米“无人发表会”，阿里“救人即是自救”，疫情逼出营销新手段', ['2020-04-09', 'BOSS说财经', ' 谁也没能预测到 2020年以大疫开局 这场爆发于武汉 被命名为2019-nCoV的新型冠状病毒引发的疫情迅速席卷整个中国 武汉封城、春节假期一延再延、全国各地严禁所有聚集性活动、严禁出行 这注定是一场载入史册的抗疫战争', 'https://t.cj.sina.com.cn/articles/view/6372312247/17bd1c4b700100moa7?from=tech']), ('投资者提问：请问公司具备新冠核酸检测资质吗？是否有相关业务进行', ['2020-04-09', '问董秘', '采用政府认证的新型冠状病毒 2019-nCoV核酸检测试剂盒荧光PCR法检测 参与检测的专业医学检测机构均通过生物安全实验室认证 感谢您的关注 谢谢！    查看更多董秘问答>>   ', 'https://finance.sina.com.cn/stock/relnews/dongmiqa/2020-04-09/doc-iirczymi5322362.shtml'])])\n",
      "OrderedDict([('小米“无人发表会”，阿里“救人即是自救”，疫情逼出营销新手段', ['2020-04-09', 'BOSS说财经', ' 谁也没能预测到 2020年以大疫开局 这场爆发于武汉 被命名为2019-nCoV的新型冠状病毒引发的疫情迅速席卷整个中国 武汉封城、春节假期一延再延、全国各地严禁所有聚集性活动、严禁出行 这注定是一场载入史册的抗疫战争', 'https://t.cj.sina.com.cn/articles/view/6372312247/17bd1c4b700100moa7?from=tech']), ('投资者提问：请问公司具备新冠核酸检测资质吗？是否有相关业务进行', ['2020-04-09', '问董秘', '采用政府认证的新型冠状病毒 2019-nCoV核酸检测试剂盒荧光PCR法检测 参与检测的专业医学检测机构均通过生物安全实验室认证 感谢您的关注 谢谢！    查看更多董秘问答>>   ', 'https://finance.sina.com.cn/stock/relnews/dongmiqa/2020-04-09/doc-iirczymi5322362.shtml'])])\n",
      "OrderedDict([('小米“无人发表会”，阿里“救人即是自救”，疫情逼出营销新手段', ['2020-04-09', 'BOSS说财经', ' 谁也没能预测到 2020年以大疫开局 这场爆发于武汉 被命名为2019-nCoV的新型冠状病毒引发的疫情迅速席卷整个中国 武汉封城、春节假期一延再延、全国各地严禁所有聚集性活动、严禁出行 这注定是一场载入史册的抗疫战争', 'https://k.sina.com.cn/article_6372312247_17bd1c4b700100moa7.html?from=tech']), ('投资者提问：请问公司具备新冠核酸检测资质吗？是否有相关业务进行', ['2020-04-09', '问董秘', '采用政府认证的新型冠状病毒 2019-nCoV核酸检测试剂盒荧光PCR法检测 参与检测的专业医学检测机构均通过生物安全实验室认证 感谢您的关注 谢谢！    查看更多董秘问答>>   ', 'https://finance.sina.com.cn/stock/relnews/dongmiqa/2020-04-09/doc-iirczymi5322362.shtml'])])\n",
      "OrderedDict([('小米“无人发表会”，阿里“救人即是自救”，疫情逼出营销新手段', ['2020-04-09', 'BOSS说财经', ' 谁也没能预测到 2020年以大疫开局 这场爆发于武汉 被命名为2019-nCoV的新型冠状病毒引发的疫情迅速席卷整个中国 武汉封城、春节假期一延再延、全国各地严禁所有聚集性活动、严禁出行 这注定是一场载入史册的抗疫战争', 'https://k.sina.com.cn/article_6372312247_17bd1c4b700100moa7.html?from=tech']), ('投资者提问：请问公司具备新冠核酸检测资质吗？是否有相关业务进行', ['2020-04-09', '问董秘', '采用政府认证的新型冠状病毒 2019-nCoV核酸检测试剂盒荧光PCR法检测 参与检测的专业医学检测机构均通过生物安全实验室认证 感谢您的关注 谢谢！    查看更多董秘问答>>   ', 'https://finance.sina.com.cn/stock/relnews/dongmiqa/2020-04-09/doc-iirczymi5322362.shtml'])])\n",
      "OrderedDict([('小米“无人发表会”，阿里“救人即是自救”，疫情逼出营销新手段', ['2020-04-09', 'BOSS说财经', ' 谁也没能预测到 2020年以大疫开局 这场爆发于武汉 被命名为2019-nCoV的新型冠状病毒引发的疫情迅速席卷整个中国 武汉封城、春节假期一延再延、全国各地严禁所有聚集性活动、严禁出行 这注定是一场载入史册的抗疫战争', 'https://k.sina.com.cn/article_6372312247_17bd1c4b700100moa7.html?from=tech']), ('投资者提问：请问公司具备新冠核酸检测资质吗？是否有相关业务进行', ['2020-04-09', '问董秘', '采用政府认证的新型冠状病毒 2019-nCoV核酸检测试剂盒荧光PCR法检测 参与检测的专业医学检测机构均通过生物安全实验室认证 感谢您的关注 谢谢！    查看更多董秘问答>>   ', 'https://finance.sina.com.cn/stock/relnews/dongmiqa/2020-04-09/doc-iirczymi5322362.shtml'])])\n"
     ]
    }
   ],
   "source": [
    "for i in range(1,10,1):\n",
    "    print(get_list('2019-nCoV',1))\n",
    "\n",
    "\n"
   ]
  },
  {
   "cell_type": "code",
   "execution_count": 15,
   "metadata": {},
   "outputs": [
    {
     "name": "stdout",
     "output_type": "stream",
     "text": [
      "http://finance.sina.com.cn/roll/2017-07-06/doc-ifyhvyie0279853.shtml\n"
     ]
    }
   ],
   "source": []
  },
  {
   "cell_type": "code",
   "execution_count": 16,
   "metadata": {},
   "outputs": [
    {
     "name": "stdout",
     "output_type": "stream",
     "text": [
      "<_io.TextIOWrapper name='data/baidu_list' mode='r' encoding='UTF-8'>\n"
     ]
    }
   ],
   "source": []
  },
  {
   "cell_type": "code",
   "execution_count": 24,
   "metadata": {},
   "outputs": [
    {
     "name": "stdout",
     "output_type": "stream",
     "text": [
      "\n"
     ]
    }
   ],
   "source": []
  },
  {
   "cell_type": "code",
   "execution_count": null,
   "metadata": {},
   "outputs": [],
   "source": []
  }
 ],
 "metadata": {
  "kernelspec": {
   "display_name": "Python 3",
   "language": "python",
   "name": "python3"
  },
  "language_info": {
   "codemirror_mode": {
    "name": "ipython",
    "version": 3
   },
   "file_extension": ".py",
   "mimetype": "text/x-python",
   "name": "python",
   "nbconvert_exporter": "python",
   "pygments_lexer": "ipython3",
   "version": "3.7.6"
  }
 },
 "nbformat": 4,
 "nbformat_minor": 4
}
