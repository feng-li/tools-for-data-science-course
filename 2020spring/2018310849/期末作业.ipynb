{
 "cells": [
  {
   "cell_type": "code",
   "execution_count": 1,
   "metadata": {},
   "outputs": [],
   "source": [
    "import pandas as pd\n",
    "import numpy as np\n",
    "import re"
   ]
  },
  {
   "cell_type": "markdown",
   "metadata": {},
   "source": [
    "## 1.数据获取"
   ]
  },
  {
   "cell_type": "code",
   "execution_count": 16,
   "metadata": {},
   "outputs": [],
   "source": [
    "data = pd.read_csv('info.csv')#数据为安居客网站（https://beijing.anjuke.com/）爬取   地区：北京"
   ]
  },
  {
   "cell_type": "code",
   "execution_count": 17,
   "metadata": {},
   "outputs": [
    {
     "data": {
      "text/html": [
       "<div>\n",
       "<style scoped>\n",
       "    .dataframe tbody tr th:only-of-type {\n",
       "        vertical-align: middle;\n",
       "    }\n",
       "\n",
       "    .dataframe tbody tr th {\n",
       "        vertical-align: top;\n",
       "    }\n",
       "\n",
       "    .dataframe thead th {\n",
       "        text-align: right;\n",
       "    }\n",
       "</style>\n",
       "<table border=\"1\" class=\"dataframe\">\n",
       "  <thead>\n",
       "    <tr style=\"text-align: right;\">\n",
       "      <th></th>\n",
       "      <th>Unnamed: 0</th>\n",
       "      <th>TITLE</th>\n",
       "      <th>PRICE</th>\n",
       "      <th>ACE_PRICE</th>\n",
       "      <th>ANXUAN</th>\n",
       "      <th>HOUSES</th>\n",
       "      <th>AREA</th>\n",
       "      <th>FLOOR</th>\n",
       "      <th>YEAR</th>\n",
       "      <th>ADDRE</th>\n",
       "      <th>OTHERS</th>\n",
       "    </tr>\n",
       "  </thead>\n",
       "  <tbody>\n",
       "    <tr>\n",
       "      <th>0</th>\n",
       "      <td>0</td>\n",
       "      <td>\\n国誉府4室2卫户型方正无遮挡不临街低总价随时看</td>\n",
       "      <td>650.0</td>\n",
       "      <td>40057元/m²</td>\n",
       "      <td>安选</td>\n",
       "      <td>4室2厅</td>\n",
       "      <td>162m²</td>\n",
       "      <td>低层(共19层)</td>\n",
       "      <td>2015年建造</td>\n",
       "      <td>\\n北京城建国誉府  \\n房山-良乡-文昌东路</td>\n",
       "      <td>['配套成熟', '交通便利', '品质小区']</td>\n",
       "    </tr>\n",
       "    <tr>\n",
       "      <th>1</th>\n",
       "      <td>1</td>\n",
       "      <td>\\n怡海花园六期全南两居室采光好户型方正看房方便有钥匙</td>\n",
       "      <td>689.0</td>\n",
       "      <td>54410元/m²</td>\n",
       "      <td>安选</td>\n",
       "      <td>2室2厅</td>\n",
       "      <td>126m²</td>\n",
       "      <td>低层(共27层)</td>\n",
       "      <td>2006年建造</td>\n",
       "      <td>\\n怡海花园恒丰园  \\n丰台-科技园区-康辛路</td>\n",
       "      <td>['三房朝南', '繁华地段', '品质小区']</td>\n",
       "    </tr>\n",
       "    <tr>\n",
       "      <th>2</th>\n",
       "      <td>2</td>\n",
       "      <td>\\n朝阳区示范小区樱花园满五年公房全明户型紧邻地铁业主急售</td>\n",
       "      <td>450.0</td>\n",
       "      <td>79156元/m²</td>\n",
       "      <td>安选</td>\n",
       "      <td>2室1厅</td>\n",
       "      <td>56m²</td>\n",
       "      <td>高层(共6层)</td>\n",
       "      <td>1986年建造</td>\n",
       "      <td>\\n樱花园小区  \\n朝阳-惠新西街-北京市朝阳区建安东路</td>\n",
       "      <td>['近地铁', '配套成熟', '环境优美']</td>\n",
       "    </tr>\n",
       "    <tr>\n",
       "      <th>3</th>\n",
       "      <td>3</td>\n",
       "      <td>\\n国誉府上跃100平米双露台12.9面宽270观景</td>\n",
       "      <td>980.0</td>\n",
       "      <td>38889元/m²</td>\n",
       "      <td>安选</td>\n",
       "      <td>6室3厅</td>\n",
       "      <td>252m²</td>\n",
       "      <td>高层(共8层)</td>\n",
       "      <td>2015年建造</td>\n",
       "      <td>\\n北京城建国誉府  \\n房山-良乡-文昌东路</td>\n",
       "      <td>['配套成熟', '素质住户', '品质小区']</td>\n",
       "    </tr>\n",
       "    <tr>\n",
       "      <th>4</th>\n",
       "      <td>4</td>\n",
       "      <td>\\n房山区良乡2层精装修两居室，南北通透户型方正</td>\n",
       "      <td>255.0</td>\n",
       "      <td>27090元/m²</td>\n",
       "      <td>安选</td>\n",
       "      <td>2室2厅</td>\n",
       "      <td>94m²</td>\n",
       "      <td>低层(共6层)</td>\n",
       "      <td>2002年建造</td>\n",
       "      <td>\\n体育场路6号院  \\n房山-良乡-房山区良乡体育场路6号</td>\n",
       "      <td>['配套成熟', '交通便利', '繁华地段']</td>\n",
       "    </tr>\n",
       "    <tr>\n",
       "      <th>...</th>\n",
       "      <td>...</td>\n",
       "      <td>...</td>\n",
       "      <td>...</td>\n",
       "      <td>...</td>\n",
       "      <td>...</td>\n",
       "      <td>...</td>\n",
       "      <td>...</td>\n",
       "      <td>...</td>\n",
       "      <td>...</td>\n",
       "      <td>...</td>\n",
       "      <td>...</td>\n",
       "    </tr>\n",
       "    <tr>\n",
       "      <th>1174</th>\n",
       "      <td>1174</td>\n",
       "      <td>\\n首开国风美仑全南向2居室高楼层视野好首付100万</td>\n",
       "      <td>250.0</td>\n",
       "      <td>32121元/m²</td>\n",
       "      <td>安选</td>\n",
       "      <td>2室2厅</td>\n",
       "      <td>77m²</td>\n",
       "      <td>高层(共15层)</td>\n",
       "      <td>2014年建造</td>\n",
       "      <td>\\n首开国风美仑  \\n通州-马驹桥-兴贸二街5号</td>\n",
       "      <td>[]</td>\n",
       "    </tr>\n",
       "    <tr>\n",
       "      <th>1175</th>\n",
       "      <td>1175</td>\n",
       "      <td>\\n业主自住豪华独栋别墅，6个卧室四居朝南，车位可停4辆车.</td>\n",
       "      <td>1800.0</td>\n",
       "      <td>78947元/m²</td>\n",
       "      <td>安选</td>\n",
       "      <td>6室4厅</td>\n",
       "      <td>228m²</td>\n",
       "      <td>共3层</td>\n",
       "      <td>2000年建造</td>\n",
       "      <td>\\n名都园(别墅)  \\n顺义-中央别墅区-榆阳路6号</td>\n",
       "      <td>[]</td>\n",
       "    </tr>\n",
       "    <tr>\n",
       "      <th>1176</th>\n",
       "      <td>1176</td>\n",
       "      <td>\\n西城区温馨小两居南北通透不临街</td>\n",
       "      <td>490.0</td>\n",
       "      <td>86344元/m²</td>\n",
       "      <td>安选</td>\n",
       "      <td>2室1厅</td>\n",
       "      <td>56m²</td>\n",
       "      <td>高层(共6层)</td>\n",
       "      <td>1993年建造</td>\n",
       "      <td>\\n车站西街15号院  \\n西城-广安门外-车站西街</td>\n",
       "      <td>['近地铁', '主卧朝南', '南北通透']</td>\n",
       "    </tr>\n",
       "    <tr>\n",
       "      <th>1177</th>\n",
       "      <td>1177</td>\n",
       "      <td>\\n来康郡中式合院别墅私家电梯独门独院临湖而居中西衣院</td>\n",
       "      <td>470.0</td>\n",
       "      <td>22488元/m²</td>\n",
       "      <td>安选</td>\n",
       "      <td>4室3厅</td>\n",
       "      <td>209m²</td>\n",
       "      <td>共2层</td>\n",
       "      <td>2013年建造</td>\n",
       "      <td>\\n牛驼温泉孔雀城(别墅)  \\n北京周边-廊坊-金海街</td>\n",
       "      <td>['近地铁', '新房房源', '中国风']</td>\n",
       "    </tr>\n",
       "    <tr>\n",
       "      <th>1178</th>\n",
       "      <td>1178</td>\n",
       "      <td>\\n廊坊！首付10万！城中心现房！对面重点学驱！门口公交到北京</td>\n",
       "      <td>72.0</td>\n",
       "      <td>8471元/m²</td>\n",
       "      <td>安选</td>\n",
       "      <td>2室2厅</td>\n",
       "      <td>85m²</td>\n",
       "      <td>低层(共25层)</td>\n",
       "      <td>2019年建造</td>\n",
       "      <td>\\n瑞祥家园  \\n北京周边-廊坊-双井街</td>\n",
       "      <td>['新房房源', '配套成熟', '交通便利']</td>\n",
       "    </tr>\n",
       "  </tbody>\n",
       "</table>\n",
       "<p>1179 rows × 11 columns</p>\n",
       "</div>"
      ],
      "text/plain": [
       "      Unnamed: 0                            TITLE   PRICE  ACE_PRICE ANXUAN  \\\n",
       "0              0        \\n国誉府4室2卫户型方正无遮挡不临街低总价随时看   650.0  40057元/m²     安选   \n",
       "1              1      \\n怡海花园六期全南两居室采光好户型方正看房方便有钥匙   689.0  54410元/m²     安选   \n",
       "2              2    \\n朝阳区示范小区樱花园满五年公房全明户型紧邻地铁业主急售   450.0  79156元/m²     安选   \n",
       "3              3       \\n国誉府上跃100平米双露台12.9面宽270观景   980.0  38889元/m²     安选   \n",
       "4              4         \\n房山区良乡2层精装修两居室，南北通透户型方正   255.0  27090元/m²     安选   \n",
       "...          ...                              ...     ...        ...    ...   \n",
       "1174        1174       \\n首开国风美仑全南向2居室高楼层视野好首付100万   250.0  32121元/m²     安选   \n",
       "1175        1175   \\n业主自住豪华独栋别墅，6个卧室四居朝南，车位可停4辆车.  1800.0  78947元/m²     安选   \n",
       "1176        1176                \\n西城区温馨小两居南北通透不临街   490.0  86344元/m²     安选   \n",
       "1177        1177      \\n来康郡中式合院别墅私家电梯独门独院临湖而居中西衣院   470.0  22488元/m²     安选   \n",
       "1178        1178  \\n廊坊！首付10万！城中心现房！对面重点学驱！门口公交到北京    72.0   8471元/m²     安选   \n",
       "\n",
       "     HOUSES   AREA     FLOOR     YEAR                           ADDRE  \\\n",
       "0      4室2厅  162m²  低层(共19层)  2015年建造         \\n北京城建国誉府  \\n房山-良乡-文昌东路   \n",
       "1      2室2厅  126m²  低层(共27层)  2006年建造        \\n怡海花园恒丰园  \\n丰台-科技园区-康辛路   \n",
       "2      2室1厅   56m²   高层(共6层)  1986年建造   \\n樱花园小区  \\n朝阳-惠新西街-北京市朝阳区建安东路   \n",
       "3      6室3厅  252m²   高层(共8层)  2015年建造         \\n北京城建国誉府  \\n房山-良乡-文昌东路   \n",
       "4      2室2厅   94m²   低层(共6层)  2002年建造  \\n体育场路6号院  \\n房山-良乡-房山区良乡体育场路6号   \n",
       "...     ...    ...       ...      ...                             ...   \n",
       "1174   2室2厅   77m²  高层(共15层)  2014年建造       \\n首开国风美仑  \\n通州-马驹桥-兴贸二街5号   \n",
       "1175   6室4厅  228m²       共3层  2000年建造     \\n名都园(别墅)  \\n顺义-中央别墅区-榆阳路6号   \n",
       "1176   2室1厅   56m²   高层(共6层)  1993年建造      \\n车站西街15号院  \\n西城-广安门外-车站西街   \n",
       "1177   4室3厅  209m²       共2层  2013年建造    \\n牛驼温泉孔雀城(别墅)  \\n北京周边-廊坊-金海街   \n",
       "1178   2室2厅   85m²  低层(共25层)  2019年建造           \\n瑞祥家园  \\n北京周边-廊坊-双井街   \n",
       "\n",
       "                        OTHERS  \n",
       "0     ['配套成熟', '交通便利', '品质小区']  \n",
       "1     ['三房朝南', '繁华地段', '品质小区']  \n",
       "2      ['近地铁', '配套成熟', '环境优美']  \n",
       "3     ['配套成熟', '素质住户', '品质小区']  \n",
       "4     ['配套成熟', '交通便利', '繁华地段']  \n",
       "...                        ...  \n",
       "1174                        []  \n",
       "1175                        []  \n",
       "1176   ['近地铁', '主卧朝南', '南北通透']  \n",
       "1177    ['近地铁', '新房房源', '中国风']  \n",
       "1178  ['新房房源', '配套成熟', '交通便利']  \n",
       "\n",
       "[1179 rows x 11 columns]"
      ]
     },
     "execution_count": 17,
     "metadata": {},
     "output_type": "execute_result"
    }
   ],
   "source": [
    "data"
   ]
  },
  {
   "cell_type": "markdown",
   "metadata": {},
   "source": [
    "#### 数据集：北京市部分安居客网站公示房源。数据字段：TITLE：房源名称，PRICE：总价格，ACE_PRICE：单价，ANXUAN：品质，HOUSES：房屋结构，AREA：房屋面积，FLOOR：楼层，YEAR：年代，ADDRE：地址，OTHERS：其他备注。"
   ]
  },
  {
   "cell_type": "markdown",
   "metadata": {},
   "source": [
    "## 2.数据清洗和处理"
   ]
  },
  {
   "cell_type": "markdown",
   "metadata": {},
   "source": [
    "#### 1.把数据中文拆分，房屋结构，年代，楼层等变为结构化数据。"
   ]
  },
  {
   "cell_type": "code",
   "execution_count": 18,
   "metadata": {},
   "outputs": [],
   "source": [
    "data =data.drop(['TITLE','ADDRE'],axis =1)"
   ]
  },
  {
   "cell_type": "code",
   "execution_count": 19,
   "metadata": {},
   "outputs": [],
   "source": [
    "ROOM = []\n",
    "HAll = []\n",
    "for i in data['HOUSES']:\n",
    "    ROOM.append(i.split('室')[0])\n",
    "    HAll.append(i.split('室')[1].split('厅')[0])\n",
    "data['ROOM'] = ROOM\n",
    "data['HAll'] = HAll"
   ]
  },
  {
   "cell_type": "code",
   "execution_count": 20,
   "metadata": {},
   "outputs": [],
   "source": [
    "data['ACE_PRICE_NEW'] = [x.split('元')[0] for x in data['ACE_PRICE']]\n",
    "data['YEAR_NEW'] = [x.split('年')[0] for x in data['YEAR']]\n",
    "data['YEAR_NEW'] = [x.split('年')[0] for x in data['YEAR']]\n",
    "data['FLOOR_NEW'] = [x.split('共')[1].split('层')[0] for x in data['FLOOR']]\n",
    "data['NIAN'] = [2019 - int(x) for x in data['YEAR_NEW']]\n",
    "data['AREA_NEW'] = [x.split('m²')[0] for x in data['AREA']]"
   ]
  },
  {
   "cell_type": "markdown",
   "metadata": {},
   "source": [
    "#### 2.将其他备注信息分类变为分类变量，新生成靠近地铁或学校的变量。"
   ]
  },
  {
   "cell_type": "code",
   "execution_count": 21,
   "metadata": {},
   "outputs": [],
   "source": [
    "data['SUBWAY'] =  [1 if '近地铁' in  x else 0 for x in data['OTHERS']]\n",
    "data['SCHOOL'] =  [1 if '近学校' in  x else 0 for x in data['OTHERS']]"
   ]
  },
  {
   "cell_type": "code",
   "execution_count": 22,
   "metadata": {},
   "outputs": [
    {
     "name": "stdout",
     "output_type": "stream",
     "text": [
      "0       ['配套成熟', '交通便利', '品质小区']\n",
      "1       ['三房朝南', '繁华地段', '品质小区']\n",
      "2        ['近地铁', '配套成熟', '环境优美']\n",
      "3       ['配套成熟', '素质住户', '品质小区']\n",
      "4       ['配套成熟', '交通便利', '繁华地段']\n",
      "                  ...           \n",
      "1174                          []\n",
      "1175                          []\n",
      "1176     ['近地铁', '主卧朝南', '南北通透']\n",
      "1177      ['近地铁', '新房房源', '中国风']\n",
      "1178    ['新房房源', '配套成熟', '交通便利']\n",
      "Name: OTHERS, Length: 1179, dtype: object\n"
     ]
    }
   ],
   "source": [
    "print(data['OTHERS'])"
   ]
  },
  {
   "cell_type": "code",
   "execution_count": 23,
   "metadata": {},
   "outputs": [],
   "source": [
    "data = data.drop(['ACE_PRICE','ANXUAN','HOUSES','AREA','FLOOR','YEAR','OTHERS','YEAR_NEW'],axis =1)"
   ]
  },
  {
   "cell_type": "markdown",
   "metadata": {},
   "source": [
    "#### 3.源数据没有缺失值，不用作缺失值处理"
   ]
  },
  {
   "cell_type": "markdown",
   "metadata": {},
   "source": [
    "#### 4.源数据整理清洗后，新生成用于统计的数据，new_data。"
   ]
  },
  {
   "cell_type": "code",
   "execution_count": 24,
   "metadata": {
    "scrolled": false
   },
   "outputs": [
    {
     "data": {
      "text/html": [
       "<div>\n",
       "<style scoped>\n",
       "    .dataframe tbody tr th:only-of-type {\n",
       "        vertical-align: middle;\n",
       "    }\n",
       "\n",
       "    .dataframe tbody tr th {\n",
       "        vertical-align: top;\n",
       "    }\n",
       "\n",
       "    .dataframe thead th {\n",
       "        text-align: right;\n",
       "    }\n",
       "</style>\n",
       "<table border=\"1\" class=\"dataframe\">\n",
       "  <thead>\n",
       "    <tr style=\"text-align: right;\">\n",
       "      <th></th>\n",
       "      <th>Unnamed: 0</th>\n",
       "      <th>PRICE</th>\n",
       "      <th>ROOM</th>\n",
       "      <th>HAll</th>\n",
       "      <th>ACE_PRICE_NEW</th>\n",
       "      <th>FLOOR_NEW</th>\n",
       "      <th>NIAN</th>\n",
       "      <th>AREA_NEW</th>\n",
       "      <th>SUBWAY</th>\n",
       "      <th>SCHOOL</th>\n",
       "    </tr>\n",
       "  </thead>\n",
       "  <tbody>\n",
       "    <tr>\n",
       "      <th>0</th>\n",
       "      <td>0</td>\n",
       "      <td>650.0</td>\n",
       "      <td>4</td>\n",
       "      <td>2</td>\n",
       "      <td>40057</td>\n",
       "      <td>19</td>\n",
       "      <td>4</td>\n",
       "      <td>162</td>\n",
       "      <td>0</td>\n",
       "      <td>0</td>\n",
       "    </tr>\n",
       "    <tr>\n",
       "      <th>1</th>\n",
       "      <td>1</td>\n",
       "      <td>689.0</td>\n",
       "      <td>2</td>\n",
       "      <td>2</td>\n",
       "      <td>54410</td>\n",
       "      <td>27</td>\n",
       "      <td>13</td>\n",
       "      <td>126</td>\n",
       "      <td>0</td>\n",
       "      <td>0</td>\n",
       "    </tr>\n",
       "    <tr>\n",
       "      <th>2</th>\n",
       "      <td>2</td>\n",
       "      <td>450.0</td>\n",
       "      <td>2</td>\n",
       "      <td>1</td>\n",
       "      <td>79156</td>\n",
       "      <td>6</td>\n",
       "      <td>33</td>\n",
       "      <td>56</td>\n",
       "      <td>1</td>\n",
       "      <td>0</td>\n",
       "    </tr>\n",
       "    <tr>\n",
       "      <th>3</th>\n",
       "      <td>3</td>\n",
       "      <td>980.0</td>\n",
       "      <td>6</td>\n",
       "      <td>3</td>\n",
       "      <td>38889</td>\n",
       "      <td>8</td>\n",
       "      <td>4</td>\n",
       "      <td>252</td>\n",
       "      <td>0</td>\n",
       "      <td>0</td>\n",
       "    </tr>\n",
       "    <tr>\n",
       "      <th>4</th>\n",
       "      <td>4</td>\n",
       "      <td>255.0</td>\n",
       "      <td>2</td>\n",
       "      <td>2</td>\n",
       "      <td>27090</td>\n",
       "      <td>6</td>\n",
       "      <td>17</td>\n",
       "      <td>94</td>\n",
       "      <td>0</td>\n",
       "      <td>0</td>\n",
       "    </tr>\n",
       "    <tr>\n",
       "      <th>...</th>\n",
       "      <td>...</td>\n",
       "      <td>...</td>\n",
       "      <td>...</td>\n",
       "      <td>...</td>\n",
       "      <td>...</td>\n",
       "      <td>...</td>\n",
       "      <td>...</td>\n",
       "      <td>...</td>\n",
       "      <td>...</td>\n",
       "      <td>...</td>\n",
       "    </tr>\n",
       "    <tr>\n",
       "      <th>1174</th>\n",
       "      <td>1174</td>\n",
       "      <td>250.0</td>\n",
       "      <td>2</td>\n",
       "      <td>2</td>\n",
       "      <td>32121</td>\n",
       "      <td>15</td>\n",
       "      <td>5</td>\n",
       "      <td>77</td>\n",
       "      <td>0</td>\n",
       "      <td>0</td>\n",
       "    </tr>\n",
       "    <tr>\n",
       "      <th>1175</th>\n",
       "      <td>1175</td>\n",
       "      <td>1800.0</td>\n",
       "      <td>6</td>\n",
       "      <td>4</td>\n",
       "      <td>78947</td>\n",
       "      <td>3</td>\n",
       "      <td>19</td>\n",
       "      <td>228</td>\n",
       "      <td>0</td>\n",
       "      <td>0</td>\n",
       "    </tr>\n",
       "    <tr>\n",
       "      <th>1176</th>\n",
       "      <td>1176</td>\n",
       "      <td>490.0</td>\n",
       "      <td>2</td>\n",
       "      <td>1</td>\n",
       "      <td>86344</td>\n",
       "      <td>6</td>\n",
       "      <td>26</td>\n",
       "      <td>56</td>\n",
       "      <td>1</td>\n",
       "      <td>0</td>\n",
       "    </tr>\n",
       "    <tr>\n",
       "      <th>1177</th>\n",
       "      <td>1177</td>\n",
       "      <td>470.0</td>\n",
       "      <td>4</td>\n",
       "      <td>3</td>\n",
       "      <td>22488</td>\n",
       "      <td>2</td>\n",
       "      <td>6</td>\n",
       "      <td>209</td>\n",
       "      <td>1</td>\n",
       "      <td>0</td>\n",
       "    </tr>\n",
       "    <tr>\n",
       "      <th>1178</th>\n",
       "      <td>1178</td>\n",
       "      <td>72.0</td>\n",
       "      <td>2</td>\n",
       "      <td>2</td>\n",
       "      <td>8471</td>\n",
       "      <td>25</td>\n",
       "      <td>0</td>\n",
       "      <td>85</td>\n",
       "      <td>0</td>\n",
       "      <td>0</td>\n",
       "    </tr>\n",
       "  </tbody>\n",
       "</table>\n",
       "<p>1179 rows × 10 columns</p>\n",
       "</div>"
      ],
      "text/plain": [
       "      Unnamed: 0   PRICE ROOM HAll ACE_PRICE_NEW FLOOR_NEW  NIAN AREA_NEW  \\\n",
       "0              0   650.0    4    2         40057        19     4      162   \n",
       "1              1   689.0    2    2         54410        27    13      126   \n",
       "2              2   450.0    2    1         79156         6    33       56   \n",
       "3              3   980.0    6    3         38889         8     4      252   \n",
       "4              4   255.0    2    2         27090         6    17       94   \n",
       "...          ...     ...  ...  ...           ...       ...   ...      ...   \n",
       "1174        1174   250.0    2    2         32121        15     5       77   \n",
       "1175        1175  1800.0    6    4         78947         3    19      228   \n",
       "1176        1176   490.0    2    1         86344         6    26       56   \n",
       "1177        1177   470.0    4    3         22488         2     6      209   \n",
       "1178        1178    72.0    2    2          8471        25     0       85   \n",
       "\n",
       "      SUBWAY  SCHOOL  \n",
       "0          0       0  \n",
       "1          0       0  \n",
       "2          1       0  \n",
       "3          0       0  \n",
       "4          0       0  \n",
       "...      ...     ...  \n",
       "1174       0       0  \n",
       "1175       0       0  \n",
       "1176       1       0  \n",
       "1177       1       0  \n",
       "1178       0       0  \n",
       "\n",
       "[1179 rows x 10 columns]"
      ]
     },
     "execution_count": 24,
     "metadata": {},
     "output_type": "execute_result"
    }
   ],
   "source": [
    "data"
   ]
  },
  {
   "cell_type": "markdown",
   "metadata": {},
   "source": [
    "#### 新的数据集各字段意义表示为："
   ]
  },
  {
   "cell_type": "markdown",
   "metadata": {},
   "source": [
    "PRICE：总房价\n",
    "ROOM：卧室数量\n",
    "Hall：客厅数量\n",
    "ACE_PRICE_NEW：平均单价\n",
    "FLOOR_NEW：楼层\n",
    "NIAN：使用时间（现在时间-建造时间）\n",
    "AREA_NEW：使用面积\n",
    "SUBWAY：是否有地铁\n",
    "SCHOOL：是否学区"
   ]
  },
  {
   "cell_type": "code",
   "execution_count": 25,
   "metadata": {},
   "outputs": [],
   "source": [
    "data.to_csv('new_data.csv')"
   ]
  },
  {
   "cell_type": "markdown",
   "metadata": {},
   "source": [
    "## 3.描述性分析"
   ]
  },
  {
   "cell_type": "code",
   "execution_count": 28,
   "metadata": {},
   "outputs": [],
   "source": [
    "import seaborn as sns\n",
    "import matplotlib.pyplot as plt\n",
    "import matplotlib"
   ]
  },
  {
   "cell_type": "code",
   "execution_count": 29,
   "metadata": {},
   "outputs": [],
   "source": [
    "matplotlib.rcParams['font.sans-serif'] = ['SimHei'] \n",
    "data = pd.read_csv('new_data.csv')"
   ]
  },
  {
   "cell_type": "markdown",
   "metadata": {},
   "source": [
    "#### 探究房源的平均单价与总标的价目之间的关系，采用散点图作图，横坐标房屋总价，纵坐标平均单价。散点图如下所示："
   ]
  },
  {
   "cell_type": "code",
   "execution_count": 30,
   "metadata": {
    "scrolled": false
   },
   "outputs": [
    {
     "data": {
      "text/plain": [
       "<seaborn.axisgrid.FacetGrid at 0x26640fcc208>"
      ]
     },
     "execution_count": 30,
     "metadata": {},
     "output_type": "execute_result"
    },
    {
     "data": {
      "image/png": "[encoded data removed]",
      "text/plain": [
       "<Figure size 360x360 with 1 Axes>"
      ]
     },
     "metadata": {
      "needs_background": "light"
     },
     "output_type": "display_data"
    }
   ],
   "source": [
    "sns.relplot(x='PRICE', y='ACE_PRICE_NEW', data=data)"
   ]
  },
  {
   "cell_type": "markdown",
   "metadata": {},
   "source": [
    "房屋总价与平均单价大致呈正比关系，大部分房屋总价在2000万以内，平均单价大约集中在10000/m左右。"
   ]
  },
  {
   "cell_type": "markdown",
   "metadata": {},
   "source": [
    "#### 探究房屋总价与房间结构（卧室）数量分布的关系，采用条形图列示，横坐标表示房间的卧室数量，纵坐标表示房屋总价格。其二者关系如图所示："
   ]
  },
  {
   "cell_type": "code",
   "execution_count": 34,
   "metadata": {},
   "outputs": [
    {
     "data": {
      "text/plain": [
       "<matplotlib.axes._subplots.AxesSubplot at 0x26642f92488>"
      ]
     },
     "execution_count": 34,
     "metadata": {},
     "output_type": "execute_result"
    },
    {
     "data": {
      "image/png": "[encoded data removed]",
      "text/plain": [
       "<Figure size 432x288 with 1 Axes>"
      ]
     },
     "metadata": {
      "needs_background": "light"
     },
     "output_type": "display_data"
    }
   ],
   "source": [
    "sns.barplot(x=\"ROOM\", y=\"PRICE\", data=data)"
   ]
  },
  {
   "cell_type": "markdown",
   "metadata": {},
   "source": [
    "大多是房间的卧室数量在6以内，其价格随卧室数量增多房屋总价增高。"
   ]
  },
  {
   "cell_type": "markdown",
   "metadata": {},
   "source": [
    "## 4.模型分析"
   ]
  },
  {
   "cell_type": "markdown",
   "metadata": {},
   "source": [
    "#### 根据new_data数据建立线性回归模型，其中总房价为因变量，其他变量如房屋卧室数量，是否学区房，是否近地铁等等因素为自变量。建立拟合的线性模型。"
   ]
  },
  {
   "cell_type": "code",
   "execution_count": 35,
   "metadata": {},
   "outputs": [],
   "source": [
    "import pandas as pd\n",
    "from sklearn.cluster import KMeans\n",
    "from sklearn.linear_model import LinearRegression\n",
    "from sklearn.svm import SVR\n",
    "from sklearn.model_selection import train_test_split\n",
    "from sklearn.metrics import mean_squared_error, r2_score\n",
    "from sklearn.pipeline import Pipeline\n",
    "from sklearn.preprocessing import StandardScaler"
   ]
  },
  {
   "cell_type": "code",
   "execution_count": 48,
   "metadata": {},
   "outputs": [],
   "source": [
    "df = data.iloc[:,1:]"
   ]
  },
  {
   "cell_type": "code",
   "execution_count": 49,
   "metadata": {
    "scrolled": false
   },
   "outputs": [
    {
     "name": "stdout",
     "output_type": "stream",
     "text": [
      "      Unnamed: 0.1   PRICE  ROOM  HAll  ACE_PRICE_NEW  FLOOR_NEW  NIAN  \\\n",
      "0                0   650.0     4     2          40057         19     4   \n",
      "1                1   689.0     2     2          54410         27    13   \n",
      "2                2   450.0     2     1          79156          6    33   \n",
      "3                3   980.0     6     3          38889          8     4   \n",
      "4                4   255.0     2     2          27090          6    17   \n",
      "...            ...     ...   ...   ...            ...        ...   ...   \n",
      "1174          1174   250.0     2     2          32121         15     5   \n",
      "1175          1175  1800.0     6     4          78947          3    19   \n",
      "1176          1176   490.0     2     1          86344          6    26   \n",
      "1177          1177   470.0     4     3          22488          2     6   \n",
      "1178          1178    72.0     2     2           8471         25     0   \n",
      "\n",
      "      AREA_NEW  SUBWAY  SCHOOL  \n",
      "0          162       0       0  \n",
      "1          126       0       0  \n",
      "2           56       1       0  \n",
      "3          252       0       0  \n",
      "4           94       0       0  \n",
      "...        ...     ...     ...  \n",
      "1174        77       0       0  \n",
      "1175       228       0       0  \n",
      "1176        56       1       0  \n",
      "1177       209       1       0  \n",
      "1178        85       0       0  \n",
      "\n",
      "[1179 rows x 10 columns]\n"
     ]
    }
   ],
   "source": [
    "print(df)"
   ]
  },
  {
   "cell_type": "markdown",
   "metadata": {},
   "source": [
    "#### 聚类"
   ]
  },
  {
   "cell_type": "code",
   "execution_count": 50,
   "metadata": {},
   "outputs": [
    {
     "name": "stdout",
     "output_type": "stream",
     "text": [
      "[1 0 0 ... 0 1 1]\n"
     ]
    }
   ],
   "source": [
    "kms = KMeans(n_clusters=3)\n",
    "lable = kms.fit_predict(df)\n",
    "print(lable) #输出的是每一行聚类的归属"
   ]
  },
  {
   "cell_type": "markdown",
   "metadata": {},
   "source": [
    "#### 回归分析"
   ]
  },
  {
   "cell_type": "code",
   "execution_count": 40,
   "metadata": {},
   "outputs": [],
   "source": [
    "x = df.iloc[:,2:]#自变量\n",
    "y = df.iloc[:,1]#因变量"
   ]
  },
  {
   "cell_type": "code",
   "execution_count": 41,
   "metadata": {},
   "outputs": [],
   "source": [
    "X_train, X_test, y_train, y_test = train_test_split(x,y,test_size=0.2, random_state=42)#切分数据训练集和测试集\n",
    "lr_model = LinearRegression()#建立回归模型\n",
    "lr_model.fit(X_train,y_train)#训练模型\n",
    "pre = lr_model.predict(X_test)#预测模型"
   ]
  },
  {
   "cell_type": "code",
   "execution_count": 42,
   "metadata": {},
   "outputs": [
    {
     "name": "stdout",
     "output_type": "stream",
     "text": [
      "Coefficients: [-8.82842922e+01 -7.88598530e+01  1.72627242e-02 -2.34914114e+00\n",
      " -4.53140556e+00  8.16294614e+00 -9.93291030e+01  4.28328380e+01]\n"
     ]
    }
   ],
   "source": [
    "print('Coefficients:',lr_model.coef_)#每个x的系数"
   ]
  },
  {
   "cell_type": "code",
   "execution_count": 43,
   "metadata": {},
   "outputs": [
    {
     "name": "stdout",
     "output_type": "stream",
     "text": [
      "Intercept: -737.0515135572784\n"
     ]
    }
   ],
   "source": [
    "print('Intercept:',lr_model.intercept_)#截距"
   ]
  },
  {
   "cell_type": "code",
   "execution_count": 44,
   "metadata": {},
   "outputs": [
    {
     "name": "stdout",
     "output_type": "stream",
     "text": [
      "Mean squared error : 182384.06\n"
     ]
    }
   ],
   "source": [
    "print('Mean squared error : %.2f' % mean_squared_error(y_test,pre))#均方误差"
   ]
  },
  {
   "cell_type": "code",
   "execution_count": 45,
   "metadata": {},
   "outputs": [
    {
     "name": "stdout",
     "output_type": "stream",
     "text": [
      "Variance score : 0.85\n"
     ]
    }
   ],
   "source": [
    "print('Variance score : %.2f' % r2_score(y_test,pre))#r2值"
   ]
  },
  {
   "cell_type": "markdown",
   "metadata": {},
   "source": [
    "模型的整体均方误差为182384.\n",
    "整体的R2 为0.85\n",
    "达到了较好的拟合效果。"
   ]
  },
  {
   "cell_type": "code",
   "execution_count": null,
   "metadata": {},
   "outputs": [],
   "source": []
  }
 ],
 "metadata": {
  "kernelspec": {
   "display_name": "Python 3",
   "language": "python",
   "name": "python3"
  },
  "language_info": {
   "codemirror_mode": {
    "name": "ipython",
    "version": 3
   },
   "file_extension": ".py",
   "mimetype": "text/x-python",
   "name": "python",
   "nbconvert_exporter": "python",
   "pygments_lexer": "ipython3",
   "version": "3.7.6"
  }
 },
 "nbformat": 4,
 "nbformat_minor": 4
}
