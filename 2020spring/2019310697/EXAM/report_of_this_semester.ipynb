{
 "cells": [
  {
   "cell_type": "markdown",
   "metadata": {},
   "source": [
    "# Report of This Semester"
   ]
  },
  {
   "cell_type": "markdown",
   "metadata": {},
   "source": [
    "汤景仪 2019310697 保险学"
   ]
  },
  {
   "cell_type": "code",
   "execution_count": 5,
   "metadata": {},
   "outputs": [
    {
     "name": "stderr",
     "output_type": "stream",
     "text": [
      "C:\\Users\\wendy.wu\\Anaconda3\\lib\\site-packages\\ipykernel_launcher.py:7: DeprecationWarning: use options instead of firefox_options\n",
      "  import sys\n"
     ]
    }
   ],
   "source": [
    "from selenium import webdriver\n",
    "from selenium.webdriver.firefox.options import Options\n",
    "\n",
    "options = Options()\n",
    "#options.add_argument(\"--headless\")\n",
    "#火狐浏览器的一个选项：浏览器不跳出来但仍然执行指令\n",
    "driver = webdriver.Firefox(firefox_options=options)\n",
    "#告诉webdriver已完成这个选项"
   ]
  },
  {
   "cell_type": "code",
   "execution_count": 29,
   "metadata": {
    "scrolled": true
   },
   "outputs": [],
   "source": [
    "driver.get(\"http://baidu.com\")\n",
    "#用浏览器访问网页——Python中的Selenium远程控制浏览器完成动作\n",
    "driver.find_element_by_id(\"kw\").send_keys(\"唯美\")\n",
    "driver.find_element_by_xpath(\"/html/body/div[1]/div[1]/div/div/div[1]/form/span[2]/input\").click()"
   ]
  },
  {
   "cell_type": "code",
   "execution_count": 30,
   "metadata": {},
   "outputs": [],
   "source": [
    "driver.find_element_by_xpath(\"/html/body/div[1]/div[2]/div/a[3]\").click()"
   ]
  },
  {
   "cell_type": "code",
   "execution_count": null,
   "metadata": {},
   "outputs": [],
   "source": [
    "driver.quit()"
   ]
  },
  {
   "cell_type": "markdown",
   "metadata": {},
   "source": [
    "本作业是一个简单的搜索相关图片的代码"
   ]
  },
  {
   "cell_type": "markdown",
   "metadata": {},
   "source": [
    "本学期学习总结：\n",
    "老师好，这学期学习内容方面，我认为我初步接触了python编程，并基本掌握了Git的基本技能，这是我本学期最大的收获。以上技能一定能够帮助我在未来的面试中多一份筹码，在工作中尽快适应新的工作环境，并尽快发挥自己的专业优势。\n",
    "作为通识课，我广泛地了解到了数据爬取、数据可视化以及分布式系统的运作基础，这是我在未来的学习工作中，能够简单地判断什么是能用编程解决的，什么是不能依靠编程解决的，如此，我便可以更加脚踏实地的做出作品。而且这学期的入门课程打开了我的数据工具之路，在知道大概原理后，遇到实际问题后我便知道从何下手，在何处深入学习，才能解决自己的问题。\n",
    "在学习韧性方面，我感受到了什么叫知其不可为而为之。以前我学过一点java和C语言，知道自己不是编程的料，所以此次报这门课也是对自己一个极大的挑战。前几节课下来，我从第一节课想过放弃，到第二节课后课下花大量时间研究出作业题目，再到第三次课后自学关于Git的基础知识，我体会到了“挣扎”的乐趣——虽然会花大量时间和精力，但只要认为它值得，用心为之，会终有所成。此外，我还学会了从网上自己找到学习资料学习，这是一种全新的感觉，以前只知道跟着老师的脚步走，把老师给的东西消化好。但这门课将我“逼”上了自学的道路，让我感受到真正的“自学”是什么样子。我真的要好好感谢这门课。\n",
    "但我自觉本学期的学习不足之处还是颇多的，如虽然理解了老师上课所讲的思路，但自己编代码时总觉得困难重重，而且感觉较难一点的编程还没有上手，这一度使我非常非常苦恼。我发现，若想熟练运用此学期学习的课程，还需要以后系统地学习多种语言和逻辑，这也是我现在最力不从心的。\n",
    "此次作业确实过于简单了，但迫于期末考试的压力，我只能研究到这个地步，请老师见谅。\n",
    "以上文字我只是想表达，这门课带给我的远不止一点点课内知识，更是数据工具学习的道路，和学习的态度精神。我学到的远比我能展示出来得多。感谢老师这学习的教导~希望以后还能上您的课！"
   ]
  }
 ],
 "metadata": {
  "kernelspec": {
   "display_name": "Python 3",
   "language": "python",
   "name": "python3"
  },
  "language_info": {
   "codemirror_mode": {
    "name": "ipython",
    "version": 3
   },
   "file_extension": ".py",
   "mimetype": "text/x-python",
   "name": "python",
   "nbconvert_exporter": "python",
   "pygments_lexer": "ipython3",
   "version": "3.7.6"
  }
 },
 "nbformat": 4,
 "nbformat_minor": 4
}
