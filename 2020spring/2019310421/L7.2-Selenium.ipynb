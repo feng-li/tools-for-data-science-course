{
 "cells": [
  {
   "cell_type": "markdown",
   "metadata": {},
   "source": [
    "# Web scraping with `Selenium` web driver\n",
    "\n",
    "Since Selenium WebDriver is created for browser automation, it can be easily used for scraping data from the web. Selenium is to select and navigate the components of a website that are non-static and need to be clicked or chosen from drop-down menus. \n",
    "\n",
    "If there is any content on the page rendered by javascript then Selenium webdriver wait for the entire page to load before crwaling whereas other libs like BeautifulSoup,Scrapy and Requests works only on static pages.\n",
    "\n",
    "Any browsyer actions can be done with the help of Selenium webdriver, if there is any content on the page displayed by on button click or Scrolling or Page Navigation.\n",
    "\n",
    "#### Pros of using WebDriver\n",
    "\n",
    "- WebDriver can simulate a real user working with a browser\n",
    "- WebDriver can scrape a web site using a specific browser\n",
    "- WebDriver can scrape complicated web pages with dynamic content\n",
    "- WebDriver is able to take screenshots of the webpage\n",
    "\n",
    "#### Cons of using WebDriver\n",
    "\n",
    "- The program becomes quite large\n",
    "- The scraping process is slower\n",
    "- The browser generates a bigger network traffic\n",
    "- The scraping can be detected by such simple means as Google Analytics"
   ]
  },
  {
   "cell_type": "markdown",
   "metadata": {},
   "source": [
    "## Web Scraping Bing with `Selenium`  Firefox driver\n",
    "\n",
    "Let’s now load the main bing search page and makes a query to look for “feng li”: You need to install `selenium` module for Python. You also need `geckodriver` and place it in a directory where `$PATH` can find. You could download it from https://github.com/mozilla/geckodriver/releases ."
   ]
  },
  {
   "cell_type": "code",
   "execution_count": 1,
   "metadata": {},
   "outputs": [],
   "source": [
    "from selenium import webdriver\n",
    "driver = webdriver.Firefox()"
   ]
  },
  {
   "cell_type": "code",
   "execution_count": 5,
   "metadata": {},
   "outputs": [],
   "source": [
    "driver.get(\"https://www.bing.com/\")"
   ]
  },
  {
   "cell_type": "code",
   "execution_count": 6,
   "metadata": {},
   "outputs": [],
   "source": [
    "driver.find_element_by_id(\"sb_form_q\").send_keys(\"feng li cufe\")"
   ]
  },
  {
   "cell_type": "code",
   "execution_count": 7,
   "metadata": {},
   "outputs": [],
   "source": [
    "driver.find_element_by_id(\"sb_form_go\").click()"
   ]
  },
  {
   "cell_type": "code",
   "execution_count": 23,
   "metadata": {},
   "outputs": [],
   "source": [
    "#driver.close()\n",
    "#driver.quit()"
   ]
  },
  {
   "cell_type": "markdown",
   "metadata": {},
   "source": [
    "## Web Scraping Baidu with headless web driver\n",
    "\n",
    "To use a headless firefox requires a bit of configuration."
   ]
  },
  {
   "cell_type": "code",
   "execution_count": 8,
   "metadata": {},
   "outputs": [
    {
     "name": "stderr",
     "output_type": "stream",
     "text": [
      "/usr/local/lib/python3.7/dist-packages/ipykernel_launcher.py:6: DeprecationWarning: use options instead of firefox_options\n",
      "  \n"
     ]
    },
    {
     "name": "stdout",
     "output_type": "stream",
     "text": [
      "Firefox Headless Browser Invoked\n"
     ]
    }
   ],
   "source": [
    "from selenium import webdriver\n",
    "from selenium.webdriver.firefox.options import Options\n",
    "\n",
    "options = Options()\n",
    "options.add_argument(\"--headless\")\n",
    "driver = webdriver.Firefox(firefox_options=options)\n",
    "print(\"Firefox Headless Browser Invoked\")"
   ]
  },
  {
   "cell_type": "code",
   "execution_count": 9,
   "metadata": {},
   "outputs": [],
   "source": [
    "driver.get(\"https://www.baidu.com/\")\n",
    "driver.find_element_by_id(\"kw\").send_keys(\"李丰 中央财经大学\")"
   ]
  },
  {
   "cell_type": "code",
   "execution_count": 10,
   "metadata": {},
   "outputs": [],
   "source": [
    "driver.find_element_by_id(\"su\").click()\n",
    "results = driver.find_elements_by_xpath('//div[@srcid=\"1599\"]/h3/a')"
   ]
  },
  {
   "cell_type": "code",
   "execution_count": 11,
   "metadata": {
    "scrolled": true
   },
   "outputs": [
    {
     "name": "stdout",
     "output_type": "stream",
     "text": [
      "李丰-中央财经大学统计与数学学院\n",
      "李丰 – Dr. Feng Li\n",
      "COS访谈第22期:李丰老师\n",
      "凝心聚力谋发展,继往开来谱新篇——记中央财经大学统计与数学学院...\n",
      "李丰简历_中央财经大学统计与数学学院副院长李丰受邀参会演讲_...\n",
      "我校正式成为中央财经大学优质生源基地\n",
      "中央财经大学沙河校区\n",
      "中央财经大学2018年度通识核心课程建设项目...-中央财经大学教务处\n",
      "李丰(沈阳市政协副主席、高级检察官) - 搜狗百科\n"
     ]
    }
   ],
   "source": [
    "for result in results:\n",
    "    print(result.text)"
   ]
  },
  {
   "cell_type": "code",
   "execution_count": 9,
   "metadata": {},
   "outputs": [],
   "source": [
    "driver.close()"
   ]
  },
  {
   "cell_type": "markdown",
   "metadata": {},
   "source": [
    "# Lab\n",
    "\n",
    "Use `selenium` to implement the case we studied with `BeautifulSoup` in **L2**."
   ]
  }
 ],
 "metadata": {
  "kernelspec": {
   "display_name": "Python 3",
   "language": "python",
   "name": "python3"
  },
  "language_info": {
   "codemirror_mode": {
    "name": "ipython",
    "version": 3
   },
   "file_extension": ".py",
   "mimetype": "text/x-python",
   "name": "python",
   "nbconvert_exporter": "python",
   "pygments_lexer": "ipython3",
   "version": "3.7.4"
  }
 },
 "nbformat": 4,
 "nbformat_minor": 2
}
