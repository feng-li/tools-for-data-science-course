{
 "cells": [
  {
   "cell_type": "markdown",
   "metadata": {},
   "source": [
    "![http://feng.li/](logo.png)Brought to you by [Dr. Feng Li](http://feng.li)\n",
    "\n",
    "**{Other Formats Available: [PDF](http://feng.li/python) | [HTML](http://feng.li/python) | [SLIDES](http://feng.li/python)}**"
   ]
  },
  {
   "cell_type": "markdown",
   "metadata": {},
   "source": [
    "# What Is Web Scraping?\n",
    "\n",
    "The automated gathering of data from the internet is nearly as old as the internet itself. Although web scraping is not a new term, in years past the practice has been more commonly known as screen scraping, data mining, web harvesting, or similar variations. General consensus today seems to favor web scraping, so that is the term I use throughout the book, although I also refer to programs that specifically traverse multiple pages as web crawlers or refer to the web scraping programs themselves as bots.\n",
    "\n",
    "In theory, web scraping is the practice of gathering data through any means other than a program interacting with an API (or, obviously, through a human using a web browser). This is most commonly accomplished by writing an automated program that queries a web server, requests data (usually in the form of HTML and other files that compose web pages), and then parses that data to extract needed information.\n",
    "\n",
    "In practice, web scraping encompasses a wide variety of programming techniques and technologies, such as data analysis, natural language parsing, and information security. Because the scope of the field is so broad, this book covers the fundamental basics of web scraping and crawling in Part I and delves into advanced topics in Part II. I suggest that all readers carefully study the first part and delve into the more specific in the second part as needed."
   ]
  },
  {
   "cell_type": "markdown",
   "metadata": {},
   "source": [
    "# Your First Web Scraper\n",
    "\n",
    "## Let's try the toy first"
   ]
  },
  {
   "cell_type": "code",
   "execution_count": 2,
   "metadata": {},
   "outputs": [
    {
     "name": "stdout",
     "output_type": "stream",
     "text": [
      "b'<!DOCTYPE html>\\n<html lang=\"en-US\" class=\"no-js\">\\n  <head>\\n    <meta charset=\"UTF-8\">\\n    <meta name=\"viewport\" content=\"width=device-width, initial-scale=1\">\\n    <link rel=\"profile\" href=\"http://gmpg.org/xfn/11\">\\n        <script>(function(html){html.className = html.className.replace(/\\\\bno-js\\\\b/,\\'js\\')})(document.documentElement);</script>\\n<title>Python &#8211; Dr. Feng Li</title>\\n<link rel=\\'dns-prefetch\\' href=\\'//feng.li\\' />\\n<link rel=\\'dns-prefetch\\' href=\\'//fonts.googleapis.com\\' />\\n<link rel=\\'dns-prefetch\\' href=\\'//s.w.org\\' />\\n<link rel=\"alternate\" type=\"application/rss+xml\" title=\"Dr. Feng Li &raquo; Feed\" href=\"https://feng.li/feed/\" />\\n<link rel=\"alternate\" type=\"application/rss+xml\" title=\"Dr. Feng Li &raquo; Comments Feed\" href=\"https://feng.li/comments/feed/\" />\\n\\t\\t<script type=\"text/javascript\">\\n\\t\\t\\twindow._wpemojiSettings = {\"baseUrl\":\"https:\\\\/\\\\/s.w.org\\\\/images\\\\/core\\\\/emoji\\\\/2.4\\\\/72x72\\\\/\",\"ext\":\".png\",\"svgUrl\":\"https:\\\\/\\\\/s.w.org\\\\/images\\\\/core\\\\/emoji\\\\/2.4\\\\/svg\\\\/\",\"svgExt\":\".svg\",\"source\":{\"concatemoji\":\"https:\\\\/\\\\/feng.li\\\\/wordpress\\\\/wp-includes\\\\/js\\\\/wp-emoji-release.min.js?ver=4.9.5\"}};\\n\\t\\t\\t!function(a,b,c){function d(a,b){var c=String.fromCharCode;l.clearRect(0,0,k.width,k.height),l.fillText(c.apply(this,a),0,0);var d=k.toDataURL();l.clearRect(0,0,k.width,k.height),l.fillText(c.apply(this,b),0,0);var e=k.toDataURL();return d===e}function e(a){var b;if(!l||!l.fillText)return!1;switch(l.textBaseline=\"top\",l.font=\"600 32px Arial\",a){case\"flag\":return!(b=d([55356,56826,55356,56819],[55356,56826,8203,55356,56819]))&&(b=d([55356,57332,56128,56423,56128,56418,56128,56421,56128,56430,56128,56423,56128,56447],[55356,57332,8203,56128,56423,8203,56128,56418,8203,56128,56421,8203,56128,56430,8203,56128,56423,8203,56128,56447]),!b);case\"emoji\":return b=d([55357,56692,8205,9792,65039],[55357,56692,8203,9792,65039]),!b}return!1}function f(a){var c=b.createElement(\"script\");c.src=a,c.defer=c.type=\"text/javascript\",b.getElementsByTagName(\"head\")[0].appendChild(c)}var g,h,i,j,k=b.createElement(\"canvas\"),l=k.getContext&&k.getContext(\"2d\");for(j=Array(\"flag\",\"emoji\"),c.supports={everything:!0,everythingExceptFlag:!0},i=0;i<j.length;i++)c.supports[j[i]]=e(j[i]),c.supports.everything=c.supports.everything&&c.supports[j[i]],\"flag\"!==j[i]&&(c.supports.everythingExceptFlag=c.supports.everythingExceptFlag&&c.supports[j[i]]);c.supports.everythingExceptFlag=c.supports.everythingExceptFlag&&!c.supports.flag,c.DOMReady=!1,c.readyCallback=function(){c.DOMReady=!0},c.supports.everything||(h=function(){c.readyCallback()},b.addEventListener?(b.addEventListener(\"DOMContentLoaded\",h,!1),a.addEventListener(\"load\",h,!1)):(a.attachEvent(\"onload\",h),b.attachEvent(\"onreadystatechange\",function(){\"complete\"===b.readyState&&c.readyCallback()})),g=c.source||{},g.concatemoji?f(g.concatemoji):g.wpemoji&&g.twemoji&&(f(g.twemoji),f(g.wpemoji)))}(window,document,window._wpemojiSettings);\\n\\t\\t</script>\\n\\t\\t<style type=\"text/css\">\\nimg.wp-smiley,\\nimg.emoji {\\n\\tdisplay: inline !important;\\n\\tborder: none !important;\\n\\tbox-shadow: none !important;\\n\\theight: 1em !important;\\n\\twidth: 1em !important;\\n\\tmargin: 0 .07em !important;\\n\\tvertical-align: -0.1em !important;\\n\\tbackground: none !important;\\n\\tpadding: 0 !important;\\n}\\n</style>\\n<link rel=\\'stylesheet\\' id=\\'toc-screen-css\\'  href=\\'https://feng.li/wordpress/wp-content/plugins/table-of-contents-plus/screen.min.css?ver=1509\\' type=\\'text/css\\' media=\\'all\\' />\\n<link rel=\\'stylesheet\\' id=\\'twentysixteen-fonts-css\\'  href=\\'https://fonts.googleapis.com/css?family=Merriweather%3A400%2C700%2C900%2C400italic%2C700italic%2C900italic%7CMontserrat%3A400%2C700%7CInconsolata%3A400&#038;subset=latin%2Clatin-ext\\' type=\\'text/css\\' media=\\'all\\' />\\n<link rel=\\'stylesheet\\' id=\\'genericons-css\\'  href=\\'https://feng.li/wordpress/wp-content/themes/twentysixteen/genericons/genericons.css?ver=3.4.1\\' type=\\'text/css\\' media=\\'all\\' />\\n<link rel=\\'stylesheet\\' id=\\'twentysixteen-style-css\\'  href=\\'https://feng.li/wordpress/wp-content/themes/twentysixteen/style.css?ver=4.9.5\\' type=\\'text/css\\' media=\\'all\\' />\\n<!--[if lt IE 10]>\\n<link rel=\\'stylesheet\\' id=\\'twentysixteen-ie-css\\'  href=\\'https://feng.li/wordpress/wp-content/themes/twentysixteen/css/ie.css?ver=20160816\\' type=\\'text/css\\' media=\\'all\\' />\\n<![endif]-->\\n<!--[if lt IE 9]>\\n<link rel=\\'stylesheet\\' id=\\'twentysixteen-ie8-css\\'  href=\\'https://feng.li/wordpress/wp-content/themes/twentysixteen/css/ie8.css?ver=20160816\\' type=\\'text/css\\' media=\\'all\\' />\\n<![endif]-->\\n<!--[if lt IE 8]>\\n<link rel=\\'stylesheet\\' id=\\'twentysixteen-ie7-css\\'  href=\\'https://feng.li/wordpress/wp-content/themes/twentysixteen/css/ie7.css?ver=20160816\\' type=\\'text/css\\' media=\\'all\\' />\\n<![endif]-->\\n<script type=\\'text/javascript\\' src=\\'https://feng.li/wordpress/wp-includes/js/jquery/jquery.js?ver=1.12.4\\'></script>\\n<script type=\\'text/javascript\\' src=\\'https://feng.li/wordpress/wp-includes/js/jquery/jquery-migrate.min.js?ver=1.4.1\\'></script>\\n<!--[if lt IE 9]>\\n<script type=\\'text/javascript\\' src=\\'https://feng.li/wordpress/wp-content/themes/twentysixteen/js/html5.js?ver=3.7.3\\'></script>\\n<![endif]-->\\n<link rel=\\'https://api.w.org/\\' href=\\'https://feng.li/wp-json/\\' />\\n<link rel=\"EditURI\" type=\"application/rsd+xml\" title=\"RSD\" href=\"https://feng.li/wordpress/xmlrpc.php?rsd\" />\\n<link rel=\"wlwmanifest\" type=\"application/wlwmanifest+xml\" href=\"https://feng.li/wordpress/wp-includes/wlwmanifest.xml\" /> \\n<meta name=\"generator\" content=\"WordPress 4.9.5\" />\\n<link rel=\"canonical\" href=\"https://feng.li/python/\" />\\n<link rel=\\'shortlink\\' href=\\'https://feng.li/?p=1525\\' />\\n<link rel=\"alternate\" type=\"application/json+oembed\" href=\"https://feng.li/wp-json/oembed/1.0/embed?url=https%3A%2F%2Ffeng.li%2Fpython%2F\" />\\n<link rel=\"alternate\" type=\"text/xml+oembed\" href=\"https://feng.li/wp-json/oembed/1.0/embed?url=https%3A%2F%2Ffeng.li%2Fpython%2F&#038;format=xml\" />\\n\\t\\t<style type=\"text/css\">.recentcomments a{display:inline !important;padding:0 !important;margin:0 !important;}</style>\\n\\t\\t    <script type=\"text/javascript\" async\\n  \\t    src=\"/MathJax/MathJax.js?config=TeX-MML-AM_CHTML\">\\n    </script>\\n    <script>\\n      (function(i,s,o,g,r,a,m){i[\\'GoogleAnalyticsObject\\']=r;i[r]=i[r]||function(){\\n      (i[r].q=i[r].q||[]).push(arguments)},i[r].l=1*new Date();a=s.createElement(o),\\n      m=s.getElementsByTagName(o)[0];a.async=1;a.src=g;m.parentNode.insertBefore(a,m)\\n      })(window,document,\\'script\\',\\'https://www.google-analytics.com/analytics.js\\',\\'ga\\');\\n\\n      ga(\\'create\\', \\'UA-36759063-1\\', \\'auto\\');\\n      ga(\\'send\\', \\'pageview\\');\\n\\n    </script>\\n</head>\\n\\n<body class=\"page-template-default page page-id-1525\">\\n<div id=\"page\" class=\"site\">\\n\\t<div class=\"site-inner\">\\n\\t\\t<a class=\"skip-link screen-reader-text\" href=\"#content\">Skip to content</a>\\n\\n\\t\\t<header id=\"masthead\" class=\"site-header\" role=\"banner\">\\n\\t\\t\\t<div class=\"site-header-main\">\\n\\t\\t\\t\\t<div class=\"site-branding\">\\n\\t\\t\\t\\t\\t\\n\\t\\t\\t\\t\\t\\t\\t\\t\\t\\t\\t<p class=\"site-title\"><a href=\"https://feng.li/\" rel=\"home\">Dr. Feng Li</a></p>\\n\\t\\t\\t\\t\\t\\t\\t\\t\\t\\t\\t<p class=\"site-description\">Personal Site</p>\\n\\t\\t\\t\\t\\t\\t\\t\\t\\t</div><!-- .site-branding -->\\n\\n\\t\\t\\t\\t\\t\\t\\t\\t\\t<button id=\"menu-toggle\" class=\"menu-toggle\">Menu</button>\\n\\n\\t\\t\\t\\t\\t<div id=\"site-header-menu\" class=\"site-header-menu\">\\n\\t\\t\\t\\t\\t\\t\\t\\t\\t\\t\\t\\t\\t<nav id=\"site-navigation\" class=\"main-navigation\" role=\"navigation\" aria-label=\"Primary Menu\">\\n\\t\\t\\t\\t\\t\\t\\t\\t<div class=\"menu-menu-1-container\"><ul id=\"menu-menu-1\" class=\"primary-menu\"><li id=\"menu-item-441\" class=\"menu-item menu-item-type-post_type menu-item-object-page menu-item-has-children menu-item-441\"><a href=\"https://feng.li/research/\">Research</a>\\n<ul class=\"sub-menu\">\\n\\t<li id=\"menu-item-1503\" class=\"menu-item menu-item-type-custom menu-item-object-custom menu-item-1503\"><a href=\"/research\">Publications &#038; Projects</a></li>\\n\\t<li id=\"menu-item-442\" class=\"menu-item menu-item-type-post_type menu-item-object-page menu-item-442\"><a href=\"https://feng.li/research/code/\">Computer Code</a></li>\\n\\t<li id=\"menu-item-917\" class=\"menu-item menu-item-type-post_type menu-item-object-page menu-item-917\"><a href=\"https://feng.li/research/services/\">Academic Services</a></li>\\n\\t<li id=\"menu-item-915\" class=\"menu-item menu-item-type-post_type menu-item-object-page menu-item-915\"><a href=\"https://feng.li/research/distributed-statistical-computing/\">Book: Distributed Statistical Computing for Big Data</a></li>\\n</ul>\\n</li>\\n<li id=\"menu-item-443\" class=\"menu-item menu-item-type-post_type menu-item-object-page menu-item-443\"><a href=\"https://feng.li/teaching/\">Teaching</a></li>\\n<li id=\"menu-item-444\" class=\"menu-item menu-item-type-post_type menu-item-object-page menu-item-444\"><a href=\"https://feng.li/blog/\">Blog</a></li>\\n<li id=\"menu-item-927\" class=\"menu-item menu-item-type-post_type menu-item-object-page menu-item-927\"><a href=\"https://feng.li/traveling/\">Traveling</a></li>\\n<li id=\"menu-item-445\" class=\"menu-item menu-item-type-post_type menu-item-object-page menu-item-445\"><a href=\"https://feng.li/contact/\">Contact</a></li>\\n<li id=\"menu-item-446\" class=\"menu-item menu-item-type-post_type menu-item-object-page menu-item-446\"><a href=\"https://feng.li/cn/\">\\xe6\\x9d\\x8e\\xe4\\xb8\\xb0</a></li>\\n<li id=\"menu-item-1237\" class=\"menu-item menu-item-type-custom menu-item-object-custom menu-item-1237\"><a href=\"http://yanfei.site/\">Life Partner</a></li>\\n<li id=\"menu-item-916\" class=\"menu-item menu-item-type-post_type menu-item-object-page menu-item-916\"><a href=\"https://feng.li/students/\">Students</a></li>\\n<li id=\"menu-item-1526\" class=\"menu-item menu-item-type-post_type menu-item-object-page current-menu-item page_item page-item-1525 current_page_item menu-item-1526\"><a href=\"https://feng.li/python/\">Python</a></li>\\n</ul></div>\\t\\t\\t\\t\\t\\t\\t</nav><!-- .main-navigation -->\\n\\t\\t\\t\\t\\t\\t\\n\\t\\t\\t\\t\\t\\t\\t\\t\\t\\t\\t</div><!-- .site-header-menu -->\\n\\t\\t\\t\\t\\t\\t\\t</div><!-- .site-header-main -->\\n\\n\\t\\t\\t\\t\\t</header><!-- .site-header -->\\n\\n\\t\\t<div id=\"content\" class=\"site-content\">\\n\\n<div id=\"primary\" class=\"content-area\">\\n\\t<main id=\"main\" class=\"site-main\" role=\"main\">\\n\\t\\t\\n<article id=\"post-1525\" class=\"post-1525 page type-page status-publish hentry\">\\n\\t<header class=\"entry-header\">\\n\\t\\t<h1 class=\"entry-title\">Python</h1>\\t</header><!-- .entry-header -->\\n\\n\\t\\n\\t<div class=\"entry-content\">\\n\\t\\t<p>This page servers as the primary guide for my students who want to learn Python.</p>\\n\\t</div><!-- .entry-content -->\\n\\n\\t\\n</article><!-- #post-## -->\\n\\n\\t</main><!-- .site-main -->\\n\\n\\t\\n</div><!-- .content-area -->\\n\\n\\n\\t<aside id=\"secondary\" class=\"sidebar widget-area\" role=\"complementary\">\\n\\t\\t<section id=\"search-2\" class=\"widget widget_search\">\\n<form role=\"search\" method=\"get\" class=\"search-form\" action=\"https://feng.li/\">\\n\\t<label>\\n\\t\\t<span class=\"screen-reader-text\">Search for:</span>\\n\\t\\t<input type=\"search\" class=\"search-field\" placeholder=\"Search &hellip;\" value=\"\" name=\"s\" />\\n\\t</label>\\n\\t<button type=\"submit\" class=\"search-submit\"><span class=\"screen-reader-text\">Search</span></button>\\n</form>\\n</section><section id=\"text-7\" class=\"widget widget_text\"><h2 class=\"widget-title\">Teaching in 2018</h2>\\t\\t\\t<div class=\"textwidget\"><p><a href=\"/teaching/sc2018spring/\">Statistical Computing</a> (undergraduate level)</p>\\n<p><a href=\"/teaching/scs2018spring\">Statistical Case Studies</a> (graduate level)<strong>\\xc2\\xa0</strong></p>\\n<p><a href=\"/teaching/pc2017fall\">Distributed Statistical Computing for Big Data</a>\\xc2\\xa0(graduate level)<strong>\\xc2\\xa0</strong></p>\\n</div>\\n\\t\\t</section>\\t\\t<section id=\"recent-posts-2\" class=\"widget widget_recent_entries\">\\t\\t<h2 class=\"widget-title\">Recent Posts &#038; News</h2>\\t\\t<ul>\\n\\t\\t\\t\\t\\t\\t\\t\\t\\t\\t\\t<li>\\n\\t\\t\\t\\t\\t<a href=\"https://feng.li/the-2017-beijing-workshop-on-forecasting/\">Workshop: The 2017 Beijing Workshop on Forecasting</a>\\n\\t\\t\\t\\t\\t\\t\\t\\t\\t\\t\\t<span class=\"post-date\">November 7, 2017</span>\\n\\t\\t\\t\\t\\t\\t\\t\\t\\t</li>\\n\\t\\t\\t\\t\\t\\t\\t\\t\\t\\t\\t<li>\\n\\t\\t\\t\\t\\t<a href=\"https://feng.li/dng/\">R package: dng &#8211; distributions and gradients</a>\\n\\t\\t\\t\\t\\t\\t\\t\\t\\t\\t\\t<span class=\"post-date\">September 21, 2017</span>\\n\\t\\t\\t\\t\\t\\t\\t\\t\\t</li>\\n\\t\\t\\t\\t\\t\\t\\t\\t\\t\\t\\t<li>\\n\\t\\t\\t\\t\\t<a href=\"https://feng.li/credit-risk/\">Paper: Credit Risk Clustering with Covariate-dependent Copula Models</a>\\n\\t\\t\\t\\t\\t\\t\\t\\t\\t\\t\\t<span class=\"post-date\">July 31, 2017</span>\\n\\t\\t\\t\\t\\t\\t\\t\\t\\t</li>\\n\\t\\t\\t\\t\\t\\t\\t\\t\\t\\t\\t<li>\\n\\t\\t\\t\\t\\t<a href=\"https://feng.li/on-writing-mail/\">To my students: on writing mail</a>\\n\\t\\t\\t\\t\\t\\t\\t\\t\\t\\t\\t<span class=\"post-date\">October 9, 2015</span>\\n\\t\\t\\t\\t\\t\\t\\t\\t\\t</li>\\n\\t\\t\\t\\t\\t\\t\\t\\t\\t\\t\\t<li>\\n\\t\\t\\t\\t\\t<a href=\"https://feng.li/complex-model-for-complex-data/\">Complex Model for Complex Data via the Bayesian Approach</a>\\n\\t\\t\\t\\t\\t\\t\\t\\t\\t\\t\\t<span class=\"post-date\">October 9, 2014</span>\\n\\t\\t\\t\\t\\t\\t\\t\\t\\t</li>\\n\\t\\t\\t\\t\\t</ul>\\n\\t\\t</section><section id=\"categories-2\" class=\"widget widget_categories\"><h2 class=\"widget-title\">Categories</h2>\\t\\t<ul>\\n\\t<li class=\"cat-item cat-item-1\"><a href=\"https://feng.li/category/default/\" >Default</a>\\n</li>\\n\\t<li class=\"cat-item cat-item-9\"><a href=\"https://feng.li/category/latex/\" >LaTeX</a>\\n</li>\\n\\t<li class=\"cat-item cat-item-11\"><a href=\"https://feng.li/category/paper/\" >Paper</a>\\n</li>\\n\\t<li class=\"cat-item cat-item-8\"><a href=\"https://feng.li/category/paper-reading/\" >Paper reading</a>\\n</li>\\n\\t<li class=\"cat-item cat-item-5\"><a href=\"https://feng.li/category/r-lang/\" >R</a>\\n</li>\\n\\t\\t</ul>\\n</section><section id=\"recent-comments-2\" class=\"widget widget_recent_comments\"><h2 class=\"widget-title\">Recent Comments</h2><ul id=\"recentcomments\"><li class=\"recentcomments\"><span class=\"comment-author-link\">\\xe7\\x8e\\x8b\\xe7\\x8e\\x89\\xe5\\x9d\\xa4 \\xe7\\x8e\\x8b\\xe7\\x8f\\x8f \\xe7\\x94\\xb0\\xe5\\xae\\x87 \\xe6\\x9b\\xb9\\xe5\\xa9\\xb7\\xe5\\xa9\\xb7 \\xe8\\x8c\\x83\\xe8\\x96\\x87</span> on <a href=\"https://feng.li/teaching/ts2017spring/#comment-80460\">Time Series Analysis (2017 Spring)</a></li><li class=\"recentcomments\"><span class=\"comment-author-link\">\\xe6\\x9d\\x8e\\xe7\\x84\\xb6</span> on <a href=\"https://feng.li/teaching/ts2017spring/#comment-80427\">Time Series Analysis (2017 Spring)</a></li><li class=\"recentcomments\"><span class=\"comment-author-link\">\\xe9\\xb2\\x81\\xe6\\xa2\\xa6\\xe9\\x9b\\x85</span> on <a href=\"https://feng.li/teaching/ts2017spring/#comment-80422\">Time Series Analysis (2017 Spring)</a></li><li class=\"recentcomments\"><span class=\"comment-author-link\">\\xe5\\xbc\\xa0\\xe6\\x99\\x8b\\xe5\\xa9\\x95</span> on <a href=\"https://feng.li/teaching/ts2017spring/#comment-80421\">Time Series Analysis (2017 Spring)</a></li><li class=\"recentcomments\"><span class=\"comment-author-link\">\\xe5\\x86\\xaf\\xe6\\x99\\x93\\xe5\\x88\\x9a</span> on <a href=\"https://feng.li/teaching/ts2017spring/#comment-80418\">Time Series Analysis (2017 Spring)</a></li></ul></section><section id=\"text-6\" class=\"widget widget_text\"><h2 class=\"widget-title\">\\xc2\\xa9 Feng Li</h2>\\t\\t\\t<div class=\"textwidget\">The views and opinions expressed in this page are solely the responsibility of the author and should not be interpreted as reflecting the views of the author\\'s affiliations now or then. \\r\\n\\r\\n<a href=\"/contact\"><img class=\"wp-image-650 aligncenter\" alt=\"contact-qr-en\" src=\"/files/contact-qr-en.png\" width=\"300\" height=\"300\" /></a>\\r\\n</div>\\n\\t\\t</section>\\t</aside><!-- .sidebar .widget-area -->\\n\\n\\t\\t</div><!-- .site-content -->\\n\\n\\t\\t<footer id=\"colophon\" class=\"site-footer\" role=\"contentinfo\">\\n\\t\\t\\t\\t\\t\\t\\t<nav class=\"main-navigation\" role=\"navigation\" aria-label=\"Footer Primary Menu\">\\n\\t\\t\\t\\t\\t<div class=\"menu-menu-1-container\"><ul id=\"menu-menu-2\" class=\"primary-menu\"><li class=\"menu-item menu-item-type-post_type menu-item-object-page menu-item-has-children menu-item-441\"><a href=\"https://feng.li/research/\">Research</a>\\n<ul class=\"sub-menu\">\\n\\t<li class=\"menu-item menu-item-type-custom menu-item-object-custom menu-item-1503\"><a href=\"/research\">Publications &#038; Projects</a></li>\\n\\t<li class=\"menu-item menu-item-type-post_type menu-item-object-page menu-item-442\"><a href=\"https://feng.li/research/code/\">Computer Code</a></li>\\n\\t<li class=\"menu-item menu-item-type-post_type menu-item-object-page menu-item-917\"><a href=\"https://feng.li/research/services/\">Academic Services</a></li>\\n\\t<li class=\"menu-item menu-item-type-post_type menu-item-object-page menu-item-915\"><a href=\"https://feng.li/research/distributed-statistical-computing/\">Book: Distributed Statistical Computing for Big Data</a></li>\\n</ul>\\n</li>\\n<li class=\"menu-item menu-item-type-post_type menu-item-object-page menu-item-443\"><a href=\"https://feng.li/teaching/\">Teaching</a></li>\\n<li class=\"menu-item menu-item-type-post_type menu-item-object-page menu-item-444\"><a href=\"https://feng.li/blog/\">Blog</a></li>\\n<li class=\"menu-item menu-item-type-post_type menu-item-object-page menu-item-927\"><a href=\"https://feng.li/traveling/\">Traveling</a></li>\\n<li class=\"menu-item menu-item-type-post_type menu-item-object-page menu-item-445\"><a href=\"https://feng.li/contact/\">Contact</a></li>\\n<li class=\"menu-item menu-item-type-post_type menu-item-object-page menu-item-446\"><a href=\"https://feng.li/cn/\">\\xe6\\x9d\\x8e\\xe4\\xb8\\xb0</a></li>\\n<li class=\"menu-item menu-item-type-custom menu-item-object-custom menu-item-1237\"><a href=\"http://yanfei.site/\">Life Partner</a></li>\\n<li class=\"menu-item menu-item-type-post_type menu-item-object-page menu-item-916\"><a href=\"https://feng.li/students/\">Students</a></li>\\n<li class=\"menu-item menu-item-type-post_type menu-item-object-page current-menu-item page_item page-item-1525 current_page_item menu-item-1526\"><a href=\"https://feng.li/python/\">Python</a></li>\\n</ul></div>\\t\\t\\t\\t</nav><!-- .main-navigation -->\\n\\t\\t\\t\\n\\t\\t\\t\\n\\t\\t\\t<div class=\"site-info\">\\n\\t\\t\\t\\t\\t\\t\\t\\t<span class=\"site-title\"><a href=\"https://feng.li/\" rel=\"home\">Dr. Feng Li</a></span>\\n\\t\\t\\t\\t<a href=\"https://wordpress.org/\">Proudly powered by WordPress</a>\\n\\t\\t\\t</div><!-- .site-info -->\\n\\t\\t</footer><!-- .site-footer -->\\n\\t</div><!-- .site-inner -->\\n</div><!-- .site -->\\n\\n<script type=\\'text/javascript\\'>\\n/* <![CDATA[ */\\nvar tocplus = {\"visibility_show\":\"show\",\"visibility_hide\":\"hide\",\"width\":\"Auto\"};\\n/* ]]> */\\n</script>\\n<script type=\\'text/javascript\\' src=\\'https://feng.li/wordpress/wp-content/plugins/table-of-contents-plus/front.min.js?ver=1509\\'></script>\\n<script type=\\'text/javascript\\' src=\\'https://feng.li/wordpress/wp-content/themes/twentysixteen/js/skip-link-focus-fix.js?ver=20160816\\'></script>\\n<script type=\\'text/javascript\\'>\\n/* <![CDATA[ */\\nvar screenReaderText = {\"expand\":\"expand child menu\",\"collapse\":\"collapse child menu\"};\\n/* ]]> */\\n</script>\\n<script type=\\'text/javascript\\' src=\\'https://feng.li/wordpress/wp-content/themes/twentysixteen/js/functions.js?ver=20160816\\'></script>\\n<script type=\\'text/javascript\\' src=\\'https://feng.li/wordpress/wp-includes/js/wp-embed.min.js?ver=4.9.5\\'></script>\\n</body>\\n</html>\\n'\n"
     ]
    }
   ],
   "source": [
    "from urllib.request import urlopen\n",
    "html = urlopen('https://feng.li/python/')\n",
    "print(html.read())"
   ]
  },
  {
   "cell_type": "markdown",
   "metadata": {},
   "source": [
    "The above doesn’t look so great. Below is better."
   ]
  },
  {
   "cell_type": "code",
   "execution_count": 3,
   "metadata": {},
   "outputs": [
    {
     "name": "stdout",
     "output_type": "stream",
     "text": [
      "<!DOCTYPE html>\n",
      "\n",
      "<html class=\"no-js\" lang=\"en-US\">\n",
      "<head>\n",
      "<meta charset=\"utf-8\"/>\n",
      "<meta content=\"width=device-width, initial-scale=1\" name=\"viewport\"/>\n",
      "<link href=\"http://gmpg.org/xfn/11\" rel=\"profile\"/>\n",
      "<script>(function(html){html.className = html.className.replace(/\\bno-js\\b/,'js')})(document.documentElement);</script>\n",
      "<title>Python – Dr. Feng Li</title>\n",
      "<link href=\"//feng.li\" rel=\"dns-prefetch\">\n",
      "<link href=\"//fonts.googleapis.com\" rel=\"dns-prefetch\"/>\n",
      "<link href=\"//s.w.org\" rel=\"dns-prefetch\"/>\n",
      "<link href=\"https://feng.li/feed/\" rel=\"alternate\" title=\"Dr. Feng Li » Feed\" type=\"application/rss+xml\"/>\n",
      "<link href=\"https://feng.li/comments/feed/\" rel=\"alternate\" title=\"Dr. Feng Li » Comments Feed\" type=\"application/rss+xml\"/>\n",
      "<script type=\"text/javascript\">\n",
      "\t\t\twindow._wpemojiSettings = {\"baseUrl\":\"https:\\/\\/s.w.org\\/images\\/core\\/emoji\\/2.4\\/72x72\\/\",\"ext\":\".png\",\"svgUrl\":\"https:\\/\\/s.w.org\\/images\\/core\\/emoji\\/2.4\\/svg\\/\",\"svgExt\":\".svg\",\"source\":{\"concatemoji\":\"https:\\/\\/feng.li\\/wordpress\\/wp-includes\\/js\\/wp-emoji-release.min.js?ver=4.9.5\"}};\n",
      "\t\t\t!function(a,b,c){function d(a,b){var c=String.fromCharCode;l.clearRect(0,0,k.width,k.height),l.fillText(c.apply(this,a),0,0);var d=k.toDataURL();l.clearRect(0,0,k.width,k.height),l.fillText(c.apply(this,b),0,0);var e=k.toDataURL();return d===e}function e(a){var b;if(!l||!l.fillText)return!1;switch(l.textBaseline=\"top\",l.font=\"600 32px Arial\",a){case\"flag\":return!(b=d([55356,56826,55356,56819],[55356,56826,8203,55356,56819]))&&(b=d([55356,57332,56128,56423,56128,56418,56128,56421,56128,56430,56128,56423,56128,56447],[55356,57332,8203,56128,56423,8203,56128,56418,8203,56128,56421,8203,56128,56430,8203,56128,56423,8203,56128,56447]),!b);case\"emoji\":return b=d([55357,56692,8205,9792,65039],[55357,56692,8203,9792,65039]),!b}return!1}function f(a){var c=b.createElement(\"script\");c.src=a,c.defer=c.type=\"text/javascript\",b.getElementsByTagName(\"head\")[0].appendChild(c)}var g,h,i,j,k=b.createElement(\"canvas\"),l=k.getContext&&k.getContext(\"2d\");for(j=Array(\"flag\",\"emoji\"),c.supports={everything:!0,everythingExceptFlag:!0},i=0;i<j.length;i++)c.supports[j[i]]=e(j[i]),c.supports.everything=c.supports.everything&&c.supports[j[i]],\"flag\"!==j[i]&&(c.supports.everythingExceptFlag=c.supports.everythingExceptFlag&&c.supports[j[i]]);c.supports.everythingExceptFlag=c.supports.everythingExceptFlag&&!c.supports.flag,c.DOMReady=!1,c.readyCallback=function(){c.DOMReady=!0},c.supports.everything||(h=function(){c.readyCallback()},b.addEventListener?(b.addEventListener(\"DOMContentLoaded\",h,!1),a.addEventListener(\"load\",h,!1)):(a.attachEvent(\"onload\",h),b.attachEvent(\"onreadystatechange\",function(){\"complete\"===b.readyState&&c.readyCallback()})),g=c.source||{},g.concatemoji?f(g.concatemoji):g.wpemoji&&g.twemoji&&(f(g.twemoji),f(g.wpemoji)))}(window,document,window._wpemojiSettings);\n",
      "\t\t</script>\n",
      "<style type=\"text/css\">\n",
      "img.wp-smiley,\n",
      "img.emoji {\n",
      "\tdisplay: inline !important;\n",
      "\tborder: none !important;\n",
      "\tbox-shadow: none !important;\n",
      "\theight: 1em !important;\n",
      "\twidth: 1em !important;\n",
      "\tmargin: 0 .07em !important;\n",
      "\tvertical-align: -0.1em !important;\n",
      "\tbackground: none !important;\n",
      "\tpadding: 0 !important;\n",
      "}\n",
      "</style>\n",
      "<link href=\"https://feng.li/wordpress/wp-content/plugins/table-of-contents-plus/screen.min.css?ver=1509\" id=\"toc-screen-css\" media=\"all\" rel=\"stylesheet\" type=\"text/css\"/>\n",
      "<link href=\"https://fonts.googleapis.com/css?family=Merriweather%3A400%2C700%2C900%2C400italic%2C700italic%2C900italic%7CMontserrat%3A400%2C700%7CInconsolata%3A400&amp;subset=latin%2Clatin-ext\" id=\"twentysixteen-fonts-css\" media=\"all\" rel=\"stylesheet\" type=\"text/css\"/>\n",
      "<link href=\"https://feng.li/wordpress/wp-content/themes/twentysixteen/genericons/genericons.css?ver=3.4.1\" id=\"genericons-css\" media=\"all\" rel=\"stylesheet\" type=\"text/css\"/>\n",
      "<link href=\"https://feng.li/wordpress/wp-content/themes/twentysixteen/style.css?ver=4.9.5\" id=\"twentysixteen-style-css\" media=\"all\" rel=\"stylesheet\" type=\"text/css\"/>\n",
      "<!--[if lt IE 10]>\n",
      "<link rel='stylesheet' id='twentysixteen-ie-css'  href='https://feng.li/wordpress/wp-content/themes/twentysixteen/css/ie.css?ver=20160816' type='text/css' media='all' />\n",
      "<![endif]-->\n",
      "<!--[if lt IE 9]>\n",
      "<link rel='stylesheet' id='twentysixteen-ie8-css'  href='https://feng.li/wordpress/wp-content/themes/twentysixteen/css/ie8.css?ver=20160816' type='text/css' media='all' />\n",
      "<![endif]-->\n",
      "<!--[if lt IE 8]>\n",
      "<link rel='stylesheet' id='twentysixteen-ie7-css'  href='https://feng.li/wordpress/wp-content/themes/twentysixteen/css/ie7.css?ver=20160816' type='text/css' media='all' />\n",
      "<![endif]-->\n",
      "<script src=\"https://feng.li/wordpress/wp-includes/js/jquery/jquery.js?ver=1.12.4\" type=\"text/javascript\"></script>\n",
      "<script src=\"https://feng.li/wordpress/wp-includes/js/jquery/jquery-migrate.min.js?ver=1.4.1\" type=\"text/javascript\"></script>\n",
      "<!--[if lt IE 9]>\n",
      "<script type='text/javascript' src='https://feng.li/wordpress/wp-content/themes/twentysixteen/js/html5.js?ver=3.7.3'></script>\n",
      "<![endif]-->\n",
      "<link href=\"https://feng.li/wp-json/\" rel=\"https://api.w.org/\"/>\n",
      "<link href=\"https://feng.li/wordpress/xmlrpc.php?rsd\" rel=\"EditURI\" title=\"RSD\" type=\"application/rsd+xml\"/>\n",
      "<link href=\"https://feng.li/wordpress/wp-includes/wlwmanifest.xml\" rel=\"wlwmanifest\" type=\"application/wlwmanifest+xml\"/>\n",
      "<meta content=\"WordPress 4.9.5\" name=\"generator\">\n",
      "<link href=\"https://feng.li/python/\" rel=\"canonical\"/>\n",
      "<link href=\"https://feng.li/?p=1525\" rel=\"shortlink\"/>\n",
      "<link href=\"https://feng.li/wp-json/oembed/1.0/embed?url=https%3A%2F%2Ffeng.li%2Fpython%2F\" rel=\"alternate\" type=\"application/json+oembed\"/>\n",
      "<link href=\"https://feng.li/wp-json/oembed/1.0/embed?url=https%3A%2F%2Ffeng.li%2Fpython%2F&amp;format=xml\" rel=\"alternate\" type=\"text/xml+oembed\"/>\n",
      "<style type=\"text/css\">.recentcomments a{display:inline !important;padding:0 !important;margin:0 !important;}</style>\n",
      "<script async=\"\" src=\"/MathJax/MathJax.js?config=TeX-MML-AM_CHTML\" type=\"text/javascript\">\n",
      "</script>\n",
      "<script>\n",
      "      (function(i,s,o,g,r,a,m){i['GoogleAnalyticsObject']=r;i[r]=i[r]||function(){\n",
      "      (i[r].q=i[r].q||[]).push(arguments)},i[r].l=1*new Date();a=s.createElement(o),\n",
      "      m=s.getElementsByTagName(o)[0];a.async=1;a.src=g;m.parentNode.insertBefore(a,m)\n",
      "      })(window,document,'script','https://www.google-analytics.com/analytics.js','ga');\n",
      "\n",
      "      ga('create', 'UA-36759063-1', 'auto');\n",
      "      ga('send', 'pageview');\n",
      "\n",
      "    </script>\n",
      "</meta></link></head>\n",
      "<body class=\"page-template-default page page-id-1525\">\n",
      "<div class=\"site\" id=\"page\">\n",
      "<div class=\"site-inner\">\n",
      "<a class=\"skip-link screen-reader-text\" href=\"#content\">Skip to content</a>\n",
      "<header class=\"site-header\" id=\"masthead\" role=\"banner\">\n",
      "<div class=\"site-header-main\">\n",
      "<div class=\"site-branding\">\n",
      "<p class=\"site-title\"><a href=\"https://feng.li/\" rel=\"home\">Dr. Feng Li</a></p>\n",
      "<p class=\"site-description\">Personal Site</p>\n",
      "</div><!-- .site-branding -->\n",
      "<button class=\"menu-toggle\" id=\"menu-toggle\">Menu</button>\n",
      "<div class=\"site-header-menu\" id=\"site-header-menu\">\n",
      "<nav aria-label=\"Primary Menu\" class=\"main-navigation\" id=\"site-navigation\" role=\"navigation\">\n",
      "<div class=\"menu-menu-1-container\"><ul class=\"primary-menu\" id=\"menu-menu-1\"><li class=\"menu-item menu-item-type-post_type menu-item-object-page menu-item-has-children menu-item-441\" id=\"menu-item-441\"><a href=\"https://feng.li/research/\">Research</a>\n",
      "<ul class=\"sub-menu\">\n",
      "<li class=\"menu-item menu-item-type-custom menu-item-object-custom menu-item-1503\" id=\"menu-item-1503\"><a href=\"/research\">Publications &amp; Projects</a></li>\n",
      "<li class=\"menu-item menu-item-type-post_type menu-item-object-page menu-item-442\" id=\"menu-item-442\"><a href=\"https://feng.li/research/code/\">Computer Code</a></li>\n",
      "<li class=\"menu-item menu-item-type-post_type menu-item-object-page menu-item-917\" id=\"menu-item-917\"><a href=\"https://feng.li/research/services/\">Academic Services</a></li>\n",
      "<li class=\"menu-item menu-item-type-post_type menu-item-object-page menu-item-915\" id=\"menu-item-915\"><a href=\"https://feng.li/research/distributed-statistical-computing/\">Book: Distributed Statistical Computing for Big Data</a></li>\n",
      "</ul>\n",
      "</li>\n",
      "<li class=\"menu-item menu-item-type-post_type menu-item-object-page menu-item-443\" id=\"menu-item-443\"><a href=\"https://feng.li/teaching/\">Teaching</a></li>\n",
      "<li class=\"menu-item menu-item-type-post_type menu-item-object-page menu-item-444\" id=\"menu-item-444\"><a href=\"https://feng.li/blog/\">Blog</a></li>\n",
      "<li class=\"menu-item menu-item-type-post_type menu-item-object-page menu-item-927\" id=\"menu-item-927\"><a href=\"https://feng.li/traveling/\">Traveling</a></li>\n",
      "<li class=\"menu-item menu-item-type-post_type menu-item-object-page menu-item-445\" id=\"menu-item-445\"><a href=\"https://feng.li/contact/\">Contact</a></li>\n",
      "<li class=\"menu-item menu-item-type-post_type menu-item-object-page menu-item-446\" id=\"menu-item-446\"><a href=\"https://feng.li/cn/\">李丰</a></li>\n",
      "<li class=\"menu-item menu-item-type-custom menu-item-object-custom menu-item-1237\" id=\"menu-item-1237\"><a href=\"http://yanfei.site/\">Life Partner</a></li>\n",
      "<li class=\"menu-item menu-item-type-post_type menu-item-object-page menu-item-916\" id=\"menu-item-916\"><a href=\"https://feng.li/students/\">Students</a></li>\n",
      "<li class=\"menu-item menu-item-type-post_type menu-item-object-page current-menu-item page_item page-item-1525 current_page_item menu-item-1526\" id=\"menu-item-1526\"><a href=\"https://feng.li/python/\">Python</a></li>\n",
      "</ul></div> </nav><!-- .main-navigation -->\n",
      "</div><!-- .site-header-menu -->\n",
      "</div><!-- .site-header-main -->\n",
      "</header><!-- .site-header -->\n",
      "<div class=\"site-content\" id=\"content\">\n",
      "<div class=\"content-area\" id=\"primary\">\n",
      "<main class=\"site-main\" id=\"main\" role=\"main\">\n",
      "<article class=\"post-1525 page type-page status-publish hentry\" id=\"post-1525\">\n",
      "<header class=\"entry-header\">\n",
      "<h1 class=\"entry-title\">Python</h1> </header><!-- .entry-header -->\n",
      "<div class=\"entry-content\">\n",
      "<p>This page servers as the primary guide for my students who want to learn Python.</p>\n",
      "</div><!-- .entry-content -->\n",
      "</article><!-- #post-## -->\n",
      "</main><!-- .site-main -->\n",
      "</div><!-- .content-area -->\n",
      "<aside class=\"sidebar widget-area\" id=\"secondary\" role=\"complementary\">\n",
      "<section class=\"widget widget_search\" id=\"search-2\">\n",
      "<form action=\"https://feng.li/\" class=\"search-form\" method=\"get\" role=\"search\">\n",
      "<label>\n",
      "<span class=\"screen-reader-text\">Search for:</span>\n",
      "<input class=\"search-field\" name=\"s\" placeholder=\"Search …\" type=\"search\" value=\"\"/>\n",
      "</label>\n",
      "<button class=\"search-submit\" type=\"submit\"><span class=\"screen-reader-text\">Search</span></button>\n",
      "</form>\n",
      "</section><section class=\"widget widget_text\" id=\"text-7\"><h2 class=\"widget-title\">Teaching in 2018</h2> <div class=\"textwidget\"><p><a href=\"/teaching/sc2018spring/\">Statistical Computing</a> (undergraduate level)</p>\n",
      "<p><a href=\"/teaching/scs2018spring\">Statistical Case Studies</a> (graduate level)<strong> </strong></p>\n",
      "<p><a href=\"/teaching/pc2017fall\">Distributed Statistical Computing for Big Data</a> (graduate level)<strong> </strong></p>\n",
      "</div>\n",
      "</section> <section class=\"widget widget_recent_entries\" id=\"recent-posts-2\"> <h2 class=\"widget-title\">Recent Posts &amp; News</h2> <ul>\n",
      "<li>\n",
      "<a href=\"https://feng.li/the-2017-beijing-workshop-on-forecasting/\">Workshop: The 2017 Beijing Workshop on Forecasting</a>\n",
      "<span class=\"post-date\">November 7, 2017</span>\n",
      "</li>\n",
      "<li>\n",
      "<a href=\"https://feng.li/dng/\">R package: dng – distributions and gradients</a>\n",
      "<span class=\"post-date\">September 21, 2017</span>\n",
      "</li>\n",
      "<li>\n",
      "<a href=\"https://feng.li/credit-risk/\">Paper: Credit Risk Clustering with Covariate-dependent Copula Models</a>\n",
      "<span class=\"post-date\">July 31, 2017</span>\n",
      "</li>\n",
      "<li>\n",
      "<a href=\"https://feng.li/on-writing-mail/\">To my students: on writing mail</a>\n",
      "<span class=\"post-date\">October 9, 2015</span>\n",
      "</li>\n",
      "<li>\n",
      "<a href=\"https://feng.li/complex-model-for-complex-data/\">Complex Model for Complex Data via the Bayesian Approach</a>\n",
      "<span class=\"post-date\">October 9, 2014</span>\n",
      "</li>\n",
      "</ul>\n",
      "</section><section class=\"widget widget_categories\" id=\"categories-2\"><h2 class=\"widget-title\">Categories</h2> <ul>\n",
      "<li class=\"cat-item cat-item-1\"><a href=\"https://feng.li/category/default/\">Default</a>\n",
      "</li>\n",
      "<li class=\"cat-item cat-item-9\"><a href=\"https://feng.li/category/latex/\">LaTeX</a>\n",
      "</li>\n",
      "<li class=\"cat-item cat-item-11\"><a href=\"https://feng.li/category/paper/\">Paper</a>\n",
      "</li>\n",
      "<li class=\"cat-item cat-item-8\"><a href=\"https://feng.li/category/paper-reading/\">Paper reading</a>\n",
      "</li>\n",
      "<li class=\"cat-item cat-item-5\"><a href=\"https://feng.li/category/r-lang/\">R</a>\n",
      "</li>\n",
      "</ul>\n",
      "</section><section class=\"widget widget_recent_comments\" id=\"recent-comments-2\"><h2 class=\"widget-title\">Recent Comments</h2><ul id=\"recentcomments\"><li class=\"recentcomments\"><span class=\"comment-author-link\">王玉坤 王珏 田宇 曹婷婷 范薇</span> on <a href=\"https://feng.li/teaching/ts2017spring/#comment-80460\">Time Series Analysis (2017 Spring)</a></li><li class=\"recentcomments\"><span class=\"comment-author-link\">李然</span> on <a href=\"https://feng.li/teaching/ts2017spring/#comment-80427\">Time Series Analysis (2017 Spring)</a></li><li class=\"recentcomments\"><span class=\"comment-author-link\">鲁梦雅</span> on <a href=\"https://feng.li/teaching/ts2017spring/#comment-80422\">Time Series Analysis (2017 Spring)</a></li><li class=\"recentcomments\"><span class=\"comment-author-link\">张晋婕</span> on <a href=\"https://feng.li/teaching/ts2017spring/#comment-80421\">Time Series Analysis (2017 Spring)</a></li><li class=\"recentcomments\"><span class=\"comment-author-link\">冯晓刚</span> on <a href=\"https://feng.li/teaching/ts2017spring/#comment-80418\">Time Series Analysis (2017 Spring)</a></li></ul></section><section class=\"widget widget_text\" id=\"text-6\"><h2 class=\"widget-title\">© Feng Li</h2> <div class=\"textwidget\">The views and opinions expressed in this page are solely the responsibility of the author and should not be interpreted as reflecting the views of the author's affiliations now or then. \r\n",
      "\r\n",
      "<a href=\"/contact\"><img alt=\"contact-qr-en\" class=\"wp-image-650 aligncenter\" height=\"300\" src=\"/files/contact-qr-en.png\" width=\"300\"/></a>\n",
      "</div>\n",
      "</section> </aside><!-- .sidebar .widget-area -->\n",
      "</div><!-- .site-content -->\n",
      "<footer class=\"site-footer\" id=\"colophon\" role=\"contentinfo\">\n",
      "<nav aria-label=\"Footer Primary Menu\" class=\"main-navigation\" role=\"navigation\">\n",
      "<div class=\"menu-menu-1-container\"><ul class=\"primary-menu\" id=\"menu-menu-2\"><li class=\"menu-item menu-item-type-post_type menu-item-object-page menu-item-has-children menu-item-441\"><a href=\"https://feng.li/research/\">Research</a>\n",
      "<ul class=\"sub-menu\">\n",
      "<li class=\"menu-item menu-item-type-custom menu-item-object-custom menu-item-1503\"><a href=\"/research\">Publications &amp; Projects</a></li>\n",
      "<li class=\"menu-item menu-item-type-post_type menu-item-object-page menu-item-442\"><a href=\"https://feng.li/research/code/\">Computer Code</a></li>\n",
      "<li class=\"menu-item menu-item-type-post_type menu-item-object-page menu-item-917\"><a href=\"https://feng.li/research/services/\">Academic Services</a></li>\n",
      "<li class=\"menu-item menu-item-type-post_type menu-item-object-page menu-item-915\"><a href=\"https://feng.li/research/distributed-statistical-computing/\">Book: Distributed Statistical Computing for Big Data</a></li>\n",
      "</ul>\n",
      "</li>\n",
      "<li class=\"menu-item menu-item-type-post_type menu-item-object-page menu-item-443\"><a href=\"https://feng.li/teaching/\">Teaching</a></li>\n",
      "<li class=\"menu-item menu-item-type-post_type menu-item-object-page menu-item-444\"><a href=\"https://feng.li/blog/\">Blog</a></li>\n",
      "<li class=\"menu-item menu-item-type-post_type menu-item-object-page menu-item-927\"><a href=\"https://feng.li/traveling/\">Traveling</a></li>\n",
      "<li class=\"menu-item menu-item-type-post_type menu-item-object-page menu-item-445\"><a href=\"https://feng.li/contact/\">Contact</a></li>\n",
      "<li class=\"menu-item menu-item-type-post_type menu-item-object-page menu-item-446\"><a href=\"https://feng.li/cn/\">李丰</a></li>\n",
      "<li class=\"menu-item menu-item-type-custom menu-item-object-custom menu-item-1237\"><a href=\"http://yanfei.site/\">Life Partner</a></li>\n",
      "<li class=\"menu-item menu-item-type-post_type menu-item-object-page menu-item-916\"><a href=\"https://feng.li/students/\">Students</a></li>\n",
      "<li class=\"menu-item menu-item-type-post_type menu-item-object-page current-menu-item page_item page-item-1525 current_page_item menu-item-1526\"><a href=\"https://feng.li/python/\">Python</a></li>\n",
      "</ul></div> </nav><!-- .main-navigation -->\n",
      "<div class=\"site-info\">\n",
      "<span class=\"site-title\"><a href=\"https://feng.li/\" rel=\"home\">Dr. Feng Li</a></span>\n",
      "<a href=\"https://wordpress.org/\">Proudly powered by WordPress</a>\n",
      "</div><!-- .site-info -->\n",
      "</footer><!-- .site-footer -->\n",
      "</div><!-- .site-inner -->\n",
      "</div><!-- .site -->\n",
      "<script type=\"text/javascript\">\n",
      "/* <![CDATA[ */\n",
      "var tocplus = {\"visibility_show\":\"show\",\"visibility_hide\":\"hide\",\"width\":\"Auto\"};\n",
      "/* ]]> */\n",
      "</script>\n",
      "<script src=\"https://feng.li/wordpress/wp-content/plugins/table-of-contents-plus/front.min.js?ver=1509\" type=\"text/javascript\"></script>\n",
      "<script src=\"https://feng.li/wordpress/wp-content/themes/twentysixteen/js/skip-link-focus-fix.js?ver=20160816\" type=\"text/javascript\"></script>\n",
      "<script type=\"text/javascript\">\n",
      "/* <![CDATA[ */\n",
      "var screenReaderText = {\"expand\":\"expand child menu\",\"collapse\":\"collapse child menu\"};\n",
      "/* ]]> */\n",
      "</script>\n",
      "<script src=\"https://feng.li/wordpress/wp-content/themes/twentysixteen/js/functions.js?ver=20160816\" type=\"text/javascript\"></script>\n",
      "<script src=\"https://feng.li/wordpress/wp-includes/js/wp-embed.min.js?ver=4.9.5\" type=\"text/javascript\"></script>\n",
      "</body>\n",
      "</html>\n",
      "\n"
     ]
    }
   ],
   "source": [
    "from urllib.request import urlopen\n",
    "from bs4 import BeautifulSoup\n",
    "\n",
    "html = urlopen('https://feng.li/python/')\n",
    "bs = BeautifulSoup(html.read(), 'html.parser')\n",
    "print(bs)"
   ]
  },
  {
   "cell_type": "markdown",
   "metadata": {},
   "source": [
    "## The complete case"
   ]
  },
  {
   "cell_type": "code",
   "execution_count": 5,
   "metadata": {
    "scrolled": true
   },
   "outputs": [
    {
     "name": "stdout",
     "output_type": "stream",
     "text": [
      "\n",
      "This page servers as the primary guide for my students who want to learn Python.\n",
      "\n"
     ]
    }
   ],
   "source": [
    "from urllib.request import urlopen\n",
    "from bs4 import BeautifulSoup\n",
    "\n",
    "html = urlopen('https://feng.li/python/')\n",
    "bs = BeautifulSoup(html.read(), 'html.parser')\n",
    "nameList = bs.findAll('div', {'class':'entry-content'})\n",
    "for name in nameList:\n",
    "    print(name.get_text())"
   ]
  },
  {
   "cell_type": "markdown",
   "metadata": {},
   "source": [
    "## Web Scraping with `BeautifulSoup`"
   ]
  },
  {
   "cell_type": "code",
   "execution_count": 1,
   "metadata": {},
   "outputs": [
    {
     "name": "stderr",
     "output_type": "stream",
     "text": [
      "Some characters could not be decoded, and were replaced with REPLACEMENT CHARACTER.\n"
     ]
    },
    {
     "name": "stdout",
     "output_type": "stream",
     "text": [
      "美团与百度合作无人驾驶送外卖，首单或落地雄安。\u00012018-04-19\u0001新浪财经\u0001美团与百度合作无人驾驶送外卖，首单或落地雄安。\u0001http://finance.sina.com.cn/7x24/2018-04-19/doc-ifzihneq1276594.shtml\n",
      "百度、一汽等7家企业获准在重庆开展自动驾驶“路测”。\u00012018-04-19\u0001新浪财经\u0001百度、一汽等7家企业获准在重庆开展自动驾驶“路测”。\u0001http://finance.sina.com.cn/7x24/2018-04-19/doc-ifzihneq1239009.shtml\n",
      "美团与百度合作无人驾驶送外卖，首单或落地雄安\u00012018-04-19\u0001新浪财经\u0001美团与百度合作无人驾驶送外卖，首单或落地雄安】百度内部工作人员透露，百度与美团已达成相关合作，将无人驾驶技术应用到送餐环节，并计划在雄安率先试点。百度与美团这一合作原 ...\u0001http://finance.sina.com.cn/7x24/2018-04-19/doc-ifzihneq0108513.shtml\n",
      "百度Apollo发布2.5版：新增方案成本直降九成\u00012018-04-19\u0001新浪财经\u0001百度Apollo发布2.5版：新增方案成本直降九成】4月19日，百度对外发布Apollo 2.5版本，围绕场景、成本、车型、性能等维度进行了多项升级。\u0001http://finance.sina.com.cn/7x24/2018-04-19/doc-ifzihnep9851070.shtml\n",
      "基于百度Apollo，首汽约车上线CI车载智能系统\u00012018-04-19\u0001新浪财经\u0001基于百度Apollo，首汽约车上线CI车载智能系统】4月19日，首汽约车CI车载智能硬件系统正式上线。目前已在大连、成都、厦门等城市上线测试，随后将在全国范围内推广。\u0001http://finance.sina.com.cn/7x24/2018-04-19/doc-ifzfkmth6997964.shtml\n",
      "百度与一汽、奇瑞和北汽就网络安全实验室合作\u00012018-04-19\u0001中国证券网\u0001中国证券网讯 据腾讯科技4月19日消息，百度与一汽、奇瑞和北汽就网络安全实验室合作。\u0001http://finance.sina.com.cn/roll/2018-04-19/doc-ifzihnep9300219.shtml\n",
      "百度与一汽、奇瑞和北汽就网络安全实验室合作。\u00012018-04-19\u0001新浪财经\u0001百度与一汽、奇瑞和北汽就网络安全实验室合作。\u0001http://finance.sina.com.cn/7x24/2018-04-19/doc-ifzfkmth6977023.shtml\n",
      "百度最年轻高管李靖离职 25岁就当上副总裁\u00012018-04-18\u0001澎湃新闻\u0001百度史上最年轻高管“李叫兽”离职，25岁就当上百度副总裁 澎湃新闻记者 包雨朦 4月18日下午，百度副总裁、公众号“李叫兽”创始人李靖通过一条朋友圈消息，宣布了自己即将从百度离职 ...\u0001http://finance.sina.com.cn/roll/2018-04-18/doc-ifyuwqfa3857791.shtml\n",
      "新工科联盟+百度打造首次深度学习课堂\u00012018-04-18\u0001中国新闻网\u0001高校人工智能教师的问道场，新工科联盟+百度打造首次深度学习课堂 中新网4月18日电 5月5日至5月7日，“新工科产学研联盟深度学习师资培训班”将在国内首度开讲，开展为期三天的教师 ...\u0001http://finance.sina.com.cn/roll/2018-04-18/doc-ifzfkmth6274026.shtml\n",
      "李叫兽沉浮录：百度信息流价值亿元的失败尝试\u00012018-04-18\u0001界面\u0001深度】李叫兽沉浮录：百度信息流价值亿元的失败尝试 在李靖短短几年的职业生涯中，他非常幸运地赶上了两个“风口”，一是自媒体内容创业和知识付费，二是百度重注信息流。杨阳YY ...\u0001http://finance.sina.com.cn/chanjing/gsnews/2018-04-18/doc-ifzfkmth5887501.shtml\n",
      "阿里巴巴收涨2.29%，京东收涨0.85%，百度收涨2.51%。中网在线大涨27\u00012018-04-18\u0001新浪财经\u0001阿里巴巴收涨2.29%，京东收涨0.85%，百度收涨2.51%。中网在线大涨27.53%，稳盛金融收涨15.11%，易车收涨4.96%，寺库收涨5.45%，迅雷收涨4.23%。\u0001http://finance.sina.com.cn/7x24/2018-04-18/doc-ifzfkmth5842381.shtml\n",
      "传阿里、百度、京东6月回A股已成定局 腾讯不在此列\u00012018-04-17\u0001虎嗅APP\u00014月17日，虎嗅从可靠消息人士处独家获悉，在美股上市的阿里巴巴（NYSE：BABA）、百度（NASDAQ：BIDU）和京东（NASDAQ：JD）三家公司最快将于今年6月份以CDR（中国存托凭证）方式回归，成为 ...\u0001http://finance.sina.com.cn/stock/s/2018-04-17/doc-ifzihnep0143590.shtml\n",
      "景鲲：百度DuerOS场景落地的关键先生\u00012018-04-17\u0001中国新闻网\u0001DuerOS平台回答用户的累计问题次数已经超过了24亿！DuerOS的合作伙伴数量已经超过了160家……2018年开年以来，百度度秘事业部总经理景鲲的好消息不断，并且还远不止于此。\u0001http://finance.sina.com.cn/roll/2018-04-17/doc-ifzfkmth5403021.shtml\n",
      "百度战略投资梨视频 内容生态布局再加速\u00012018-04-17\u0001中国新闻网\u0001中新网4月17日电 近日，百度战略投资中国最大的资讯短视频内容生产商梨视频。基于百度在内容分发、搜索大数据以及人工智能等方面的优势，双方将展开更加深入的合作，共同提升百度内 ...\u0001http://finance.sina.com.cn/roll/2018-04-17/doc-ifyuwqfa2721458.shtml\n",
      "与百度合作无人车遭“泄密” 小康股份被问询后忙改口\u00012018-04-16\u0001投资者报\u0001x3000;　与百度合作无人车遭“泄密”小康股份被问询后忙改口　　实际上，公司目前与百度的合作，与其他汽车类上市公司及百度的合作并无明显区别，公司在自动驾驶、车联网 ...\u0001http://finance.sina.com.cn/roll/2018-04-16/doc-ifzcyxmv1196547.shtml\n",
      "百度将在2018亚洲消费电子展举行L3和L4试乘活动\u00012018-04-13\u0001新浪财经\u0001百度将在2018亚洲消费电子展举行L3和L4试乘活动】从2018亚洲消费电子展官网获悉，在本次展会上，百度将在室外场地进行L3（有条件自动化）和L4（高度自动化）两个级别的自动驾驶试乘活动 ...\u0001http://finance.sina.com.cn/7x24/2018-04-13/doc-ifyteqtq9756269.shtml\n",
      "称商标权遭侵犯 呷哺呷哺起诉火锅城及百度\u00012018-04-13\u0001千龙网\u0001称商标权遭侵犯 呷哺呷哺起诉火锅城及百度 千龙网北京4月13日讯 北京海淀法院官网发布消息，因认为闻喜县城镇呷哺呷哺火锅城未经授权擅自注册“闻喜县城镇呷哺呷哺火锅城”企业字号 ...\u0001http://finance.sina.com.cn/roll/2018-04-13/doc-ifyuwqfa0456843.shtml\n",
      "东风风光iX5首发 联手百度打造智能轿跑型SUV\u00012018-04-12\u0001中国新闻网\u0001中新网4月12日电 日前，东风风光与百度联手打造的首款智能轿跑型SUV――风光iX5在北京首发亮相。新车搭载了包括智能驾驶和智能网联在内的系列智能技术，“生命灵性”的设计语言轿跑 ...\u0001http://finance.sina.com.cn/roll/2018-04-12/doc-ifyuwqez9866183.shtml\n",
      "百度小程序悄然上线 与微信小程序相似\u00012018-04-12\u0001新浪综合\u0001百度小程序悄然上线，与微信小程序相似 36氪讯，今日百度上线了一个名为‘优信二手车’的百度小程序，在其手机客户端（包括 Android 和 iOS 端）扫码即可打开。\u0001http://finance.sina.com.cn/chanjing/gsnews/2018-04-12/doc-ifyteqtq8868765.shtml\n",
      "齐家网向港交所提交IPO申请 百度持股16%列第2大股东\u00012018-04-11\u0001港股综合\u0001股票发行量、发行价格等信息。齐家网成立于2005年，目前已完成四轮融资，百度持股16%位列第二大股东，曾领投数千万美元C轮融资。\u0001http://finance.sina.com.cn/stock/hkstock/hkstocknews/2018-04-11/doc-ifyzeyqa5700342.shtml\n"
     ]
    },
    {
     "name": "stderr",
     "output_type": "stream",
     "text": [
      "Some characters could not be decoded, and were replaced with REPLACEMENT CHARACTER.\n"
     ]
    },
    {
     "name": "stdout",
     "output_type": "stream",
     "text": [
      "百度朱光：人工智能将帮助人类更专注于创造与想象\u00012018-04-11\u0001中国证券报-中证网\u0001彭扬）百度高级副总裁朱光11日在亚洲博鳌论坛2018年年会“让人工智能落地”分论坛上表示，如同十年前开始重视互联网+一样，未来越来越多的公司会用到AI，把每个公司变成一个“AI+公司 ...\u0001http://finance.sina.com.cn/roll/2018-04-11/doc-ifyuwqez8996417.shtml\n",
      "力帆股份：与百度在无人驾驶上有深度合作\u00012018-04-11\u0001中国证券网\u0001中国证券网讯 力帆股份11日在互动平台上回复投资者提问时表示，公司与百度、盼达在新能源车无人驾驶开发上有深度合作；与重庆快键新能源汽车有限公司在新能源汽车供销上有战略合作 ...\u0001http://finance.sina.com.cn/stock/t/2018-04-11/doc-ifyteqtq8064834.shtml\n",
      "腾讯阿里百度京东等巨头竞相试水区块链\u00012018-04-11\u0001上海证券报\u0001区块链技术在商业世界中的应用已悄然铺开。记者梳理发现，最近一段时间以来，腾讯、阿里、百度、京东、华为、顺丰、谷歌、Facebook、三星等巨头已陆续试水区块链技术应用。\u0001http://finance.sina.com.cn/blockchain/roll/2018-04-11/doc-ifyteqtq7776091.shtml\n",
      "长城汽车与百度签署汽车智能互联领域战略合作\u00012018-04-10\u0001新浪财经\u0001长城汽车与百度签署汽车智能互联领域战略合作】4月9日，长城汽车和百度签署战略合作备忘录，宣布双方将在车辆智能网联、自动驾驶、共享出行、大数据四大领域展开战略合作，打造车辆 ...\u0001http://finance.sina.com.cn/7x24/2018-04-10/doc-ifyuwqez8279061.shtml\n",
      "长城与百度签署汽车智能互联领域战略合作\u00012018-04-10\u0001界面\u0001长城与百度签署汽车智能互联领域战略合作 4月9日，长城汽车和百度签署战略合作备忘录，宣布双方将在车辆智能网联、自动驾驶、共享出行、大数据四大领域展开战略合作，打造车辆智 ...\u0001http://finance.sina.com.cn/stock/s/2018-04-10/doc-ifyuwqez8265337.shtml\n",
      "打造新工科AI课程 百度深度学习开源平台走进天津大学\u00012018-04-10\u0001中国新闻网\u0001月10日电？4月7日，百度携深度学习开源平台PaddlePaddle走进天津大学，在“天津大学・海棠季”校园开放日当天举办了一场“天津大学-百度AI深度学习大讲堂”。\u0001http://finance.sina.com.cn/roll/2018-04-10/doc-ifyuwqez8202918.shtml\n",
      "力帆股份：与百度、盼达会在无人驾驶领域战略合作\u00012018-04-10\u0001中国证券报-中证网\u0001中证网讯（记者 张红瑜）力帆股份(601777)4月10日在互动易平台表示，力帆、百度、盼达三方会在无人驾驶领域长期且深入地开展战略合作。\u0001http://finance.sina.com.cn/roll/2018-04-10/doc-ifyuwqez8131215.shtml\n",
      "力帆股份：力帆、百度、盼达三方会在无人驾驶领域长期且深入地开展战略合作\u00012018-04-10\u0001新浪财经\u0001力帆、百度、盼达三方会在无人驾驶领域长期且深入地开展战略合作】力帆股份在互动平台表示，公司希望通过与百度、盼达的合作，充分利用各自的资源优势，共同推进无人驾驶技术的发 ...\u0001http://finance.sina.com.cn/7x24/2018-04-10/doc-ifyuwqez8060463.shtml\n",
      "中国概念股多数上涨，阿里巴巴收涨1.4%，京东(JD.O)收涨2.14%，百度(\u00012018-04-10\u0001新浪财经\u0001中国概念股多数上涨，阿里巴巴收涨1.4%，京东(JD.O)收涨2.14%，百度(BIDU.O)收涨2.05%，人人网收涨5.2%，迅雷(XNET.O)收涨4.36%，趣店(QD.N)收跌8.59%，猎豹移动(CMCM.N)收跌6.21%，搜房网(SFUN.N)收跌2.33%。\u0001http://finance.sina.com.cn/7x24/2018-04-10/doc-ifyuwqez7831466.shtml\n",
      "新规下百度乐视紧急下架的理财产品 苏宁金融仍在卖\u00012018-04-09\u0001新浪综合\u0001原标题：紧急下架！百度乐视“封杀”这类产品，都怕了这条资管新规，却有巨头“偷偷”卖！来源：微信公众号“中国基金报”作者：天逸 清明前，史上最严的互联网资管新规重磅发布 ...\u0001http://finance.sina.com.cn/money/bank/dsfzf/2018-04-09/doc-ifyvtmxe4363589.shtml\n",
      "搜狗百度输入法专利大战一审结束 搜狗称仍将上诉\u00012018-04-09\u0001新京报\u0001搜狗百度输入法专利大战一审结束|新京报财讯 梁辰 马婧 新京报快讯（记者 梁辰 马婧）4月9日，搜狗与百度之间的输入法专利案一审阶段结束。\u0001http://finance.sina.com.cn/chanjing/gsnews/2018-04-09/doc-ifyteqtq6600253.shtml\n",
      "百度视频与百视通达成战略合作，加速布局短视频内容\u00012018-04-09\u0001新浪财经\u0001百度视频与百视通达成战略合作，加速布局短视频内容】近日，百度视频与东方明珠旗下的百视通达成战略合作，双方将整合资源，在视频内容制作、分发、变现等方面进行深度合作。据悉 ...\u0001http://finance.sina.com.cn/7x24/2018-04-09/doc-ifyuwqez7453261.shtml\n",
      "大和：上调百度评级至买进 因搜索业务前景良好\u00012018-04-09\u0001新浪财经\u0001大和：上调百度评级至买进 因搜索业务前景良好】大和称，百度搜索业务的短期收入增长潜力被低估，与业内人士的讨论表明增长仍然具有弹性。由于近期股价出现回调，把百度股票评级 ...\u0001http://finance.sina.com.cn/7x24/2018-04-09/doc-ifyteqtq6500383.shtml\n",
      "百度视频与百视通达成战略合作 加速布局短视频内容\u00012018-04-09\u0001中国新闻网\u00014月9日电 近日，百度视频与东方明珠旗下的百视通达成战略合作，双方将整合资源，在视频内容制作、分发、变现等方面进行深度合作。\u0001http://finance.sina.com.cn/roll/2018-04-09/doc-ifyteqtq6422850.shtml\n",
      "黑莓CEO称，黑莓与百度签署协议，为后者自动驾驶平台提供安全软件。\u00012018-04-09\u0001新浪财经\u0001黑莓CEO称，黑莓与百度签署协议，为后者自动驾驶平台提供安全软件。\u0001http://finance.sina.com.cn/7x24/2018-04-09/doc-ifyteqtq6274231.shtml\n",
      "华阳集团：与百度和阿里是面向未来的技术合作\u00012018-04-08\u0001中国证券报-中证网\u0001张红瑜）华阳集团(002906)4月8日在投资者互动平台表示，无人驾驶目前还处于逐步发展和成熟的过程，公司与百度和阿里巴巴的合作主要是面向未来的技术合作，公司将努力抓住这一市场机遇 ...\u0001http://finance.sina.com.cn/roll/2018-04-08/doc-ifyvtmxe0988934.shtml\n",
      "BAT布局分化：腾讯投资不断百度重产品 阿里稍显沉寂\u00012018-04-08\u0001经济观察报\u0001轮融资，投资方为今日头条。在对教育风口步步紧跟的同时，互联网巨头们的布局重心逐渐分化，腾讯投资不断，百度重视产品，而阿里则稍显沉寂。伴随着互联网巨头的进入，教育企业 ...\u0001http://finance.sina.com.cn/roll/2018-04-08/doc-ifyvtmxc6662607.shtml\n",
      "中概股百度收涨0.57%。\u00012018-04-06\u0001新浪财经\u0001中概股百度收涨0.57%。\u0001http://finance.sina.com.cn/7x24/2018-04-06/doc-ifyteqtq4663872.shtml\n",
      "中海达：合营企业中创博远携手百度，将在年内量产农机无人驾驶系统\u00012018-04-05\u0001新浪财经\u0001合营企业中创博远携手百度，将在年内量产农机无人驾驶系统】4月5日，中海达在互动平台表示，百度为公司子公司都市圈原有街景业务客户之一，另外，公司合营企业中创博远携手百度Apollo ...\u0001http://finance.sina.com.cn/7x24/2018-04-05/doc-ifyteqtq4465302.shtml\n",
      "与百度战略合作提前走漏风声 小康股份疑涉信披违规遭问询\u00012018-04-04\u0001中国经营网\u0001本报记者 张家振 北京报道 与百度签署的合作协议刚落地，重庆小康工业集团股份有限公司（以下简称“小康股份”，601127.SH）就迎来了上交所的火速问询。\u0001http://finance.sina.com.cn/roll/2018-04-04/doc-ifyswxnq2667325.shtml\n"
     ]
    }
   ],
   "source": [
    "import logging\n",
    "import requests\n",
    "import sys\n",
    "import urllib\n",
    "\n",
    "from bs4 import BeautifulSoup\n",
    "from collections import OrderedDict\n",
    "from urllib.parse import urlencode\n",
    "\n",
    "def get_list(comp, page):\n",
    "    \"\"\"Function to get  web list pages for a given company and page number.\n",
    "\n",
    "    Args:\n",
    "        comp: Company name.\n",
    "        page: The page number.\n",
    "\n",
    "    Returns:\n",
    "        newsData: A dictionary with news title as its key and other details as values.\n",
    "\n",
    "    \"\"\"\n",
    "    newsData = OrderedDict()\n",
    "    href = 'http://search.sina.com.cn/?%s&range=title&c=news&num=20&col=1_7&page=%s' % (comp, page) # comp -> first %s; page -> 2nd %s; col=1_7 -> financial news in sina\n",
    "    html = requests.get(href)\n",
    "    # Parsing html\n",
    "    soup = BeautifulSoup(html.content, 'html.parser')\n",
    "    divs = soup.findAll('div', {\"class\": \"r-info r-info2\"})\n",
    "    for div in divs:\n",
    "        head = div.findAll('h2')[0]\n",
    "        # News title\n",
    "        titleinfo = head.find('a')\n",
    "        title = titleinfo.get_text()\n",
    "        # News url\n",
    "        url = titleinfo['href']\n",
    "        # Other info\n",
    "        otherinfo = head.find('span', {\"class\": \"fgray_time\"}).get_text()\n",
    "        source, date, time = otherinfo.split()\n",
    "        # News abstract\n",
    "        abstract = div.find('p', {\"class\": \"content\"}).get_text()\n",
    "        newsData[title] = [date, source, abstract, url]\n",
    "    return newsData\n",
    "\n",
    "\n",
    "\n",
    "if __name__ == \"__main__\":\n",
    "    compRawStr = '百度'\n",
    "    # Dealing with character encoding\n",
    "    comp = compRawStr.encode('gbk')\n",
    "    d = {'q': comp}\n",
    "    pname = urlencode(d)\n",
    "    # Scraping and printing the first two pages\n",
    "    for page in range(3)[1:]:\n",
    "        newsData = get_list(pname, page)\n",
    "        for ky in newsData:\n",
    "            print('\\001'.join([ky] + newsData[ky])) # \"\\001\" as separator"
   ]
  },
  {
   "cell_type": "code",
   "execution_count": 3,
   "metadata": {},
   "outputs": [
    {
     "name": "stderr",
     "output_type": "stream",
     "text": [
      "INFO:root:Scraping http://finance.sina.com.cn/roll/2017-07-14/doc-ifyiaewh9121960.shtml\n",
      "INFO:root:Scraping http://finance.sina.com.cn/money/bank/bank_hydt/2017-07-13/doc-ifyiakwa4000736.shtml\n"
     ]
    },
    {
     "name": "stdout",
     "output_type": "stream",
     "text": [
      "打不过俄罗斯“百度” Uber向战斗民族认怂了\u00012017-07-14\u0001一财网\u0001俄罗斯业务移交Yandex 据彭博社报道，Uber昨日宣布将其在俄罗斯等几个国家的业务以合并的形式移交给俄罗斯打车服务商Yandex.Taxi。\u0001http://finance.sina.com.cn/roll/2017-07-14/doc-ifyiaewh9121960.shtml\u0001继中国市场后，Uber又将撤出俄罗斯市场，而投资者猜测这家公司甚至有可能撤出东南亚及印度市场。俄罗斯业务移交Yandex据彭博社报道，Uber昨日宣布将其在俄罗斯等几个国家的业务以合并的形式移交给俄罗斯打车服务商Yandex.Taxi。Uber此次合并中卖掉的除了俄罗斯市场外还包括亚美尼亚、阿塞拜疆、白俄罗斯、格鲁吉亚和哈萨克斯坦的打车业务，同时获得Yandex的部分股份作为交换，这与之前Uber和滴滴打车的合并方式非常相似。双方将成立一家合资公司，Uber将向合资公司注资2.25亿美元，占股36.6%;Yandex将注资1亿美元，占股59.3%，而剩余4.1%则由员工持股。这笔交易会在今年的第四季度完成，这家尚未命名的新公司估值在37.3亿美元左右。Yandex是俄罗斯最大的搜索引擎公司，Yandex.Taxi是其于2011年在俄罗斯推出的打车服务，在俄罗斯的打车市场占据着主导地位。2014年，Uber进入俄罗斯市场，双方展开了一场激烈的争夺，如同此前在中国市场对战滴滴一样，Uber在俄罗斯也与Yandex.Taxi陷入了补贴大战中。Uber表示，在俄罗斯与Yandex.Taxi争夺市场令其过去三年亏损了约1.7亿美元。Yandex.Taxi在俄罗斯运营的时间比Uber登陆该国早三年，并展示出降低服务价格以吸引用户的强烈意愿。对于此次合作，Uber欧中非地区负责人Pierre表示，双方联手不仅有利于Uber和Yandex，对于整个地区的司机和乘客而言，都是好事。同时，合作可以帮助Uber继续打造可持续的全球业务。在中国的坎坷竞争路该交易是继退出中国市场后Uber又一次撤出其主要市场。在中国市场上，Uber为了滴滴出行抢占市场损失了大约20亿美元之后，决定将其市场份额交予滴滴打车并得到滴滴出行17.5%的股份。Uber在2014年2月13日宣布正式进入中国市场。2013年8月，Uber正式在上海试运营。2014年2月，Uber在上海、深圳和广州进入正式运营，6月在上海、北京和深圳试水UberX，8月上线人民优步。2016年8月，Uber和滴滴出行进行交易退出中国市场。对于Uber，中国市场无疑是非常特殊的。进入之初Uber投入20亿美元在中国约60多个城市进行市场布局，其CEO特拉维斯·卡拉尼克几乎倾尽全力开拓中国市场。而尽管投入巨大，Uber在市场份额上面却一直没有很好的成绩。在Uber将它在美国的成功经验在中国进行复制的同时，它在中国的主要竞争对手滴滴打车与快的打车正激烈地抢占市场。滴滴出行和快的打车为了拉拢更多出租车司机和乘客成为用户，不惜进行大规模现金补贴。在2015年滴滴出行的订单总量达到14.3亿，用户数突破2.5亿，而当时Uber的全球订单量为10亿。一个不能忽视的事实是，在过去的十多年时间里，跨国互联网公司在中国很少成功过。主要原因是过度迷信于复制这些公司原来的模式，这也是Uber失利中国市场的原因。东南亚及印度市场岌岌可危尽管最近麻烦不断，但Uber在美国本土打车市场仍占据主导地位。不久之前CEO特拉维斯·卡兰尼克因丑闻被董事会罢免，而Uber此次与Yandex的合并也是以退为进，借此减少亏损提高利润，并着重解决公司在法律方面的一些麻烦。彭博认为，Uber在俄罗斯等市场的撤退可能预示着，该公司在另外几个竞争激烈的市场可能会相继撤退。投资者最近几个月纷纷针对Uber在印度和东南亚的利润损失提出疑问，猜测Uber是否会将业务出售给当地的市场主导竞争者。东南亚市场的Grab、印度的Ola都本地市场都是Uber一块烦心的绊脚石，欧洲市场则有大众集团的Gett的强大竞争。即使在北美市场，也有通用和捷豹路虎支持的Lyft公司作为竞争对手。进入【新浪财经股吧】讨论\n"
     ]
    },
    {
     "name": "stderr",
     "output_type": "stream",
     "text": [
      "INFO:root:Scraping http://finance.sina.com.cn/china/dfjj/2017-07-12/doc-ifyiamif2703041.shtml\n"
     ]
    },
    {
     "name": "stdout",
     "output_type": "stream",
     "text": [
      "百度金融弯道超车\u00012017-07-13\u0001陆家嘴\u0001x3000;　百度金融弯道超车　　文/本刊记者 何映霏 摄影/OVE　　“人工智能和大数据给互联网金融的冲击，给像百度这样的有技术优势的公司弯道超车的机会。\u0001http://finance.sina.com.cn/money/bank/bank_hydt/2017-07-13/doc-ifyiakwa4000736.shtml\u0001基金经理老鼠仓，说好保本变巨亏，买基金被坑请到【基金曝光台】！信用卡无故遭盗刷，银行存款变保险，理财被骗请猛戳【金融曝光台】！百度金融弯道超车文/本刊记者 何映霏  摄影/OVE“人工智能和大数据给互联网金融的冲击，给像百度这样的有技术优势的公司弯道超车的机会。”百度副总裁、负责消费金融业务的黄爽在接受《陆家嘴》杂志采访时表示。技术基因全面注入百度金融BAT及京东之所以被称为互联网巨头，是由于垄断了70%以上的用户时间。巨头们一手掌握着流量，一手掌握着流量背后所代表的场景，而流量和场景又恰好是金融变现最好的方式之一，这也成为了互联网巨头向金融领域高歌猛进的充足理由。以支付宝花呗与京东白条为代表的电商场景消费金融，以电商平台为依托，支付作为入口，最终在电商平台上产生消费，消费过程中又接入各种金融产品，如消费分期等，这在无形中培养了广大受众的用户习惯。目前除了支付宝有蚂蚁花呗，京东有白条，百度研发了有钱花，苏宁有任性付，快钱有快易花。在互联网金融1.0时代，一切以场景为王。无论是线上还是线下，信用分期服务都依托于商业机构或者电商、服务交易的特定场景。但是到了互联网金融2.0时代，由于移动时代智能手机的发展，网络背后的一个个主体能够被识别。再加上用户在网络上沉淀的各种数据，其个体画像可以被精准刻画。近几年，互联网金融的竞争已经从资金端向资产端倾斜，黄爽看来，谈及资产端线上化时，需解决三个问题：一是如何通过线上触达需求方；二是核实需求方的真实身份；三是你需要给他匹配什么样的产品形态。“百度擅长于做第一和第三点，通过搜索引擎了解他人诉求，搜索到的信息点才是最真实的数据，朋友圈里发的可能只是你想成为的自己，甚至有故意经营的印记。” 黄爽谈道，百度以搜索立身，不仅拥有风控模型，还深挖了复杂的需求模型和响应模型，例如人脸识别系统就可以帮助百度消费金融高效地核实身份、反欺诈，还能降低人工审核时间，缩短审核周期，使消费金融服务变得安全又不失方便快捷。黄爽认为，百度金融要做的事情是锻造一种金融科技在金融场景里面的能力，她也道出了百度金融想成为一家真正的科技金融公司的愿景。作为最有技术基因的巨头之一，百度的技术基因正在全面注入百度金融，以人工智能、大数据、云计算为代表的科技能力成为百度金融最核心的竞争力。未来，身份识别认证、大数据风控、智能投顾、量化投资、金融云、智能获客成为百度金融发展的六大主要方向。布局教育、房产、旅游等消费场景从2013年至今，百度金融5年内经历了百度理财平台上线到组建金融服务事业群组（FSG）。如今，百度金融服务事业群由消费金融业务、百度理财、钱包支付业务为主体的整体框架构成。据黄爽介绍，目前百度金融事业部消费信贷平台业务主要分为四块：第一块是线上线下结合的产品——教育分期；第二块是纯线上信用贷款；第三块是房生态的产品；第四块是今年才上线的小微企业贷款。百度如今以一站式“线上＋线下”合作模式形成闭环金融链条，黄爽称之为“B2B2C”的模式。当下，金融公司的模式绝大部分是B2C的，通过研发产品、提供服务去获客，从而完成收益。而“能力输出”显然是B2B2C的生意，一方面连接线下消费机构，一方面连接个人用户，进行有效的风险控制，并提供资金，围绕金融机构的需求，提供基础能力，从而让机构更好地服务C端用户——这是平台级的思维，是筑巢引凤式的开放生态之举。以百度“有钱花”为代表的平台级消费金融模式，其主要目的是建立消费金融平台，凭借自身的流量、场景、数据、人工智能等技术优势，主动触达到消费金融的需求方，双方在合作中又逐渐形成了百度生态圈，是百度金融一大创新点。值得一提的是，百度金融已在教育分期上做到了市场排名第一。目前，百度金融教育领域的信贷服务产品主要有两块内容，一块针对教育培训用户，如解决学员培训学费问题，提交申请后，最快一分钟出结果，且手续费零起步；另一块针对教育培训机构，为它们提供金融信贷支持，针对教育行业痛点提供定制化解决方案。这两块均是针对职业教育领域。在黄爽看来，中国的消费金融信贷市场广阔，但其中小额消费贷的市场竞争最为激烈，针对白领人群，信用卡和白条、花呗等产品打得不可开交，而蓝领人群也有多家消费金融公司和创业公司一窝蜂地挤进去。相比之下，在教育、房产、旅游等消费场景市场还大有可为，拥有强大资金体量和流量支持的百度选择抢占这个市场，显然是要和京东金融、蚂蚁金服等形成差异化竞争。挖掘大数据 践行普惠金融早年毕业于武汉大学国际金融和英美文学双学士、印第安纳大学工商管理硕士的黄爽，在学生时代就是当之无愧的美女学霸，对自己职业发展有较早的规划，且拥有很多不俗的爱好。黄爽曾任职于Capital One（美国第一资本金融公司）。这家美国金融公司中曾走出数名归国创业者，他们或创办了自己的企业或加入了国内的顶级互联网金融公司，成为国内消费金融领域最引人注目的一支力量。黄爽将Capital One称作是“消费金融的黄埔军校”，这段职业经历对她影响最深。“在一个成熟的金融市场中，敢突破0到1的公司非Capital One莫属，从市场份额较小的银行，到攻入成熟但增长缓慢的信用卡行业，再到最后上市，成为今天的美国第四大银行，这是一个奇迹。”黄爽说，作为一家世界上知名的消费金融公司，如何把风险和获客结合，如何真正用非常严谨的数据分析、数据决策和信息技术的框架去解决问题等，都是Capital One制胜的法宝。黄爽告诉记者，Capital One特别有意思的点在于，公司更愿意用印度人和中国人，因为这两个国家的人更擅长于各种各样的考试，这也更凸显了Capital One擅于以大数据战略为竞争力的定位。这种模式会逐渐普及于中国的应用。通过人工智能的元素，从数据里面能够挖掘和洞察到更多有意义的事，是践行普惠金融的一条行之有效的道路。回国后黄爽先后在渣打银行等多家知名金融机构任职。在2016年百度金融任职前，黄爽还是陆金所执委，是其开放式产品平台的重要架构设计参与及实施者。“普惠金融的梦想不是给人50％～100%的利率，而是让原来拿不到信用的人，用一个相对正常的利息获取这种金融资源。”这是黄爽作为科技金融类企业少数女性管理者对普惠金融的深刻理解。进入【新浪财经股吧】讨论\n"
     ]
    },
    {
     "name": "stderr",
     "output_type": "stream",
     "text": [
      "INFO:root:Scraping http://finance.sina.com.cn/roll/2017-07-12/doc-ifyhwehx5784774.shtml\n"
     ]
    },
    {
     "name": "stdout",
     "output_type": "stream",
     "text": [
      "保定与百度签约建设智能交通示范城市 开展自动驾驶技术测试\u00012017-07-12\u0001澎湃新闻\u0001人民网石家庄7月12日消息，日前，河北保定市与百度正式签订共建智能交通示范城市的战略合作协议，双方在自动驾驶相关技术测试、体验示范、商业运营及标准法规探索等方面达成合作 ...\u0001http://finance.sina.com.cn/china/dfjj/2017-07-12/doc-ifyiamif2703041.shtml\u0001河北保定将建设智能交通示范城市来源：人民网张志锋、尹晓龙人民网石家庄7月12日消息，日前，河北保定市与百度正式签订共建智能交通示范城市的战略合作协议，双方在自动驾驶相关技术测试、体验示范、商业运营及标准法规探索等方面达成合作。双方将依托保定市提供的封闭场所、城市开放道路基础设施和数据等资源，结合人工智能、自动驾驶等技术，在未来3-5年内，开展自动驾驶相关技术测试、体验示范、商业运营及标准法规探索等合作，共建智能交通示范城市，推动自动驾驶新技术、新产品、新服务的实验验证与成果转化。进入【新浪财经股吧】讨论\n"
     ]
    },
    {
     "name": "stderr",
     "output_type": "stream",
     "text": [
      "INFO:root:Scraping http://finance.sina.com.cn/roll/2017-07-11/doc-ifyhvyie1100596.shtml\n"
     ]
    },
    {
     "name": "stdout",
     "output_type": "stream",
     "text": [
      "百度云支撑“云上阳泉”智慧城市和大数据产业发展\u00012017-07-12\u0001中国新闻网\u00017月11日，百度与阳泉市政府正式签署多项战略合作协议，以“云物移大智”(云计算、物联网、移动互联网、大数据、智慧城市)为引领，共同推进“智慧阳泉”、“政务云计算”、“大数据产 ...\u0001http://finance.sina.com.cn/roll/2017-07-12/doc-ifyhwehx5784774.shtml\u0001中新网7月12日电 7月11日，百度与阳泉市政府正式签署多项战略合作协议，以“云物移大智”(云计算、物联网、移动互联网、大数据、智慧城市)为引领，共同推进“智慧阳泉”、“政务云计算”、“大数据产业”等快速建设和发展。ABC让整个城市“智能化”随着AI时代的到来，智慧城市未来将是AI落地的重要场景。在此次百度与阳泉签署的合作协议中，“智慧阳泉”的建设成为“重头戏”。百度将与阳泉共同打造“阳泉大脑”，建设山西(阳泉)智能物联网应用示范基地，探索智慧城市建设新模式。依托ABC(人工智能AI、大数据Big data、云计算Cloud Computing)和物联网技术优势，以及百度云计算(阳泉)中心落户阳泉开发区的资源优势，百度将支持阳泉成立“山西(阳泉)大数据资产运营公司”，推进包括城市能源调度和管理等在内的城市智能物联网项目。在此次合作中，通过百度云“天工”智能物联网平台，百度将以城市物联网为核心，助力阳泉将城市的地下管网(供水、供暖、天然气、污水)、楼宇和交通基础设施等数据统一接入城市数据资产平台，在资产平台上再搭建各种城市的应用。同时，百度和阳泉市一起探索打造基于语音交互的城市公共服务平台，把DuerOS、城市服务知识图谱、IoT结合起来，将为阳泉提供AI公共服务。百度云“天工”平台融入ABC技术优势，能够为工业制造、能源、车联网、物流等行业提供完整的解决方案，将助力阳泉城市物联网的建设和推广，为山西带来IoT和AI产业链上的企业的入驻，形成产业聚集效应。未来，随着先进的AI和IoT城市方案向全国推广，将进一步带动山西经济的发展。同时，百度不仅重点推动ABC和物联网技术在智慧能源、智慧医疗、智慧政务、智慧交通、智慧旅游等领域落地应用，让阳泉整个城市变得“智能化”；还将与阳泉经济技术开发区展开合作，共同培育一批互联网企业和人才，打造山西互联网创新创业新生态，推动“双创”发展。打破思维禁锢的阳泉大数据“大数据之父”舍恩伯格在《大数据时代》中写道：“大数据开启了一次重大的时代转型，正在改变我们的生活以及理解世界的方式，成为新发明和新服务的源泉，而更多的改变正蓄势待发。”这本著作认为大数据首先是思维变革，才会慢慢带来生活与产业上的改变。而在百度和山西大学的共同助力下，阳泉显然已经打破了思维禁锢，将大数据作为产业发展的主旋律。其实早在2012年8月，百度和阳泉就已经开始为大数据产业建设写下序曲——亚洲单体最大的百度云计算(阳泉)中心在阳泉奠基开工。如今，该中心的数据存储规模、计算能力和节能环保三方面都处于亚洲一流水平，数据存储量超过4000PB，可存储的信息量相当于20多万个中国国家图书馆的藏书总量，为阳泉大数据产业发展提供了有力支撑。依托百度的科技优势和资源优势，以及山西大学的人才优势，阳泉将逐步建设大数据创新生态，带动大数据产业集聚发展。在未来的合作中，百度将为阳泉引进大数据产业、技术项目，并将最新部署发展的相关项目优先落地阳泉，积极支持阳泉企业在发展大数据产业中的转型升级。此外，百度、阳泉市和山西大学不仅将共建阳泉市大数据智能物联网应用示范基地，还将定期举办大数据智能物联网技术产业高峰论坛，对大数据智能物联网技术在山西省的应用和产业发展方向进行研究，为发展大数据产业提供决策依据。作为百度技术能力和资源的统一输出平台，百度云会在未来的合作中发挥关键作用，将以ABC三位一体的云服务助力阳泉智能化转型和发展，让阳泉整个城市变得更“聪明”。进入【新浪财经股吧】讨论\n"
     ]
    },
    {
     "name": "stderr",
     "output_type": "stream",
     "text": [
      "INFO:root:Scraping http://finance.sina.com.cn/roll/2017-07-11/doc-ifyhvyie1032239.shtml\n"
     ]
    },
    {
     "name": "stdout",
     "output_type": "stream",
     "text": [
      "山西煤企携手百度智取转型 煤炭不再“傻大黑粗”\u00012017-07-11\u0001中国新闻网\u0001中新网太原7月11日电(范丽芳)11日，阳煤集团与中国知名互联网公司百度达成战略合作协议，双方将利用百度领先的人工智能、大数据、云计算技术与阳煤集团领先的煤炭开采、煤化工生产 ...\u0001http://finance.sina.com.cn/roll/2017-07-11/doc-ifyhvyie1100596.shtml\u0001中新网太原7月11日电 (范丽芳)11日，阳煤集团与中国知名互联网公司百度达成战略合作协议，双方将利用百度领先的人工智能、大数据、云计算技术与阳煤集团领先的煤炭开采、煤化工生产、大宗物流管理能力，共同推进煤炭行业“智”取转型，改变以往外界对煤炭“傻大黑粗”的印象。当日，百度公司创始人李彦宏现身签约仪式支持家乡发展。根据双方协议，在煤炭云开采方面，阳煤集团将结合百度公司ABC((AI、Bigdata、CloudComputing))技术优势，推动煤炭工业科技创新，建立以智能感知、智能控制、物联网等信息技术和以大数据、风险智能判识、防控、监控预警等安全开采为支撑的“互联网+煤炭科学开采”，实现时空上准确高效的煤炭无人(少人)智能开采与灾害防控一体化的未来采矿新模式。在智能云煤化工方面，双方将联合优质企业，共同设计建造中国最领先的智能化工厂，提高煤化工生产的安全性、环保性；在物流方面，依托山西国际陆港集团，构建“物流+互联网+大数据”相融合的一体化产业生态平台，为上中下游企业提供集中服务，为物流组织、市场营销、经营管理提供智能化大数据分析决策支持，为线上线下物流运输、仓储配送、商品交易、金融服务、物流诚信等业务提供一站式、全方位服务，形成覆盖线上线下的物流生态系统。在中国，煤炭行业是一个较为特殊的行业，不仅表现在它为我国经济社会发展提供了60%以上的基础和支柱性能源保障，同时也是长期以来国家工业的重要行业。对于煤炭大省山西，该行业的转型升级对当地经济尤为重要。阳煤集团作为山西省五大煤炭集团之一，在引领山西这个煤炭大省的资源转型、产业升级发展方面具有重要使命和意义。作为技术驱动型企业的百度，凭借17年的技术积累，近年来在ABC等领域快速发展，特别是以百度云为核心平台，已经开始与中国传统工业企业展开深度融合。阳煤集团党委书记、董事长翟红认为：“此次合作希望让煤炭行业更加智能化，将来大家提起煤炭，想起来的是不再是‘傻大黑粗’，我们的最终目标是要做到精准开采、生产智能化，矿工可以在井上用计算机指挥井下采掘装置作业。”李彦宏表示，未来将继续支持阳泉煤炭产业的发展，用百度先进的技术推动家乡产业的转型升级。(完)进入【新浪财经股吧】讨论\n"
     ]
    },
    {
     "name": "stderr",
     "output_type": "stream",
     "text": [
      "INFO:root:Scraping http://finance.sina.com.cn/roll/2017-07-11/doc-ifyhweua4718968.shtml\n"
     ]
    },
    {
     "name": "stdout",
     "output_type": "stream",
     "text": [
      "通信行业:百度AI开发者大会亮点十足,关注车联网、大数据投资机会\u00012017-07-11\u0001全景网\u00015G和物联网均处于快速推进和逐步落地中,电信运营商陆续公布NB-IoT网络建设规划,MWC上各运营商和设备商公布5G技术发展动态,百度在AI开发者大会首次提出自动驾驶生态和长期AI、车联网、大数 ...\u0001http://finance.sina.com.cn/roll/2017-07-11/doc-ifyhvyie1032239.shtml\u0001近期推荐组合:英维克(002837)、美利云(000815)、宝信软件(600845)、中际装备(300308)、光迅科技(002281)、东信和平(002017)、永鼎股份(600105)、动力源(600405)。市场回顾:上周通信(申万)指数上涨1.23%;沪深300指数下跌0.3%;行业跑赢大盘1.26个百分点。策略观点:通信板块上周表现强于大盘,总体走势良好,通信板块上涨拉动力呈现一定的变化。白马股涨势有所缓和,而此前跌幅较多的中小盘股呈现明显上涨趋势。一方面,中报期临近,一些2016年业绩不佳的中小盘股在股价长期低迷之后可能迎来中报超预期有利因素,尤其超跌个股在市场信心支持下稳步上升。另一方面,通信行业未来主要增长核心5G和物联网均处于快速推进和逐步落地中,电信运营商陆续公布NB-IoT网络建设规划,MWC上各运营商和设备商公布5G技术发展动态,百度在AI开发者大会首次提出自动驾驶生态和长期AI、车联网、大数据方面布局。在行业发展积极向上刺激下,相关标的受到市场关注并产生明显的向上动力。在5G蓬勃发展的大背景下,AI、车联网、大数据平台等业务板块的崛起速度有望超预期,建议关注相关投资机会。百度AI开发者大会召开,百度产业链概念逐渐形成:2017年7月5日,“百度AI开发者大会”举办,百度宣布将推出DuerOS和Apollo两大开放平台,为多个行业提供一流的开发工具和有效的AI行业解决方案。1、在技术储备方面,百度已开放60项AI核心能力,含此次首次开放的14项新能力。其对话式人工智能系统DuerOS拥有目前最容易上手的设备开放平台、真正能听清听懂的对话核心系统以及丰富优质的技能平台,以技术和产业优势领跑国内市场。Apollo开放平台方面,百度除了宣布首期将开放Apollo1.0封闭园区自动驾驶能力,还完整披露了Apollo开放平台的具体开放细节和路径图。2、在合作进展方面,奇瑞、一汽、英伟达、TomTom等多家企业都将作为百度的生态合作伙伴。对话式人工智能系统DuerOS已经与国内外百余家家电、芯片和服务提供商建立了生态合作关系,“Apollo”计划也迎来众多厂商的积极响应和参与。3、在技术拓展方面,百度宣布将全资收购KITT.AI,未来更大限度地开放技术能力满足智能语音设备开发者的需求。我们关注到:一方面,国内以百度为代表的AI战略规划已相当完备,核心技术储备也逐渐成熟,Apollo是全球范围内自动驾驶技术的第一次系统级开放,百度此次成功攻占领跑高地。另一方面,大数据、汽车、车联网、通信设备等领域厂商对AI、车联网发展表现出十足的兴趣与信心,厂商间的紧密合作将加速核心技术与平台发展,协同5G的顺利部署,AI、车联网崛起速度有望超预期。围绕在百度周围,一些具备长期合作实力和发展能力的公司将显著受益,成为百度概念股。风险提示:行业增速放缓风险,资费下滑加速风险。进入【新浪财经股吧】讨论\n"
     ]
    },
    {
     "name": "stderr",
     "output_type": "stream",
     "text": [
      "INFO:root:Scraping http://finance.sina.com.cn/roll/2017-07-11/doc-ifyhvyie0955704.shtml\n"
     ]
    },
    {
     "name": "stdout",
     "output_type": "stream",
     "text": [
      "生态联盟长名单背后：百度Apollo到底开放什么？\u00012017-07-11\u000121世纪经济报道\u0001生态联盟长名单背后：百度Apollo到底开放什么？7月5日，百度再一次制造了新闻。在百度AI开发者大会现场，百度创始人、董事长兼首席执行官李彦宏登台，自信宣称，移动互联网的时代结 ...\u0001http://finance.sina.com.cn/roll/2017-07-11/doc-ifyhweua4718968.shtml\u0001生态联盟长名单背后：百度Apollo到底开放什么？7月5日，百度再一次制造了新闻。在百度AI开发者大会现场，百度创始人、董事长兼首席执行官李彦宏登台，自信宣称，移动互联网的时代结束了，接下来是AI时代。在历次技术革命中，一个人、一家企业，甚至一个国家，可以选择的道路只有两条：要么加入浪潮，要么观望徘徊。当天，百度Apollo开放平台作为百度AI生态重要战略，首次面向开发者及各行业合作伙伴集中展现，释放出生态势能。而在AI时代，算法和数据都非常重要，分散的数据是没有用途，数据一定要累积，价值才能出现。百度首席运营官陆奇在公布Apollo整体战略和开放体系时表示：“Apollo是汽车工业的一个重要里程碑，它本质上就像是自主驾驶行业的‘安卓’系统，但更开放更强大。”百度不造车，Apollo也秉承了这样的理念。换言之，百度的Apollo计划的核心，是让人工智能赋能汽车行业。与此同时，陆奇不再强调百度的控制能力，而是宣布有超过50家合作伙伴组成了Apollo生态，涵盖主机厂、零部件供应商和新创车企和技术公司，还有科研院校以及地方政府。“百度为什么要发布开放的Apollo计划，因为软件不能单独存在，需要生态支持，将自己无法做的事情交回专业的人来做。”7月8日，一位熟悉Apollo计划的业内人士，在接受21世纪经济报道记者采访时表示。百度、博世合作样本《智能时代：大数据与智能革命重新定义未来》一书中写道：汽车这个老行业，在引入大数据和机器智能之后就脱胎换骨，变成了一个新的行业。当汽车与互联网融合之后，这个行业就变得更有意思。当天，Apollo生态合作伙伴联盟正式成立，首批50多家成员包括奇瑞、一汽、长安、长城等15家领先的OEM厂商，博世、大陆、采埃孚、德赛西威等10家Tier1厂商，还包括NVIDIA、微软、中兴通讯、Velodyne、TomTom、紫光展锐、富迪等12家多领域关键零部件生产商以及AutonomouStuff、地平线等3家新锐初创企业，神州优车、Grab taxi等3家出行服务商，清华大学、上海交通大学等5所一流高校也已加入，芜湖、保定、北京亦庄等6个政府部门及机构也在名单之列。在这张长长的联盟名单之上，赫赫在列的博世，是全球最为知名的零部件供应商，已成为Apollo生态首批成员，并与百度签订了战略合作协议。发布会当天，李彦宏坐在一辆自动驾驶车上与陆奇现场连线，告诉大家自己正在北京五环赶往会场的路上。据记者观察，在前往开发者大会的路上，李彦宏所乘坐的正是博世与百度智能汽车事业部的合作成果——高速公路辅助功能增强版演示车，一辆进行了自动驾驶方案改装的红色Jeep自由光。早在今年4月17日，21世纪经济报道记者曾在上海车展前“博世”技术开放日体验了该款演示车。该车配备5个博世中距离毫米波雷达、1个多功能摄像头、电子稳定程序ESP 、电子助力转向系统EPS，以及百度智能汽车事业部的定位及增强现实人机界面技术。而且，这辆车已经实现高速公路的部分自动驾驶，包括车道保持和司机监控下的车道自动切换以及超车。当不满足自动变道条件时，系统会发出警报，督促驾驶员接管并进行下一步操作。换句话说，在自动驾驶模式下，驾驶员必须主动拨动转向才能控制车辆的变道。显然，当“李彦宏坐无人车被查”的新闻登上当天各大门户网站的头条时，有媒体报道发出关于“该无人驾驶车实线并线，并且未打转向灯”的质疑，也可以消除了。此外，该车可以在进出弯道时自动控制车辆速度，而该系统可在0-130km/h内实现高速公路部分自动驾驶。据了解，该系统自动驾驶等级在L2和L3之间。“百度Apollo专注搭建一个自动驾驶的开源平台，以及高清地图、人工智能等，博世会把传感器、执行器等提供给这个平台，攻坚自动驾驶生态，在生意上面没有冲突。” 7月9日，博世中国执行副总裁徐大全在接受21世纪经济报道记者采访时称，百度和博世的合作是优势互补。徐大全此前也对记者表示，博世在百度宣布Apollo计划后，一直也在认真学习阶段。“如果这个平台能够实现数据共享，对主机厂、零部件供应商都是好事。”其实，在这个生态中，博世必然会跟百度这样的搜索公司合作，因为博世和大陆等供应商依托rule based控制技术，而AI技术代表更高的计算能力和计算速度，一旦rule based被淘汰，博世如果没有下一代技术，就很难翻身。百度到底开放什么？在自动驾驶功能中，博世和大陆等供应商的技术储备和系统早已经成熟。百度此时选择和Tier1供应商合作，该承担什么角色？陆奇在AI开发者大会上，向外界详尽的介绍了智能驾驶开放平台的技术框架，它包括四大组成部分：参考车辆平台、参考硬件平台、开放的软件平台和云服务平台。显然，百度最关心的，是上层软件平台和云服务平台。其中开放的软件平台中包含四个重点模块：自定位模块、感知模块、车辆规划控制和底层的运行框架。而服务平台层面则会开放包括高精地图、仿真引擎以及安全服务等重要能力，另外，服务平台还能为每一辆车提供车内体验的DuerOS。参考硬件平台能支持从CPU（中央处理器）到GPU（图形处理器）到FPGA（现场可编程门阵列），以及各种不同的传感器，从GPS到IMU到摄像头、激光雷达、雷达等等各种各样不同的硬件。“我们把所有的模块加在一起，Apollo为每一个开发者提供了从0到1的能力，任何一个开发者都可以用Apollo来组装一辆属于你自己的自动驾驶车，来进入自动驾驶研发。”陆奇表示。今年7月，百度计划开放Apollo 1.0封闭场地循迹自动驾驶，9月开放固定车道跟车自动驾驶，到今年年底输出简单城市路况的自动驾驶能力，2018年年底开放特定区域高速和城市道路自动驾驶 ，2019年年底公布高速和城市道路自动驾驶Alpha版，最终在2020年之前实现高速和城市道路全路网自动驾驶。同时， Apollo生态还放眼全球，在首批合作伙伴阵容中，海外企业及机构占比近30%，其中的整车企业包括戴姆勒和福特。据记者多方了解，宝马、大众、通用等跨国车企也有意加入Apollo生态之中，并且与百度在自动驾驶第四级阶段进行合作。各取所需的合作模式当然，作为一个中国企业，如何扶植中国自主企业在自动驾驶领域的技术，也是百度认真考虑的问题。在百度AI开发者大会上，奇瑞作为唯一一家整车企业上台单独亮相发言，因为百度与奇瑞的合作处于最前端。“相比国内其他车企，百度看中奇瑞对技术的尊重，目前，百度与奇瑞正在考虑如何进行示范运营。”7月8日，接近奇瑞的有关人士告诉记者。此外，国内企业自动驾驶还停留第三等级，但是外界并不了解自动驾驶第三等级和第四等级的具体区别。“L3包含非常广泛的技术功能，将手离开方向盘，到无需自己驾驶。而L4则从驾驶员不需要主动开车开始。所以从手离开方向盘到不用驾驶员自己驾驶，都是L3等级范畴内。”上述业内人士称，纵观汽车行业，开发高速公路跟车功能，就说已经实现自动驾驶了，这是汽车行业的投机行为，虽然可以博眼球、提升部分销量，但这对技术进步是没有意义的。现在，摆在百度面前的一个难题是，如何搞定博世和德尔福、英伟达和英特尔以及各个车企之间存在的竞争对手关系和已经划分好的自动驾驶阵营。似乎百度并不在意这样的“阵营”。用陆奇的话来讲，“Apollo的云平台能支持Intel和NVIDIA不同的芯片”。言下之意是百度不做芯片，而英特尔和英伟达的产品也并不趋同，英伟达具备的是GPU实力，而英特尔在FPGA、CPU较为领先，未来产品的竞争力尚不明确。“与大陆、博世不同，英特尔和英伟达也要做解决方案，但是还没有强大的人工智能技术。”上述业内人士告诉记者，百度不会全行业通吃，汽车行业还是专业的人，做专业的事。毕竟，消费者首要考虑因素是汽车品牌，而不是背后是博世还是百度谁提供的技术支持。即便如此，陆奇和李彦宏依然如此自信，扬言要创造一个全新的世界。百度有这么大的野心不足为奇，因为AI技术很新。显然，百度的技术已经毋庸置疑，但核心问题在于，百度如何将领先技术转化成产品。值得注意的是，在百度打造的生态中，它的盈利模式是怎样的？业内人士告诉记者，百度在Apollo生态中承担的角色更像是供应商，但是与传统零部件供应商不同的是，百度将不主要依赖于车企采购产品或技术的方式盈利，百度的盈利模式还有进一步的想象空间，而且在百度内部也还没完全考虑成熟。进入【新浪财经股吧】讨论\n"
     ]
    },
    {
     "name": "stderr",
     "output_type": "stream",
     "text": [
      "INFO:root:Scraping http://finance.sina.com.cn/consume/puguangtai/2017-07-11/doc-ifyhvyie0949465.shtml\n"
     ]
    },
    {
     "name": "stdout",
     "output_type": "stream",
     "text": [
      "长安参与百度Apollo计划：平台催生新买卖关系？\u00012017-07-11\u000121世纪经济报道\u0001本报记者？纪伟？北京报道？？？？“在自动驾驶领域，现在传统车企与百度、谷歌选择的路线不同。百度将其高精度地图以及人工智能的优势发挥出来，双方在合作上能够形成良好的互补 ...\u0001http://finance.sina.com.cn/roll/2017-07-11/doc-ifyhvyie0955704.shtml\u0001本报记者 纪伟 北京报道“在自动驾驶领域，现在传统车企与百度、谷歌选择的路线不同。百度将其高精度地图以及人工智能的优势发挥出来，双方在合作上能够形成良好的互补，很可能会加快L3或者L4整体产品推进的速度。”7月9日，长安汽车研究院常务副院长谭本宏在接受21世纪经济报道记者采访时表示。在自动驾驶领域，汽车行业将不同的发展阶段划分为五个等级。其中L3指的是高度的自动驾驶，L4表示全自动驾驶，而L5指的是车辆的智能化已经达到了人类驾驶的水平。7月5日，百度在北京国家会议中心召开百度AI开发者大会，发布了Apollo 1.0的开放细节，以及Apollo开放平台的整体战略和开放路线图。如何去理解Apollo开放平台，当天百度董事会副主席、百度集团总裁兼首席运营官陆奇，用手机安卓平台来进行类比，并表示Apollo开放平台会比安卓更开放、更强大。同时，用“开放能力、共享资源、加速创新、持续共赢”16字宣言概述了Apollo生态的战略目标。尤为重要的是，Apollo计划能否顺利推进取决于合作伙伴参与程度。21世纪经济报道记者了解到，Apollo初始合作伙伴的阵容已超过50家企业。目前Apollo生态合作伙伴联盟已辐射OEM、Tier1、地图公司、芯片公司、基金投资、个人开发者、创业公司、研究机构及政府机构等。但这么多合作伙伴如何参与到Apollo计划中，也是业界关注的焦点。7月8日，一位接近百度的业内人士在接受21世纪经济报道记者采访时表示：“在百度Apollo计划里，企业相互之间的合作思维需要发生转变，数据需要众多企业来提供，如果企业参与并提供数据多，那么Apollo的能力也将越来越强。”市场数据成为合作的桥梁上述人士提道：“在自动驾驶领域中，百度只做云服务和软件平台，这样可以更好理解百度与其他企业之间的关系。”作为百度重要合作伙伴之一，奇瑞汽车董事长尹同跃受邀作为Apollo生态合作伙伴代表在百度AI开发者大会（Baidu Create 2017）发表讲话。他表示，“百度汽车向行业开放了自动驾驶的核心技术，并与产业上下游各方合作，能减少行业在技术探索中走弯路的可能性，从而大幅提升自动驾驶创新的速度和商业化进程。”目前来看，Apollo的服务平台将提供给合作者四个方面的服务；第一是高精地图服务；第二是仿真引擎；第三是安全服务；第四是能为每一辆提供智能化车内体验的DuerOS。同时，百度的参考硬件平台能支持各种各样的不同的计算硬件，从CPU到GPU到FPGA。同时还支持各种不同的传感器，从GPS到IMU到摄像头、激光雷达、雷达等，百度把所有的模块加在一起，Apollo为每一个开发者提供了从零到一的能力。谭本宏表示：“百度也在尝试做一个平台的策略，因为如果众多企业都加入阿波罗的计划，那么可能会通用百度的一些算法或者逻辑理念。”合作者贡献越多，收获越多百度的商业模式是基于百度的核心能力，即数据、算法大规模的积累，而这也恰恰是车企的软肋。在目前看来，自动驾驶阵营已经形成了以两大芯片公司英特尔和英伟达为核心的两大阵营，前者包括宝马、沃尔沃、德尔福和mobileye，后者包括沃尔沃、博世、ZF、特斯拉等。而自主品牌汽车方面，以长安为代表的企业开始与合资企业分庭抗礼。在智能驾驶上，长安是国内唯一加入美国智能汽车联盟“MTC联盟”的车企，长安汽车加强与国内外一线互联网企业的跨界合作，推进自身的“互联网+”进程，目前长安与高德、百度以及英特尔都有合作。参与到百度的Apollo计划，不仅有合资企业也有自主品牌，百度在如何平衡企业关系的同时也在催生新价值。亚仕龙汽车科技（上海）有限公司总裁、全球汽车精英组织常务副主席刘小稚表示：“百度Apollo为服务平台，而这种服务产生价值，从而催生新的商业模式。”陆奇表示：“Apollo不是百度自己的，而是属于所有生态合作伙伴的。”此外，Apollo鼓励生态合作伙伴在各自专业领域持续贡献。贡献越多，收获越多，并且收获一定远远大于贡献。百度还颁布了Apollo管理办法，来保障合作伙伴的权益，同时成立了Apollo基金会，从更多层次赋能开发者及生态合作伙伴。 （编辑：周开平）进入【新浪财经股吧】讨论\n"
     ]
    },
    {
     "name": "stderr",
     "output_type": "stream",
     "text": [
      "INFO:root:Scraping http://finance.sina.com.cn/roll/2017-07-10/doc-ifyhwehx5588361.shtml\n"
     ]
    },
    {
     "name": "stdout",
     "output_type": "stream",
     "text": [
      "涉赌App推广追踪：UC头条已关一批 今日头条百度还有\u00012017-07-11\u0001新浪综合\u0001UC头条：已关一批涉赌App账号 今日头条、手机百度还有捕鱼类游戏及涉赌棋牌App推广；有代理公司称仍可做涉赌App推广 来源：新京报 昨晚，今日头条、手机百度上，仍有捕鱼类游戏及涉赌 ...\u0001http://finance.sina.com.cn/consume/puguangtai/2017-07-11/doc-ifyhvyie0949465.shtml\u0001UC头条：已关一批涉赌App账号今日头条、手机百度还有捕鱼类游戏及涉赌棋牌App推广；有代理公司称仍可做涉赌App推广来源：新京报今日头条、手机百度还有捕鱼类游戏及涉赌棋牌App推广；有代理公司称仍可做涉赌App推广■ “今日头条、UC头条频现涉赌App推广”追踪新京报记者近日调查发现，今日头条、UC头条、手机百度等客户端频现涉赌App推广，吸引玩家点击下载。这主要是一些第三方代理公司通过“套户”在各平台推广涉赌App。但平台自身也存在监管漏洞，今日头条有广告销售人员称，涉赌App只要不出现炸金花等敏感字眼，就能通过审核得以推广。此外，多款涉赌App可以由支付宝、微信充值，提现则只能用支付宝（新京报7月10日报道）。昨日，UC头条、百度、支付宝、微信支付对该报道进行了回应。支付宝表示，多个涉赌App扣款公司擅自修改支付接口用于涉赌App，已停止合作。UC头条称，7月初UC已接到用户投诉，关闭了一批涉赌棋牌类App账号。今日头条暂未回应。新京报记者昨日在今日头条、手机百度上发现，仍有捕鱼类游戏及涉赌棋牌App推广。有代理公司表示，仍可投放涉赌App推广。■ 回访代理公司：仍可投放涉赌App广告昨晚，新京报记者打开今日头条、UC头条、手机百度等客户端，在UC头条暂未发现涉赌棋牌类App的推广页面，今日头条仍有捕鱼类游戏和涉赌App的推广广告。记者下载了一款棋牌游戏发现，充值后玩游戏可兑换礼物及奖品。手机百度上，棋牌App和捕鱼游戏均有推广，记者随机下载了一款棋牌游戏App，登录后是一款此前报道的涉赌App，具有直接充值及提现功能。新京报记者此前调查发现，有第三方代理公司专门做非企业务代理，在今日头条、UC头条、手机百度等平台通过“套户”违规推广涉赌App。昨日，记者联系了多家第三方代理公司，有公司称，仍可以在今日头条做涉赌App推广。北京通州一家代理公司业务员称，目前UC的棋牌游戏广告已经禁投，今日头条的涉赌棋牌类广告仍可继续上，但卡得比较严。虽然媒体曝光了，但不会一下子掐死，还会留有余地，就看怎么去操作。另一家代理公司罗姓工作人员称，目前涉及“充值和提现”的涉赌App在今日头条只有老户才能做，新户做不了。但百度信息流可以投放，按照点击付费。对于媒体曝光后对他们业务的影响，该工作人员说，即便曝光了，还可以去公关，他们各平台的广告不会停，也要靠广告生存。只是事情曝光后，平台会把后面审核的都卡掉，之前的也就不管了。就算不能在今日头条、UC头条做涉赌App推广，也可以上其他平台投放。■ 回应UC头条对涉嫌违规推广物料全面下线处置昨日，UC头条回应称，对于媒体报道的涉赌棋牌类App问题，在7月初已接到用户投诉，随即部署了系统排查，关闭了一批涉赌棋牌类App账号，并对涉嫌违规的推广物料全面下线处置。UC头条表示，部分代理商为追求利益最大化，通过页面篡改、套牌、绕过平台审核机制等方式违规推广。UC头条将继续联动监管部门加强日常巡查力度，提高对代理商的准入门槛、加强对代理商的处罚机制，严打各种擦边球行径。UC头条表示绝对不会纵容赌博的泛滥，将继续严格执行国家相关法律法规，履行平台应有的职责。该平台一直对所有上架推广进行实名校验，同时对推广内容按照先审后发的流程进行上线。支付宝扣款公司擅自改支付接口已终止与其合作据新京报报道，多款涉赌App可以由支付宝、微信充值，提现则只能用支付宝。不过，每次支付宝充值和提现的扣款公司都不一样，但一些公司频繁出现在不同的涉赌App扣款名单中，像海南涛悦网络科技有限公司、河南京之中电子科技有限公司、北京精彩在握科技有限公司。支付宝昨日回应称，媒体报道的这几家公司在申请与支付宝合作时，是从事虚拟点卡销售业务，有专门的资质。但之后擅自修改了支付接口，将接口用于涉赌App，目前支付宝已经不再为这几家公司提供服务。支付宝称，与商户合作前，支付宝会有严格的准入审核，包含实名认证、网址经营内容等。合作商户若擅自修改支付接口用于赌博网站，一经发现，支付宝就会与对方终止合作。百度上半年处理涉赌类客户近千起昨日，百度相关负责人称，百度对棋牌类游戏的推广有非常严格的限制，上线审查范围涵盖营业执照原件照片、网络文化经营许可证、广电总局游戏版号查询截图和网络游戏备案通知单等。同时，百度今年内部已对线上网络游戏类客户进行全面整顿，对赌博衍生出的变相兑换业务，一并进行清理管控，并对此严惩不贷，标准包含但不限于：凡网络游戏客户涉及直接或者间接反向兑换业务，则认定为赌博；凡推广物料、网站中涉奖品兑换、现金提取，则认定为赌博。百度称一直对涉嫌赌博类推广客户进行最严格线上监控，并利用机器+人工方式进行7×24的全面线上过滤。今年上半年，百度共处理涉赌类客户近千起，对情节恶劣的数十家公司进行了资质加黑处理。此外，百度也会对涉嫌违规操作的代理商严加查处。微信支付查实商户有违法违规将严肃处理据新京报报道，在涉赌App的微信支付充值中，扣款公司频繁出现“肥猪游戏”的身影，其所属公司为深圳畅想飞扬网络科技有限公司。昨日，微信支付回应称，微信支付对于接入的商户有风控管理措施，包括采取事前审核、事中监控的机制进行风控管理；对监控中发现存在风险、或通过投诉反馈的商户进行相应调查和处理。对于深圳畅想飞扬网络科技有限公司，微信支付日常监控时发现该商户交易可疑，并收到用户投诉，出于风控考虑对微信支付用户在该商户的额度上进行了限制，以保障用户资金安全。若查实该商户违法违规行为，将做包括清退在内的严肃处理。微信支付称，在日常运营中，腾讯有专门的队伍负责处理用户的举报内容。根据用户的举报，一旦查证确认存在涉及赌博、色情等违反国家法律法规、政策及公序良俗、社会公德的行为，微信团队会视情况严重程度对相关账号予以处罚。本版采写/新京报记者 赵吉翔 实习生 李强进入【新浪财经股吧】讨论\n"
     ]
    },
    {
     "name": "stderr",
     "output_type": "stream",
     "text": [
      "INFO:root:Scraping http://finance.sina.com.cn/roll/2017-07-10/doc-ifyhweua4664758.shtml\n"
     ]
    },
    {
     "name": "stdout",
     "output_type": "stream",
     "text": [
      "李彦宏“实战”乘坐百度无人车，亲自为无人驾驶技术站台\u00012017-07-10\u0001中国经济周刊\u0001x3000;　李彦宏“实战”乘坐百度无人车，亲自为无人驾驶技术站台　　（本文刊发于《中国经济周刊》2017年第27期）　　李彦宏“实战”乘坐百度无人车，亲自为无人 ...\u0001http://finance.sina.com.cn/roll/2017-07-10/doc-ifyhwehx5588361.shtml\u0001李彦宏“实战”乘坐百度无人车，亲自为无人驾驶技术站台（本文刊发于《中国经济周刊》2017年第27期）李彦宏“实战”乘坐百度无人车，亲自为无人驾驶技术站台7月5日，百度创始人、董事长兼CEO李彦宏乘坐百度无人驾驶汽车进入百度AI开发者大会会场，成为百度自动驾驶领域“Apollo（阿波罗）计划”推行成果的重要体现。这一计划意在向汽车行业及自动驾驶领域的合作伙伴提供一个开放、完整、安全的软件平台，帮助他们结合车辆和硬件系统，快速搭建一套属于自己的完整的自动驾驶系统。对此，百度首席运营官兼总裁陆奇介绍，Apollo是自动驾驶的安卓，并宣布Apollo生态成立，目前已拥有超过50家合作伙伴，包括整车厂商、集成制造商、芯片厂商、传感技术企业、研究机构等。李彦宏表示，AI是必由之路，开放让所有人都收获更多。分享与合作是这个时代的“聚宝盆”，开放一定可以跑赢封闭。百度目前已经获得了2000多个人工智能相关的专利，现在将主动把这些技术都开放、共享出来。值得注意的是，有交管局人士称，现行法规并不允许无人驾驶上路。早在2015年百度无人驾驶汽车就已首次在北京的五环进行测试，但至于是否经过相关部门审批，目前尚不得而知。迅雷创立以来首度换帅，第一代互联网公司进入“交班”期近日，迅雷发布公告宣布管理层调整，陈磊接替创始人邹胜龙成为CEO，邹胜龙则继续作为董事长，关注包括AI在内的云计算产品和技术创新以及战略投资。实际上，20世纪90年代末到2000年初成立的最早的一批中国互联网公司，最近几年进入了密集的交班期。张勇接任阿里巴巴CEO，李彦宏将百度的业务交给了陆奇，而腾讯的日常运营也早在10年前就开始由刘炽平协助负责。大疆汪滔成2017胡润少壮派白手起家中国榜首富胡润研究院近日发布《2017胡润全球少壮派白手起家富豪榜》，统计出全球40岁以下白手起家财富超10亿美元的富豪，其中，“无人机大王”大疆创新CEO汪滔拥有财富280亿元人民币跻身全球第9，同时成为中国少壮派白手起家首富。数据显示，科技行业以压倒性优势成为诞生最多少壮派创业者的行业，共有33位。其他表现不错的行业还包括投资、制造业、能源和金融服务业。冯根生逝世，曾开启国企引入外资先河中国杭州青春宝集团有限公司创始人、著名浙商冯根生于7月4日凌晨逝世，享年84岁。从1972年上任杭州第二中药厂厂长开始，冯根生执掌一家国企长达38年，经历多次体制改革，将一家固定资产只有37万元的“作坊”，发展成年销售收入近20亿、利税5个多亿的现代“中药城”。他在第二中药厂之上创建中国青春宝集团公司，将集团所属第二中药厂与泰国正大集团合资成立正大青春宝药业有限公司，开启了国有企业引入外资的先河。编辑：牛绮思进入【新浪财经股吧】讨论\n"
     ]
    },
    {
     "name": "stderr",
     "output_type": "stream",
     "text": [
      "INFO:root:Scraping http://finance.sina.com.cn/roll/2017-07-10/doc-ifyhweua4645809.shtml\n"
     ]
    },
    {
     "name": "stdout",
     "output_type": "stream",
     "text": [
      "[传闻求证]福田汽车是百度自动驾驶Apollo生态重要合作伙伴？\u00012017-07-10\u0001全景网\u0001全景网7月10日讯？近日，李彦宏乘坐无人驾驶汽车上路引发关注。有投资者听闻百度福田汽车是百度自动驾驶？Apollo生态重要合作伙伴，来看上市公司如何回应？福田汽车是百度自动驾驶 ...\u0001http://finance.sina.com.cn/roll/2017-07-10/doc-ifyhweua4664758.shtml\u0001全景网7月10日讯 近日，李彦宏乘坐无人驾驶汽车上路引发关注。有投资者听闻百度福田汽车是百度自动驾驶 Apollo生态重要合作伙伴，来看上市公司如何回应？福田汽车是百度自动驾驶 Apollo生态重要合作伙伴？福田汽车(600166):2016年10月，福田汽车与百度签署战略协议，建立战略合作伙伴关系。问：今天媒体报道百度自动驾驶 Apollo生态重要合作伙伴，福田汽车在里面，请问媒体报道情况是否属实？答：2016年10月，福田汽车与百度签署战略协议，建立战略合作伙伴关系，详见《临2016—073 关于北京百度网讯科技有限公司与本公司签署战略合作框架协议的公告》。证金已经买够航天信息5%举牌线？航天信息(600271):公司一季报中，证金持股比例为4.96%，目前公司未接到证金公司任何其他后续的计划安排。问：市场传闻，证金已经买够5%举牌线，请问是否属实？答：公司一季报中，证金持股比例为4.96%，目前公司未接到证金公司任何其他后续的计划安排。协鑫集成在安徽金寨的两个100MW项目已经并网？协鑫集成(002506):属实。问：新闻里说协鑫集成在安徽金寨的两个100MW项目已经并网了，项目将惠及4000多户，带动当地贫困人口脱贫，而且这个项目还是协鑫参与630的抢装项目，请问这是真的吗？对17年的利润会有影响吗？答：公司为金寨两个100MW光伏电站项目提供设计、采购到施工的EPC总包服务。公司始终从客户需求角度出发，提供“精化技术研发、优化电站设计”的专业服务，保证了光伏电站顺利并网。预计将对公司17年利润产生一定的积极影响。协鑫集成天价注入大股东亏损公司、16年第三季度存在诸多业绩操纵的迹象？协鑫集成(002506):不属实。问：证券市场周刊报道：贵公司天价注入大股东亏损公司。破产重组后的上市公司并没有轻装上阵，却走上了款难还、负债累累的老路，没有实质性改善，成了少部分人的财富盛宴。以6月19日收盘价计算，朱氏父子通过A股炼金，持有协鑫集成的市值高达108.75亿元，账面盈利近百亿元。另年：贵公司16年第三季度存在诸多业绩操纵的迹象。这些是真的吗？答：针对您的疑问，公司相关部门均进行了认真地调查与核实，发现不存在您所提及的情形。根据公司官方披露信息显示，2017年上半年公司将实现扭亏为赢。值得关注的是，近期公司子公司还分别获得了“高新技术企业”称号及政府奖励，可见政府部门对公司科技研发、技术创新、智能制造的充分肯定。 如果投资者存有疑问，请登陆中国证监会指定信息披露平台“巨潮资讯网（http://www.cninfo.com.cn）及《证券时报》、《中国证券报》”等权威媒体，据实查询。融捷股份旗下甘孜州甲基卡锂矿作为战略储备有可能封山近几年内不会开采？融捷股份(002192):公司未获悉有投资者所提情形。问：甘孜州是长江上游生态保护屏障和“中华水塔”的重要组成部分，绿色生态是甘孜的符号！甲基卡锂矿作为战略储备有可能封山近几年内不会开采！请问公司是真的吗？答：公司未获悉有投资者所提情形。津膜科技中标的奈曼旗市政基础设施建设工程ppp项目的投资协议已经签订，并且已经在工商登记设立投资公司？津膜科技(300334):相关程序正在进行中，请关注后续公告。问：听说贵单位中标的奈曼旗市政基础设施建设工程ppp项目的投资协议已经签订，并且已经在工商登记设立投资公司，但贵公司没有按照相关规定进行相关的信息披露，请问董事长这一传言是否属实？答：相关程序正在进行中，请关注后续公告。碧水源未中标140亿元水系大项目,因投标保证金原因在标段一中被否决？碧水源(300070):公司若有达到信息披露标准的事项，公司将在第一时间予以披露。问：碧水源未中标140亿元水系大项目,因投标保证金原因在标段一中被否决。消息是否属实？答：公司若有达到信息披露标准的事项，公司将在第一时间予以披露。阿里健康将要资产注入润达医疗，云峰基金将持股润达45%以上？润达医疗(603108):以官方指定披露为准。问：网上传言阿里健康将要资产注入润达，云峰基金将持股润达45%以上，请问是否属实？答：公司严格按照《上海证券交易所股票上市规则》履行信息披露，相关公告以相关报纸（中国证券报、上海证券报、证券日报、证券时报）及网站（www.sse.com.cn）的信息为准。广宇发展截止6月底销售或已近40亿？广宇发展(000537):公司相关销售数据请以公司在指定信息披露媒体发布的公告为准。问：据楼盘讯息报：预测广宇发展截止6月底销售或已近40亿，请问是否属实 ？答：公司相关销售数据请以公司在指定信息披露媒体发布的公告为准。华体科技是河北照明协会副会长单位？华体科技(603679):属实。问：有网友称，公司是河北照明协会副会长单位，请问是否属实？答：情况属实。进入【新浪财经股吧】讨论\n"
     ]
    },
    {
     "name": "stderr",
     "output_type": "stream",
     "text": [
      "INFO:root:Scraping http://finance.sina.com.cn/roll/2017-07-10/doc-ifyhweua4632953.shtml\n"
     ]
    },
    {
     "name": "stdout",
     "output_type": "stream",
     "text": [
      "权威数据“走出国门” 百度地图“壮胆”国人闯天下\u00012017-07-10\u0001中国新闻网\u0001一是对海外风俗不了解难以游玩到精髓，二是在海外极易迷路，出国便是两眼一抹黑。洞察到中国游客的迫切需求，百度地图加速了国际化进程。据了解，目前百度地图已经支持全球209个 ...\u0001http://finance.sina.com.cn/roll/2017-07-10/doc-ifyhweua4645809.shtml\u0001中新网7月10日电 近年来，国内出境游人数已经大幅高于入境游人数，腰包鼓起来的中国人更想在全世界看看。但以往主要有两个问题横亘中国游客、尤其是老年游客面前，一是对海外风俗不了解难以游玩到精髓，二是在海外极易迷路，出国便是两眼一抹黑。洞察到中国游客的迫切需求，百度地图加速了国际化进程。据了解，目前百度地图已经支持全球209个国家和地区的使用，覆盖范围极广。更为关键的是，百度地图搭建平台携手权威机构，建立全球化地图生态圈，帮助中国串联起海外优质服务，进而逐步从全球化迈向本地化。包括印尼国家旅游部在内，百度地图与泰国、韩国、北欧四国等国家旅游部门都达成战略合作，让中国游客走遍天下都有“国家”撑腰。互惠共赢更是受到当地政府赞扬，印尼旅游部长Arief Yahya就表示：“与百度地图的战略伙伴关系产生了令人印象深刻的结果，访问印度尼西亚的中国游客数量激增。我们乐观的认为，随着百度地图的利用率提高，中国游客将更多的了解印度尼西亚，会更容易到达印度尼西亚。”作为中国企业，百度地图相关负责人在此前的印尼发布会上，与印尼国家旅游部部长并肩而坐，共同探讨合作未来。海量数据中保证每一个POI点的及时更新，以及在模糊搜索中能够准确体现，是一个世界性的难题。百度地图的海外之路有各国政府和旅游部门助力，相关内容由权威机构自主更新，让中国游客得到更接近完美的答案。目前，百度地图在国内占据绝对优势地位，全球POI总数超1.4亿，每日响应位置服务请求超720亿次，是中国地图市场上的领先者。进入【新浪财经股吧】讨论\n"
     ]
    },
    {
     "name": "stderr",
     "output_type": "stream",
     "text": [
      "INFO:root:Scraping http://finance.sina.com.cn/stock/t/2017-07-10/doc-ifyhvyie0864187.shtml\n"
     ]
    },
    {
     "name": "stdout",
     "output_type": "stream",
     "text": [
      "英特尔与百度携手 推动人工智能创新与变革\u00012017-07-10\u0001中国新闻网\u0001Amir Khosrowshahi在百度开发者大会上分享英特尔在人工智能领域的战略布局与技术优势 中新网7月10日电 作为百度顶级合作伙伴，英特尔日前受邀参与了2017年“百度AI开发者大会”(Baidu ...\u0001http://finance.sina.com.cn/roll/2017-07-10/doc-ifyhweua4632953.shtml\u0001中新网7月10日电 作为百度顶级合作伙伴，英特尔日前受邀参与了2017年“百度AI开发者大会”(Baidu Create 2017)。英特尔人工智能产品事业部首席技术官Amir Khosrowshahi受邀成为百度集团总裁兼首席运营官陆奇主题演讲的嘉宾，并发表了题为《英特尔架构助力人工智能》的讲话，介绍了英特尔和百度多年来在人工智能等众多领域的深度合作，涵盖了百度大脑、百度云和DuerOS(对话式人工智能系统)等方面。英特尔和百度在AI众多领域的深度合作，涵盖了自动驾驶、对话式人工智能系统、物联网设备到数据中心的AI深度学习研发和服务部署、基础设施优化等，具体包括：在自动驾驶领域中，英特尔和百度共同开发解决方案。对话式人工智能领域，英特尔已与百度展开接触。未来在芯片技术层面，将会有越来越多的深度合作。不仅是边缘计算，英特尔和百度在百度大脑和百度云这两方面也是紧密合。百度的深度学习机构(IDL)已经部署了英特尔至强融核处理器和OPA技术来支持自然语言处理项目。此外，百度和英特尔也正在联合制定深度学习的基准框架，例如Deep Bench基准，从而作为一种行业标准来评估市场中各种处理平台的性能。电源管理是当前数据中心的一个重要课题，特别是现在的人工智能平台普遍存在高功耗的情况下。英特尔和百度在这方面合作了许多项目，例如液体冷却，机架和服务器的48V电源等等。百度已经在内部署了英特尔至强融核处理器，用以支持一些深度学习工作负载以及高性能计算应用。基于英特尔平台优化的框架，例如Caffe, TensorFlow, 甚至是深度学习技术及应用国家工程实验室的深度学习平台PaddlePaddle，完成了部分图像和视频深度学习的工作。对于国家机构和大学，百度云正在尝试提供并行应用竞争项目，以支持学界完善和加强其在高性能计算应用上的技能。Amir在演讲中还表示，英特尔拥有完整的AI技术组合，包括从硬件到软件与生态系统。通过提供端到端的人工智能解决方案，从硬件、库和语言、框架、工具到应用方案，包括处理器、存储和互联技术等，通过一系列的底层软件库以及机器学习算法的创新，驱动人工智能的创新与变革，为用户提供快速、精确和可扩展的高能效解决方案。正如Amir所说：“这次百度大会是为众多开发者创造的业界盛会。英特尔希望不断加强与百度的合作，携手给广大的开发者提供更多、更高效的服务和创新支持，以加速人工智能的发展。”进入【新浪财经股吧】讨论\n"
     ]
    },
    {
     "name": "stderr",
     "output_type": "stream",
     "text": [
      "INFO:root:Scraping http://finance.sina.com.cn/roll/2017-07-10/doc-ifyhweua4586490.shtml\n"
     ]
    },
    {
     "name": "stdout",
     "output_type": "stream",
     "text": [
      "易华录：与百度及高德实现数据产品服务对接\u00012017-07-10\u0001中国证券网\u0001中国证券网讯 易华录在投资者互动平台上表示，公司与百度、高德之间开展深化合作，实现了双方数据产品服务对接，在厦门、大连、枣庄、廊坊等多个城市提供了交通互联网数据服务。\u0001http://finance.sina.com.cn/stock/t/2017-07-10/doc-ifyhvyie0864187.shtml\u0001中国证券网讯 易华录在投资者互动平台上表示，公司与百度、高德之间开展深化合作，实现了双方数据产品服务对接，在厦门、大连、枣庄、廊坊等多个城市提供了交通互联网数据服务。进入【新浪财经股吧】讨论\n"
     ]
    },
    {
     "name": "stderr",
     "output_type": "stream",
     "text": [
      "INFO:root:Scraping http://finance.sina.com.cn/stock/usstock/c/2017-07-10/doc-ifyhwehx5440657.shtml\n"
     ]
    },
    {
     "name": "stdout",
     "output_type": "stream",
     "text": [
      "百度开放自动驾驶软件平台带来哪些期待？\u00012017-07-10\u0001新华网\u0001新华社北京7月10日电？题：百度开放自动驾驶软件平台带来哪些期待？新华社记者鲁畅 几天前，百度创始人李彦宏乘自动驾驶汽车前往百度“ＡＩ开发者大会”现场吸引了不少眼球。\u0001http://finance.sina.com.cn/roll/2017-07-10/doc-ifyhweua4586490.shtml\u0001新华社北京7月10日电  题：百度开放自动驾驶软件平台带来哪些期待？新华社记者鲁畅几天前，百度创始人李彦宏乘自动驾驶汽车前往百度“ＡＩ开发者大会”现场吸引了不少眼球。会场外，舆论对自动驾驶汽车上路的合法性有争议，相关部门介入调查；会场内，百度总裁陆奇宣布开放名为Ａｐｏｌｌｏ的自动驾驶平台，开发者借助Ａｐｏｌｌｏ能力，可以搭建自己的自动驾驶汽车。一个开放的、完整的、安全的软件平台，将帮助中国国内及海外汽车行业及自动驾驶领域的合作伙伴结合车辆和硬件系统，快速搭建一套属于自己的完整自动驾驶系统。记者了解到，百度今年四月宣布Ａｐｏｌｌｏ计划以来，已经与全球50多家车企进行合作，包括奇瑞、北京汽车、一汽解放、博世集团、大陆集团等。根据Ａｐｏｌｌｏ开放计划，百度计划在2017年7月开放封闭场地循迹自动驾驶，9月开放固定车道跟车自动驾驶，年底输出简单城市路况的自动驾驶能力……在2020年之前实现高速和城市道路全路网自动驾驶。“不同于传统汽车，智能驾驶汽车将拥有全新产业链，这其中除了传统厂商，人工智能企业、芯片供应商等新加入的参与者也将扮演重要角色。同时，智能驾驶需要空前的行业协作，各个参与者各施其长才能最大程度提高生产效率，加速智能驾驶时代的到来。”大陆集团相关负责人说。“在技术快速更新迭代的当下，从事自动驾驶研究的从业者靠一己之力很难跟上行业潮流。”美国无人车零配件供应商ＡｕｔｏｎｏｍｏｕＳｔｕｆｆ首席执行官罗伯特认为，随着平台合作伙伴增多，共享的数据、资源和技术将成倍增加，这意味着开发者和企业将直接进入自动驾驶高阶研究，这将大幅提升自动驾驶行业的发展速度。目前，百度、谷歌、苹果等科技巨头都在自动驾驶领域进行了持续投入，并取得成果。同时，在车企方面，特斯拉仰仗车厂与平台技术集于一身的优势，快速推进智能驾驶能力，已经在官网给出Ｌ5（按照美国交通管理部门标准的全自动驾驶）级别套件，其他大部分车企则走渐进路线，以辅助驾驶为主。然而，在我国，自动驾驶技术仍处在“人工驾驶为主，自动驾驶为辅”的阶段。“建议我国尽快考虑关于自动驾驶测试的法律法规，但真正全面在路面上无人驾驶的法律法规还为时尚早。”中国汽车工业协会顾问杜芳慈说。极客公园创始人张鹏认为，在国家层面，需要有相应政策、标准和法规建设，比如是否需要无人驾驶行驶证、专用的牌照等；同时，为自动驾驶汽车更新保险制度，使其享有与其他汽车相同的保障等。记者注意到，正在征求意见的《国家车联网产业标准体系建设指南（智能网联汽车）（2017年）》提出，到2025年系统形成能够支撑高级别自动驾驶的智能网联汽车标准体系；制定100项以上智能网联汽车标准，涵盖智能化、自动控制、网联化协同决策技术以及典型场景下自动驾驶功能与性能相关的技术要求和评价方法。业内人士指出，当前汽车产业正处于智能化升级阶段，“互联网＋”“中国制造2025”等为国产汽车品牌创造了发展机遇，智能网联成为很多车企的深耕方向。“希望通过双方以及其它Ａｐｏｌｌｏ生态合作伙伴的共同努力，推动自动驾驶行业法律法规的建设，加快智能驾驶技术的量产，让自动驾驶更快走入中国百姓的生活。”奇瑞汽车股份有限公司总经理助理陆惟一说。进入【新浪财经股吧】讨论\n"
     ]
    },
    {
     "name": "stderr",
     "output_type": "stream",
     "text": [
      "INFO:root:Scraping http://finance.sina.com.cn/chanjing/gsnews/2017-07-10/doc-ifyhweua4551056.shtml\n"
     ]
    },
    {
     "name": "stdout",
     "output_type": "stream",
     "text": [
      "被质疑勾结莆田系医院在地图上捣鬼 百度否认\u00012017-07-10\u0001大洋网-广州日报\u00017月7日，微博名为“深圳胖胖熊”的深圳儿童医院副院长麻晓鹏发微博表示，“深圳市儿童医院地址本来在福田区益田路7019号，百度地图偏偏在它的地址搜索中把莆田系的远东妇儿医院的地 ...\u0001http://finance.sina.com.cn/stock/usstock/c/2017-07-10/doc-ifyhwehx5440657.shtml\u0001广州日报讯 （全媒体记者刘幸、倪明）7月7日，微博名为“深圳胖胖熊”的深圳儿童医院副院长麻晓鹏发微博表示，“深圳市儿童医院地址本来在福田区益田路7019号，百度地图偏偏在它的地址搜索中把莆田系的远东妇儿医院的地址链接到深圳市儿童医院的名下，而且放到了第二位。导致许多想来我院看病的家长被误导到莆田系医院。”很快，网络上有关“百度地图再勾结莆田系医院，这次连儿童都不放过？”等帖子引起各界关注。是否故意引导患者至莆田系医院？从麻晓鹏这条微博的配图中可以看到，在百度地图中搜索“深圳市儿童医院”，第二条搜索结果的名字是“深圳市儿童医院”，但地址却是“深圳市-罗湖区-深南东路2097号”，查询可知这个地址属于莆田系的“远东妇儿医院“。也就是说，百度把要去深圳儿童医院看病的孩子家长，引导去了莆田系的医院。北京大学深圳医院妇产科副主任医师刘淼（微博名为淼哥故事会）也发文进行了声讨：真正坑的，就是那些刚来深圳的新人，或者病急乱投医的家长。这类人，生活拮据、信息闭塞，没什么影响力，即使被骗了，也人微言轻，投诉无门。截至昨日19时，深圳儿童医院副院长的原微博已获5600多次转发和1300多条评论。很多网友都在呼吁媒体跟进。有微博大V评论称，“百度地图和百度搜索一样，一切只为了钱服务，丝毫不在乎人的生命安全。百度地图这次居然连儿童都不放过。”有网友感慨，曾经的段子“百度无人汽车直接导航带你去莆田系医院”，很快就不是段子了。百度：百度地图标注免费昨日，百度官方发布了《关于“深圳市儿童医院”搜索结果误判的说明》（下称《说明》），百度表示，“日前，我们在微博上收到了一位深圳用户的报错，称在百度地图搜索‘深圳市儿童医院’关键词时，除正常搜索结果外，有一条结果错误指向另外一家医院。我们注意到，有个别自媒体将此解读为商业广告干扰正常搜索结果。百度地图在此郑重澄清，百度地图的标注是完全免费的，不存在任何售卖地图标注的商业行为。”《说明》称，本次事件为医院的别名导致的误判。在用户的实际使用中， 会用到大量简写、缩写、昵称等常用名和代称，百度地图会根据用户的真实目的，为用户召回最匹配的结果。由于百度地图的疏漏，返回了错误的搜索结果。报错地点昨日已加以修正百度地图已在接到用户报错的第一时间加以修正。目前相关关键词的搜索、定位和导航已恢复正常。百度地图已将处理结果告知这位深圳用户并进行了解释。记者昨日下午登录百度地图，输入深圳市儿童医院，首先出现的是“深圳市福田区益田路7019号”的深圳市儿童医院，与深圳儿童医院副院长麻晓鹏所称的一致。责任编辑：帅可聪\n"
     ]
    },
    {
     "name": "stderr",
     "output_type": "stream",
     "text": [
      "INFO:root:Scraping http://finance.sina.com.cn/roll/2017-07-09/doc-ifyhweua4512750.shtml\n"
     ]
    },
    {
     "name": "stdout",
     "output_type": "stream",
     "text": [
      "百度地图勾结莆田系医院？回应：不存在商业行为标注免费\u00012017-07-10\u0001大洋网-广州日报\u0001百度：不存在任何售卖地图标注的商业行为 大洋网-广州日报 刘幸、倪明 广州日报讯（全媒体记者刘幸、倪明）7月7日，微博名为“深圳胖胖熊”的深圳儿童医院副院长麻晓鹏发微博表示 ...\u0001http://finance.sina.com.cn/chanjing/gsnews/2017-07-10/doc-ifyhweua4551056.shtml\u0001地图勾结莆田系医院 “连儿童都不放过”？百度：不存在任何售卖地图标注的商业行为大洋网-广州日报 刘幸、倪明广州日报讯 （全媒体记者刘幸、倪明）7月7日，微博名为“深圳胖胖熊”的深圳儿童医院副院长麻晓鹏发微博表示，“深圳市儿童医院地址本来在福田区益田路7019号，百度地图偏偏在它的地址搜索中把莆田系的远东妇儿医院的地址链接到深圳市儿童医院的名下，而且放到了第二位。导致许多想来我院看病的家长被误导到莆田系医院。”很快，网络上有关“百度地图再勾结莆田系医院，这次连儿童都不放过？”等帖子引起各界关注。是否故意引导患者至莆田系医院？从麻晓鹏这条微博的配图中可以看到，在百度地图中搜索“深圳市儿童医院”，第二条搜索结果的名字是“深圳市儿童医院”，但地址却是“深圳市-罗湖区-深南东路2097号”，查询可知这个地址属于莆田系的“远东妇儿医院“。也就是说，百度把要去深圳儿童医院看病的孩子家长，引导去了莆田系的医院。北京大学深圳医院妇产科副主任医师刘淼（微博名为淼哥故事会）也发文进行了声讨：真正坑的，就是那些刚来深圳的新人，或者病急乱投医的家长。这类人，生活拮据、信息闭塞，没什么影响力，即使被骗了，也人微言轻，投诉无门。截至昨日19时，深圳儿童医院副院长的原微博已获5600多次转发和1300多条评论。很多网友都在呼吁媒体跟进。有微博大V评论称，“百度地图和百度搜索一样，一切只为了钱服务，丝毫不在乎人的生命安全。百度地图这次居然连儿童都不放过。”有网友感慨，曾经的段子“百度无人汽车直接导航带你去莆田系医院”，很快就不是段子了。百度：百度地图标注免费昨日，百度官方发布了《关于“深圳市儿童医院”搜索结果误判的说明》（下称《说明》），百度表示，“日前，我们在微博上收到了一位深圳用户的报错，称在百度地图搜索‘深圳市儿童医院’关键词时，除正常搜索结果外，有一条结果错误指向另外一家医院。我们注意到，有个别自媒体将此解读为商业广告干扰正常搜索结果。百度地图在此郑重澄清，百度地图的标注是完全免费的，不存在任何售卖地图标注的商业行为。”《说明》称，本次事件为医院的别名导致的误判。在用户的实际使用中， 会用到大量简写、缩写、昵称等常用名和代称，百度地图会根据用户的真实目的，为用户召回最匹配的结果。由于百度地图的疏漏，返回了错误的搜索结果。报错地点昨日已加以修正百度地图已在接到用户报错的第一时间加以修正。目前相关关键词的搜索、定位和导航已恢复正常。百度地图已将处理结果告知这位深圳用户并进行了解释。记者昨日下午登录百度地图，输入深圳市儿童医院，首先出现的是“深圳市福田区益田路7019号”的深圳市儿童医院，与深圳儿童医院副院长麻晓鹏所称的一致。进入【新浪财经股吧】讨论\n"
     ]
    },
    {
     "name": "stderr",
     "output_type": "stream",
     "text": [
      "INFO:root:Scraping http://finance.sina.com.cn/stock/usstock/c/2017-07-09/doc-ifyhwehx5413913.shtml\n"
     ]
    },
    {
     "name": "stdout",
     "output_type": "stream",
     "text": [
      "用户搜公立医院被推荐莆田系医院 百度地图：误判\u00012017-07-09\u0001中国新闻网\u0001近日，微博认证为深圳市儿童医院儿科医生的网友@深圳胖胖熊在微博上称，在百度地图搜索深圳市儿童医院，搜索结果却将莆田系的远东妇儿医院的地址链接到了下面，而且放到第二位，导 ...\u0001http://finance.sina.com.cn/roll/2017-07-09/doc-ifyhweua4512750.shtml\u0001中新经纬客户端7月9日电 近日，微博认证为深圳市儿童医院儿科医生的网友@深圳胖胖熊在微博上称，在百度地图搜索深圳市儿童医院，搜索结果却将莆田系的远东妇儿医院的地址链接到了下面，而且放到第二位，导致许多家长被误导。9日下午，百度地图回应称，属于医院的别名导致误判。网友@深圳胖胖熊微博截图网友@深圳胖胖熊微博截图网友@深圳胖胖熊微博截图7月9日下午，百度地图官方微博发布关于“深圳市儿童医院”搜索结果误判的说明，全文如下。责任编辑：马天元 SF180\n"
     ]
    },
    {
     "name": "stderr",
     "output_type": "stream",
     "text": [
      "INFO:root:Scraping http://finance.sina.com.cn/roll/2017-07-09/doc-ifyhwefp0289152.shtml\n"
     ]
    },
    {
     "name": "stdout",
     "output_type": "stream",
     "text": [
      "为什么腾讯阿里百度注册地都在加勒比海一岛\u00012017-07-09\u0001中国新闻网\u00011/36923的群岛。它的神奇之处在于，腾讯、阿里、百度、人人网、奇虎360……许多我们所熟知的互联网公司的注册地都在此――一个叫开曼群岛的地方。\u0001http://finance.sina.com.cn/stock/usstock/c/2017-07-09/doc-ifyhwehx5413913.shtml\u0001中新经纬客户端7月9日电 （李晓萱）加勒比海上，有一座总面积只有我国1/36923的群岛。它的神奇之处在于，腾讯、阿里、百度、人人网、奇虎360……许多我们所熟知的互联网公司的注册地都在此——一个叫开曼群岛的地方。“避税天堂”开曼群岛1503年，热衷于“环球旅行”的哥伦布在对新大陆的第四次探险时，发现了这座海岛。开曼群岛位于牙买加西北方268公里，迈阿密南方640公里的加勒比海上。由于正好位于墨西哥和古巴航线的中间，可以作为海盗中途停留休息的地方，所以经常被海盗用作基地，特别是17世纪80年代臭名昭著的黑胡子——爱德华•蒂奇。《加勒比海盗4惊涛怪浪》的反派海盗黑胡子也是以此为原型塑造的。目前开曼群岛是地属英国统治，但其在国内事务上享有更大程度的自主权。并且在1978年获得了一个皇家法令，法令规定永远豁免开曼群岛的缴税义务，故而，开曼群岛完全没有直接税收，无论是对个人、公司还是信托行业都不征任何直接税。所以，它也获得了“避税天堂”的美称。“避税天堂”，顾名思义这些注册在开曼的公司均属于离岸公司，也就是这类公司注册地在开曼但并不在这里开展实质业务。对于当地的政府来说，对这类公司没有任何税收，而只是象征性收取少量的年度管理费，更重要的是具有高度的保密性、减免税务负担、无外汇管制。如果企业需引入外资或海外上市，可通过在开曼群岛注册境外公司，对境内公司进行100%股权收购，然后将开曼公司提交中国香港或是美国上市来完成境内公司的海外融资。特别是对于互联网、教育以及传媒等在中国引进外资有限制的领域的行业，吸引力更大。这样，国内互联网公司选择设立离岸公司的原因就呼之欲出了。想去纳斯达克敲钟，开曼是中转站其实，开曼群岛早已成为中国企业一个重要“落户地”。从地产界的碧桂园、世茂地产，到运动品牌李宁、安踏，再到阿里巴巴、百度等互联网巨头，许多国人耳熟能详的公司，都是开曼群岛的注册企业。2015年1月，亚洲富豪李嘉诚重组旗下两家集团，并把重组后的企业注册地点从香港迁移至开曼群岛，称此举只是为做生意方便。“人家说什么都行。过去十年或是十几年，有75%以上在香港上市的公司，都在开曼群岛等海外注册，并不是这些公司对香港没信心，一样都是为了做生意方便，其中很多民企、国企，不能因为他们在海外注册就是迁册。”李嘉诚在记者会上回应了由于迁移公司注册地引发众人“李嘉诚携巨资迁册撤港”的质疑。有资料显示，目前平均每年有4300家公司在开曼群岛注册成立；全球700多家银行均在该群岛设有分支机构，包括全世界最大的25家银行的子公司，岛内的金融业、信托业总资产已超过2500亿美元。开曼稳定的政治、经济和贸易环境和良好的金融法律设施让世界众多公司纷至沓来。在开曼群岛，许多栋看似普通的楼房里，动辄挤满上万家外来公司。甚至有人戏言：注册的公司不需要拥有属于自己的办公室，只要有一个挂在开曼群岛的信箱地址即可。门槛低收税少，所以国内的企业就去万里之外注册？不只是这样，还有一个目的是为了海外上市。2010年4月，国务院发布《关于进一步做好利用外资工作的若干意见》，提出利用好境外资本市场，继续支持符合条件的企业根据国家发展战略及自身发展需要到境外上市。而在我国，境内企业到境外上市主要有两种方式：一是直接发行证券或者上市，审批程序复杂；二是境外公司控制境内企业，以境外公司为主体在境外上市。据投资行业人士介绍，通过在开曼群岛注册公司，就是由境外公司收购、股权置换等控制境内资产，再拿到境外上市。“这种间接上市的好处是成本低、上市程序透明、花费的时间短、可以避开国内复杂的审批程序。”因此，一些中国公司在“避税天堂”注册的主要目的并非避税，而是为了境外上市，比如阿里巴巴。“天堂”也有寒冬期不论是为了上市还是避税，每年在开曼群岛注册的公司数量都有增无减。据华商网报道，国税总局2015年统计了一组数字，每年由于“避税天堂”流失的税收额，超过300亿元人民币。树大招风，当小小的开曼群岛成为全球众多公司趋之若鹜的理想天堂，其监管和税收等政策的不完善逐渐凸显。“避税”过度就难免变为“逃税”。美国的可口可乐、宝洁、英特尔、甲骨文等大型公司都在开曼注册子公司，并通过一系列复杂的财务路径，将盈利转移到这些子公司，从而规避高达35%的美国公司所得税。奥巴马甚至对此抱怨，“这里拥有的不是世界最大的办公楼，而是最大的逃税大本营。”相似的还有不少中国国企，例如，在离开曼群岛不远的英属维尔京群岛，中国移动、中国联通等国企子公司纷纷注册。据齐鲁晚报报道，业内人士称，“国企在这些地方开设子公司，一般是为了把国际收入进行合理避税。”不过，通过设离岸公司转移赃款也很常见。中国逃到国外的犯罪分子带走的巨额资金，相当一部分是通过离岸公司向外转移的。一些离岸公司还通过高买低卖将利润留在海外，将亏损留在国内，从而避开缴纳增值税。据齐鲁晚报报道，典型的避税案例是2010年高盛在境外转让双汇发展的股权，获得丰厚收益，但并没有向河南省国税局纳税，逃避企业所得税4.2亿元。2014年，51个国家和地区的代表就在德国签署了一项有关纳税信息自动交换的协议——CRS，即金融账户涉税信息自动交换标准，是用于指导参与司法管辖区定期对税收居民金融账户信息进行交换的准则，旨在通过加强全球税收合作提高税收透明度，打击利用跨境金融账户逃避税行为。截至2016年12月6日，已有101个国家和地区承诺实施CRS，涵盖了几乎所有的发达经济体，包括开曼群岛和百慕大群岛等被誉为“逃税天堂”的地区。综合媒体报道，根据法国、德国、意大利、西班牙和英国财长，以及其它共51个国家和地区的代表签署的协议，从2017年9月起，这些国家或地区有权从签署协议的其它国家或地区的金融机构收集所有金融信息，并和协议范围内的地区自动进行信息交换。中国内地和香港将在2018年开始参与交换信息。届时中国税收居民在其他100个参与国或地区开设的金融账户信息，将会自动呈报给中国税务机关，与此同时，其他参与国或地区也将自动收到由中国提供的信息，这无疑会对基于避税以及财富隐秘需求进行境外资产配置带来巨大挑战。重压下的“避税天堂”，也许将开始进入寒冬期。（中新经纬APP）中新经纬版权所有，未经书面授权，任何单位及个人不得转载、摘编或以其它方式使用。责任编辑：郭明煜 SF008\n"
     ]
    },
    {
     "name": "stderr",
     "output_type": "stream",
     "text": [
      "INFO:root:Scraping http://finance.sina.com.cn/roll/2017-07-07/doc-ifyhvyie0583313.shtml\n"
     ]
    },
    {
     "name": "stdout",
     "output_type": "stream",
     "text": [
      "李彦宏和陆奇的百度进化论\u00012017-07-09\u0001经济观察报\u00017月5日，11点59分，百度创始人、董事长兼首席执行官李彦宏乘坐无人驾驶汽车途径北京五环，总共走了15公里后，终于步上国家会议中心主题会议厅的演讲台，穿着印有百度LOGO的白色衬衣 ...\u0001http://finance.sina.com.cn/roll/2017-07-09/doc-ifyhwefp0289152.shtml\u00017月5日，11点59分，百度创始人、董事长兼首席执行官李彦宏乘坐无人驾驶汽车途径北京五环，总共走了15公里后，终于步上国家会议中心主题会议厅的演讲台，穿着印有百度LOGO的白色衬衣，面带微笑。此时，早已进行完一轮开场演讲第二次上台的百度集团总裁兼首席运营官陆奇笑着问李彦宏：参加今天的开发者大会，你有什么感觉？“就看到黑压压的一片。”李彦宏笑了，说“也是，第一次举办开发者大会。”此次百度AI开发者大会参会人数达到4500人。据说有4000多人是开发者。这是百度面向全球推出的首届开发者大会。而李彦宏坐无人驾驶汽车来会场并和陆奇搭档出场的方式，无疑表明了AI在百度的重要层级。至此，或许如陆奇开场时所说，百度一定意义上已经不是一家互联网公司，它已经变成了一家人工智能企业。此次大会上，在李彦宏未到会场前，陆奇宣布了百度酝酿的重要计划：免费向行业开放两大平台，即DuerOS和Apollo。DuerOS是一款对话式人工智能系统，免费开放后，如玩具商、冰箱制造商可以在产品中嵌入DuerOS芯片，玩具、冰箱就可以和人对话。Apollo是自动驾驶技术系统，汽车厂商可以借助Apollo，搭建自己的自动驾驶汽车。随着两大平台的开放，百度新生态圈雏形已现。在去年底，李彦宏称，百度以前的生态没有了，要进化形成新的生态……两大开放平台7月5日上午10点，百度AI开发者大会开始，没有主持人，穿着T恤和牛仔裤的陆奇第一个上台，言语精炼，直奔主题，演讲时穿行在台上。加入百度半年，陆奇对百度的各项业务和未来规划都已经相当熟悉，他强调，“百度已经不是一家互联网公司，而是一家人工智能企业。”紧接着陆奇宣布了百度在人工智能领域6年来的成果——DuerOS和Apollo将免费开放给行业。 陆奇介绍，Apollo1.0开放平台完整的技术架构包括软件平台、云端服务平台、参考硬件平台、参考车辆平台四大部分，通过四层架构全方位构建能够实际运行的自动驾驶系统，并将通过开放代码、开放能力和开放数据三种形式逐步赋能开发者及生态合作伙伴。也就是说，开发者借助目前百度Apollo的能力，可以搭建自己的自动驾驶汽车。而李彦宏参会的交通工具——无人驾驶汽车的组装只用了三天时间。陆奇公布的Apollo开放路线图中可以看出，百度将循序渐进地开放自动驾驶能力。百度计划在今年7月开放封闭场地循迹自动驾驶能力以及Apollo数据开放平台，在2020年之前实现高速和城市道路全路网自动驾驶。据了解，Apollo平台开放计划，于今年4月份初见端倪，当时百度方面只向外界公布了这一计划的概念。李彦宏称，Apollo计划，就是向所有汽车厂商开源和开放百度过去三年来积累的无人驾驶技术。他称，过去一年中看到很多汽车厂商和一些与汽车相关的运营商，比如UBER、Lyft等等，他们都很焦虑。因为他们觉得谷歌掌握了无人驾驶汽车技术，而他们还没有掌握，如果未来变成一个无人驾驶的社会，他们有可能会被淘汰掉。如福特、UBER等公司花几亿美金甚至十几亿美金去购买一些小的无人驾驶汽车创业公司，这些公司很可能成立的时间只有一年甚至不到，它总的员工人数可能只有10个左右。这些员工在百度或者谷歌做过一两年的无人驾驶，他们说我知道这个东西大概怎么做，可以再做一遍。每个人都在重新发明一遍轮子，这多浪费时间和金钱，所以百度可以开放，大家没有必要再重新做一遍百度做过的事情，大家可以免费用，随便改。这样很多汽车有关的产业都可以在更高的起点上去做他们应该做的事情，去增加他们独特的价值。李彦宏将这一开放概括为“旧时王谢堂前燕，飞入寻常百姓家”。对于李彦宏的这一决定，陆奇称，这是Apollo生态快速创新的开始，随着更多生态合作伙伴加入并持续贡献，Apollo的能力将越来越强。陆奇宣布开放的另一平台是对话式人工智能系统 DuerOS。搭载DuerOS的设备，如玩具、冰箱、布娃娃，嵌入DuerOS系统的芯片后，可以和人以自然语言对话交流。百度度秘事业部总经理景鲲称，DuerOS将实现用对话式人工智能系统“唤醒万物”。据了解，百度DuerOS是基于人工智能的对话式第三代操作系统。第一代是PC时代，人们通过键盘和鼠标进行交互；第二代是移动时代，人们通过手指点击和触摸进行交互；第三代是在人工智能时代，人们通过语音进行对话式智能交互。目前，亚马逊、谷歌、苹果等国际科技巨头纷纷发布了其智能语音产品和解决方案，世界范围内，对话式人工智能产业已全面爆发。景鲲称，在中国，以中文为基础的对话式人工智能产业已来到风口，DuerOS通过与诸多优质伙伴的合作，已抢占行业先机，随着进一步的生态开放，DuerOS作为中国版的Alexa将为更多硬件设备赋能。百度的生态就目前全球来看，百度是首家开放AI技术平台的企业。甚至有互联网人士评价，百度走到了谷歌的前面。据了解，目前，谷歌在人工智能领域的发展较为先进，但处于自给自足的状态。特斯拉同样也是，封闭状态。去年，李彦宏称，互联网时代将要结束了，即将到来的是人工智能时代。在互联网界，百度一直被调侃“没有互联网基因”。或许，人工智能才是李彦宏真正的赌注。今年4月份，李彦宏在一次内部讲话中称，“我们看着这么多新东西的出现，觉得真的是‘未来已来’，可是当未来已来，而你又不是未来的一部分的时候，会发生什么？”紧接着，李彦宏要求各部门尽快建立自己的生态。李彦宏称，过去很多年百度讲的是专注，就做一件事。从去年开始，百度更多的要考虑支撑多个业务。同时要自己建生态，原来那个生态没有了，需要自己建。随着Apollo、DuerOS两大平台开放程度的提升，百度两大生态圈正在逐渐形成。据了解，目前Apollo开放平台首批已经生成50多家汽车厂商生态圈，其中包括汽车配件商。汽车厂商包括奇瑞、一汽、长安、长城、博世、大陆等。合作宽度上现已辐射OEM、Tier1、核心供应商、出行服务商、新兴公司、基金投资机构，相关政府及研究机构，是目前全球涵盖产业最为丰富、最为全面的自动驾驶生态，并放眼全球市场，与博世、大陆、NVIDIA等国际合作伙伴达成合作。奇瑞汽车股份有限公司董事长尹同跃称，Apollo是个新的起点，是中国汽车产业掌握核心技术，由大变强的开始。自动驾驶处于浪潮之巅，大家都在积极布局，在探索合作，但其实也是互相戒备、相互竞争。百度开放自己的核心技术，坦诚与业界合作，这种自信和眼光值得赞赏。博世方面则称，围绕进一步开放的Apollo平台，他们和百度能够打造一个更具开放性和可操作性的生态体系，同时带动更多合作厂商加入，进一步多层次、立体化地推动智能驾驶创新。也就是说，随着直接和间接的推动，百度Apollo平台的生态圈将迅速扩大。而这一生态圈，会使得百度在无人驾驶技术方面走得更远。陆奇称，Apollo计划不光是一个系统软件平台，它还包括用软件来支撑现有的、将来的汽车硬件平台，现有的、将来的传感器和车载的操作系统，和核心服务。也就是软件的整体控制能力、整体交互能力和总体系统相关的能力，这是互联网公司以基于软件和服务为主的公司的一个强项。DuerOS是一款对话式人工智能系统，搭载DuerOS的设备可让用户实现，影音娱乐、信息查询、聊天休闲、生活服务、智能家居、出行路况、实用工具、手机指令、个人助手、知识教育等10大类目、100+功能的操作。也就是说，这些领域的厂商和配件商都将称为百度DuerOS的生态圈。此外，百度还有金融生态圈，银行、保险、信贷布局到位。智能医疗生态圈中，医院、药厂等已经在合作；o2o生态，已经布局完毕，外卖、贴把、等等已经形成……对于数据来说，生态圈越大，产生的数据流就会越多，而数据的应用就越广泛，越有商业价值。沉淀的搜索上述李彦宏提到的，没有了的生态，指的是搜索业务。据百度内部人士透露，百度的搜索业务已经非常成熟。生态也已经很稳固，就目前来看，对股价已经起不到太多激励。那么，百度需要寻找新的增长点。事实上，百度重心的转变，在今年5月份百度联盟大会上，李彦宏已经透露出来，他称互联网只是前菜，人工智能才是主菜，因为它们对这个社会的改变，在本质上不是一个量级的。互联网只是使得原来存在的方式更加有效，而人工智能是把原来的不可能变成了可能。李彦宏将未来压在了人工智能上。无独有偶，前两天谷歌开发者大会（GoogleI/O）上，Google的CEO也提到“FromMobileFirsttoAIFirst”（从移动先行到AI先行）。但百度的变化中，搜索业务仍为根基。除了主要收入来源是搜索业务，搜索所带来的庞大数据流也是百度发展人工智能需要的。李彦宏称，百度内部的高级工程师总结出来一句话，叫“数据秒杀一切算法”。他认为，这可能是AI时代大家的第一反应或观察到的事情。因为如果有足够多的数据，即便是算法稍微差一点，得出来的结果也是不错的。结构化的数据，它一方面可以给用户提供更多有价值的内容，另外一方面也是未来百度AI的一个前提。因为AI的技术需要非常多的数据支持，有价值的有序的数据越多，最后出来的结果就会越好。李彦宏称，用户在进行搜索的时候，其实他在心目中是有比较清晰的需求的，整个过程是一个寻找答案的过程，从最初的需求表达，到他最后找到答案，尤其是在移动互联网时代，在手机百度app这样一个封闭环境里，百度能够track到他的每一步。这就给我们提供了足够多的数据，百度可以有很高的识别率。那么，百度不仅仅能够有很高的语音识别率，实际上整个过程使得百度能够构建出来最好、最丰富的知识库。我百度知道从需求到结果，到底是一个什么样子，这些东西都是百度非常有价值的东西。李彦宏称，一个新时代，可能有威胁有挑战也有机会，这就是百度要面临的一个未来。百度要为之做准备的，要从中找到机会。 (温淑萍)责任编辑：李坚 SF163\n"
     ]
    },
    {
     "name": "stderr",
     "output_type": "stream",
     "text": [
      "INFO:root:Scraping http://finance.sina.com.cn/roll/2017-07-07/doc-ifyhweua4334954.shtml\n"
     ]
    },
    {
     "name": "stdout",
     "output_type": "stream",
     "text": [
      "百度无人车上路引争议 智能汽车行业专家：未来应出台相关法规\u00012017-07-07\u0001中国新闻网\u0001研讨会在京召开。期间，针对近日百度无人驾驶汽车上路引来的争议，智能汽车行业专家、柒壹资本创始合伙人甄爱武在接受中新经纬(微信公众号：jwview)采访时如此表示。\u0001http://finance.sina.com.cn/roll/2017-07-07/doc-ifyhvyie0583313.shtml\u0001中新经纬客户端7月7日电(常涛)“任何新生事物在得到认可之前都会引发争议，无人驾驶也不例外。虽然目前此领域在法律法规上属于空白，但随着时间的推移，政府管理部门、行业组织和企业之间一定会达成默契和规范，出台相应的法规。”7月7日，由网秦主办的“智能汽车平台服务暨内核安全增强应用”研讨会在京召开。期间，针对近日百度无人驾驶汽车上路引来的争议，智能汽车行业专家、柒壹资本创始合伙人甄爱武在接受中新经纬(微信公众号：jwview)采访时如此表示。智能汽车行业专家、柒壹资本创始合伙人甄爱武 中新经纬 常涛 摄前天(5日)，互联网领域的大佬李彦宏刷爆了朋友圈，他乘坐着无人驾驶汽车在五环上“任性”行驶，引来了一场无形的“指责”。昨日，北京交警发布通报称，对百度无人车高度重视，正开展积极调查核实。北京交警称，公安交管部门支持无人驾驶技术创新，但应当依法、安全、科学进行。甄爱武表示，智能汽车被认为是下一个堪比手机的移动端，它对人类生活方式和社会运行秩序的影响将是颠覆性。但具体会带来什么，他表示业界目前还没有形成定论。但可以肯定的是，这些改变首先会在行业内产生，比如在城市公交系统内。“至于对老百姓生活的影响，那无疑是更便利了。”他说。谈到智能交通与智能汽车的关系时，甄爱武对中新经纬客户端(微信公众号：jwview)表示，目前的智能汽车都是单车智能，没有车车之间、车路之间、车和交通管理后台之间的互联，他表示未来一定会产生关联，将来的智能汽车会逐渐从单车智能向车联网的方向发展，而且这条路会走得很快。甄爱武表示，包括乐视在内的一些互联网企业布局智能汽车是无可厚非的，任何企业只要有能力都可以做。但需要注意的一个问题是，相比于生产制造手机和PC，智能汽车要难得多。因为对智能汽车来说，无论是驾驶安全，还是装备集成方面，要求都很高。“一辆车从设计到上路，到真正的批量交付，没有几年的时间是不可能的。特斯拉经历了十年的时间才实现智能汽车上路，即便现在的企业用他们一半的时间，也需要五六年的时间。”他说。(中新经纬APP)关注中新经纬微信公众号(微信搜索“中新经纬”或“jwview”)，看更多精彩财经资讯。中新经纬版权所有，未经书面授权，任何单位及个人不得转载、摘编或以其它方式使用。【编辑：聂淑芳】进入【新浪财经股吧】讨论\n"
     ]
    },
    {
     "name": "stderr",
     "output_type": "stream",
     "text": [
      "INFO:root:Scraping http://finance.sina.com.cn/chanjing/gsnews/2017-07-07/doc-ifyhvyie0434953.shtml\n"
     ]
    },
    {
     "name": "stdout",
     "output_type": "stream",
     "text": [
      "错失移动互联时代后 百度急需验证AI变现能力\u00012017-07-07\u0001华夏时报\u0001华夏时报（公众号：chinatimes）记者 卢晓 北京报道“百度将All in AI（人工智能），我们在AI时代的核心战略就是开放赋能，我们的将来必须建立在与每个开发者共赢的基础上。\u0001http://finance.sina.com.cn/roll/2017-07-07/doc-ifyhweua4334954.shtml\u0001华夏时报（公众号：chinatimes）记者 卢晓 北京报道“百度将All in AI（人工智能），我们在AI时代的核心战略就是开放赋能，我们的将来必须建立在与每个开发者共赢的基础上。” 7月5日，百度董事会副主席、集团总裁兼COO陆奇在百度AI开发者大会（Baidu Create 2017）上对《华夏时报（公众号：chinatimes）》记者等媒体如是说。ALL IN （全押）显示了百度在AI上的投入决心。在错失移动互联网时代后，人工智能被百度看做翻盘的机会。但人工智能的商业化变现依旧是百度面前绕不过去的问题。搜索之外的世界百度试图向外界展示自己除了搜索之外的世界。7月5日，百度首次对外公布了完整的AI生态开放战略。除了发布DuerOS和Apollo两大开放平台外，百度还宣布百度大脑和百度智能云将为包括金融、教育、医疗、出行等多个行业提供开发工具和有效的AI行业解决方案。百度宣布，其已开放60项AI核心能力，含此次首次开放的14项新能力。百度将大量的精力花费在操作系统上。对话式人工智能系统DuerOS平台在当天被宣布开放。百度度秘事业部总经理景鲲将之称作人工智能时代的安卓系统。而在7月5日当天，百度还宣布将全资收购人工智能初创公司KITT.AI。Apollo开放平台是百度开放的又一操作系统。陆奇将之称作自动驾驶的安卓系统。2017年4月，百度公布“Apollo计划”，开放自己的无人驾驶技术。而陆奇在当天除了宣布Apollo开放平台首期将开放Apollo 1.0封闭园区自动驾驶能力外，还完整披露了Apollo开放平台的具体开放细节和路径图。DuerOS和Apollo可以看做是陆奇空降百度后主抓的两大重要成果。今年2月，陆奇发出通告，宣布自即日起将原度秘团队升级为度秘事业部，直接向其汇报，以加速人工智能布局，及其产品化和市场化。而在今年3月，陆奇也整合原有的自动驾驶事业部（L4）、智能汽车事业部（L3），以及车联网业务，成立了智能驾驶事业群组（IDG），由他本人担任总经理。事实上，在百度ALL IN的AI背景下，百度的定位已经发生改变。“百度将是一个AI的平台，因为百度基于AI的业务，最佳发展途径是平台化、生态化。”陆奇在百度AI开发者大会上说。而为吸引更多的AI开发者的加入，百度当天还宣布联合湖北长江产业基金共同发起首期Apollo基金和DuerOS基金。此外，百度还宣布推出“AI Star计划”，为AI开发者提供资金、培训、市场、政策等支持。百度的机会？AI被百度看做是自己翻盘的机会。尽管有诸多互联网公司涉足人工智能，但百度是唯一喊出ALL IN 口号的一家。亿欧副总裁由天宇对《华夏时报（公众号：chinatimes）》记者表示，这是百度无可奈何之下的顺势而为。搜索让百度在PC时代快速增长，但却让百度错失移动互联网时代。百度总裁张亚勤在今年6月于天津举行的夏季达沃斯论坛期间曾称：“百度在PC时代，在开放平台上凭借搜索技术取得领先地位，因为搜索引擎可以搜到内容、数据等各种产品。到了移动互联时代APP是封闭的，很多数据搜集不到，有些新的应用和服务出现，在PC端没有，百度因此错失很多机会。”而医疗广告让百度严重依赖的搜索业务在2016年也受到冲击。2016财年第二季度，百度的净利润同比下滑34%。李彦宏在2016年9月也曾坦言，因为医疗事件，百度一个季度砍掉了20亿元的收入。在曾经的BAT格局中，百度跟对手已经不是一个体量。今年5月，阿里巴巴发布第四财季财报，其当期收入为385.79亿元人民币，同比增长60%。腾讯同在今年5月公布的2017年第一季度财报则显示，其当期总收入为人民币495.52亿元，比去年同期增长55%。作为对照，百度在2017年第一季度取得的总营收为168.91亿元，同比增长6.8%。人工智能成为百度在搜索之外寻找到的新市场。今年4月28日，上任100天的百度集团总裁兼CO0陆奇就对《华夏时报（公众号：chinatimes）》记者等媒体表示，“对百度公司来讲，不光是一个搜索引擎的公司，基于AI，从现在到将来会逐渐成为一个平台，这是一个战略上和文化上的改变。”但在AI成为百度战略核心后，人工智能急需证明自己的商业化变现能力。相较Apollo平台，DuerOS系统的落地速度更快。据《华夏时报（公众号：chinatimes）》记者了解，DuerOS和国安广视的合作已经在湖南长沙落地。此外，百度DuerOS还和美的、海尔、联想、小鱼在家等多个企业宣布合作。百度此前还发布了DuerOS智慧芯片。由天宇认为，DuerOS是一个长期的入口可能性，但未知的因素太多。而自动驾驶则是决定百度在未来几年是上一个台阶还是下一个台阶的重要变量。责任编辑：黄兴利 主编：寒丰进入【新浪财经股吧】讨论\n"
     ]
    },
    {
     "name": "stderr",
     "output_type": "stream",
     "text": [
      "INFO:root:Scraping http://finance.sina.com.cn/roll/2017-07-06/doc-ifyhweua4117590.shtml\n"
     ]
    },
    {
     "name": "stdout",
     "output_type": "stream",
     "text": [
      "百度无人车上路直播引发质疑 国内法律尚处空白\u00012017-07-07\u0001新浪综合\u0001百度无人车上路 交管介入调查 来源：北京晨报 前天百度AI开发者大会上，百度公司首席执行官李彦宏通过视频直播展示了一段自己乘坐百度无人车的情景（如图）。\u0001http://finance.sina.com.cn/chanjing/gsnews/2017-07-07/doc-ifyhvyie0434953.shtml\u0001百度无人车上路 交管介入调查来源：北京晨报前天百度AI开发者大会上，百度公司首席执行官李彦宏通过视频直播展示了一段自己乘坐百度无人车的情景（如图）。这段视频被上传到网络后，引起了网友热议。随后便有人质疑无人驾驶已经涉嫌违反《道路交通安全法》，但也有人认为应当给无人驾驶以一定的试验空间。昨天，北京市交管部门表示正在对此事进行调查，交管部门支持无人驾驶技术创新，但应当在依法、安全、科学的前提下进行。争议：无人车上路直播引发质疑在这段约1分钟的视频中，李彦宏通过直播方式在会场大屏幕展示了正在研发的无人驾驶汽车。北京晨报记者在视频中看到一辆红色的轿车在路面上驰骋，李彦宏说：“车开得很平稳，感觉非常不错。”并表示“前面的屏幕可以展示自动驾驶的汽车探索的周边情况，有哪些障碍物需要躲避”。视频被放到网上后，便有网友提出，我国目前尚未允许无人驾驶汽车上路，因此质疑该车上路行驶涉嫌违法。还有“眼尖”的网友注意到，视频中的车辆除了有“轧实线”的违法行为，由于该车悬挂的是尾号为E的江苏牌照，因此还涉嫌违反北京地区的限行规定。而根据上述违法情节，按规定将面临200元罚款、扣2分和100元罚款的处罚。针对“百度公司无人驾驶汽车上道路行驶”一事，北京市交管部门高度重视，昨天表示正在就此事积极开展调查核实。并表态交管部门支持无人驾驶技术创新，但应当依法、安全、科学进行。对于违反《道路交通安全法》等法律法规的行为，交管部门将依法予以查处。现状：国内法律尚处空白无论是我国《道路交通安全法》还是《道路交通安全法实施条例》中，对于驾驶者的定义均为“人”，只有“符合国务院公安部门规定的驾驶许可条件”的人，才可以申请机动车驾驶证，并须在取得机动车驾驶证后依法上路。而对于无人驾驶，目前我国法律中尚未作出相关规定。北京晨报记者注意到，李彦宏其实早就对无人驾驶的合法化有过建议。李彦宏曾提出，当前一些发达国家都已采取多种措施支持企业开展无人驾驶汽车的研发和测试，并对相关法律法规的修订进行了积极探索，但是我国现有的大部分政策法规与无人车发展还不相适应。他也建议尽快修订和完善无人驾驶相关的法律法规，为无人驾驶汽车的研发、测试和商业化应用提供制度保障，推进无人驾驶汽车相关技术标准的建立和完善。律师：涉嫌危害公共安全对于无人驾驶汽车上路是否涉嫌违法，北京百瑞律师事务所李晓震律师认为，从目前现状来看，操控该车上路的行为是没有法律依据的。“这种上路行驶的行为，已经涉嫌违反了《道路交通安全法》，甚至还将触及‘危害公共安全罪’。”李晓震律师解释称，一辆尚处在测试阶段的车辆，在没有得到国家相应认证之前，安全性能没有得到保证。“危害公共安全罪是不以损害结果为前提的，只要有行为危害到公共安全，就有可能会触犯”。如果无人驾驶汽车在公共道路上发生车祸，造成损害的后果由谁来承担？对此李晓震称，虽然该情况我国尚无法律进行清晰的确定，但从物权角度出发考虑，系车辆归谁所有谁来承担责任。“如果无人驾驶车辆是由改装而来，那么原来的车主是谁则谁要担责；如果是新车，由谁生产、谁购买，谁应该承担相应后果”。北京晨报记者 黄晓宇网络截图进入【新浪财经股吧】讨论\n"
     ]
    },
    {
     "name": "stderr",
     "output_type": "stream",
     "text": [
      "INFO:root:Scraping http://finance.sina.com.cn/stock/t/2017-07-06/doc-ifyhvyie0355368.shtml\n"
     ]
    },
    {
     "name": "stdout",
     "output_type": "stream",
     "text": [
      "百度AI核心技术全面开放 与开发者共享AI未来\u00012017-07-06\u0001新华网\u00017月5日，百度AI开发者大会在北京举行，在“开放创新 共襄AI未来”为主题的AI技术与开放平台分论坛上，百度副总裁、百度AI技术与平台体系（AIG）总负责人王海峰表示，百度几乎所有主要人 ...\u0001http://finance.sina.com.cn/roll/2017-07-06/doc-ifyhweua4117590.shtml\u00017月5日，百度AI开发者大会在北京举行，在“开放创新 共襄AI未来”为主题的AI技术与开放平台分论坛上，百度副总裁、百度AI技术与平台体系（AIG）总负责人王海峰表示，百度几乎所有主要人工智能技术都已在搜索引擎中得到应用，来自搜索引擎及百度各产品的用户需求、数据和平台，支撑了百度AI技术的快速发展，现在百度人工智能在算法、数据、技术等方面具有领先优势。“在每天数十亿次用户请求的千锤百炼下，百度的人工智能技术，是真正实用的人工智能技术，”王海峰认为，只有将技术与实际应用相结合，根据用户需求和反馈反复迭代优化，才能打造强大、更具活力的AI技术。据悉，百度的AI能力分为4层：在基础层，是AI算法、大数据、大计算能力；感知层，包括语音、图像、视频、AR/VR等技术；认知层，有自然语言处理、知识图谱及用户画像等；在平台层，基础层、感知层、认知层的技术会平台化，通过百度AI开放平台ai.baidu.com开放，与开发者共享。此次宣布开放的语音、自然语言处理、视频、增强现实、机器人视觉等技术，与已经开放的AI技术一起，构成具有60项开放技术的完整的、综合的AI开放平台，为开发者提供形式多样、可定制、可组合的AI技术，满足开发者从API、源码、数据到计算能力的多层次需求。数据显示，百度AI开放平台多项技术的使用量过去半年有2倍以上的增长。语音交互成为人机交互的下一代入口，语音技术需求日益增加。百度语音技术部总监高亮在分论坛现场介绍了本次新开放的远场识别及语音唤醒、定制化语音合成、语音合成音色、 情感语音交互（Emotional CUI）等技术，开发者可以实现不同场景的智能应用，满足用户需求。百度在开放语音技术，让机器听清用户的同时，更重要的是开放能让机器懂得用户需求的自然语言处理技术。此次分论坛由百度自然语言处理部总监赵世奇介绍了能力强大的语言理解与交互技术平台——UNIT。该平台将开放语言理解技术、交互技术，从百度大数据中自动汲取最有价值的数据提供给开发者使用，为开发者提供多种定制化方案，还首创『训练师』模式，助力开发者训练对话机器人，赋予机器“理解”自然语言，听懂用户需求，以及与用户进行多轮次对话的能力。分论坛上，百度研究院院长林元庆介绍了视频分析与理解、机器人视觉和人脸识别等技术。本次开发者大会发布了全面的视频语义理解技术，包括视频封面选摘、视频分类、视频比对、细粒度识别、视频审核、视频公众人物识别、视频结构化分析等。此外，林元庆还介绍了世界第一个室外语义分割RGBD视频数据集，以及完整的机器人视觉解决方案。增强现实（AR）技术作为全新的视觉交互形式，越来越受到营销、娱乐、游戏等行业关注。百度增强现实实验室主任吴中勤现场发布全新DuMix AR开放平台，为开发者提供AR SDK、内容制作工具、云端内容平台和内容分发服务。吴中勤表示，未来百度将提供更多场景的AR行业解决方案，赋能各行各业，共同探索AR价值。在AI技术与开放平台分论坛上，除了发布新开放的核心技术能力，百度杰出科学家徐伟披露了PaddlePaddle的发展路径，宣布百度会开源代码、开放大规模数据集、开放计算能力、开放应用模型库。进入【新浪财经股吧】讨论\n"
     ]
    },
    {
     "name": "stderr",
     "output_type": "stream",
     "text": [
      "INFO:root:Scraping http://finance.sina.com.cn/roll/2017-07-06/doc-ifyhweua4090493.shtml\n"
     ]
    },
    {
     "name": "stdout",
     "output_type": "stream",
     "text": [
      "中科创达：将在智能驾驶和车联网等方向与百度合作\u00012017-07-06\u0001中国证券网\u0001中国证券网讯 中科创达在投资者互动平台上表示，公司将与百度展开多维度的深入合作。公司介绍，基于百度提供的智能驾驶基础平台，中科创达将会在智能驾驶和车联网等方向与百度展开 ...\u0001http://finance.sina.com.cn/stock/t/2017-07-06/doc-ifyhvyie0355368.shtml\u0001中国证券网讯 中科创达在投资者互动平台上表示，公司将与百度展开多维度的深入合作。公司介绍，基于百度提供的智能驾驶基础平台，中科创达将会在智能驾驶和车联网等方向与百度展开合作设计与开发，共同加快车厂的智能化进程。双方合作将涉及到MapAuto、DuerOS、CarLife等智能联网解决方案。进入【新浪财经股吧】讨论\n"
     ]
    },
    {
     "name": "stderr",
     "output_type": "stream",
     "text": [
      "INFO:root:Scraping http://finance.sina.com.cn/manage/crz/2017-07-06/doc-ifyhwefp0139904.shtml\n"
     ]
    },
    {
     "name": "stdout",
     "output_type": "stream",
     "text": [
      "北京交管部门：正对“百度无人驾驶汽车上道路行驶”开展调查核实\u00012017-07-06\u0001新华网\u0001新华社北京７月６日电（记者卢国强）北京交管部门６日表示，针对“百度公司无人驾驶汽车上道路行驶”情况，交管部门正在积极开展调查核实，对于违法行为将依法查处。记者从北京 ...\u0001http://finance.sina.com.cn/roll/2017-07-06/doc-ifyhweua4090493.shtml\u0001新华社北京７月６日电（记者卢国强）北京交管部门６日表示，针对“百度公司无人驾驶汽车上道路行驶”情况，交管部门正在积极开展调查核实，对于违法行为将依法查处。记者从北京市公安交管局了解到，针对媒体报道“百度公司无人驾驶汽车上道路行驶”的情况，北京市公安交管部门高度重视，正在积极开展调查核实。交管部门表示支持无人驾驶技术创新，但应当依法、安全、科学进行。对于违反《中华人民共和国道路交通安全法》等法律法规的行为，公安交管部门将依法予以查处。媒体报道，５日上午的“２０１７百度ＡＩ开发者大会”上，百度董事长兼首席执行官李彦宏通过视频展示他乘坐百度无人驾驶汽车的影像，并称车辆正行驶在北京五环路上，引发“无人驾驶汽车上路是否合法”等争议。进入【新浪财经股吧】讨论\n"
     ]
    },
    {
     "name": "stderr",
     "output_type": "stream",
     "text": [
      "INFO:root:Scraping http://finance.sina.com.cn/roll/2017-07-06/doc-ifyhweua4087301.shtml\n"
     ]
    },
    {
     "name": "stdout",
     "output_type": "stream",
     "text": [
      "百度眼看要掉队BAT 李彦宏是如何裹足不前的？\u00012017-07-06\u0001新浪综合\u0001每天都要被对手黑，每分每秒都有股价波动……这还不算不定期爆炸的公关危机、网友举报。百度CEO李彦宏最近体会尤其深。\u0001http://finance.sina.com.cn/manage/crz/2017-07-06/doc-ifyhwefp0139904.shtml\u0001眼看要掉队BAT，李彦宏是怎么flop的？来源：微信公众号 环球人物做大咖难，做互联网大咖尤其难。每季度都有财报会，每月都有新趋势，每礼拜都有新技术，每天都要被对手黑，每分每秒都有股价波动……这还不算不定期爆炸的公关危机、网友举报。百度CEO李彦宏最近体会尤其深。PPT错字事件还历历在目，昨天的百度AI开发者大会，彦宏兄刚喜滋滋地公布了自己坐着百度无人驾驶汽车上五环的视频，交警就发来“贺电”：朋友，你这种操作不对啊！好了，本着开一次发布会红一次的节奏，彦宏兄不经意间，又红了。“all in人工智能”的口号还没喊出，一个急刹车搡得彦宏兄大喜转小悲。很多年前李彦宏就说过，百度离破产永远只有30天。而现在，更是每一天都面临着市值被京东超过，从中国互联网天团BAT出局的风险。就算不出局，百度在BAT里也早就低人一头了。咱先不看产品和口碑，只看市值，阿里和腾讯已经超过3000亿美金，百度的600多亿，才是人家的1/5。时光倒退5年，李彦宏的人设还是如假包换的真·人生赢家。当年的市高考状元，北大信息管理专业毕业，读过美国名校，做过硅谷精英，2000年创立百度，2005年纳斯达克上市，6年后被福布斯评为中国内地首富。再加上有颜有身材，他本来能完爆骨骼清奇的马云和靠山寨起家的马化腾。谁也没想到，这几年，李彦宏能flop得这么快。更让人唏嘘的是，没几个人为他抱不平，最多只会惋惜地说一句：没想到你李彦宏浓眉大眼的也有今天。吃瓜群众对李彦宏本人倒是没啥意见，主要的黑点都在百度身上。2010年谷歌退出中国，百度一家独大，从此被扣上了胜之不武的帽子，还成了许多阴谋论的主角。更让人不齿的是，百度搜索不但要钱，还要命。去年的魏则西事件、卖贴吧事件，幕后真凶都是百度最大的金主爸爸莆田系医院，这样助纣为虐当然人人喊打。面子已经崩盘，里子呢？圈内人提起百度也是频频摇头。这市值总上不去，不是没有原因的。首先，收入来源太单一。腾讯有手游有社交，阿里有电商有娱乐，百度呢？全靠营销。营销收入的主力就是莆田系医院，真是卖错身悔终生。其次，只会烧钱不会赚钱。2015年O2O最火的时候，李彦宏淡淡的一句“我看了一下百度账上还有500亿，先拿出200亿给糯米吧”，迷倒万千迷妹，如今200亿砸出去了，连声响都没听见。百度外卖、爱奇艺，也都是排场大回报低的败家孩子。至于李彦宏，作为百度的扛把子，他最大的问题，也是百度所有问题的根源，就是眼神不好，不会用人。说出来你可能不信，百度这几年除了负面新闻，搞得最大的事情竟然是反腐。4年来，百度查处了7起腐败事件，十几名高管、数十名员工被开除，其中就有当年江湖人称“百度太子”的李明远。看看人家马云马化腾，早就不管具体事务隐居幕后了，只有李彦宏还在坚强地做着一天只睡四五个小时的CEO。没办法，后继无人啊，想当孤胆英雄，就难免落个悲情的下场。不过，彦宏兄孤注一掷的AI大坑，要是哪天真长出一棵摇钱树来，排着队叫“爸爸”的应该也不会少啰~进入【新浪财经股吧】讨论\n"
     ]
    },
    {
     "name": "stderr",
     "output_type": "stream",
     "text": [
      "INFO:root:Scraping http://finance.sina.com.cn/roll/2017-07-06/doc-ifyhvyie0329858.shtml\n"
     ]
    },
    {
     "name": "stdout",
     "output_type": "stream",
     "text": [
      "百度Create 2017：AI核心技术全面开放 与开发者共享AI未来\u00012017-07-06\u0001中国新闻网\u0001中新网7月6日电？真正能给用户带来价值的技术，才会有真正持久的影响力。7月5日，百度AI开发者大会(Baidu Create 2017)在北京国家会议中心举行，其中以“开放创新 共襄AI未来”为主题的AI技 ...\u0001http://finance.sina.com.cn/roll/2017-07-06/doc-ifyhweua4087301.shtml\u0001中新网7月6日电  真正能给用户带来价值的技术，才会有真正持久的影响力。7月5日，百度AI开发者大会(Baidu Create 2017)在北京国家会议中心举行，其中以“开放创新 共襄AI未来”为主题的AI技术与开放平台分论坛，吸引了众多开发者关注。百度副总裁、百度AI技术与平台体系(AIG)总负责人王海峰在开场致辞中表示，百度在人工智能领域深耕多年，从十七年前百度诞生之日起就开始积累，几乎所有主要人工智能技术都已在百度搜索引擎中得到应用，来自搜索引擎及百度各产品的用户需求、数据和平台，支撑了百度AI技术的快速发展，现在百度人工智能在算法、数据、技术等方面具有领先优势。“在每天数十亿次用户请求的千锤百炼下，百度的人工智能技术，是真正实用的人工智能技术，”王海峰认为，只有将技术与实际应用相结合，根据用户需求和反馈反复迭代优化，才能打造强大、更具活力的AI技术。百度诞生于PC互联网时代，那是一个开放互联网生态的时代。在互联网的助力下得到迅速发展的AI技术，也应该秉承开放精神。更重要的是，AI的影响将不限于互联网，AI将影响各行各业和人们生活的方方面面。百度通过与开发者和社会共享AI技术成果，带动生态繁荣，推动社会进步。此次，百度多年打造的完整AI技术平台将全面开放。百度的AI能力分为4层。在基础层，是AI算法、大数据、大计算能力。感知层，包括语音、图像、视频、AR/VR等技术。认知层，有自然语言处理、知识图谱及用户画像等。在平台层，基础层、感知层、认知层的技术会平台化，通过百度AI开放平台ai.baidu.com开放，与开发者共享。开放的技术能力总共有60个，是最全面的AI技术开放平台。60项开放技术打造能力完整、组合丰富的开放平台百度AI开放平台在完整性、开放性、前瞻性和发展性方面均领跑业界。此次宣布开放的语音、自然语言处理、视频、增强现实、机器人视觉等技术，与已经开放的AI技术一起，构成具有60项开放技术的完整的、综合的AI开放平台，为开发者提供形式多样、可定制、可组合的AI技术，满足开发者从API、源码、数据到计算能力的多层次需求。百度在AI技术上具有先发优势，完整布局和深厚技术积累。百度的AI技术始终随着百度的发展而不断进化，规模大、能力强的百度AI开放平台备受开发者青睐，这是对百度AI技术的认可。数据显示，百度AI开放平台多项技术的使用量过去半年都有2倍以上的快速增长。唤醒万物：语音技术+自然语言处理让机器更懂需求语音交互成为人机交互的下一代入口，语音技术需求日益增加。百度语音技术部总监高亮在分论坛现场介绍了本次新开放的远场识别及语音唤醒、定制化语音合成、语音合成音色、 情感语音交互(Emotional CUI)等技术，开发者可以实现不同场景的智能应用，满足用户需求。百度在开放语音技术，让机器听清用户的同时，更重要的是开放能让机器懂得用户需求的自然语言处理技术。此次分论坛由百度自然语言处理部总监赵世奇详细介绍了能力强大的语言理解与交互技术平台——UNIT。该平台将开放语言理解技术、交互技术，从百度大数据中自动汲取最有价值的数据提供给开发者使用，为开发者提供多种定制化方案，还首创『训练师』模式，助力开发者训练对话机器人，赋予机器“理解”自然语言，听懂用户需求，以及与用户进行多轮次对话的能力。今年\"百度之星\"开发者大赛的命题就是基于UNIT平台提供的语言理解与交互技术，“设计和开发一个以对话式人机交互为核心的智能产品”。看懂世界：视频分析、人脸识别和增强现实技术此次分论坛上，百度研究院院长林元庆介绍了视频分析与理解、机器人视觉和人脸识别等技术。本次开发者大会发布了全面的视频语义理解技术，包括视频封面选摘、视频分类、视频比对、细粒度识别、视频审核、视频公众人物识别、视频结构化分析等。此外，林元庆还介绍了世界第一个室外语义分割RGBD视频数据集，以及完整的机器人视觉解决方案。增强现实(AR)技术作为全新的视觉交互形式，越来越受到营销、娱乐、游戏等行业关注。百度增强现实实验室主任吴中勤现场发布全新DuMix AR开放平台，为开发者提供AR SDK、内容制作工具、云端内容平台和内容分发服务。吴中勤表示，未来百度将提供更多场景的AR行业解决方案，赋能各行各业，共同探索AR价值。在AI技术与开放平台分论坛上，除了发布新开放的核心技术能力，百度杰出科学家徐伟披露了PaddlePaddle的发展路径，宣布百度会开源代码、开放大规模数据集、开放计算能力、开放应用模型库。作为国内首个深度学习开放平台，PaddlePaddle将与开发者一起繁荣AI生态，引领行业发展。本次大会主论坛上，百度集团总裁兼首席运营官陆奇强调，“Apollo强大的生态和DuerOS唤醒万物的能力，是百度大脑日益强大的知识和技术赋予的，同时也是建立在百度智能云的基础上的。”此次备受瞩目的AI技术与开放平台分论坛，是AIG成立后的首次正式集体亮相，也是百度全面开放AI能力的实际体现。可以想象，未来随着百度AI基础能力的进一步开放，开发者、创业者、行业伙伴将如虎添翼，让人工智能技术赋能更多场景，创造更多价值；而另一方面，百度人工智能也会与开发者和行业伙伴一起，在实践中推动技术创新与进化，共襄AI未来，造福社会。进入【新浪财经股吧】讨论\n"
     ]
    },
    {
     "name": "stderr",
     "output_type": "stream",
     "text": [
      "INFO:root:Scraping http://finance.sina.com.cn/roll/2017-07-06/doc-ifyhweua4081228.shtml\n"
     ]
    },
    {
     "name": "stdout",
     "output_type": "stream",
     "text": [
      "警方回应百度无人车上道路行驶：支持创新但违法必究\u00012017-07-06\u000121世纪经济报道\u0001视频：昨日（7月5日），百度公司董事长兼CEO李彦宏通过视频直播，展示自己乘坐公司研发的无人驾驶汽车的情景。\u0001http://finance.sina.com.cn/roll/2017-07-06/doc-ifyhvyie0329858.shtml\u0001视频：昨日（7月5日），百度公司董事长兼CEO李彦宏通过视频直播，展示自己乘坐公司研发的无人驾驶汽车的情景。当天北京交管部门回应，现行法规不允许无人驾驶上路，正在就此展开调查。7月6日北京交警官方微博对事件进行公开回应称，针对媒体报道“百度公司无人驾驶汽车上道路行驶”的情况，市公安交管部门高度重视，正在积极开展调查核实。公安交管部门支持无人驾驶技术创新，但应当依法、安全、科学进行。对于违反《中华人民共和国道路交通安全法》等法律法规的行为，公安交管部门将依法予以查处。来源：综合北京交警微博、新浪科技进入【新浪财经股吧】讨论\n"
     ]
    },
    {
     "name": "stderr",
     "output_type": "stream",
     "text": [
      "INFO:root:Scraping http://finance.sina.com.cn/roll/2017-07-06/doc-ifyhvyie0319481.shtml\n"
     ]
    },
    {
     "name": "stdout",
     "output_type": "stream",
     "text": [
      "[互动]中科创达：将在智能驾驶和车联网等方向与百度合作\u00012017-07-06\u0001全景网\u0001全景网7月6日讯？？中科创达(300496)周三在全景网投资者互动平台上回答投资者提问时表示，公司将与百度展开多维度的深入合作。\u0001http://finance.sina.com.cn/roll/2017-07-06/doc-ifyhweua4081228.shtml\u0001全景网7月6日讯   中科创达(300496)周三在全景网投资者互动平台上回答投资者提问时表示，公司将与百度展开多维度的深入合作。公司介绍，基于百度提供的智能驾驶基础平台，中科创达将会在智能驾驶和车联网等方向与百度展开合作设计与开发，共同加快车厂的智能化进程。双方合作将涉及到MapAuto、DuerOS、CarLife等智能联网解决方案。针对投资者关于公司与百度合作情况的询问，中科创达作出上述回复。（全景网）进入【新浪财经股吧】讨论\n"
     ]
    },
    {
     "name": "stderr",
     "output_type": "stream",
     "text": [
      "INFO:root:Scraping http://finance.sina.com.cn/chanjing/gsnews/2017-07-06/doc-ifyhwefp0126364.shtml\n"
     ]
    },
    {
     "name": "stdout",
     "output_type": "stream",
     "text": [
      "北京警方：正对百度无人驾驶车上路行驶展开调查核实\u00012017-07-06\u0001中国证券网\u0001中国证券网讯 6日，北京交警官方微博发布《情况通报》，称对媒体报道“百度公司无人驾驶汽车上道路行驶”的情况高度重视，正在积极开展调查核实。\u0001http://finance.sina.com.cn/roll/2017-07-06/doc-ifyhvyie0319481.shtml\u0001中国证券网讯 6日，北京交警官方微博发布《情况通报》，称对媒体报道“百度公司无人驾驶汽车上道路行驶”的情况高度重视，正在积极开展调查核实。公安交管部门支持无人驾驶技术创新，但应当依法、安全、科学进行。对于违反《交通安全法》等法律法规的行为，将依法予以查处。进入【新浪财经股吧】讨论\n"
     ]
    },
    {
     "name": "stderr",
     "output_type": "stream",
     "text": [
      "INFO:root:Scraping http://finance.sina.com.cn/roll/2017-07-06/doc-ifyhvyie0317072.shtml\n"
     ]
    },
    {
     "name": "stdout",
     "output_type": "stream",
     "text": [
      "北京交警回应百度无人驾驶汽车上道路行驶：正核实\u00012017-07-06\u0001新浪财经\u0001新浪财经讯 7月6日消息，对于媒体报道的百度公司无人驾驶汽车上道路行驶的情况，北京交警官方微博最新通报称，正在积极开展调查核实。通报中称公安交管部门支持无人驾驶技术创新 ...\u0001http://finance.sina.com.cn/chanjing/gsnews/2017-07-06/doc-ifyhwefp0126364.shtml\u0001新浪财经讯 7月6日消息，对于媒体报道的百度公司无人驾驶汽车上道路行驶的情况，北京交警官方微博最新通报称，正在积极开展调查核实。通报中称公安交管部门支持无人驾驶技术创新，但应当依法、安全、科学进行。对于违法违规行为将依法予以查处。7月5日，百度AI开发者大会2017在北京国家会议中心召开。会上，百度董事会副主席、集团总裁兼首席运营官陆奇在介绍百度无人驾驶平台Apollo时，与正在前往会场的百度创始人、董事长兼首席执行官李彦宏连线。据介绍，李彦宏当时乘坐的正是通过Apollo平台生产的无人驾驶汽车。这段连线视频一经播出立即引发了各界激烈的讨论，很多网友表示该视频就是百度公然违反现行《道路交通安全法》的直接证据。进入【新浪财经股吧】讨论\n"
     ]
    },
    {
     "name": "stderr",
     "output_type": "stream",
     "text": [
      "INFO:root:Scraping http://finance.sina.com.cn/stock/hyyj/2017-07-06/doc-ifyhwefp0119243.shtml\n"
     ]
    },
    {
     "name": "stdout",
     "output_type": "stream",
     "text": [
      "百度正式发布自动驾驶Apollo计划 无人驾驶概念股活跃\u00012017-07-06\u0001中国网财经\u00017月6日讯 受百度正式发布自动驾驶Apollo计划利好消息影响，无人驾驶概念股早盘，截至发稿，路畅科技两连板，万安科技涨逾5%，长城汽车、华域汽车均有不同程度涨幅。\u0001http://finance.sina.com.cn/roll/2017-07-06/doc-ifyhvyie0317072.shtml\u0001中国网财经7月6日讯 受百度正式发布自动驾驶Apollo计划利好消息影响，无人驾驶概念股早盘，截至发稿，路畅科技两连板，万安科技涨逾5%，长城汽车、华域汽车均有不同程度涨幅。消息面上，7月5日，百度AI开发者大会在北京召开，其全力打造的Apollo自动驾驶开放平台成为现场最具人气的热点。从今年4月份百度首次公布Apollo至今，Apollo的“季报”备受期待。在当日上午召开的主论坛上，百度总裁兼首席运营官陆奇详细解读了Apollo整体战略和开放路线图，并宣布百度自动驾驶系统Apollo生态正式诞生。值得一提的是，陆奇在演讲中将该生态的“朋友圈”名单打到了身后的大屏幕上，包括戴姆勒、福特两家国际车企以及东风、长安等13家中国车企，此外，还包括产业链上一流的芯片公司、传感器公司、地图公司、云服务公司、研究机构等，如微软、intel 、路畅科技、中兴通讯、清华大学等。据陆奇透露，初始合作伙伴已经超过50个，“毫无疑问，Apollo是今天整个汽车工业最强大的自动驾驶生态。”进入【新浪财经股吧】讨论\n"
     ]
    },
    {
     "name": "stderr",
     "output_type": "stream",
     "text": [
      "INFO:root:Scraping http://finance.sina.com.cn/roll/2017-07-06/doc-ifyhvyie0308019.shtml\n"
     ]
    },
    {
     "name": "stdout",
     "output_type": "stream",
     "text": [
      "阿里百度“竞技”人工智能 多家上市公司回应是否涉足\u00012017-07-06\u0001e公司\u0001e公司讯，7月5日，百度公布自动驾驶阿波罗计划，阿里也正式发布语音音箱产品，声纹支付购物功能亮相。7月5日晚间至6日，多家公司被问及是否涉足阿里百度的产业。\u0001http://finance.sina.com.cn/stock/hyyj/2017-07-06/doc-ifyhwefp0119243.shtml\u0001e公司讯，7月5日，百度公布自动驾驶阿波罗计划，阿里也正式发布语音音箱产品，声纹支付购物功能亮相。7月5日晚间至6日，多家公司被问及是否涉足阿里百度的产业。其中，水晶光电称公司的生物识别滤光片产品，可广泛应用于手势、虹膜及人脸识别领域；启明信息称日前公司与百度刚签合作协议，但目前具体细节尚未确定；移为通信称公司产品应用于无人驾驶上不存在技术问题；路畅科技称在无人驾驶领域深耕已久，技术储备和产品紧跟最新发展。进入【新浪财经股吧】讨论\n"
     ]
    },
    {
     "name": "stderr",
     "output_type": "stream",
     "text": [
      "INFO:root:Scraping http://finance.sina.com.cn/stock/hyyj/2017-07-06/doc-ifyhwefp0109588.shtml\n"
     ]
    },
    {
     "name": "stdout",
     "output_type": "stream",
     "text": [
      "百度打造开放式AI生态 开发者追捧与疑虑并存\u00012017-07-06\u000121世纪经济报道\u00017月5日早上9点，距离2017百度开发者大会正式开始还有1个小时的时间，大会现场展台区已人头攒动。大会正式开始后，不仅会场坐席爆满，在会场偏后的看台区域，也有很多找不到座位、直 ...\u0001http://finance.sina.com.cn/roll/2017-07-06/doc-ifyhvyie0308019.shtml\u00017月5日早上9点，距离2017百度开发者大会正式开始还有1个小时的时间，大会现场展台区已人头攒动。大会正式开始后，不仅会场坐席爆满，在会场偏后的看台区域，也有很多找不到座位、直接坐在台阶上的参会者。推动开发者们热情高涨的，是百度的人工智能开放平台计划。在过去，包括谷歌、微软、苹果、Facebook等科技巨头每年均召开一次开发者大会，将自身的技术实力，尤其是近年来爆红的人工智能技术全面赋能全球开发者。在国内，2017百度开发者大会尚属首例。“AI的未来属于开发者，百度的将来必须建立在每个开发者共赢的基础上。”在大会现场，百度集团总裁兼COO陆奇表示，“AI时代机会极多，但开发壁垒同样很高，百度希望为每一位AI开发者解除障碍，提供工具、数据、基础设施以及良好的开发环境。”对于开发者而言，如何将原本需要数月时间的新车型移植及整车测试，压缩在三天内完成？如何用1分钟的时间，让原本只会英文语音交互的音箱，马上变得能够听懂中国话？答案很简单：借势。而百度正在试图与其他科技巨头一样，将自己所具备的人工智能之“势”，赋予相关的开发者。“百度AI生态战略的方向，是建立和引领新一代的AI计算平台，通过将DuerOS、阿波罗平台、百度大脑和百度智能云等综合在一起，形成一个强大的AI生态。”陆奇指出。其中，对话式人工智能系统和自动驾驶两大领域的开放计划，成为本次百度开发者大会的关注重心。所谓对话式人工智能系统，即DuerOS系统，百度将此系统能力进行开放后，开发者能够在基础技术框架上构建匹配自身需求的语音交互系统，并搭载到相应的智能硬件上。据百度度秘事业部总经理景鲲介绍，DuerOS开放平台运用了最先进的自然语言处理技术，赋予机器听清、听懂人类语言的能力，为用户提供最自然的人机交互体验。与此同时，考虑到AI时代呈现出软硬结合的趋势，但目前软硬结合的开发成本较高，因此DuerOS还将为开发者提供软硬件一体化解决方案，包括个人版、轻量版、标准版在内的多样化开发套件与完全开放的参考设计。在自动驾驶领域，百度的开放计划则为阿波罗计划。与DuerOS平台相似，百度将自有智能驾驶技术开放后，开发者也能够依托百度原有积累，在基础技术模块上开发自己的产品。“将所有模块加在一起，阿波罗平台能够让每一个开发者从0到1，快速组装一辆属于自己的自动驾驶车。”陆奇称。据介绍，百度阿波罗平台上拥有软件平台、服务平台、参考硬件平台和参考车辆平台四大平台。“其实，对于谷歌、Facebook、苹果等公司而言，开源机器学习技术已不是新鲜事。”围绕百度将技术开放、营造AI生态这一问题，斯坦福大学客座教授皮埃罗·斯加鲁菲告诉21世纪经济报道记者，“科技巨头之所以开源技术、免费共享，是因为当前技术虽然领先但不够成熟，需要更多的人来参与推动。通过开源行为，可以将数十人的技术团队变为几十万人的规模。”自公布伊始，短短两个半月的时间内，阿波罗计划已经收到了来自汽车业界众多厂商的“橄榄枝”。“今天，我宣布百度阿波罗生态正式诞生，包括超过50个初始合作伙伴的豪华阵容。”陆奇说，“这其中有13家优秀的中国汽车制造商和福特、戴姆勒这两家世界一流的汽车制造商，也有世界一流的集成供应商、芯片公司、传感器公司、地图公司、云服务公司、创业公司和研究机构。”DuerOS平台也是如此。据了解，同样是几个月时间里，DuerOS生态系统已经与国内外百余家家电、芯片和服务提供商建立了生态合作关系，其中包括海尔、美的、国安广视、联想、小鱼在家等众多知名厂商。对于现场的开发者而言，尽管他们按捺不住内心的蠢蠢欲动，将智能驾驶、DuerOS等展区围了个水泄不通，但不少仍暂处于观望状态。“今天主要是先过来了解一下情况。”在听完一上午的百度AI开放平台介绍后，多位开发者描述自己的感受。据21世纪经济报道记者了解，开发者们的犹豫主要围绕在两个方面：首先是技术能力，在包括谷歌、微软等巨头同样对相关技术进行开放的背景下，开发者需要做一个比较；其次是商业化前景，“想看看如何盈利”。“在开放平台起步阶段，吸引开发者的关键在于盈利模式好，让开发者有更好的收益。”赛迪智库互联网研究所副所长陆峰向21世纪经济报道记者表示，“到后期，则主要看生态的完善性。谁的生态越完善，提供服务的能力越强，开发者就会使用谁的平台。”不过，留给开发者观望的时间，恐怕已经不多了。尤其在智能驾驶领域，传统厂商与互联网技术的融合也已到了一个关键时点。“目前汽车行业与互联网融合应用主要集中在汽车导航、车内娱乐、远程控制等简单应用，信息技术与车辆驾驶控制系统本身融合较少，移动互联网、云计算、大数据、人工智能等新一代信息技术在汽车研发设计、生产制造、道路行驶等领域融合程度较低，这是当前无人驾驶汽车发展的一个问题。”陆峰表示。进入【新浪财经股吧】讨论\n"
     ]
    },
    {
     "name": "stderr",
     "output_type": "stream",
     "text": [
      "INFO:root:Scraping http://finance.sina.com.cn/roll/2017-07-06/doc-ifyhwefp0106577.shtml\n"
     ]
    },
    {
     "name": "stdout",
     "output_type": "stream",
     "text": [
      "路畅科技等多家公司加入百度无人驾驶生态联盟\u00012017-07-06\u0001中国证券报-中证网\u00017月5日举行的“百度AI开发者大会”上，百度宣布将推出DuerOS和Apollo两大开放平台。前者为对话式人工智能系统开放平台，具备先进的自然语言处理技术，赋予机器听懂人类语言的能力；后 ...\u0001http://finance.sina.com.cn/stock/hyyj/2017-07-06/doc-ifyhwefp0109588.shtml\u00017月5日举行的“百度AI开发者大会”上，百度宣布将推出DuerOS和Apollo两大开放平台。前者为对话式人工智能系统开放平台，具备先进的自然语言处理技术，赋予机器听懂人类语言的能力；后者旨在提供开放、完整、安全的软硬件和服务平台，帮助开发者快速搭建自动驾驶系统。长安汽车、长城汽车、江淮汽车、中兴通讯、路畅科技等多家公司入围Apollo生态合作伙伴联盟。受此影响，7月5日，无人驾驶概念板块集体大涨。两大开放平台据介绍，对话式人工智能系统DuerOS已经与百余家家电、芯片和服务提供商建立了生态合作关系，以技术和产业优势领跑市场。百度度秘事业部总经理景鲲介绍，DuerOS开放平台运用了先进的自然语言处理技术，赋予机器听清、听懂人类语言的能力，为用户提供最自然的人机交互体验。为了更好地实现通过对话式人工智能系统“唤醒万物”，百度将全资收购KITT.AI，更大限度地开放技术能力满足智能语音设备开发者的需求。Apollo则是另一重要开放平台。2017年4月，百度董事会副主席、集团总裁兼COO陆奇在上海车展期间宣布Apollo计划，将开放自动驾驶平台。Apollo也是全球范围内自动驾驶技术的第一次系统级开放，旨在提供开放、完整、安全的软硬件和服务平台，帮助开发者快速搭建属于自动驾驶系统。DuerOS与Apollo两大开放平台都运用了百度大脑的核心能力。陆奇指出，百度已构建包含算法层、感知层、认知层和平台层技术架构的AI技术平台，百度大脑将全面开放60项核心AI能力，其中包括语音、视频、增强现实、机器人视觉、自然语音处理五大类14项新能力。多家公司入围在DuerOS与Apollo两大开放平台中，Apollo尤其受到市场关注。在7月5日的百度AI开发者大会上，百度公布了Apollo详细的路线图、技术框架以及首期开放的能力，并发布Apollo生态合作伙伴联盟，首批生态合作伙伴规模超50家。其中，长安汽车、长城汽车、福田汽车、江淮汽车、金龙客车、中兴通讯、路畅科技等A股上市公司纷纷入围。在大会现场，陆奇还与正在乘坐无人驾驶汽车前往会场的百度董事长兼CEO李彦宏进行了连线。Apollo首期将开放1.0封闭园区自动驾驶能力。利用Apollo开放平台，将加速国内企业在无人驾驶产业链上的布局。从目前情况看，在“单车智能”和“车联网”等领域上市公司布局已有所覆盖，但布局深度仍然不够。此外，Apollo开放平台有望帮助车企加速挖掘价值超过千亿的国内无人驾驶市场。百度方面表示，随着首批50多家行业合作伙伴的陆续加入，Apollo计划创建一个快速创新的良性循环，鼓励合作伙伴在各专业领域贡献，实现资源优势互补。随着更多生态合作伙伴加入并持续贡献，Apollo能力将越来越强。概念股大涨受利好影响，7月5日，长安汽车、长城汽车、福田汽车、江淮汽车、金龙客车、中兴通讯、路畅科技等入围Apollo生态合作伙伴联盟的A股上市公司股价纷纷大涨，路畅科技午后更是直接涨停，大盘股中兴通讯大涨3.89%。在此次入围Apollo生态合作伙伴联盟的企业中，路畅科技致力于成为领先的汽车信息化、智能化以及智能出行的解决方案提供商。2016年底，公司发布五年战略规划，将在巩固后装市场的领先地位的基础上进一步开拓前装市场，将智能驾驶舱产品和解决方案作为公司战略的主要聚焦点。今年6月，公司宣布，分别投资350万元、255万元和200万元设立三家子公司，围绕智能驾驶舱展开布局。华创证券认为，公司通过本次投资多方布局智能驾驶舱，以提升智能驾驶和自动驾驶领域的实力，增强综合竞争能力，有利于进一步拓展公司在智能驾驶、自动驾驶领域的技术储备和产品线。同时，无人驾驶概念板块集体爆发，无人驾驶指数直线拉升，并大涨1.87%。个股方面，除了路畅科技，万安科技涨停。此外，金固股份、亚太股份、启明信息等无人驾驶概念股大涨。继“阿里概念股”和“腾讯概念股”先后掀起热潮后，业内人士认为，“百度概念股”可能借此成型。进入【新浪财经股吧】讨论\n"
     ]
    },
    {
     "name": "stderr",
     "output_type": "stream",
     "text": [
      "INFO:root:Scraping http://finance.sina.com.cn/roll/2017-07-06/doc-ifyhweua4040601.shtml\n"
     ]
    },
    {
     "name": "stdout",
     "output_type": "stream",
     "text": [
      "百度首次公布AI生态战略：无人驾驶开发时间仅用三天\u00012017-07-06\u0001第一财经日报\u0001李彦宏乘无人车上五环 百度自动驾驶的两年和三天 刘佳 7月5日上午11点，北京五环路上车流拥挤，一辆行驶中的红色商务车看上去并没有什么特别。\u0001http://finance.sina.com.cn/roll/2017-07-06/doc-ifyhwefp0106577.shtml\u0001李彦宏乘无人车上五环 百度自动驾驶的两年和三天刘佳7月5日上午11点，北京五环路上车流拥挤，一辆行驶中的红色商务车看上去并没有什么特别。当时，百度创始人李彦宏正坐在副驾驶上，主驾驶位的司机双手未触碰方向盘，双脚离开油门刹车区域，车辆正在自动驾驶中。“现在车非常多，但是还是很平稳，感觉非常不错。前面也有一个屏幕可以展示出来自动驾驶汽车探索的周边的情况，我们的车处在自动驾驶的状态。”视频连线中，李彦宏和几公里外百度AI开发者大会现场的百度集团总裁陆奇分享了实时体验。当外界还在因为互联网格局变化议论纷纷时，百度正在用一次“把无人车开上五环”、“把智能驾驶能力开放出来”的行动，撕下过去“搜索公司”的标签，告诉外界：百度已经不再是一家互联网公司，它正在AllinAI。Allin人工智能这是百度第一次对外公布完整的AI生态开放战略。“AI将和前三次工业革命一样，让人类进入全新的时代。”陆奇这样说。在他看来，只做硬件或者软件都是不够的，AI技术与其他技术的不同之处，在于数据起到了重要而特殊的作用，必须系统加数据、通过学习、训练才能获得能力。“这次人工智能革命的本质是一场知识的革命，是快速、自动地来获取知识。”百度公布的AI开放生态战略包括：前端的对话式人工智能系统DuerOS和自动驾驶Apollo开放平台，以及后端的百度大脑和智能云。其中，DuerOS与Apollo开放平台都运用了百度大脑的核心能力。陆奇指出，百度已构建包含算法层、感知层、认知层和平台层技术架构的AI技术平台，并宣布百度大脑将全面开放60项核心AI能力，其中包括语音、视频、增强现实、机器人视觉、自然语音处理五大类14项新能力。在陆奇看来，中国科技公司在AI时代有着很大的优势。因为现在全世界有43%人工智能论文是华人撰写的，中国有足够大的技术累积，此外，中国的互联网公司在AI核心技术有了早期的着陆和长期的研发，有大量的资金，有世界上最大、最活跃的用户群，AI在今年两会已经列入了政府工作报告……而百度之所以适合做AI，是因为百度的核心就是AI的数据技术和人才。百度17年搜索业务和早期的战略投入，积累了大量的人才、技术和数据资源。例如，在技术领域，先后是NLP、机器学习、知识图谱、语音、图像、深度学习等积累并经过百度每天数十亿次用户请求的持续考验。陆奇在演讲中表示，百度已经是一家AI公司，并使用AI来提升搜索、信息流、手机百度等现有的核心业务，也会用AI来建设金融服务、智能云、DuerOS、自动驾驶汽车等一系列基于AI的新业务。三天造出无人汽车百度2015年正式对外发布无人驾驶汽车，并在北京五环完成首次测试。而就在昨天，在李彦宏在前往会场的途中，他分别搭乘了两种类型的百度无人车，一辆是百度与博世共同开发的、适用于高速公路行驶的无人驾驶汽车。另一辆则是进入会场的无人驾驶寻迹车。后者是由美国的一家初创公司，基于百度的阿波罗计划开发，即使没有配备激光雷达和摄像头，仅依赖简单的定位系统就能实现在固定路线上的自动驾驶，并且开发时间仅用了三天。百度自动驾驶的两年和三天，其实也从一个侧面说明了，在AI时代，属于PC互联网时代的个人英雄主义行不通了，像App这样封闭的“小王国”正在被打破。智能变革是汽车产业的时代趋势，产业链条上的每一个环节上的企业通力协作，才能高效地搭建起全新的、完整的自动驾驶行业体系。“AI是必由之路，开放让所有人都收获更多。”李彦宏强调。继今年4月，百度发布“Apollo（阿波罗）计划”，向汽车行业及自动驾驶领域的合作伙伴提供一个开放、完整、安全的软件平台，帮助他们快速搭建完整的自动驾驶系统后，陆奇宣布正式开放Apollo1.0，并且成立了美国子公司和新加坡子公司，把触角延伸到了国际市场。陆奇把Apollo比作自动驾驶的“安卓”，Apollo计划发布两个多月以来，百度已与奇瑞、一汽、长安、长城、博世、大陆等超过50家生态合作伙伴达成战略合作。陆奇透露，目前百度开放了封闭场地循迹自动驾驶能力、自定位能力和端到端等非常有价值的数据。更为重要的是，Apollo会快速地开放越来越多的能力，每周都会更新，每两个月左右都有新的版本和总体能力的提升。接下来，百度的具体计划是，到今年9月份，Apollo将会开放固定车道自动驾驶能力和开放部分的仿真引擎数据；到今年年底，Apollo将开放一系列新的能力，使车辆能够在简单城市路况下，完成自动驾驶任务，同时会开放更多的数据及数据上传的接口；2018年、2019年、2020年，Apollo会加强开发能力，加速开放速度，直到最后实现完全自动无人驾驶。在奇瑞汽车股份有限公司董事长尹同跃眼里，Apollo是个新的起点，是中国汽车产业掌握核心技术，由大变强的开始。“自动驾驶处于浪潮之巅，大家都在积极布局，在探索合作，但其实也是互相戒备、相互竞争。百度开放自己的核心技术，坦诚与业界合作，这种自信和眼光值得赞赏。”尹同跃评价。而在借助Apollo平台在几天内做出了自动驾驶汽车的AutonomouStuff公司CEORobertHambrick看来，以往一个企业需要花费数年开展自己的自动驾驶研究，但几年后它会发现自己的代码和技术都已经过时了。“随着Apollo开放平台合作伙伴的增多，共享的数据、资源和技术将成倍增加，这意味着，开发者和企业将不用再进行基础的重复工作，而是直接进入自动驾驶高阶研究，这将大幅提升自动驾驶行业的发展速度，加速自动驾驶汽车走进我们的日常生活。”进入【新浪财经股吧】讨论\n"
     ]
    },
    {
     "name": "stderr",
     "output_type": "stream",
     "text": [
      "INFO:root:Scraping http://finance.sina.com.cn/chanjing/gsnews/2017-07-06/doc-ifyhvyie0284926.shtml\n"
     ]
    },
    {
     "name": "stdout",
     "output_type": "stream",
     "text": [
      "百度打造开放式AI生态 开发者对如何盈利存疑虑\u00012017-07-06\u000121世纪经济报道\u0001百度打造开放式AI生态 开发者追捧与疑虑并存 本报记者 杨清清 北京报道 导读 科技巨头之所以开源技术、免费共享，是因为当前技术虽然领先但不够成熟，需要更多的人来参与推动。\u0001http://finance.sina.com.cn/roll/2017-07-06/doc-ifyhweua4040601.shtml\u0001百度打造开放式AI生态 开发者追捧与疑虑并存本报记者 杨清清 北京报道导读科技巨头之所以开源技术、免费共享，是因为当前技术虽然领先但不够成熟，需要更多的人来参与推动。7月5日早上9点，距离2017百度开发者大会正式开始还有1个小时的时间，大会现场展台区已人头攒动。大会正式开始后，不仅会场坐席爆满，在会场偏后的看台区域，也有很多找不到座位、直接坐在台阶上的参会者。推动开发者们热情高涨的，是百度的人工智能开放平台计划。在过去，包括谷歌、微软、苹果、Facebook等科技巨头每年均召开一次开发者大会，将自身的技术实力，尤其是近年来爆红的人工智能技术全面赋能全球开发者。在国内，2017百度开发者大会尚属首例。“AI的未来属于开发者，百度的将来必须建立在每个开发者共赢的基础上。”在大会现场，百度集团总裁兼COO陆奇表示，“AI时代机会极多，但开发壁垒同样很高，百度希望为每一位AI开发者解除障碍，提供工具、数据、基础设施以及良好的开发环境。”打造AI生态对于开发者而言，如何将原本需要数月时间的新车型移植及整车测试，压缩在三天内完成？如何用1分钟的时间，让原本只会英文语音交互的音箱，马上变得能够听懂中国话？答案很简单：借势。而百度正在试图与其他科技巨头一样，将自己所具备的人工智能之“势”，赋予相关的开发者。“百度AI生态战略的方向，是建立和引领新一代的AI计算平台，通过将DuerOS、阿波罗平台、百度大脑和百度智能云等综合在一起，形成一个强大的AI生态。”陆奇指出。其中，对话式人工智能系统和自动驾驶两大领域的开放计划，成为本次百度开发者大会的关注重心。所谓对话式人工智能系统，即DuerOS系统，百度将此系统能力进行开放后，开发者能够在基础技术框架上构建匹配自身需求的语音交互系统，并搭载到相应的智能硬件上。据百度度秘事业部总经理景鲲介绍，DuerOS开放平台运用了最先进的自然语言处理技术，赋予机器听清、听懂人类语言的能力，为用户提供最自然的人机交互体验。与此同时，考虑到AI时代呈现出软硬结合的趋势，但目前软硬结合的开发成本较高，因此DuerOS还将为开发者提供软硬件一体化解决方案，包括个人版、轻量版、标准版在内的多样化开发套件与完全开放的参考设计。在自动驾驶领域，百度的开放计划则为阿波罗计划。与DuerOS平台相似，百度将自有智能驾驶技术开放后，开发者也能够依托百度原有积累，在基础技术模块上开发自己的产品。“将所有模块加在一起，阿波罗平台能够让每一个开发者从0到1，快速组装一辆属于自己的自动驾驶车。”陆奇称。据介绍，百度阿波罗平台上拥有软件平台、服务平台、参考硬件平台和参考车辆平台四大平台。“其实，对于谷歌、Facebook、苹果等公司而言，开源机器学习技术已不是新鲜事。”围绕百度将技术开放、营造AI生态这一问题，斯坦福大学客座教授皮埃罗·斯加鲁菲告诉21世纪经济报道记者，“科技巨头之所以开源技术、免费共享，是因为当前技术虽然领先但不够成熟，需要更多的人来参与推动。通过开源行为，可以将数十人的技术团队变为几十万人的规模。”部分开发者仍在观望自公布伊始，短短两个半月的时间内，阿波罗计划已经收到了来自汽车业界众多厂商的“橄榄枝”。“今天，我宣布百度阿波罗生态正式诞生，包括超过50个初始合作伙伴的豪华阵容。”陆奇说，“这其中有13家优秀的中国汽车制造商和福特、戴姆勒这两家世界一流的汽车制造商，也有世界一流的集成供应商、芯片公司、传感器公司、地图公司、云服务公司、创业公司和研究机构。”DuerOS平台也是如此。据了解，同样是几个月时间里，DuerOS生态系统已经与国内外百余家家电、芯片和服务提供商建立了生态合作关系，其中包括海尔、美的、国安广视、联想、小鱼在家等众多知名厂商。对于现场的开发者而言，尽管他们按捺不住内心的蠢蠢欲动，将智能驾驶、DuerOS等展区围了个水泄不通，但不少仍暂处于观望状态。“今天主要是先过来了解一下情况。”在听完一上午的百度AI开放平台介绍后，多位开发者描述自己的感受。据21世纪经济报道记者了解，开发者们的犹豫主要围绕在两个方面：首先是技术能力，在包括谷歌、微软等巨头同样对相关技术进行开放的背景下，开发者需要做一个比较；其次是商业化前景，“想看看如何盈利”。“在开放平台起步阶段，吸引开发者的关键在于盈利模式好，让开发者有更好的收益。”赛迪智库互联网研究所副所长陆峰向21世纪经济报道记者表示，“到后期，则主要看生态的完善性。谁的生态越完善，提供服务的能力越强，开发者就会使用谁的平台。”不过，留给开发者观望的时间，恐怕已经不多了。尤其在智能驾驶领域，传统厂商与互联网技术的融合也已到了一个关键时点。“目前汽车行业与互联网融合应用主要集中在汽车导航、车内娱乐、远程控制等简单应用，信息技术与车辆驾驶控制系统本身融合较少，移动互联网、云计算、大数据、人工智能等新一代信息技术在汽车研发设计、生产制造、道路行驶等领域融合程度较低，这是当前无人驾驶汽车发展的一个问题。”陆峰表示。进入【新浪财经股吧】讨论\n"
     ]
    },
    {
     "name": "stderr",
     "output_type": "stream",
     "text": [
      "INFO:root:Scraping http://finance.sina.com.cn/roll/2017-07-06/doc-ifyhvyie0279853.shtml\n"
     ]
    },
    {
     "name": "stdout",
     "output_type": "stream",
     "text": [
      "百度无人驾驶汽车直播中压实线变道 该罚李彦宏吗？\u00012017-07-06\u0001大洋网-广州日报\u0001百度视频展示无人驾驶汽车 不打转向灯 压实线变道 引交管部门介入调查 无人驾驶违章 该罚李彦宏吗？大洋网-广州日报 邓莉 昨日的2017百度AI开发者大会上，百度董事长兼首席执行官李彦宏 ...\u0001http://finance.sina.com.cn/chanjing/gsnews/2017-07-06/doc-ifyhvyie0284926.shtml\u0001百度视频展示无人驾驶汽车 不打转向灯 压实线变道 引交管部门介入调查无人驾驶违章 该罚李彦宏吗？大洋网-广州日报 邓莉昨日的2017百度AI开发者大会上，百度董事长兼首席执行官李彦宏通过视频直播展示了一段自己乘坐公司研发的无人驾驶汽车的情景。视频中，李彦宏坐在一辆红色汽车的副驾驶位上，他称自己刚刚上五环，正在前往会场的路上，“车处在自动驾驶的状态”，整段视频约1分钟长。 @视觉中国文/广州日报全媒体记者邓莉以互联网搜索引擎起家的百度，当前一个重要的发展方向是AI与无人驾驶汽车。昨日，在百度AI开发者大会上，百度创始人、董事长兼首席执行官李彦宏通过视频直播展示了一段自己乘坐百度研发的无人驾驶汽车的情景。不过，这本应是一次尖端技术演示，却引发了一场争议——细心的网友通过视频发现，这辆无人驾驶的车辆在“众目睽睽”之下违规了，随后北京交警表示将介入调查，那么问题来了：在司机没有驾驶的情况下违章，该罚谁？无人驾驶汽车直播中压实线变道广州日报全媒体记者查看该场发布会的回顾视频时留意到，在让现场无数人为之鼓掌的视频连线中，李彦宏坐在副驾驶位，驾驶员全程不碰方向盘，汽车自动行驶，顺利开上了北京的北五环，此时车辆在画有实线的路段并到另一车道，同时也没有打转向灯。这段视频画面被网友转发后迅速发酵，随后北京交管局也表示已经获悉相关情况，正在就此展开调查。在交管部门未公布调查结果之前，昨天下午，百度对外补充解释道，李彦宏所乘坐的无人驾驶汽车，驾驶位有人乘坐，为百度智能汽车事业部总经理顾维灏，而顾维灏全程也未用双手触碰方向盘。关于百度这辆无人驾驶汽车的违章问题，业内争议焦点在于：无人驾驶汽车该不该配备驾驶员？驾驶员需要什么资质？百度这辆演示车的违章情况，该处罚谁？无人驾驶处罚成难题？默认规则看“车辆控制权”如果是一辆由驾驶员正常驾驶的汽车实线变道，依据《中华人民共和国道路交通安全法》第三十八条和第九十条的规定，机动车违反禁止标线指示的，罚款200元，扣3分，罚款和扣分的对象都是驾驶员。那么无人驾驶汽车违章后该如何判定责任？长安汽车研究总院总工程师黎予生表示，当前业内默认规则是“按照车辆控制权来界定”。无人驾驶有很多种分级标准，按照SAE（美国汽车工程师学会）标准，在一级、二级情况下出了事故由驾驶员负责，因为驾驶员需要全程关注。即使到了三级，无人驾驶系统控制方向盘，但也要求驾驶员全程关注，当前车企的无人驾驶汽车都会在说明书上标明。如果是完全无人驾驶状态下出现违章或事故，则涉及技术问题，生产厂家要负责任。百度无人驾驶汽车实线变道不打灯问题，或涉及车辆系统对路况的判断错误。据悉，此次李彦宏乘坐的无人驾驶汽车基于最新推出的Apollo技术，由百度和博世一起开发，汽车会自动识别路上障碍。记者采访了一位北京公安交警部门的工作人员，他表示：当前针对无人驾驶车辆违章，并无法规可依。而且当前无人驾驶车辆多登记为企业所有，“按道理是谁开车谁是责任人，若是机器开车，只能暂时认定由坐在驾驶座上的人负责。”此外，有交管局内部人士称，现行法规并不允许无人驾驶汽车上路。但早在2015年，百度无人驾驶汽车就已首次在五环测试，至于此次是否经过审批，目前尚不得而知。无人驾驶分级标准影响相关法规制定以欧美地区为例，NHTSA（美国高速公路安全管理局）、SAE（美国汽车工程师学会）、ERTRAC（欧洲道路交通研究咨询委员会）分别对无人驾驶进行了分级定义，也成了欧美等各国研究无人驾驶汽车相关法规的依据。我国国内车企基本采用美国的SAE标准为无人驾驶汽车分级，即：一级为“驾驶支援”，主要还是靠人类来操控；二级为“部分自动化”，系统可以进行自动跟车和定速巡航、车道偏离辅助等，其他驾驶动作依然靠人来进行；三级为“有条件自动化”，由无人驾驶系统完成所有驾驶操作，根据系统请求，人类驾驶者提供适当的应答；四级为“高度自动化”，无人驾驶系统完成所有驾驶操作，即便人类驾驶者不对系统请求进行应答，系统在限定范围内进行行驶判断；五级则是完全自动化，可以在任何环境下无人驾驶。无人驾驶车上路需审批驾驶员要有特殊“驾驶证”记者从相关车企业获悉，国内现行的法规并不允许无人驾驶汽车上路，但如果是企业为了测试所需，可向国家相关部门申请审批。记者从曾经在国内进行过多次无人驾驶汽车上路测试的长安汽车获悉，当前无人驾驶汽车仍然需要配备驾驶员，且这个驾驶员需要有专门的“自动驾驶汽车”驾驶证。记者留意到，《中华人民共和国道路交通安全法》2003年公布，2007年与2011年两次修订，暂时还没有把无人驾驶的问题纳入考虑，相关的配套法律体系也是如此。交通运输部公路科学研究院总工程师王笑京表示，目前的法律法规已经远远跟不上科技的发展，无人驾驶面对的法律缺失，在全世界都是一个难题。中国从2016年已经开展了对于无人驾驶问题的法律研究。记者留意到，去年6月，中国汽车行业监管机构曾表示，将联合公安部制定规范有关无人驾驶汽车道路测试的法律法规，法规发布前禁止车企在高速路上开展无人驾驶汽车测试。今年6月13日，工信部网站已经正式对外发布《关于征求<国家车联网产业标准体系建设指南（智能网联汽车）（2017年）>（征求意见稿）意见的通知》，目前已经初步确立了不少意见。进入【新浪财经股吧】讨论\n",
      "百度将开放无人驾驶平台“Apollo”\u00012017-07-06\u0001证券时报\u00017月5日，百度人工智能（AI）开发者大会在北京举办，百度董事会副主席、百度集团总裁兼首席运营官陆奇(右)宣布百度无人驾驶平台“Apollo”将向开发者正式开放。\u0001http://finance.sina.com.cn/roll/2017-07-06/doc-ifyhvyie0279853.shtml\u00017月5日，百度人工智能（AI）开发者大会在北京举办，百度董事会副主席、百度集团总裁兼首席运营官陆奇(右)宣布百度无人驾驶平台“Apollo”将向开发者正式开放。陆奇表示，希望通过快速迭代的创新方式，为中国汽车产业升级找到突破点，推动中国自动驾驶产业在3~5年内站到世界前沿。中新社/图文 翟超/制图进入【新浪财经股吧】讨论\n"
     ]
    }
   ],
   "source": [
    "import logging\n",
    "import requests\n",
    "import sys\n",
    "\n",
    "from bs4 import BeautifulSoup\n",
    "\n",
    "\n",
    "\n",
    "\n",
    "def get_body(href):\n",
    "    \"\"\"Function to retrieve news content given its url.\n",
    "\n",
    "    Args:\n",
    "        href: url of the news to be crawled.\n",
    "\n",
    "    Returns:\n",
    "        content: the crawled news content.\n",
    "\n",
    "    \"\"\"\n",
    "    html = requests.get(href)\n",
    "    soup = BeautifulSoup(html.content, 'html.parser')\n",
    "    div = soup.find('div', {\"id\": \"artibody\"})\n",
    "    paras = div.findAll('p')\n",
    "    content = ''\n",
    "    for p in paras:\n",
    "        ptext = p.get_text().strip().replace(\"\\n\", \"\")\n",
    "        content += ptext\n",
    "    return content\n",
    "\n",
    "\n",
    "\n",
    "if __name__ == \"__main__\":\n",
    "    logging.getLogger().setLevel(logging.INFO)\n",
    "    # Getting and printing content for each url in the crawled web list pages\n",
    "    with open(\"data/baidu_list\") as f:\n",
    "        for line in f:\n",
    "            title, date, source, abstract, href = line.strip().split('\\001')\n",
    "            # Printing progress onto console\n",
    "            logging.info('Scraping ' + href)\n",
    "            content = get_body(href)\n",
    "            print('\\001'.join([title, date, source, abstract, href, content]))"
   ]
  },
  {
   "cell_type": "markdown",
   "metadata": {},
   "source": [
    "# Web Crawling with `Scrapy`\n",
    "\n",
    "One of the challenges of writing web crawlers is that you’re often performing the same tasks again and again: find all links on a page, evaluate the difference between internal and external links, go to new pages. These basic patterns are useful to know and to be able to write from scratch, but the Scrapy library handles many of these details for you.\n",
    "\n",
    "##  Installing Scrapy\n",
    "\n",
    "- After Anaconda is installed, you can install Scrapy by using this command:\n",
    "   \n",
    "      conda install -c conda-forge scrapy\n",
    "\n",
    "\n",
    "\n",
    "## Dealing with Different Website Layouts\n",
    "\n",
    "Fortunately, in most cases of web crawling, you’re not looking to collect data from sites you’ve never seen before, but from a few, or a few dozen, websites that are pre-selected by a human. This means that you don’t need to use complicated algorithms or machine learning to detect which text on the page “looks most like a title” or which is probably the “main content.” You can determine what these elements are manually.\n",
    "\n",
    "The most obvious approach is to write a separate web crawler or page parser for each website. Each might take in a URL, string, or BeautifulSoup object, and return a Python object for the thing that was scraped.\n",
    "\n",
    "\n",
    "## Initializing a New Spider\n",
    "\n",
    "To create a new spider in the current directory, run the following from the **command line (NOT THE PYTHON PROMPT)**:\n",
    "```\n",
    "    scrapy startproject wikiSpider\n",
    "```    \n",
    "    \n",
    "This creates a new subdirectory in the directory the project was created in, with the title wikiSpider. Inside this directory is the following file structure:\n",
    "\n",
    "- scrapy.cfg\n",
    "- wikiSpider\n",
    "  - spiders\n",
    "     - __init.py__\n",
    "  - items.py\n",
    "  - middlewares.py\n",
    "  - pipelines.py\n",
    "  - settings.py\n",
    "  - __init.py__\n",
    "  \n",
    "  \n",
    "## Generate some spiders with templates from the command line\n",
    "\n",
    "    scrapy genspider example example.com \n",
    "    scrapy genspider example2 example.com \n",
    "    scrapy genspider example3 example2.com \n",
    "    \n",
    "  \n",
    "## Writing a Simple Scraper\n",
    "\n",
    "To create a crawler, you will add a new file inside the spiders directory at wikiSpider/wikiSpider/spiders/article.py. In your newly created **article.py** file, write the following:\n",
    "\n",
    "```python\n",
    "    import scrapy\n",
    "\n",
    "    class ArticleSpider(scrapy.Spider):\n",
    "        name='article'\n",
    "\n",
    "        def start_requests(self):\n",
    "            urls = [\n",
    "                'http://en.wikipedia.org/wiki/Python_%28programming_language%29',\n",
    "                'https://en.wikipedia.org/wiki/Functional_programming',\n",
    "                'https://en.wikipedia.org/wiki/Monty_Python']\n",
    "            return [scrapy.Request(url=url, callback=self.parse) for url in urls]\n",
    "\n",
    "        def parse(self, response):\n",
    "            url = response.url\n",
    "            title = response.css('h1::text').extract_first()\n",
    "            print('URL is: {}'.format(url))\n",
    "            print('Title is: {}'.format(title))\n",
    "```\n",
    "\n",
    "## Run this article spider\n",
    "\n",
    "You can run this article spider by navigating to the wikiSpider/wikiSpider directory and running from the command line:\n",
    "\n",
    "    scrapy runspider article.py\n",
    "        \n",
    "## Run your project with at the project root directory\n",
    "\n",
    "    scrapy crawl table -o table.csv  --logfile table.log\n",
    "    \n",
    "\n",
    "## Scrapy Shell\n",
    "\n",
    "To do the crawler interactively, just run from the command line\n",
    "\n",
    "    scrapy shell \"http://en.wikipedia.org/wiki/Python_%28programming_language%29\""
   ]
  },
  {
   "cell_type": "markdown",
   "metadata": {},
   "source": [
    "# Lab \n",
    "\n",
    "Use `scrapy` framework to implement the we studied with `BeautifulSoup`"
   ]
  }
 ],
 "metadata": {
  "kernelspec": {
   "display_name": "Python 3",
   "language": "python",
   "name": "python3"
  },
  "language_info": {
   "codemirror_mode": {
    "name": "ipython",
    "version": 3
   },
   "file_extension": ".py",
   "mimetype": "text/x-python",
   "name": "python",
   "nbconvert_exporter": "python",
   "pygments_lexer": "ipython3",
   "version": "3.7.4"
  }
 },
 "nbformat": 4,
 "nbformat_minor": 2
}
