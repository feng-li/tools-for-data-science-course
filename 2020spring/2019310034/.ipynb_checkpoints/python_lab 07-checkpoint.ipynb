{
 "cells": [
  {
   "cell_type": "code",
   "execution_count": 21,
   "metadata": {
    "scrolled": true
   },
   "outputs": [
    {
     "name": "stdout",
     "output_type": "stream",
     "text": [
      "遇上新冠病毒，会让美国金融霸权加速“死亡”吗？\u00012020-04-24\u0001观视频工作室\u0001这一期则着重为大家分析新冠疫情如何加速美国输掉“金融战” 美国这些年来 依靠自己的金融霸权收割全世界财富 对内 明明自己许多公司企业已经开始衰退 但依靠收割来的财富 分出一点给自己的国民当做福利\u0001https://k.sina.com.cn/article_6060307497_m16938f42903300n6d7.html?from=news&subch=onews\n",
      "值得警惕！世卫组织称与新冠病毒斗争可能是长期的过程\u00012020-04-24\u0001一抹景色Yk\u0001\u0001https://k.sina.com.cn/article_3703570897_mdcc001d100101th0w.html?from=news&subch=intl\n",
      "美军“西奥多·罗斯福”号航母官兵完成新冠病毒检测\u00012020-04-24\u0001中国青年报\u0001停靠关岛的美军核动力航空母舰“西奥多·罗斯福”号官兵已全员接受新冠病毒检测 840人检测结果呈阳性 其中4人正在医院接受治疗   美国海军当天通报说 “西奥多·罗斯福”号所有官兵的新冠病毒检测中有840个阳性结果和4098个阴性结果\u0001https://k.sina.com.cn/article_1726918143_66eeadff02000x7gm.html?from=mil\n",
      "盖茨回应5G导致新冠病毒：我希望没人相信这些\u00012020-04-24\u0001大佬时间\u0001 4月23日 比尔·盖茨接受WCVB采访时 被记者问到“5G导致新冠病毒”等谣言的看法 比尔盖茨回应称希望没人会相信这些 我真的不知道 现在最危险的事情是人们不相信专家的防护建议 反而听信谣言而不采取防护措施\u0001https://t.cj.sina.com.cn/articles/view/6279804563/m1764e369303300t8yz?from=tech\n",
      "新冠病毒怎么考？生物老师划重点！[兔子]\u00012020-04-24\u0001钱江视频\u0001  杭州第二中学全国生物奥赛金牌教练帅翼：PCR扩增、RNA逆转录、DNA分子杂交技术 这些知识点你都串连起来了吗？  \u0001https://k.sina.com.cn/article_1744332207_m67f865af03300umgg.html?from=news&subch=onews\n",
      "新冠病毒怎么考？生物老师划重点！[兔子]\u00012020-04-24\u0001钱江视频\u0001  杭州第二中学全国生物奥赛金牌教练帅翼：PCR扩增、RNA逆转录、DNA分子杂交技术 这些知识点你都串连起来了吗？  \u0001https://k.sina.com.cn/article_1744332207_m67f865af03300umgg.html?from=news&subch=onews\n",
      "美国加州州长下令对去年12月死者做新冠病毒尸检\u00012020-04-24\u0001福州新闻网fznews\u0001分别死于2月6日和2月17日的两名死者 其尸检结果显示新冠病毒检测呈阳性 这比加州官员此前认为的美国第一个新冠病毒死亡病例出现的时间提前了三周   据美国“商业内幕”网站报道\u0001https://k.sina.com.cn/article_2553604372_9834e91402000rgxf.html?from=news&subch=onews\n",
      "新冠病毒在北美的传播\u00012020-04-24\u0001医视频\u0001 新冠病毒在北美的传播  \u0001https://k.sina.com.cn/article_5889831705_m15f0fb31903300zstg.html?from=science\n",
      "印度首推新冠病毒检测车，十分符合印度国情\u00012020-04-24\u0001亚太日报\u0001  印度首推新冠病毒检测车 十分符合印度国情  \u0001https://k.sina.com.cn/article_2881177230_mabbb468e03300o383.html?from=news&subch=onews\n",
      "两只家养宠物猫确认感染新冠病毒\u00012020-04-24\u0001吉林交通广播\u0001  两只家养宠物猫确认感染新冠病毒 \u0001https://k.sina.com.cn/article_1274460913_m4bf6baf103300qoly.html\n",
      "辽宁一医生新冠病毒血清抗体IgM检测阳性 曾瞒报行程\u00012020-04-24\u0001贵州卫视\u0001辽宁省卫健委24日发布公告 该省人民医院一名女医生 瞒报去哈尔滨的行程 新冠病毒血清抗体IgM检测结果阳性   公告显示 辽宁省人民医院医生李某 女 于4月12日起在哈尔滨医科大学附属一院陪护家人 按照当地规定\u0001https://k.sina.com.cn/article_1617746261_606cd95502000r0nl.html?from=movie\n",
      "语出惊人！特朗普提议:把光和消毒剂引入人体以杀死新冠病毒\u00012020-04-24\u0001封面新闻\u0001或者那种类似一分钟可以消灭病毒的消毒水的方式 给人体内部做个清洁 从而消灭病毒？  【如果您有新闻线索 欢迎向我们报料 一经采纳有费用酬谢 报料微信关注：ihxdsb\u0001https://k.sina.com.cn/article_1496814565_m593793e502000r6h6.html?from=news&subch=onews\n",
      "新冠病毒是否会常态化流行？开学后应该注意什么？\u00012020-04-24\u0001吉林周和\u0001回应热点问题 一起来关注！  疫情发展  随着天气逐渐炎热 病毒是否会逐渐消减？  ● 新冠病毒是一种囊膜病毒 相对来说\u0001https://k.sina.com.cn/article_1223226197_48e8f355020011xt8.html?from=local\n"
     ]
    }
   ],
   "source": [
    "import logging\n",
    "import requests\n",
    "import sys\n",
    "import urllib\n",
    "\n",
    "from bs4 import BeautifulSoup\n",
    "from collections import OrderedDict\n",
    "from urllib.parse import urlencode\n",
    "def get_list(comp, page):\n",
    "    \"\"\"Function to get  web list pages for a given company and page number.\n",
    "\n",
    "    Args:\n",
    "        comp: Company name.\n",
    "        page: The page number.\n",
    "\n",
    "    Returns:\n",
    "        newsData: A dictionary with news title as its key and other details as values.\n",
    "\n",
    "    \"\"\"\n",
    "    newsData = OrderedDict()\n",
    "    href=\"http://search.sina.com.cn/?%s&range=title&c=news&num=20&col=1_7&page=%s\" %(comp,page)\n",
    "    html=requests.get(href)\n",
    "    soup = BeautifulSoup(html.content, 'html.parser')\n",
    "    divs=soup.findAll(\"div\",\"r-info r-info2\")\n",
    "    for div in divs:\n",
    "        head = div.findAll('h2')[0]\n",
    "        # News title\n",
    "        titleinfo = head.find('a')\n",
    "        title = titleinfo.get_text()\n",
    "        # News url\n",
    "        url = titleinfo['href']\n",
    "        # Other info\n",
    "        otherinfo = head.find('span', {\"class\": \"fgray_time\"}).get_text()\n",
    "        source, date, time = otherinfo.split()\n",
    "        # News abstract\n",
    "        abstract = div.find('p', {\"class\": \"content\"}).get_text()\n",
    "        newsData[title] = [date, source, abstract, url]\n",
    "    return newsData\n",
    "        \n",
    "if __name__ == \"__main__\":\n",
    "    compRawStr = \"新冠病毒\"\n",
    "    comp = compRawStr.encode('gbk')\n",
    "    d = {\"q\": comp}\n",
    "    pname = urlencode(d)\n",
    "    for page in range(5)[1:]:\n",
    "        newsData = get_list(pname, page)\n",
    "        for ky in newsData:\n",
    "            print('\\001'.join([ky] + newsData[ky]))\n",
    "    "
   ]
  },
  {
   "cell_type": "code",
   "execution_count": 22,
   "metadata": {},
   "outputs": [],
   "source": [
    "import csv"
   ]
  },
  {
   "cell_type": "code",
   "execution_count": 47,
   "metadata": {},
   "outputs": [],
   "source": [
    "a=newsData.values()"
   ]
  },
  {
   "cell_type": "code",
   "execution_count": 55,
   "metadata": {},
   "outputs": [],
   "source": [
    "with open(\"coronavirus.csv\",\"w\",encoding=\"utf-8\") as f:\n",
    "    f_csv=f.write(str(a))"
   ]
  },
  {
   "cell_type": "code",
   "execution_count": 34,
   "metadata": {},
   "outputs": [
    {
     "data": {
      "text/plain": [
       "collections.OrderedDict"
      ]
     },
     "execution_count": 34,
     "metadata": {},
     "output_type": "execute_result"
    }
   ],
   "source": [
    "type(newsData)"
   ]
  },
  {
   "cell_type": "code",
   "execution_count": 60,
   "metadata": {
    "scrolled": true
   },
   "outputs": [
    {
     "name": "stdout",
     "output_type": "stream",
     "text": [
      " 驱动器 C 中的卷是 Windows\n",
      " 卷的序列号是 746A-EC3D\n",
      "\n",
      " C:\\Users\\86138\\git-study\\tools-for-data-science-course\\2020spring\\2019310034 的目录\n",
      "\n",
      "2020/04/24  20:46    <DIR>          .\n",
      "2020/04/24  20:46    <DIR>          ..\n",
      "2020/04/03  20:31    <DIR>          .ipynb_checkpoints\n",
      "2020/04/24  20:46               637 coronavirus.csv\n",
      "2020/04/24  20:46               622 coronavirus.txt\n",
      "2020/04/24  20:41               637 coronvairus.csv\n",
      "2020/04/24  20:28               622 coronvairus.txt\n",
      "2020/03/06  20:41               278 CV.md\n",
      "2020/04/24  20:46            14,817 python_lab 07.ipynb\n",
      "2020/03/27  20:58           303,678 python_lab.ipynb\n",
      "2020/03/27  20:19                48 test.txt\n",
      "2020/04/24  20:11                 0 virus.csv\n",
      "               9 个文件        321,339 字节\n",
      "               3 个目录 26,242,695,168 可用字节\n"
     ]
    }
   ],
   "source": [
    "ls"
   ]
  },
  {
   "cell_type": "code",
   "execution_count": 65,
   "metadata": {},
   "outputs": [
    {
     "name": "stderr",
     "output_type": "stream",
     "text": [
      "INFO:root:Scraping https://k.sina.com.cn/article_6060307497_m16938f42903300n6d7.html?from=news&subch=onews\n",
      "INFO:root:Scraping https://k.sina.com.cn/article_3703570897_mdcc001d100101th0w.html?from=news&subch=intl\n"
     ]
    },
    {
     "name": "stdout",
     "output_type": "stream",
     "text": [
      "遇上新冠病毒，会让美国金融霸权加速“死亡”吗？\u00012020-04-24\u0001观视频工作室\u0001这一期则着重为大家分析新冠疫情如何加速美国输掉“金融战” 美国这些年来 依靠自己的金融霸权收割全世界财富 对内 明明自己许多公司企业已经开始衰退 但依靠收割来的财富 分出一点给自己的国民当做福利\u0001https://k.sina.com.cn/article_6060307497_m16938f42903300n6d7.html?from=news&subch=onews\u0001眉山剑客继续出招！陈老师本期继续解释“美国正在输掉三场战争”的概念，上一期为大家讲述了美国如何因为军备竞赛拖垮自己而输掉“军备战”，这一期则着重为大家分析新冠疫情如何加速美国输掉“金融战”。美国这些年来，依靠自己的金融霸权收割全世界财富。对内，明明自己许多公司企业已经开始衰退，但依靠收割来的财富，分出一点给自己的国民当做福利，来安抚他们；而对外，则不断地制造恐慌，通过战争等手段，让全世界的资本都不得不落脚美国。但这种玩法的结果就是，整个金融霸权成为一个虚胖的怪物，那些美国政客和华尔街精英也已经控制不了它，直到新冠病毒这样一个“黑天鹅”事件的出现，美国却无法再通过传统的手段转移危机。所以陈平老师说了，他的预言很简单，这次疫情，会加速美国金融霸权的崩溃，但也提醒我们，不管是对于欧洲、日本还是中国，此时都不能出错招，避免成为美国金融霸权覆灭的陪葬品。特别声明：以上文章内容仅代表作者本人观点，不代表新浪网观点或立场。如有关于作品内容、版权或其它问题请于作品发表后的30日内与新浪网联系。\n",
      "\n"
     ]
    },
    {
     "name": "stderr",
     "output_type": "stream",
     "text": [
      "INFO:root:Scraping https://k.sina.com.cn/article_1726918143_66eeadff02000x7gm.html?from=mil\n"
     ]
    },
    {
     "name": "stdout",
     "output_type": "stream",
     "text": [
      "值得警惕！世卫组织称与新冠病毒斗争可能是长期的过程\u00012020-04-24\u0001一抹景色Yk\u0001\u0001https://k.sina.com.cn/article_3703570897_mdcc001d100101th0w.html?from=news&subch=intl\u0001特别声明：以上文章内容仅代表作者本人观点，不代表新浪网观点或立场。如有关于作品内容、版权或其它问题请于作品发表后的30日内与新浪网联系。\n",
      "\n"
     ]
    },
    {
     "name": "stderr",
     "output_type": "stream",
     "text": [
      "INFO:root:Scraping https://t.cj.sina.com.cn/articles/view/6279804563/m1764e369303300t8yz?from=tech\n"
     ]
    },
    {
     "name": "stdout",
     "output_type": "stream",
     "text": [
      "美军“西奥多·罗斯福”号航母官兵完成新冠病毒检测\u00012020-04-24\u0001中国青年报\u0001停靠关岛的美军核动力航空母舰“西奥多·罗斯福”号官兵已全员接受新冠病毒检测 840人检测结果呈阳性 其中4人正在医院接受治疗   美国海军当天通报说 “西奥多·罗斯福”号所有官兵的新冠病毒检测中有840个阳性结果和4098个阴性结果\u0001https://k.sina.com.cn/article_1726918143_66eeadff02000x7gm.html?from=mil\u0001美国海军23日说，停靠关岛的美军核动力航空母舰“西奥多·罗斯福”号官兵已全员接受新冠病毒检测，840人检测结果呈阳性，其中4人正在医院接受治疗。美国海军当天通报说，“西奥多·罗斯福”号所有官兵的新冠病毒检测中有840个阳性结果和4098个阴性结果，少量检测结果尚未出来。确诊人员中有88人已经康复。4234名官兵被转移上岸。美国海军日前公布了该航母第一例死亡病例。美国国防部长马克·埃斯珀在接受美国媒体采访时说，美国海军已经完成对该航母疫情等情况的调查，将于近期向他通报结果。据美国国防部公布的最新统计数据，截至23日清晨，美国各军种共有3725名现役人员感染新冠病毒，死亡2例。其中，美国海军感染病例最多，为1366例。美国媒体日前援引美国海军高级官员的话报道说，美国海军目前有26艘军舰报告有新冠病例，26艘军舰已悉数靠岸。另有14艘军舰曾出现新冠病例，舰上感染者已经康复。“西奥多·罗斯福”号航母3月24日发现舰上3人感染新冠病毒，此后确诊人数逐渐增加，于3月底抵达关岛停靠。时任舰长布雷特·克罗泽致信美国海军高层，要求让舰上官兵尽快上岸接受隔离和检测以遏制病毒传播。4月2日，时任美国代理海军部长托马斯·莫德利解除了克罗泽的舰长职务。特别声明：以上文章内容仅代表作者本人观点，不代表新浪网观点或立场。如有关于作品内容、版权或其它问题请于作品发表后的30日内与新浪网联系。\n",
      "\n"
     ]
    },
    {
     "name": "stderr",
     "output_type": "stream",
     "text": [
      "INFO:root:Scraping https://k.sina.com.cn/article_1744332207_m67f865af03300umgg.html?from=news&subch=onews\n"
     ]
    },
    {
     "name": "stdout",
     "output_type": "stream",
     "text": [
      "盖茨回应5G导致新冠病毒：我希望没人相信这些\u00012020-04-24\u0001大佬时间\u0001 4月23日 比尔·盖茨接受WCVB采访时 被记者问到“5G导致新冠病毒”等谣言的看法 比尔盖茨回应称希望没人会相信这些 我真的不知道 现在最危险的事情是人们不相信专家的防护建议 反而听信谣言而不采取防护措施\u0001https://t.cj.sina.com.cn/articles/view/6279804563/m1764e369303300t8yz?from=tech\u0001\n",
      "\n"
     ]
    },
    {
     "name": "stderr",
     "output_type": "stream",
     "text": [
      "INFO:root:Scraping https://k.sina.com.cn/article_1744332207_m67f865af03300umgg.html?from=news&subch=onews\n"
     ]
    },
    {
     "name": "stdout",
     "output_type": "stream",
     "text": [
      "新冠病毒怎么考？生物老师划重点！[兔子]\u00012020-04-24\u0001钱江视频\u0001  杭州第二中学全国生物奥赛金牌教练帅翼：PCR扩增、RNA逆转录、DNA分子杂交技术 这些知识点你都串连起来了吗？  \u0001https://k.sina.com.cn/article_1744332207_m67f865af03300umgg.html?from=news&subch=onews\u0001杭州第二中学全国生物奥赛金牌教练帅翼：PCR扩增、RNA逆转录、DNA分子杂交技术，这些知识点你都串连起来了吗？特别声明：以上文章内容仅代表作者本人观点，不代表新浪网观点或立场。如有关于作品内容、版权或其它问题请于作品发表后的30日内与新浪网联系。\n",
      "\n"
     ]
    },
    {
     "name": "stderr",
     "output_type": "stream",
     "text": [
      "INFO:root:Scraping https://k.sina.com.cn/article_2553604372_9834e91402000rgxf.html?from=news&subch=onews\n"
     ]
    },
    {
     "name": "stdout",
     "output_type": "stream",
     "text": [
      "新冠病毒怎么考？生物老师划重点！[兔子]\u00012020-04-24\u0001钱江视频\u0001  杭州第二中学全国生物奥赛金牌教练帅翼：PCR扩增、RNA逆转录、DNA分子杂交技术 这些知识点你都串连起来了吗？  \u0001https://k.sina.com.cn/article_1744332207_m67f865af03300umgg.html?from=news&subch=onews\u0001杭州第二中学全国生物奥赛金牌教练帅翼：PCR扩增、RNA逆转录、DNA分子杂交技术，这些知识点你都串连起来了吗？特别声明：以上文章内容仅代表作者本人观点，不代表新浪网观点或立场。如有关于作品内容、版权或其它问题请于作品发表后的30日内与新浪网联系。\n",
      "\n"
     ]
    },
    {
     "name": "stderr",
     "output_type": "stream",
     "text": [
      "INFO:root:Scraping https://k.sina.com.cn/article_5889831705_m15f0fb31903300zstg.html?from=science\n"
     ]
    },
    {
     "name": "stdout",
     "output_type": "stream",
     "text": [
      "美国加州州长下令对去年12月死者做新冠病毒尸检\u00012020-04-24\u0001福州新闻网fznews\u0001分别死于2月6日和2月17日的两名死者 其尸检结果显示新冠病毒检测呈阳性 这比加州官员此前认为的美国第一个新冠病毒死亡病例出现的时间提前了三周   据美国“商业内幕”网站报道\u0001https://k.sina.com.cn/article_2553604372_9834e91402000rgxf.html?from=news&subch=onews\u0001加州圣克拉拉县23日宣布，死亡病例的尸检结果显示，分别死于2月6日和2月17日的两名死者，其尸检结果显示新冠病毒检测呈阳性。这比加州官员此前认为的美国第一个新冠病毒死亡病例出现的时间提前了三周。据美国“商业内幕”网站报道，当地时间4月23日晚，美国加州州长开文·纽森下令验尸官和医学检验员，对该州去年12月以来的死者做尸检，查明疫情最早何时在加州发生。纽森在新闻发布会上表示，要“更深入地挖掘”，并对早在加州发现疫情之前就可能死于新冠病毒的人员进行尸检，其目标是“引导人们更深入地了解，这场疫情事实上是何时开始对加州人产生直接影响的。”纽森对记者说：“重要的法医信息，对于理解有关这种疾病的流行病学有着深远的意义，会让所有的事情变得更加清晰明了。不仅仅是之前那个公告，我相信加州今后还会陆续出现类似的公告。”纽森所说的“之前那个公告”，指的是加州圣克拉拉县在本周三（22日）宣布，死亡病例的尸检结果显示，分别死于2月6日和2月17日的两名死者，其尸检结果显示新冠病毒检测呈阳性。这比加州官员此前认为的美国第一个新冠病毒死亡病例出现的时间提前了三周。此前，美国记录的首例新冠肺炎死亡病例来自华盛顿州，发生在2月28日。特别声明：以上文章内容仅代表作者本人观点，不代表新浪网观点或立场。如有关于作品内容、版权或其它问题请于作品发表后的30日内与新浪网联系。\n",
      "\n"
     ]
    },
    {
     "name": "stderr",
     "output_type": "stream",
     "text": [
      "INFO:root:Scraping https://k.sina.com.cn/article_2881177230_mabbb468e03300o383.html?from=news&subch=onews\n"
     ]
    },
    {
     "name": "stdout",
     "output_type": "stream",
     "text": [
      "新冠病毒在北美的传播\u00012020-04-24\u0001医视频\u0001 新冠病毒在北美的传播  \u0001https://k.sina.com.cn/article_5889831705_m15f0fb31903300zstg.html?from=science\u0001新冠病毒在北美的传播特别声明：以上文章内容仅代表作者本人观点，不代表新浪网观点或立场。如有关于作品内容、版权或其它问题请于作品发表后的30日内与新浪网联系。\n",
      "\n"
     ]
    },
    {
     "name": "stderr",
     "output_type": "stream",
     "text": [
      "INFO:root:Scraping https://k.sina.com.cn/article_1274460913_m4bf6baf103300qoly.html\n"
     ]
    },
    {
     "name": "stdout",
     "output_type": "stream",
     "text": [
      "印度首推新冠病毒检测车，十分符合印度国情\u00012020-04-24\u0001亚太日报\u0001  印度首推新冠病毒检测车 十分符合印度国情  \u0001https://k.sina.com.cn/article_2881177230_mabbb468e03300o383.html?from=news&subch=onews\u0001印度首推新冠病毒检测车，十分符合印度国情特别声明：以上文章内容仅代表作者本人观点，不代表新浪网观点或立场。如有关于作品内容、版权或其它问题请于作品发表后的30日内与新浪网联系。\n",
      "\n"
     ]
    },
    {
     "name": "stderr",
     "output_type": "stream",
     "text": [
      "INFO:root:Scraping https://k.sina.com.cn/article_1617746261_606cd95502000r0nl.html?from=movie\n"
     ]
    },
    {
     "name": "stdout",
     "output_type": "stream",
     "text": [
      "两只家养宠物猫确认感染新冠病毒\u00012020-04-24\u0001吉林交通广播\u0001  两只家养宠物猫确认感染新冠病毒 \u0001https://k.sina.com.cn/article_1274460913_m4bf6baf103300qoly.html\u0001两只家养宠物猫确认感染新冠病毒特别声明：以上文章内容仅代表作者本人观点，不代表新浪网观点或立场。如有关于作品内容、版权或其它问题请于作品发表后的30日内与新浪网联系。\n",
      "\n"
     ]
    },
    {
     "name": "stderr",
     "output_type": "stream",
     "text": [
      "INFO:root:Scraping https://k.sina.com.cn/article_1496814565_m593793e502000r6h6.html?from=news&subch=onews\n"
     ]
    },
    {
     "name": "stdout",
     "output_type": "stream",
     "text": [
      "辽宁一医生新冠病毒血清抗体IgM检测阳性 曾瞒报行程\u00012020-04-24\u0001贵州卫视\u0001辽宁省卫健委24日发布公告 该省人民医院一名女医生 瞒报去哈尔滨的行程 新冠病毒血清抗体IgM检测结果阳性   公告显示 辽宁省人民医院医生李某 女 于4月12日起在哈尔滨医科大学附属一院陪护家人 按照当地规定\u0001https://k.sina.com.cn/article_1617746261_606cd95502000r0nl.html?from=movie\u0001辽宁省卫健委24日发布公告，该省人民医院一名女医生，瞒报去哈尔滨的行程，新冠病毒血清抗体IgM检测结果阳性。公告显示，辽宁省人民医院医生李某，女，于4月12日起在哈尔滨医科大学附属一院陪护家人。按照当地规定，4月16日、17日医院分别对其进行新冠病毒核酸检测，两次结果均为阴性，血清抗体IgM检测结果阳性、IgG检测结果阴性。李某于4月17日晚返回沈阳至4月19日居家未外出，其向单位瞒报赴哈尔滨行程，4月20日返岗上班，在医院门诊出诊时本人及其接诊患者均佩戴口罩。4月22日，辽宁省疾控中心接到黑龙江省疾控中心协查函，通报了李某在哈尔滨医科大学附属一院陪护期间核酸和血清抗体检测情况。当日下午，相关部门对李某进行隔离管理。李某无发热、咳嗽、咳痰等临床表现，血常规和肺CT检查均无异常。沈阳市疾控中心采用3种试剂复核核酸，检测结果均为阴性，血清抗体检测IgM阳性、IgG阴性。23日凌晨1时辽宁省疾控中心复核，采用4种试剂进行检测，3种试剂显示血清抗体IgM阴性，1种试剂显示为阳性。经省级专家组按照国家《新冠病毒无症状感染者管理规范》标准会诊，李某目前暂排除新冠肺炎确诊病例、疑似病例及无症状感染者，不具有传染性。因IgM可疑阳性，须密切关注临床症状并继续进行核酸和血清抗体监测，对其采取隔离14天措施。同时，李某共同生活的2名家属及3名辽宁省人民医院密切接触的同事均已实施隔离医学观察14天，并检测新冠病毒核酸结果均为阴性。辽宁省人民医院目前门急诊、住院病房正常开诊。已责成辽宁省人民医院按照有关规定对李某给予相应处理。特别声明：以上文章内容仅代表作者本人观点，不代表新浪网观点或立场。如有关于作品内容、版权或其它问题请于作品发表后的30日内与新浪网联系。\n",
      "\n"
     ]
    },
    {
     "name": "stderr",
     "output_type": "stream",
     "text": [
      "INFO:root:Scraping https://k.sina.com.cn/article_1223226197_48e8f355020011xt8.html?from=local\n"
     ]
    },
    {
     "name": "stdout",
     "output_type": "stream",
     "text": [
      "语出惊人！特朗普提议:把光和消毒剂引入人体以杀死新冠病毒\u00012020-04-24\u0001封面新闻\u0001或者那种类似一分钟可以消灭病毒的消毒水的方式 给人体内部做个清洁 从而消灭病毒？  【如果您有新闻线索 欢迎向我们报料 一经采纳有费用酬谢 报料微信关注：ihxdsb\u0001https://k.sina.com.cn/article_1496814565_m593793e502000r6h6.html?from=news&subch=onews\u00014月23日，在白宫发布会上，特朗普再次语出惊人：如果有一种类似于紫外线的强光，或者那种类似一分钟可以消灭病毒的消毒水的方式，给人体内部做个清洁，从而消灭病毒？特别声明：以上文章内容仅代表作者本人观点，不代表新浪网观点或立场。如有关于作品内容、版权或其它问题请于作品发表后的30日内与新浪网联系。\n",
      "\n",
      "新冠病毒是否会常态化流行？开学后应该注意什么？\u00012020-04-24\u0001吉林周和\u0001回应热点问题 一起来关注！  疫情发展  随着天气逐渐炎热 病毒是否会逐渐消减？  ● 新冠病毒是一种囊膜病毒 相对来说\u0001https://k.sina.com.cn/article_1223226197_48e8f355020011xt8.html?from=local\u0001“五一”出行安全吗？开学后要注意什么？疫情什么时候结束？国务院联防联控机制4月23日召开新闻发布会，回应热点问题，一起来关注！疫情发展随着天气逐渐炎热，病毒是否会逐渐消减？● 新冠病毒是一种囊膜病毒，相对来说，对温度是比较敏感的，气温升高是不利于病毒存活的。● 新冠病毒主要通过飞沫和直接接触等方式进行传播，相对来说，这种传播方式受气温的影响会小一些。南半球的国家目前处于夏秋季，天气比较炎热，但是新冠疫情依然持续发生。最终情况如何，需要进一步观察。病毒是否会常态化流行？● 有专家认为，这种可能性有，但是发生概率比较低。目前没有发现新冠病毒具有流感病毒这么高的变异性，因此常态化的可能性不太大。● 也有专家认为新冠病毒传播能力高，已有四种冠状病毒为季节性流行，新冠病毒形成季节性流行，有一定的可能性。● 无论发展趋势如何，疾病防治技术的发展、有效药物的发现，新冠疫苗的成功研发，必将帮助人类取得抗击疫情的最终胜利。疫情何时能结束？关于新冠肺炎疫情何时结束，就目前的实际情况来看，虽然中国付出巨大的努力，已经有效控制了疫情。但只要疫情在世界范围内存在，疫情对人类的威胁就不能解除，疫情很难说在短期内结束。新冠肺炎是否会变成慢性病？从目前的研究和临床实践看，目前所知新冠病毒主要在呼吸道复制，慢性携带不太可能。个体感染新冠病毒后长期带毒的可能性极小，现阶段也尚未得到证明其慢性化的免疫学和病毒学研究证据。在疫苗没有研发成功上市之前，普通人的最佳的防护方式是什么？仍旧以公共卫生防控措施为主，主要是控制传染源、切断传播途径、保护易感人群。公众应该戴好口罩、勤洗手。对于已经感染的患者，做好“早发现、早报告、早隔离、早治疗”，及时给予临床治疗的措施，可以有效对抗新冠病毒感染。日常防护“五一”出行安全吗？对于大部分近期没有病例报告的地区，出去旅行是比较安全的，但是目前每日仍有新增境外输入病例或者本土病例，要保持警惕的心。对老年人、慢性病患者、孕妇等高危人群不建议出行旅游。出行旅游应注意什么？● 出行前做好准备，建议就近错峰出游，避开热门景点或景点的高峰时段，避免在密闭空间内开展娱乐项目。准备跨地区出游的，应该选择近期没有病例报告的地区，要提前联系景区，了解当地的防控政策，准备必要的口罩、手消毒剂物品。● 途中做好防护，如果乘坐飞机、火车等公共交通工具，要遵守秩序和乘务人员的管理要求，全程佩戴口罩，要做好手卫生，并且妥善保存票据以备查询。● 旅行期间做好防护，在景区有序排队，保持人际距离，注意咳嗽礼仪，随时做好手卫生。住宿选择卫生条件良好的宾馆，入住后要开窗通风。出现发热、干咳、乏力等症状应该到就近的医疗机构就诊。● 乘坐交通工具时，尽量减少饮食次数，景区内建议首选外带食品，在餐厅用餐，建议间隔落座或同侧用餐，与他人保持一米以上距离。去餐厅食堂聚餐安全吗？应注意什么？● 当前，仍然不推荐大规模的聚餐，不建议携带没有自理能力的婴幼儿进行堂食。● 普通就餐建议选择卫生条件好的餐厅，就餐前要做好预约，做到错峰用餐来避免拥挤。● 进入餐厅前做好体温测量、登记，如有发热不应该进入餐厅。● 在餐厅期间，尽量减少接触公共设施，做好手卫生，在饭前和入厕后洗手，在用餐的过程中尽量与他人保持人际距离，注意咳嗽礼仪。● 如多人共同用餐，推荐使用公筷和公勺。开学后应该注意什么？● 学生要严格遵守学校的安排进行返校，如长途旅行返校，应该随身携带口罩、手消毒剂等物品，乘坐公共交通时全程佩戴口罩，妥善保存票据，做好健康监测，到校后应该按照所在地的防控政策和学校的安排进行登记和健康管理。主动学习新冠肺炎的防护知识，采取科学恰当的防护措施。● 开学之后上课，在进入教室前主动测量体温并且佩戴口罩，座位之间保持一米以上的安全距离，在教室停留期间要避免扎堆，宿舍内保持良好的卫生习惯，避免近距离接触，必要的时候也要佩戴口罩，各宿舍之间不鼓励互相串门，如果有发热、乏力、干咳等症状，主动报告学校并且及时就医。● 在就餐方面，建议学生自备餐具，避免混用，就餐保持一定距离，可采用间隔错位就餐、分时段就餐等制度，学校也应该避免外卖入校。特别声明：以上文章内容仅代表作者本人观点，不代表新浪网观点或立场。如有关于作品内容、版权或其它问题请于作品发表后的30日内与新浪网联系。\n",
      "\n"
     ]
    }
   ],
   "source": [
    "import logging\n",
    "import requests\n",
    "import sys\n",
    "\n",
    "from bs4 import BeautifulSoup\n",
    "\n",
    "\n",
    "\n",
    "\n",
    "def get_body(href):\n",
    "    \"\"\"Function to retrieve news content given its url.\n",
    "\n",
    "    Args:\n",
    "        href: url of the news to be crawled.\n",
    "\n",
    "    Returns:\n",
    "        content: the crawled news content.\n",
    "\n",
    "    \"\"\"\n",
    "    html = requests.get(href)\n",
    "    soup = BeautifulSoup(html.content, 'html.parser')\n",
    "    div = soup.find('div', {\"id\": \"artibody\"})\n",
    "    paras = div.findAll('p')\n",
    "    content = ''\n",
    "    for p in paras:\n",
    "        ptext = p.get_text().strip().replace(\"\\n\", \"\")\n",
    "        content += ptext\n",
    "    return content\n",
    "\n",
    "\n",
    "\n",
    "if __name__ == \"__main__\":\n",
    "    logging.getLogger().setLevel(logging.INFO)\n",
    "    # Getting and printing content for each url in the crawled web list pages\n",
    "    with open(\"coronavirus.txt\",\"r\",encoding=\"utf-8\") as f:\n",
    "        for line in f:\n",
    "            title, date, source, abstract, href = line.strip().split('\\001')\n",
    "            # Printing progress onto console\n",
    "            logging.info('Scraping ' + href)\n",
    "            content = get_body(href)\n",
    "            print('\\001'.join([title, date, source, abstract, href, content])+\"\\n\")\n",
    "\n",
    "            "
   ]
  },
  {
   "cell_type": "code",
   "execution_count": null,
   "metadata": {},
   "outputs": [],
   "source": []
  }
 ],
 "metadata": {
  "kernelspec": {
   "display_name": "Python 3",
   "language": "python",
   "name": "python3"
  },
  "language_info": {
   "codemirror_mode": {
    "name": "ipython",
    "version": 3
   },
   "file_extension": ".py",
   "mimetype": "text/x-python",
   "name": "python",
   "nbconvert_exporter": "python",
   "pygments_lexer": "ipython3",
   "version": "3.7.6"
  }
 },
 "nbformat": 4,
 "nbformat_minor": 4
}
