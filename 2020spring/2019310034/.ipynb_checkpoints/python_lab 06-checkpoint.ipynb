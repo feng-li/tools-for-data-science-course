{
 "cells": [
  {
   "cell_type": "code",
   "execution_count": 1,
   "metadata": {},
   "outputs": [],
   "source": [
    "import seaborn as sns"
   ]
  },
  {
   "cell_type": "code",
   "execution_count": 6,
   "metadata": {},
   "outputs": [
    {
     "name": "stdout",
     "output_type": "stream",
     "text": [
      " 驱动器 C 中的卷是 Windows\n",
      " 卷的序列号是 746A-EC3D\n",
      "\n",
      " C:\\Users\\86138\\git-study\\tools-for-data-science-course\\2020spring\\2019310034 的目录\n",
      "\n",
      "2020/05/22  22:31    <DIR>          .\n",
      "2020/05/22  22:31    <DIR>          ..\n",
      "2020/05/22  21:39    <DIR>          .ipynb_checkpoints\n",
      "2020/04/24  20:50             4,457 coronavirus.txt\n",
      "2020/03/06  20:41               278 CV.md\n",
      "2019/10/18  06:45        12,033,474 dataset2011-2015.csv\n",
      "2020/05/22  22:30             4,984 python_lab 06.ipynb\n",
      "2020/04/24  21:02            35,551 python_lab 07.ipynb\n",
      "2020/03/27  20:58           303,678 python_lab（第四周、第五周作业）.ipynb\n",
      "2020/05/22  22:32               139 sales.csv\n",
      "2020/05/22  22:01            19,456 Sales.xlsx\n",
      "2020/03/27  20:19                48 test.txt\n",
      "               9 个文件     12,402,065 字节\n",
      "               3 个目录 20,586,541,056 可用字节\n"
     ]
    }
   ],
   "source": [
    "ls"
   ]
  },
  {
   "cell_type": "code",
   "execution_count": 5,
   "metadata": {},
   "outputs": [],
   "source": [
    "import csv\n",
    "with open(\"sales.csv\",\"w\") as file:\n",
    "    writer=csv.writer(file)\n",
    "    writer.writerows([[\"ID\",\"地区\",\"月销量\"],[\"1\",\"中国\",\"38850\"],[\"2\",\"韩国\",\"31850\"],[\"3\",\"日本\",\"22400\"],[\"4\",\"美国\",\"20870\"],[\"5\",\"英国\",\"18897\"],[\"6\",\"德国\",\"22400\"],[\"7\",\"法国\",\"12850\"],[\"8\",\"意大利\",\"29556\"]])"
   ]
  },
  {
   "cell_type": "code",
   "execution_count": 11,
   "metadata": {},
   "outputs": [
    {
     "data": {
      "text/html": [
       "<div>\n",
       "<style scoped>\n",
       "    .dataframe tbody tr th:only-of-type {\n",
       "        vertical-align: middle;\n",
       "    }\n",
       "\n",
       "    .dataframe tbody tr th {\n",
       "        vertical-align: top;\n",
       "    }\n",
       "\n",
       "    .dataframe thead th {\n",
       "        text-align: right;\n",
       "    }\n",
       "</style>\n",
       "<table border=\"1\" class=\"dataframe\">\n",
       "  <thead>\n",
       "    <tr style=\"text-align: right;\">\n",
       "      <th></th>\n",
       "      <th>0</th>\n",
       "      <th>1</th>\n",
       "      <th>2</th>\n",
       "    </tr>\n",
       "  </thead>\n",
       "  <tbody>\n",
       "    <tr>\n",
       "      <th>0</th>\n",
       "      <td>ID</td>\n",
       "      <td>地区</td>\n",
       "      <td>月销量</td>\n",
       "    </tr>\n",
       "    <tr>\n",
       "      <th>1</th>\n",
       "      <td>1</td>\n",
       "      <td>中国</td>\n",
       "      <td>38850</td>\n",
       "    </tr>\n",
       "    <tr>\n",
       "      <th>2</th>\n",
       "      <td>2</td>\n",
       "      <td>韩国</td>\n",
       "      <td>31850</td>\n",
       "    </tr>\n",
       "    <tr>\n",
       "      <th>3</th>\n",
       "      <td>3</td>\n",
       "      <td>日本</td>\n",
       "      <td>22400</td>\n",
       "    </tr>\n",
       "    <tr>\n",
       "      <th>4</th>\n",
       "      <td>4</td>\n",
       "      <td>美国</td>\n",
       "      <td>20870</td>\n",
       "    </tr>\n",
       "  </tbody>\n",
       "</table>\n",
       "</div>"
      ],
      "text/plain": [
       "    0   1      2\n",
       "0  ID  地区    月销量\n",
       "1   1  中国  38850\n",
       "2   2  韩国  31850\n",
       "3   3  日本  22400\n",
       "4   4  美国  20870"
      ]
     },
     "execution_count": 11,
     "metadata": {},
     "output_type": "execute_result"
    }
   ],
   "source": [
    "import pandas as pd\n",
    "sales = pd.read_csv('sales.csv', header = None,encoding = \"GB2312\")\n",
    "sales.head()"
   ]
  },
  {
   "cell_type": "code",
   "execution_count": 20,
   "metadata": {},
   "outputs": [
    {
     "data": {
      "image/png": "[encoded data removed]",
      "text/plain": [
       "<Figure size 432x288 with 1 Axes>"
      ]
     },
     "metadata": {
      "needs_background": "light"
     },
     "output_type": "display_data"
    }
   ],
   "source": [
    "import matplotlib.pyplot as plt\n",
    "import numpy as np\n",
    "plt.figure(3)\n",
    "x_index=np.arange(8)                       \n",
    "x_data=(\"China\",\"Korea\",\"Japan\",\"America\",\"England\",\"German\",\"France\",\"Italy\")\n",
    "y1_data=(38850,31850,22400,20870,18897,22400,12850,29556)\n",
    "y2_data=(20778,38976,18897,21002,8500,14509,17899,10265)\n",
    "bar_width=0.35                              #定义一个数字代表柱的宽度\n",
    "rects1 = plt.bar(x_index, y1_data, width=bar_width,alpha=0.4, color='b',label='sales_Moisturize')  #参数：左偏移、高度、柱宽、透明度、颜色、图例\n",
    "rects2 = plt.bar(x_index + bar_width, y2_data, width=bar_width,alpha=0.5,color='r',label='sales_Non-moisturizing') #参数：左偏移、高度、柱宽、透明度、颜色、图例\n",
    "plt.xticks(x_index + bar_width/2, x_data)   #x轴刻度线\n",
    "plt.legend()    #显示图例\n",
    "plt.tight_layout()  #自动控制图像外部边缘\n",
    "plt.savefig('11.png',dpi=400,bbox_inches='tight')\n",
    "plt.show()\n"
   ]
  },
  {
   "cell_type": "code",
   "execution_count": null,
   "metadata": {},
   "outputs": [],
   "source": []
  }
 ],
 "metadata": {
  "kernelspec": {
   "display_name": "Python 3",
   "language": "python",
   "name": "python3"
  },
  "language_info": {
   "codemirror_mode": {
    "name": "ipython",
    "version": 3
   },
   "file_extension": ".py",
   "mimetype": "text/x-python",
   "name": "python",
   "nbconvert_exporter": "python",
   "pygments_lexer": "ipython3",
   "version": "3.7.6"
  }
 },
 "nbformat": 4,
 "nbformat_minor": 4
}
